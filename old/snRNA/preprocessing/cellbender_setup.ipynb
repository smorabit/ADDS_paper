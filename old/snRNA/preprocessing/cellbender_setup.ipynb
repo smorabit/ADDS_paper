{
 "cells": [
  {
   "cell_type": "code",
   "execution_count": 14,
   "metadata": {},
   "outputs": [],
   "source": [
    "import pandas as pd\n",
    "import os\n",
    "import torch\n",
    "import itertools\n",
    "from scipy import io"
   ]
  },
  {
   "cell_type": "code",
   "execution_count": 3,
   "metadata": {},
   "outputs": [
    {
     "data": {
      "text/plain": [
       "'1.9.0'"
      ]
     },
     "execution_count": 3,
     "metadata": {},
     "output_type": "execute_result"
    }
   ],
   "source": [
    "torch.cuda.is_available()\n",
    "torch.__version__"
   ]
  },
  {
   "cell_type": "code",
   "execution_count": 10,
   "metadata": {},
   "outputs": [],
   "source": [
    "# get a list of all the split-seq outputs:\n",
    "splitseq_dir = \"/dfs3b/swaruplab/smorabit/data/ADDS_2021/analysis/\"\n",
    "\n",
    "# batch directories:\n",
    "batch_dirs = [\"{}{}/\".format(splitseq_dir, d) for d in os.listdir(splitseq_dir)]\n",
    "\n",
    "# sublibrary directories:\n",
    "sublib_dirs = [[\"{}{}/all-well/DGE_unfiltered/\".format(b, s)  for s in os.listdir(b)] for b in batch_dirs]\n",
    "sublib_dirs = list(itertools.chain.from_iterable(sublib_dirs))"
   ]
  },
  {
   "cell_type": "code",
   "execution_count": 15,
   "metadata": {},
   "outputs": [
    {
     "name": "stdout",
     "output_type": "stream",
     "text": [
      "/dfs3b/swaruplab/smorabit/data/ADDS_2021/analysis/Batch1/Sublibrary1_S1/all-well/DGE_unfiltered/\n",
      "/dfs3b/swaruplab/smorabit/data/ADDS_2021/analysis/Batch1/Sublibrary2_S2/all-well/DGE_unfiltered/\n",
      "/dfs3b/swaruplab/smorabit/data/ADDS_2021/analysis/Batch1/Sublibrary3_S3/all-well/DGE_unfiltered/\n",
      "/dfs3b/swaruplab/smorabit/data/ADDS_2021/analysis/Batch1/Sublibrary4_S4/all-well/DGE_unfiltered/\n",
      "/dfs3b/swaruplab/smorabit/data/ADDS_2021/analysis/Batch1/Sublibrary6_S6/all-well/DGE_unfiltered/\n",
      "/dfs3b/swaruplab/smorabit/data/ADDS_2021/analysis/Batch1/Sublibrary7_S7/all-well/DGE_unfiltered/\n",
      "/dfs3b/swaruplab/smorabit/data/ADDS_2021/analysis/Batch1/Sublibrary8_S8/all-well/DGE_unfiltered/\n",
      "/dfs3b/swaruplab/smorabit/data/ADDS_2021/analysis/Batch1/Sublibrary5_S5/all-well/DGE_unfiltered/\n",
      "/dfs3b/swaruplab/smorabit/data/ADDS_2021/analysis/Batch2/Sublibrary_3_S3/all-well/DGE_unfiltered/\n",
      "/dfs3b/swaruplab/smorabit/data/ADDS_2021/analysis/Batch2/Sublibrary_1_S1/all-well/DGE_unfiltered/\n",
      "/dfs3b/swaruplab/smorabit/data/ADDS_2021/analysis/Batch2/Sublibrary_2_S2/all-well/DGE_unfiltered/\n",
      "/dfs3b/swaruplab/smorabit/data/ADDS_2021/analysis/Batch2/Sublibrary_4_S4/all-well/DGE_unfiltered/\n",
      "/dfs3b/swaruplab/smorabit/data/ADDS_2021/analysis/Batch2/Sublibrary_6_S6/all-well/DGE_unfiltered/\n",
      "/dfs3b/swaruplab/smorabit/data/ADDS_2021/analysis/Batch2/Sublibrary_8_S8/all-well/DGE_unfiltered/\n",
      "/dfs3b/swaruplab/smorabit/data/ADDS_2021/analysis/Batch2/Sublibrary_7_S7/all-well/DGE_unfiltered/\n",
      "/dfs3b/swaruplab/smorabit/data/ADDS_2021/analysis/Batch2/Sublibrary_5_S5/all-well/DGE_unfiltered/\n",
      "/dfs3b/swaruplab/smorabit/data/ADDS_2021/analysis/Batch3/Sublibrary_2_S2/all-well/DGE_unfiltered/\n",
      "/dfs3b/swaruplab/smorabit/data/ADDS_2021/analysis/Batch3/Sublibrary_1_S1/all-well/DGE_unfiltered/\n",
      "/dfs3b/swaruplab/smorabit/data/ADDS_2021/analysis/Batch3/Sublibrary_6_S6/all-well/DGE_unfiltered/\n",
      "/dfs3b/swaruplab/smorabit/data/ADDS_2021/analysis/Batch3/Sublibrary_3_S3/all-well/DGE_unfiltered/\n",
      "/dfs3b/swaruplab/smorabit/data/ADDS_2021/analysis/Batch3/Sublibrary_7_S7/all-well/DGE_unfiltered/\n",
      "/dfs3b/swaruplab/smorabit/data/ADDS_2021/analysis/Batch3/Sublibrary_4_S4/all-well/DGE_unfiltered/\n",
      "/dfs3b/swaruplab/smorabit/data/ADDS_2021/analysis/Batch3/Sublibrary_8_S8/all-well/DGE_unfiltered/\n",
      "/dfs3b/swaruplab/smorabit/data/ADDS_2021/analysis/Batch3/Sublibrary_5_S5/all-well/DGE_unfiltered/\n",
      "/dfs3b/swaruplab/smorabit/data/ADDS_2021/analysis/Batch4/Sublibrary_1_S1/all-well/DGE_unfiltered/\n",
      "/dfs3b/swaruplab/smorabit/data/ADDS_2021/analysis/Batch4/Sublibrary_2_S2/all-well/DGE_unfiltered/\n",
      "/dfs3b/swaruplab/smorabit/data/ADDS_2021/analysis/Batch4/Sublibrary_3_S3/all-well/DGE_unfiltered/\n",
      "/dfs3b/swaruplab/smorabit/data/ADDS_2021/analysis/Batch4/Sublibrary_4_S4/all-well/DGE_unfiltered/\n",
      "/dfs3b/swaruplab/smorabit/data/ADDS_2021/analysis/Batch4/Sublibrary_6_S6/all-well/DGE_unfiltered/\n",
      "/dfs3b/swaruplab/smorabit/data/ADDS_2021/analysis/Batch4/Sublibrary_7_S7/all-well/DGE_unfiltered/\n",
      "/dfs3b/swaruplab/smorabit/data/ADDS_2021/analysis/Batch4/Sublibrary_8_S8/all-well/DGE_unfiltered/\n",
      "/dfs3b/swaruplab/smorabit/data/ADDS_2021/analysis/Batch4/Sublibrary_5_S5/all-well/DGE_unfiltered/\n"
     ]
    }
   ],
   "source": [
    "# loop through each sublibrary:\n",
    "for cur_dir in sublib_dirs:\n",
    "    \n",
    "    print(cur_dir)\n",
    "    \n",
    "    # read the cell-meta table\n",
    "    df = pd.read_table(\"{}cell_metadata.csv\".format(cur_dir), sep=',')\n",
    "\n",
    "    # read the genes table \n",
    "    gene_df = pd.read_table(\"{}genes.csv\".format(cur_dir), sep=',')\n",
    "    gene_df.to_csv(\"{}genes.tsv\".format(cur_dir), sep='\\t', index=False, header=False)\n",
    "\n",
    "    # just get the cell barcode and write to output file:\n",
    "    df.cell_barcode.to_csv(\"{}barcodes.tsv\".format(cur_dir), sep='\\t', index=False, header=False)\n",
    "    \n",
    "    # transpose the expression matrix:\n",
    "    X = io.mmread(\"{}DGE.mtx\".format(cur_dir))\n",
    "    X = X.transpose().tocsr()\n",
    "    io.mmwrite(\"{}matrix.mtx\".format(cur_dir), X)"
   ]
  },
  {
   "cell_type": "code",
   "execution_count": 20,
   "metadata": {},
   "outputs": [],
   "source": [
    "# write the sublibrary directories to an output file that we can index with our for loop in bash:\n",
    "pd.Series(sublib_dirs).to_csv('sublibrary_dirs.csv', index=False, header=False)"
   ]
  },
  {
   "cell_type": "code",
   "execution_count": 21,
   "metadata": {},
   "outputs": [
    {
     "data": {
      "text/plain": [
       "32"
      ]
     },
     "execution_count": 21,
     "metadata": {},
     "output_type": "execute_result"
    }
   ],
   "source": [
    "len(sublib_dirs)"
   ]
  },
  {
   "cell_type": "code",
   "execution_count": 26,
   "metadata": {},
   "outputs": [
    {
     "name": "stdout",
     "output_type": "stream",
     "text": [
      "/bin/bash: ./run_cellbender.sh: No such file or directory\n"
     ]
    }
   ],
   "source": [
    "# run the cellbender script:\n",
    "#! ./run_cellbender.sh"
   ]
  },
  {
   "cell_type": "code",
   "execution_count": 27,
   "metadata": {},
   "outputs": [
    {
     "name": "stdout",
     "output_type": "stream",
     "text": [
      "yee\n"
     ]
    }
   ],
   "source": []
  },
  {
   "cell_type": "code",
   "execution_count": null,
   "metadata": {},
   "outputs": [],
   "source": []
  }
 ],
 "metadata": {
  "kernelspec": {
   "display_name": "CellBender",
   "language": "python",
   "name": "cellbender"
  },
  "language_info": {
   "codemirror_mode": {
    "name": "ipython",
    "version": 3
   },
   "file_extension": ".py",
   "mimetype": "text/x-python",
   "name": "python",
   "nbconvert_exporter": "python",
   "pygments_lexer": "ipython3",
   "version": "3.7.10"
  }
 },
 "nbformat": 4,
 "nbformat_minor": 4
}
