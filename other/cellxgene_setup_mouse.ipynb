{
 "cells": [
  {
   "cell_type": "code",
   "execution_count": 1,
   "id": "f80c9bdd-4971-4c53-b156-d3a3878851a7",
   "metadata": {},
   "outputs": [],
   "source": [
    "import scanpy as sc;\n",
    "import scrublet as scr\n",
    "import numpy as np\n",
    "from matplotlib import pyplot as plt\n",
    "import seaborn as sns\n",
    "import os\n",
    "import pandas as pd\n",
    "from scipy import io\n",
    "import harmonypy\n",
    "import scdrs\n",
    "import scipy.stats as stats\n",
    "np.random.seed(12345)\n",
    "sc.settings.verbosity = 3             # verbosity: errors (0), warnings (1), info (2), hints (3)\n"
   ]
  },
  {
   "cell_type": "markdown",
   "id": "0e5605f1-ea7d-40f7-a83c-117611aa7cd6",
   "metadata": {},
   "source": [
    "## 5xFAD mouse visium\n",
    "\n",
    "\n",
    "\n",
    "It seems like I will have to load everything from the spaceranger stage :(\n",
    "\n",
    "\n",
    "### Pilot"
   ]
  },
  {
   "cell_type": "code",
   "execution_count": 2,
   "id": "25774a9d-1b14-407c-a7ab-a7d1e33b39b1",
   "metadata": {},
   "outputs": [],
   "source": [
    "# dictionary for storing the .uns\n",
    "uns_dict = {}"
   ]
  },
  {
   "cell_type": "code",
   "execution_count": 3,
   "id": "305c4119-5a8d-426b-8cdc-082688e45132",
   "metadata": {
    "scrolled": true
   },
   "outputs": [
    {
     "name": "stdout",
     "output_type": "stream",
     "text": [
      "reading /dfs7/swaruplab/smorabit/data/Visium_Mouse_2021/5xFAD_pilot_2021/spaceranger_count/241/outs/raw_feature_bc_matrix.h5\n",
      " (0:00:02)\n"
     ]
    },
    {
     "name": "stderr",
     "output_type": "stream",
     "text": [
      "/pub/smorabit/miniconda3/envs/scanpy/lib/python3.11/site-packages/anndata/_core/anndata.py:1840: UserWarning: Variable names are not unique. To make them unique, call `.var_names_make_unique`.\n",
      "  utils.warn_names_duplicates(\"var\")\n",
      "/pub/smorabit/miniconda3/envs/scanpy/lib/python3.11/site-packages/anndata/_core/anndata.py:1840: UserWarning: Variable names are not unique. To make them unique, call `.var_names_make_unique`.\n",
      "  utils.warn_names_duplicates(\"var\")\n"
     ]
    },
    {
     "name": "stdout",
     "output_type": "stream",
     "text": [
      "(4992, 32285)\n",
      "reading /dfs7/swaruplab/smorabit/data/Visium_Mouse_2021/5xFAD_pilot_2021/spaceranger_count/342/outs/raw_feature_bc_matrix.h5\n",
      " (0:00:01)\n"
     ]
    },
    {
     "name": "stderr",
     "output_type": "stream",
     "text": [
      "/pub/smorabit/miniconda3/envs/scanpy/lib/python3.11/site-packages/anndata/_core/anndata.py:1840: UserWarning: Variable names are not unique. To make them unique, call `.var_names_make_unique`.\n",
      "  utils.warn_names_duplicates(\"var\")\n",
      "/pub/smorabit/miniconda3/envs/scanpy/lib/python3.11/site-packages/anndata/_core/anndata.py:1840: UserWarning: Variable names are not unique. To make them unique, call `.var_names_make_unique`.\n",
      "  utils.warn_names_duplicates(\"var\")\n"
     ]
    },
    {
     "name": "stdout",
     "output_type": "stream",
     "text": [
      "(4992, 32285)\n",
      "reading /dfs7/swaruplab/smorabit/data/Visium_Mouse_2021/5xFAD_pilot_2021/spaceranger_count/573/outs/raw_feature_bc_matrix.h5\n",
      " (0:00:02)\n"
     ]
    },
    {
     "name": "stderr",
     "output_type": "stream",
     "text": [
      "/pub/smorabit/miniconda3/envs/scanpy/lib/python3.11/site-packages/anndata/_core/anndata.py:1840: UserWarning: Variable names are not unique. To make them unique, call `.var_names_make_unique`.\n",
      "  utils.warn_names_duplicates(\"var\")\n",
      "/pub/smorabit/miniconda3/envs/scanpy/lib/python3.11/site-packages/anndata/_core/anndata.py:1840: UserWarning: Variable names are not unique. To make them unique, call `.var_names_make_unique`.\n",
      "  utils.warn_names_duplicates(\"var\")\n"
     ]
    },
    {
     "name": "stdout",
     "output_type": "stream",
     "text": [
      "(4992, 32285)\n",
      "reading /dfs7/swaruplab/smorabit/data/Visium_Mouse_2021/5xFAD_pilot_2021/spaceranger_count/592/outs/raw_feature_bc_matrix.h5\n",
      " (0:00:03)\n"
     ]
    },
    {
     "name": "stderr",
     "output_type": "stream",
     "text": [
      "/pub/smorabit/miniconda3/envs/scanpy/lib/python3.11/site-packages/anndata/_core/anndata.py:1840: UserWarning: Variable names are not unique. To make them unique, call `.var_names_make_unique`.\n",
      "  utils.warn_names_duplicates(\"var\")\n",
      "/pub/smorabit/miniconda3/envs/scanpy/lib/python3.11/site-packages/anndata/_core/anndata.py:1840: UserWarning: Variable names are not unique. To make them unique, call `.var_names_make_unique`.\n",
      "  utils.warn_names_duplicates(\"var\")\n"
     ]
    },
    {
     "name": "stdout",
     "output_type": "stream",
     "text": [
      "(4992, 32285)\n"
     ]
    },
    {
     "name": "stderr",
     "output_type": "stream",
     "text": [
      "/pub/smorabit/miniconda3/envs/scanpy/lib/python3.11/site-packages/anndata/_core/anndata.py:1763: FutureWarning: The AnnData.concatenate method is deprecated in favour of the anndata.concat function. Please use anndata.concat instead.\n",
      "\n",
      "See the tutorial for concat at: https://anndata.readthedocs.io/en/latest/concatenation.html\n",
      "  warnings.warn(\n",
      "/pub/smorabit/miniconda3/envs/scanpy/lib/python3.11/site-packages/anndata/_core/merge.py:1015: FutureWarning: The default value of 'ignore' for the `na_action` parameter in pandas.Categorical.map is deprecated and will be changed to 'None' in a future version. Please set na_action to the desired value to avoid seeing this warning\n",
      "  concat_indices = concat_indices.str.cat(label_col.map(str), sep=index_unique)\n",
      "/pub/smorabit/miniconda3/envs/scanpy/lib/python3.11/site-packages/anndata/_core/merge.py:1015: FutureWarning: The default value of 'ignore' for the `na_action` parameter in pandas.Categorical.map is deprecated and will be changed to 'None' in a future version. Please set na_action to the desired value to avoid seeing this warning\n",
      "  concat_indices = concat_indices.str.cat(label_col.map(str), sep=index_unique)\n"
     ]
    },
    {
     "data": {
      "text/html": [
       "<div>\n",
       "<style scoped>\n",
       "    .dataframe tbody tr th:only-of-type {\n",
       "        vertical-align: middle;\n",
       "    }\n",
       "\n",
       "    .dataframe tbody tr th {\n",
       "        vertical-align: top;\n",
       "    }\n",
       "\n",
       "    .dataframe thead th {\n",
       "        text-align: right;\n",
       "    }\n",
       "</style>\n",
       "<table border=\"1\" class=\"dataframe\">\n",
       "  <thead>\n",
       "    <tr style=\"text-align: right;\">\n",
       "      <th></th>\n",
       "      <th>in_tissue</th>\n",
       "      <th>array_row</th>\n",
       "      <th>array_col</th>\n",
       "      <th>seqbatch</th>\n",
       "      <th>SAMPLE</th>\n",
       "      <th>bc</th>\n",
       "      <th>Sample_num</th>\n",
       "      <th>batch</th>\n",
       "    </tr>\n",
       "  </thead>\n",
       "  <tbody>\n",
       "    <tr>\n",
       "      <th>AAACAACGAATAGTTC-1-0</th>\n",
       "      <td>0</td>\n",
       "      <td>0</td>\n",
       "      <td>16</td>\n",
       "      <td>Pilot_2021</td>\n",
       "      <td>241</td>\n",
       "      <td>AAACAACGAATAGTTC</td>\n",
       "      <td>0</td>\n",
       "      <td>0</td>\n",
       "    </tr>\n",
       "    <tr>\n",
       "      <th>AAACAAGTATCTCCCA-1-0</th>\n",
       "      <td>1</td>\n",
       "      <td>50</td>\n",
       "      <td>102</td>\n",
       "      <td>Pilot_2021</td>\n",
       "      <td>241</td>\n",
       "      <td>AAACAAGTATCTCCCA</td>\n",
       "      <td>0</td>\n",
       "      <td>0</td>\n",
       "    </tr>\n",
       "    <tr>\n",
       "      <th>AAACAATCTACTAGCA-1-0</th>\n",
       "      <td>0</td>\n",
       "      <td>3</td>\n",
       "      <td>43</td>\n",
       "      <td>Pilot_2021</td>\n",
       "      <td>241</td>\n",
       "      <td>AAACAATCTACTAGCA</td>\n",
       "      <td>0</td>\n",
       "      <td>0</td>\n",
       "    </tr>\n",
       "    <tr>\n",
       "      <th>AAACACCAATAACTGC-1-0</th>\n",
       "      <td>0</td>\n",
       "      <td>59</td>\n",
       "      <td>19</td>\n",
       "      <td>Pilot_2021</td>\n",
       "      <td>241</td>\n",
       "      <td>AAACACCAATAACTGC</td>\n",
       "      <td>0</td>\n",
       "      <td>0</td>\n",
       "    </tr>\n",
       "    <tr>\n",
       "      <th>AAACAGAGCGACTCCT-1-0</th>\n",
       "      <td>0</td>\n",
       "      <td>14</td>\n",
       "      <td>94</td>\n",
       "      <td>Pilot_2021</td>\n",
       "      <td>241</td>\n",
       "      <td>AAACAGAGCGACTCCT</td>\n",
       "      <td>0</td>\n",
       "      <td>0</td>\n",
       "    </tr>\n",
       "  </tbody>\n",
       "</table>\n",
       "</div>"
      ],
      "text/plain": [
       "                      in_tissue  array_row  array_col    seqbatch SAMPLE  \\\n",
       "AAACAACGAATAGTTC-1-0          0          0         16  Pilot_2021    241   \n",
       "AAACAAGTATCTCCCA-1-0          1         50        102  Pilot_2021    241   \n",
       "AAACAATCTACTAGCA-1-0          0          3         43  Pilot_2021    241   \n",
       "AAACACCAATAACTGC-1-0          0         59         19  Pilot_2021    241   \n",
       "AAACAGAGCGACTCCT-1-0          0         14         94  Pilot_2021    241   \n",
       "\n",
       "                                    bc Sample_num batch  \n",
       "AAACAACGAATAGTTC-1-0  AAACAACGAATAGTTC          0     0  \n",
       "AAACAAGTATCTCCCA-1-0  AAACAAGTATCTCCCA          0     0  \n",
       "AAACAATCTACTAGCA-1-0  AAACAATCTACTAGCA          0     0  \n",
       "AAACACCAATAACTGC-1-0  AAACACCAATAACTGC          0     0  \n",
       "AAACAGAGCGACTCCT-1-0  AAACAGAGCGACTCCT          0     0  "
      ]
     },
     "execution_count": 3,
     "metadata": {},
     "output_type": "execute_result"
    }
   ],
   "source": [
    "\n",
    "# files\n",
    "spaceranger_dir = '/dfs7/swaruplab/smorabit/data/Visium_Mouse_2021/5xFAD_pilot_2021/spaceranger_count/'\n",
    "samples = os.listdir(spaceranger_dir)\n",
    "h5ad_list = [spaceranger_dir + x + '/outs/' for x in samples]\n",
    "\n",
    "# loop over each samplekilty\n",
    "adata_list = [] \n",
    "for i, cur_file in enumerate(h5ad_list):\n",
    "    cur_adata = sc.read_visium(cur_file, count_file='raw_feature_bc_matrix.h5')\n",
    "    print(cur_adata.shape)\n",
    "    cur_adata.obs['seqbatch'] = 'Pilot_2021'\n",
    "    cur_adata.obs['SAMPLE'] = samples[i]\n",
    "    cur_adata.obs['bc'] = [x.split('-')[0] for x in cur_adata.obs.index.to_list()]\n",
    "    cur_adata.uns['title'] = samples[i]\n",
    "    cur_adata.var_names_make_unique()\n",
    "    uns_dict[str(i) + '-Pilot_2021'] = cur_adata.uns\n",
    "    cur_adata.obs['Sample_num'] = str(i)\n",
    "    \n",
    "    adata_list.append(cur_adata)\n",
    "\n",
    "# combine\n",
    "adata = adata_list[0].concatenate(adata_list[1:len(adata_list)])\n",
    "adata.obs.head()"
   ]
  },
  {
   "cell_type": "code",
   "execution_count": 4,
   "id": "3aecc84a-5505-4d27-b321-dfc3efe445e7",
   "metadata": {},
   "outputs": [],
   "source": [
    "# load metadata\n",
    "meta_file = \"/dfs7/swaruplab/smorabit/analysis/5XFAD_visium_2021/pilot/data/pilot_samples.csv\"\n",
    "meta_df = pd.read_csv(meta_file, sep=',', index_col=None)\n",
    "meta_df.columns = ['SAMPLE', 'Condition', 'Age', 'Sex']\n",
    "meta_df.SAMPLE = meta_df.SAMPLE.astype('str')"
   ]
  },
  {
   "cell_type": "code",
   "execution_count": 5,
   "id": "23262e1d-d732-43eb-a854-15c3c9c6aad6",
   "metadata": {},
   "outputs": [
    {
     "data": {
      "text/html": [
       "<div>\n",
       "<style scoped>\n",
       "    .dataframe tbody tr th:only-of-type {\n",
       "        vertical-align: middle;\n",
       "    }\n",
       "\n",
       "    .dataframe tbody tr th {\n",
       "        vertical-align: top;\n",
       "    }\n",
       "\n",
       "    .dataframe thead th {\n",
       "        text-align: right;\n",
       "    }\n",
       "</style>\n",
       "<table border=\"1\" class=\"dataframe\">\n",
       "  <thead>\n",
       "    <tr style=\"text-align: right;\">\n",
       "      <th></th>\n",
       "      <th>SAMPLE</th>\n",
       "      <th>Condition</th>\n",
       "      <th>Age</th>\n",
       "      <th>Sex</th>\n",
       "    </tr>\n",
       "  </thead>\n",
       "  <tbody>\n",
       "    <tr>\n",
       "      <th>0</th>\n",
       "      <td>342</td>\n",
       "      <td>WT</td>\n",
       "      <td>8mo</td>\n",
       "      <td>F</td>\n",
       "    </tr>\n",
       "    <tr>\n",
       "      <th>1</th>\n",
       "      <td>592</td>\n",
       "      <td>5X</td>\n",
       "      <td>8mo</td>\n",
       "      <td>F</td>\n",
       "    </tr>\n",
       "    <tr>\n",
       "      <th>2</th>\n",
       "      <td>241</td>\n",
       "      <td>WT</td>\n",
       "      <td>4mo</td>\n",
       "      <td>F</td>\n",
       "    </tr>\n",
       "    <tr>\n",
       "      <th>3</th>\n",
       "      <td>573</td>\n",
       "      <td>5X</td>\n",
       "      <td>4mo</td>\n",
       "      <td>F</td>\n",
       "    </tr>\n",
       "  </tbody>\n",
       "</table>\n",
       "</div>"
      ],
      "text/plain": [
       "  SAMPLE Condition  Age Sex\n",
       "0    342        WT  8mo   F\n",
       "1    592        5X  8mo   F\n",
       "2    241        WT  4mo   F\n",
       "3    573        5X  4mo   F"
      ]
     },
     "execution_count": 5,
     "metadata": {},
     "output_type": "execute_result"
    }
   ],
   "source": [
    "meta_df.head()"
   ]
  },
  {
   "cell_type": "code",
   "execution_count": 6,
   "id": "505a5142-ecc0-479c-93cc-fea529246660",
   "metadata": {},
   "outputs": [],
   "source": [
    "# add the meta\n",
    "temp = adata.obs.merge(\n",
    "    meta_df,\n",
    "    how = 'left',\n",
    "    left_on = 'SAMPLE',\n",
    "    right_on = 'SAMPLE'\n",
    ")\n",
    "temp.index = adata.obs.index\n",
    "temp.head() \n",
    "\n",
    "adata.obs = temp\n"
   ]
  },
  {
   "cell_type": "code",
   "execution_count": 7,
   "id": "05448281-7855-4894-aef6-03c98a535069",
   "metadata": {},
   "outputs": [],
   "source": [
    "adata_pilot = adata\n",
    "adata_pilot.obs['seqbatch'] = 'Pilot_2021'"
   ]
  },
  {
   "cell_type": "markdown",
   "id": "2d1901aa-e1cc-4453-b8cd-4a804271e938",
   "metadata": {},
   "source": [
    "### July batch"
   ]
  },
  {
   "cell_type": "code",
   "execution_count": 8,
   "id": "66750d7f-4cb8-44da-8d34-965860069738",
   "metadata": {
    "scrolled": true
   },
   "outputs": [
    {
     "name": "stdout",
     "output_type": "stream",
     "text": [
      "reading /dfs7/swaruplab/smorabit/data/Visium_Mouse_2021/July_2021/spaceranger_count/Visium1/outs/raw_feature_bc_matrix.h5\n",
      " (0:00:01)\n"
     ]
    },
    {
     "name": "stderr",
     "output_type": "stream",
     "text": [
      "/pub/smorabit/miniconda3/envs/scanpy/lib/python3.11/site-packages/anndata/_core/anndata.py:1840: UserWarning: Variable names are not unique. To make them unique, call `.var_names_make_unique`.\n",
      "  utils.warn_names_duplicates(\"var\")\n",
      "/pub/smorabit/miniconda3/envs/scanpy/lib/python3.11/site-packages/anndata/_core/anndata.py:1840: UserWarning: Variable names are not unique. To make them unique, call `.var_names_make_unique`.\n",
      "  utils.warn_names_duplicates(\"var\")\n"
     ]
    },
    {
     "name": "stdout",
     "output_type": "stream",
     "text": [
      "reading /dfs7/swaruplab/smorabit/data/Visium_Mouse_2021/July_2021/spaceranger_count/Visium2/outs/raw_feature_bc_matrix.h5\n",
      " (0:00:01)\n"
     ]
    },
    {
     "name": "stderr",
     "output_type": "stream",
     "text": [
      "/pub/smorabit/miniconda3/envs/scanpy/lib/python3.11/site-packages/anndata/_core/anndata.py:1840: UserWarning: Variable names are not unique. To make them unique, call `.var_names_make_unique`.\n",
      "  utils.warn_names_duplicates(\"var\")\n",
      "/pub/smorabit/miniconda3/envs/scanpy/lib/python3.11/site-packages/anndata/_core/anndata.py:1840: UserWarning: Variable names are not unique. To make them unique, call `.var_names_make_unique`.\n",
      "  utils.warn_names_duplicates(\"var\")\n"
     ]
    },
    {
     "name": "stdout",
     "output_type": "stream",
     "text": [
      "reading /dfs7/swaruplab/smorabit/data/Visium_Mouse_2021/July_2021/spaceranger_count/Visium3/outs/raw_feature_bc_matrix.h5\n",
      " (0:00:02)\n"
     ]
    },
    {
     "name": "stderr",
     "output_type": "stream",
     "text": [
      "/pub/smorabit/miniconda3/envs/scanpy/lib/python3.11/site-packages/anndata/_core/anndata.py:1840: UserWarning: Variable names are not unique. To make them unique, call `.var_names_make_unique`.\n",
      "  utils.warn_names_duplicates(\"var\")\n",
      "/pub/smorabit/miniconda3/envs/scanpy/lib/python3.11/site-packages/anndata/_core/anndata.py:1840: UserWarning: Variable names are not unique. To make them unique, call `.var_names_make_unique`.\n",
      "  utils.warn_names_duplicates(\"var\")\n"
     ]
    },
    {
     "name": "stdout",
     "output_type": "stream",
     "text": [
      "reading /dfs7/swaruplab/smorabit/data/Visium_Mouse_2021/July_2021/spaceranger_count/Visium4/outs/raw_feature_bc_matrix.h5\n",
      " (0:00:01)\n"
     ]
    },
    {
     "name": "stderr",
     "output_type": "stream",
     "text": [
      "/pub/smorabit/miniconda3/envs/scanpy/lib/python3.11/site-packages/anndata/_core/anndata.py:1840: UserWarning: Variable names are not unique. To make them unique, call `.var_names_make_unique`.\n",
      "  utils.warn_names_duplicates(\"var\")\n",
      "/pub/smorabit/miniconda3/envs/scanpy/lib/python3.11/site-packages/anndata/_core/anndata.py:1840: UserWarning: Variable names are not unique. To make them unique, call `.var_names_make_unique`.\n",
      "  utils.warn_names_duplicates(\"var\")\n"
     ]
    },
    {
     "name": "stdout",
     "output_type": "stream",
     "text": [
      "reading /dfs7/swaruplab/smorabit/data/Visium_Mouse_2021/July_2021/spaceranger_count/Visium5/outs/raw_feature_bc_matrix.h5\n",
      " (0:00:02)\n"
     ]
    },
    {
     "name": "stderr",
     "output_type": "stream",
     "text": [
      "/pub/smorabit/miniconda3/envs/scanpy/lib/python3.11/site-packages/anndata/_core/anndata.py:1840: UserWarning: Variable names are not unique. To make them unique, call `.var_names_make_unique`.\n",
      "  utils.warn_names_duplicates(\"var\")\n",
      "/pub/smorabit/miniconda3/envs/scanpy/lib/python3.11/site-packages/anndata/_core/anndata.py:1840: UserWarning: Variable names are not unique. To make them unique, call `.var_names_make_unique`.\n",
      "  utils.warn_names_duplicates(\"var\")\n"
     ]
    },
    {
     "name": "stdout",
     "output_type": "stream",
     "text": [
      "reading /dfs7/swaruplab/smorabit/data/Visium_Mouse_2021/July_2021/spaceranger_count/Visium6/outs/raw_feature_bc_matrix.h5\n",
      " (0:00:02)\n"
     ]
    },
    {
     "name": "stderr",
     "output_type": "stream",
     "text": [
      "/pub/smorabit/miniconda3/envs/scanpy/lib/python3.11/site-packages/anndata/_core/anndata.py:1840: UserWarning: Variable names are not unique. To make them unique, call `.var_names_make_unique`.\n",
      "  utils.warn_names_duplicates(\"var\")\n",
      "/pub/smorabit/miniconda3/envs/scanpy/lib/python3.11/site-packages/anndata/_core/anndata.py:1840: UserWarning: Variable names are not unique. To make them unique, call `.var_names_make_unique`.\n",
      "  utils.warn_names_duplicates(\"var\")\n"
     ]
    },
    {
     "name": "stdout",
     "output_type": "stream",
     "text": [
      "reading /dfs7/swaruplab/smorabit/data/Visium_Mouse_2021/July_2021/spaceranger_count/Visium7/outs/raw_feature_bc_matrix.h5\n",
      " (0:00:02)\n"
     ]
    },
    {
     "name": "stderr",
     "output_type": "stream",
     "text": [
      "/pub/smorabit/miniconda3/envs/scanpy/lib/python3.11/site-packages/anndata/_core/anndata.py:1840: UserWarning: Variable names are not unique. To make them unique, call `.var_names_make_unique`.\n",
      "  utils.warn_names_duplicates(\"var\")\n",
      "/pub/smorabit/miniconda3/envs/scanpy/lib/python3.11/site-packages/anndata/_core/anndata.py:1840: UserWarning: Variable names are not unique. To make them unique, call `.var_names_make_unique`.\n",
      "  utils.warn_names_duplicates(\"var\")\n"
     ]
    },
    {
     "name": "stdout",
     "output_type": "stream",
     "text": [
      "reading /dfs7/swaruplab/smorabit/data/Visium_Mouse_2021/July_2021/spaceranger_count/Visium8/outs/raw_feature_bc_matrix.h5\n",
      " (0:00:02)\n"
     ]
    },
    {
     "name": "stderr",
     "output_type": "stream",
     "text": [
      "/pub/smorabit/miniconda3/envs/scanpy/lib/python3.11/site-packages/anndata/_core/anndata.py:1840: UserWarning: Variable names are not unique. To make them unique, call `.var_names_make_unique`.\n",
      "  utils.warn_names_duplicates(\"var\")\n",
      "/pub/smorabit/miniconda3/envs/scanpy/lib/python3.11/site-packages/anndata/_core/anndata.py:1840: UserWarning: Variable names are not unique. To make them unique, call `.var_names_make_unique`.\n",
      "  utils.warn_names_duplicates(\"var\")\n",
      "/pub/smorabit/miniconda3/envs/scanpy/lib/python3.11/site-packages/anndata/_core/anndata.py:1763: FutureWarning: The AnnData.concatenate method is deprecated in favour of the anndata.concat function. Please use anndata.concat instead.\n",
      "\n",
      "See the tutorial for concat at: https://anndata.readthedocs.io/en/latest/concatenation.html\n",
      "  warnings.warn(\n",
      "/pub/smorabit/miniconda3/envs/scanpy/lib/python3.11/site-packages/anndata/_core/merge.py:1015: FutureWarning: The default value of 'ignore' for the `na_action` parameter in pandas.Categorical.map is deprecated and will be changed to 'None' in a future version. Please set na_action to the desired value to avoid seeing this warning\n",
      "  concat_indices = concat_indices.str.cat(label_col.map(str), sep=index_unique)\n",
      "/pub/smorabit/miniconda3/envs/scanpy/lib/python3.11/site-packages/anndata/_core/merge.py:1015: FutureWarning: The default value of 'ignore' for the `na_action` parameter in pandas.Categorical.map is deprecated and will be changed to 'None' in a future version. Please set na_action to the desired value to avoid seeing this warning\n",
      "  concat_indices = concat_indices.str.cat(label_col.map(str), sep=index_unique)\n"
     ]
    },
    {
     "data": {
      "text/html": [
       "<div>\n",
       "<style scoped>\n",
       "    .dataframe tbody tr th:only-of-type {\n",
       "        vertical-align: middle;\n",
       "    }\n",
       "\n",
       "    .dataframe tbody tr th {\n",
       "        vertical-align: top;\n",
       "    }\n",
       "\n",
       "    .dataframe thead th {\n",
       "        text-align: right;\n",
       "    }\n",
       "</style>\n",
       "<table border=\"1\" class=\"dataframe\">\n",
       "  <thead>\n",
       "    <tr style=\"text-align: right;\">\n",
       "      <th></th>\n",
       "      <th>in_tissue</th>\n",
       "      <th>array_row</th>\n",
       "      <th>array_col</th>\n",
       "      <th>seqbatch</th>\n",
       "      <th>LibraryID</th>\n",
       "      <th>bc</th>\n",
       "      <th>Sample_num</th>\n",
       "      <th>batch</th>\n",
       "    </tr>\n",
       "  </thead>\n",
       "  <tbody>\n",
       "    <tr>\n",
       "      <th>AAACAACGAATAGTTC-1-0</th>\n",
       "      <td>0</td>\n",
       "      <td>0</td>\n",
       "      <td>16</td>\n",
       "      <td>July_2021</td>\n",
       "      <td>Visium1</td>\n",
       "      <td>AAACAACGAATAGTTC</td>\n",
       "      <td>0</td>\n",
       "      <td>0</td>\n",
       "    </tr>\n",
       "    <tr>\n",
       "      <th>AAACAAGTATCTCCCA-1-0</th>\n",
       "      <td>1</td>\n",
       "      <td>50</td>\n",
       "      <td>102</td>\n",
       "      <td>July_2021</td>\n",
       "      <td>Visium1</td>\n",
       "      <td>AAACAAGTATCTCCCA</td>\n",
       "      <td>0</td>\n",
       "      <td>0</td>\n",
       "    </tr>\n",
       "    <tr>\n",
       "      <th>AAACAATCTACTAGCA-1-0</th>\n",
       "      <td>0</td>\n",
       "      <td>3</td>\n",
       "      <td>43</td>\n",
       "      <td>July_2021</td>\n",
       "      <td>Visium1</td>\n",
       "      <td>AAACAATCTACTAGCA</td>\n",
       "      <td>0</td>\n",
       "      <td>0</td>\n",
       "    </tr>\n",
       "    <tr>\n",
       "      <th>AAACACCAATAACTGC-1-0</th>\n",
       "      <td>0</td>\n",
       "      <td>59</td>\n",
       "      <td>19</td>\n",
       "      <td>July_2021</td>\n",
       "      <td>Visium1</td>\n",
       "      <td>AAACACCAATAACTGC</td>\n",
       "      <td>0</td>\n",
       "      <td>0</td>\n",
       "    </tr>\n",
       "    <tr>\n",
       "      <th>AAACAGAGCGACTCCT-1-0</th>\n",
       "      <td>1</td>\n",
       "      <td>14</td>\n",
       "      <td>94</td>\n",
       "      <td>July_2021</td>\n",
       "      <td>Visium1</td>\n",
       "      <td>AAACAGAGCGACTCCT</td>\n",
       "      <td>0</td>\n",
       "      <td>0</td>\n",
       "    </tr>\n",
       "  </tbody>\n",
       "</table>\n",
       "</div>"
      ],
      "text/plain": [
       "                      in_tissue  array_row  array_col   seqbatch LibraryID  \\\n",
       "AAACAACGAATAGTTC-1-0          0          0         16  July_2021   Visium1   \n",
       "AAACAAGTATCTCCCA-1-0          1         50        102  July_2021   Visium1   \n",
       "AAACAATCTACTAGCA-1-0          0          3         43  July_2021   Visium1   \n",
       "AAACACCAATAACTGC-1-0          0         59         19  July_2021   Visium1   \n",
       "AAACAGAGCGACTCCT-1-0          1         14         94  July_2021   Visium1   \n",
       "\n",
       "                                    bc Sample_num batch  \n",
       "AAACAACGAATAGTTC-1-0  AAACAACGAATAGTTC          0     0  \n",
       "AAACAAGTATCTCCCA-1-0  AAACAAGTATCTCCCA          0     0  \n",
       "AAACAATCTACTAGCA-1-0  AAACAATCTACTAGCA          0     0  \n",
       "AAACACCAATAACTGC-1-0  AAACACCAATAACTGC          0     0  \n",
       "AAACAGAGCGACTCCT-1-0  AAACAGAGCGACTCCT          0     0  "
      ]
     },
     "execution_count": 8,
     "metadata": {},
     "output_type": "execute_result"
    }
   ],
   "source": [
    "\n",
    "# files\n",
    "spaceranger_dir = '/dfs7/swaruplab/smorabit/data/Visium_Mouse_2021/July_2021/spaceranger_count/'\n",
    "samples = os.listdir(spaceranger_dir)\n",
    "h5ad_list = [spaceranger_dir + x + '/outs/' for x in samples]\n",
    "\n",
    "# loop over each sample\n",
    "adata_list = [] \n",
    "for i, cur_file in enumerate(h5ad_list):\n",
    "    cur_adata = sc.read_visium(cur_file, count_file='raw_feature_bc_matrix.h5')\n",
    "\n",
    "    cur_adata.obs['seqbatch'] = 'July_2021'\n",
    "    cur_adata.obs['LibraryID'] = samples[i]\n",
    "    cur_adata.obs['bc'] = [x.split('-')[0] for x in cur_adata.obs.index.to_list()]\n",
    "    cur_adata.uns['title'] = samples[i]\n",
    "\n",
    "    cur_adata.var_names_make_unique()\n",
    "    uns_dict[str(i) + '-July_2021' ] = cur_adata.uns\n",
    "    cur_adata.obs['Sample_num'] = str(i)\n",
    "    \n",
    "    adata_list.append(cur_adata)\n",
    "\n",
    "# combine\n",
    "adata = adata_list[0].concatenate(adata_list[1:len(adata_list)])\n",
    "adata.obs.head()"
   ]
  },
  {
   "cell_type": "code",
   "execution_count": 9,
   "id": "4de7170e-2784-4405-82fb-8475c4bb80a4",
   "metadata": {},
   "outputs": [
    {
     "data": {
      "text/html": [
       "<div>\n",
       "<style scoped>\n",
       "    .dataframe tbody tr th:only-of-type {\n",
       "        vertical-align: middle;\n",
       "    }\n",
       "\n",
       "    .dataframe tbody tr th {\n",
       "        vertical-align: top;\n",
       "    }\n",
       "\n",
       "    .dataframe thead th {\n",
       "        text-align: right;\n",
       "    }\n",
       "</style>\n",
       "<table border=\"1\" class=\"dataframe\">\n",
       "  <thead>\n",
       "    <tr style=\"text-align: right;\">\n",
       "      <th></th>\n",
       "      <th>Unnamed: 0</th>\n",
       "      <th>SAMPLE</th>\n",
       "      <th>Condition</th>\n",
       "      <th>Sex</th>\n",
       "      <th>Age</th>\n",
       "      <th>CaptureArea</th>\n",
       "      <th>Slide</th>\n",
       "      <th>Sectioning</th>\n",
       "      <th>LibraryDay1</th>\n",
       "      <th>LibraryDay2</th>\n",
       "      <th>INDEX</th>\n",
       "    </tr>\n",
       "  </thead>\n",
       "  <tbody>\n",
       "    <tr>\n",
       "      <th>0</th>\n",
       "      <td>1.0</td>\n",
       "      <td>652.0</td>\n",
       "      <td>5X</td>\n",
       "      <td>M</td>\n",
       "      <td>4mo</td>\n",
       "      <td>A1</td>\n",
       "      <td>V10L28-014</td>\n",
       "      <td>6/6/21</td>\n",
       "      <td>6/9/21</td>\n",
       "      <td>6/22/21</td>\n",
       "      <td>E2</td>\n",
       "    </tr>\n",
       "    <tr>\n",
       "      <th>1</th>\n",
       "      <td>2.0</td>\n",
       "      <td>351.0</td>\n",
       "      <td>WT</td>\n",
       "      <td>M</td>\n",
       "      <td>4mo</td>\n",
       "      <td>B1</td>\n",
       "      <td>V10L28-014</td>\n",
       "      <td>6/6/21</td>\n",
       "      <td>6/9/21</td>\n",
       "      <td>6/22/21</td>\n",
       "      <td>F2</td>\n",
       "    </tr>\n",
       "    <tr>\n",
       "      <th>2</th>\n",
       "      <td>3.0</td>\n",
       "      <td>411.0</td>\n",
       "      <td>5X</td>\n",
       "      <td>M</td>\n",
       "      <td>12mo</td>\n",
       "      <td>C1</td>\n",
       "      <td>V10L28-014</td>\n",
       "      <td>6/6/21</td>\n",
       "      <td>6/9/21</td>\n",
       "      <td>6/22/21</td>\n",
       "      <td>G2</td>\n",
       "    </tr>\n",
       "    <tr>\n",
       "      <th>3</th>\n",
       "      <td>4.0</td>\n",
       "      <td>211.0</td>\n",
       "      <td>WT</td>\n",
       "      <td>M</td>\n",
       "      <td>12mo</td>\n",
       "      <td>D1</td>\n",
       "      <td>V10L28-014</td>\n",
       "      <td>6/6/21</td>\n",
       "      <td>6/9/21</td>\n",
       "      <td>6/22/21</td>\n",
       "      <td>H2</td>\n",
       "    </tr>\n",
       "    <tr>\n",
       "      <th>4</th>\n",
       "      <td>5.0</td>\n",
       "      <td>551.0</td>\n",
       "      <td>5X</td>\n",
       "      <td>F</td>\n",
       "      <td>6mo</td>\n",
       "      <td>A1</td>\n",
       "      <td>V10L28-013</td>\n",
       "      <td>6/6/21</td>\n",
       "      <td>6/10/21</td>\n",
       "      <td>6/22/21</td>\n",
       "      <td>A3</td>\n",
       "    </tr>\n",
       "  </tbody>\n",
       "</table>\n",
       "</div>"
      ],
      "text/plain": [
       "   Unnamed: 0  SAMPLE Condition Sex   Age CaptureArea       Slide Sectioning  \\\n",
       "0         1.0   652.0        5X   M   4mo          A1  V10L28-014     6/6/21   \n",
       "1         2.0   351.0        WT   M   4mo          B1  V10L28-014     6/6/21   \n",
       "2         3.0   411.0        5X   M  12mo          C1  V10L28-014     6/6/21   \n",
       "3         4.0   211.0        WT   M  12mo          D1  V10L28-014     6/6/21   \n",
       "4         5.0   551.0        5X   F   6mo          A1  V10L28-013     6/6/21   \n",
       "\n",
       "  LibraryDay1 LibraryDay2 INDEX  \n",
       "0      6/9/21     6/22/21    E2  \n",
       "1      6/9/21     6/22/21    F2  \n",
       "2      6/9/21     6/22/21    G2  \n",
       "3      6/9/21     6/22/21    H2  \n",
       "4     6/10/21     6/22/21    A3  "
      ]
     },
     "execution_count": 9,
     "metadata": {},
     "output_type": "execute_result"
    }
   ],
   "source": [
    "# load metadata\n",
    "meta_file = \"/dfs7/swaruplab/smorabit/data/Visium_Mouse_2021/July_2021/5XFAD_8samples.csv\"\n",
    "meta_df = pd.read_csv(meta_file, sep=',', index_col=None)\n",
    "meta_df = meta_df.iloc[:8]\n",
    "meta_df = meta_df[['Unnamed: 0', 'SAMPLE', 'Condition', 'Sex', 'Age', 'CaptureArea', 'Slide', 'Sectioning', 'LibraryDay1', 'LibraryDay2', 'INDEX']]\n",
    "\n",
    "#meta_df.columns = ['SAMPLE', 'Condition', 'Age']\n",
    "#meta_df.SAMPLE = meta_df.SAMPLE.astype('str')\n",
    "meta_df.head()"
   ]
  },
  {
   "cell_type": "code",
   "execution_count": 10,
   "id": "629968e3-93d9-476f-a3b1-f786d0844a6e",
   "metadata": {},
   "outputs": [],
   "source": [
    "meta_df['LibraryID'] = ['Visium' + str(int(x)) for x in meta_df['Unnamed: 0'].to_list()]"
   ]
  },
  {
   "cell_type": "code",
   "execution_count": 11,
   "id": "ffda164f-0b31-4e35-8bd2-ce4c77ea510e",
   "metadata": {},
   "outputs": [
    {
     "data": {
      "text/plain": [
       "['Visium1',\n",
       " 'Visium2',\n",
       " 'Visium3',\n",
       " 'Visium4',\n",
       " 'Visium5',\n",
       " 'Visium6',\n",
       " 'Visium7',\n",
       " 'Visium8']"
      ]
     },
     "execution_count": 11,
     "metadata": {},
     "output_type": "execute_result"
    }
   ],
   "source": [
    "meta_df.LibraryID.to_list()"
   ]
  },
  {
   "cell_type": "code",
   "execution_count": 12,
   "id": "94d15bea-6012-47c6-a3ba-d070330dbcfe",
   "metadata": {},
   "outputs": [
    {
     "data": {
      "text/plain": [
       "Index(['Unnamed: 0', 'SAMPLE', 'Condition', 'Sex', 'Age', 'CaptureArea',\n",
       "       'Slide', 'Sectioning', 'LibraryDay1', 'LibraryDay2', 'INDEX',\n",
       "       'LibraryID'],\n",
       "      dtype='object')"
      ]
     },
     "execution_count": 12,
     "metadata": {},
     "output_type": "execute_result"
    }
   ],
   "source": [
    "meta_df.columns"
   ]
  },
  {
   "cell_type": "code",
   "execution_count": 13,
   "id": "ea38ece7-07fb-4f79-b50b-280321731699",
   "metadata": {},
   "outputs": [],
   "source": [
    "# add the meta\n",
    "temp = adata.obs.merge(\n",
    "    meta_df,\n",
    "    how = 'left',\n",
    "    left_on = 'LibraryID',\n",
    "    right_on = 'LibraryID'\n",
    ")\n",
    "temp.index = adata.obs.index\n",
    "temp.head() \n",
    "temp = temp.drop(labels='LibraryID', axis=1)\n",
    "\n",
    "adata.obs = temp\n"
   ]
  },
  {
   "cell_type": "code",
   "execution_count": 14,
   "id": "1a3506e6-c01d-43cc-bf7b-4a7becd3d370",
   "metadata": {},
   "outputs": [],
   "source": [
    "adata_july = adata\n"
   ]
  },
  {
   "cell_type": "markdown",
   "id": "9fbe248e-13aa-4fd6-835d-e391dda43f90",
   "metadata": {},
   "source": [
    "## November 15"
   ]
  },
  {
   "cell_type": "code",
   "execution_count": 15,
   "id": "82c98e41-cb01-4f65-9e0c-a728165a9d1a",
   "metadata": {
    "scrolled": true
   },
   "outputs": [
    {
     "name": "stdout",
     "output_type": "stream",
     "text": [
      "reading /dfs7/swaruplab/smorabit/data/Visium_Mouse_2021/Nov_15_2021/spaceranger_count/Visium5xFAD_1/outs/raw_feature_bc_matrix.h5\n",
      " (0:00:03)\n"
     ]
    },
    {
     "name": "stderr",
     "output_type": "stream",
     "text": [
      "/pub/smorabit/miniconda3/envs/scanpy/lib/python3.11/site-packages/anndata/_core/anndata.py:1840: UserWarning: Variable names are not unique. To make them unique, call `.var_names_make_unique`.\n",
      "  utils.warn_names_duplicates(\"var\")\n",
      "/pub/smorabit/miniconda3/envs/scanpy/lib/python3.11/site-packages/anndata/_core/anndata.py:1840: UserWarning: Variable names are not unique. To make them unique, call `.var_names_make_unique`.\n",
      "  utils.warn_names_duplicates(\"var\")\n"
     ]
    },
    {
     "name": "stdout",
     "output_type": "stream",
     "text": [
      "reading /dfs7/swaruplab/smorabit/data/Visium_Mouse_2021/Nov_15_2021/spaceranger_count/Visium5xFAD_10/outs/raw_feature_bc_matrix.h5\n",
      " (0:00:02)\n"
     ]
    },
    {
     "name": "stderr",
     "output_type": "stream",
     "text": [
      "/pub/smorabit/miniconda3/envs/scanpy/lib/python3.11/site-packages/anndata/_core/anndata.py:1840: UserWarning: Variable names are not unique. To make them unique, call `.var_names_make_unique`.\n",
      "  utils.warn_names_duplicates(\"var\")\n",
      "/pub/smorabit/miniconda3/envs/scanpy/lib/python3.11/site-packages/anndata/_core/anndata.py:1840: UserWarning: Variable names are not unique. To make them unique, call `.var_names_make_unique`.\n",
      "  utils.warn_names_duplicates(\"var\")\n"
     ]
    },
    {
     "name": "stdout",
     "output_type": "stream",
     "text": [
      "reading /dfs7/swaruplab/smorabit/data/Visium_Mouse_2021/Nov_15_2021/spaceranger_count/Visium5xFAD_11/outs/raw_feature_bc_matrix.h5\n",
      " (0:00:02)\n"
     ]
    },
    {
     "name": "stderr",
     "output_type": "stream",
     "text": [
      "/pub/smorabit/miniconda3/envs/scanpy/lib/python3.11/site-packages/anndata/_core/anndata.py:1840: UserWarning: Variable names are not unique. To make them unique, call `.var_names_make_unique`.\n",
      "  utils.warn_names_duplicates(\"var\")\n",
      "/pub/smorabit/miniconda3/envs/scanpy/lib/python3.11/site-packages/anndata/_core/anndata.py:1840: UserWarning: Variable names are not unique. To make them unique, call `.var_names_make_unique`.\n",
      "  utils.warn_names_duplicates(\"var\")\n"
     ]
    },
    {
     "name": "stdout",
     "output_type": "stream",
     "text": [
      "reading /dfs7/swaruplab/smorabit/data/Visium_Mouse_2021/Nov_15_2021/spaceranger_count/Visium5xFAD_12/outs/raw_feature_bc_matrix.h5\n",
      " (0:00:02)\n"
     ]
    },
    {
     "name": "stderr",
     "output_type": "stream",
     "text": [
      "/pub/smorabit/miniconda3/envs/scanpy/lib/python3.11/site-packages/anndata/_core/anndata.py:1840: UserWarning: Variable names are not unique. To make them unique, call `.var_names_make_unique`.\n",
      "  utils.warn_names_duplicates(\"var\")\n",
      "/pub/smorabit/miniconda3/envs/scanpy/lib/python3.11/site-packages/anndata/_core/anndata.py:1840: UserWarning: Variable names are not unique. To make them unique, call `.var_names_make_unique`.\n",
      "  utils.warn_names_duplicates(\"var\")\n"
     ]
    },
    {
     "name": "stdout",
     "output_type": "stream",
     "text": [
      "reading /dfs7/swaruplab/smorabit/data/Visium_Mouse_2021/Nov_15_2021/spaceranger_count/Visium5xFAD_13/outs/raw_feature_bc_matrix.h5\n",
      " (0:00:02)\n"
     ]
    },
    {
     "name": "stderr",
     "output_type": "stream",
     "text": [
      "/pub/smorabit/miniconda3/envs/scanpy/lib/python3.11/site-packages/anndata/_core/anndata.py:1840: UserWarning: Variable names are not unique. To make them unique, call `.var_names_make_unique`.\n",
      "  utils.warn_names_duplicates(\"var\")\n",
      "/pub/smorabit/miniconda3/envs/scanpy/lib/python3.11/site-packages/anndata/_core/anndata.py:1840: UserWarning: Variable names are not unique. To make them unique, call `.var_names_make_unique`.\n",
      "  utils.warn_names_duplicates(\"var\")\n"
     ]
    },
    {
     "name": "stdout",
     "output_type": "stream",
     "text": [
      "reading /dfs7/swaruplab/smorabit/data/Visium_Mouse_2021/Nov_15_2021/spaceranger_count/Visium5xFAD_14/outs/raw_feature_bc_matrix.h5\n",
      " (0:00:02)\n"
     ]
    },
    {
     "name": "stderr",
     "output_type": "stream",
     "text": [
      "/pub/smorabit/miniconda3/envs/scanpy/lib/python3.11/site-packages/anndata/_core/anndata.py:1840: UserWarning: Variable names are not unique. To make them unique, call `.var_names_make_unique`.\n",
      "  utils.warn_names_duplicates(\"var\")\n",
      "/pub/smorabit/miniconda3/envs/scanpy/lib/python3.11/site-packages/anndata/_core/anndata.py:1840: UserWarning: Variable names are not unique. To make them unique, call `.var_names_make_unique`.\n",
      "  utils.warn_names_duplicates(\"var\")\n"
     ]
    },
    {
     "name": "stdout",
     "output_type": "stream",
     "text": [
      "reading /dfs7/swaruplab/smorabit/data/Visium_Mouse_2021/Nov_15_2021/spaceranger_count/Visium5xFAD_15/outs/raw_feature_bc_matrix.h5\n",
      " (0:00:02)\n"
     ]
    },
    {
     "name": "stderr",
     "output_type": "stream",
     "text": [
      "/pub/smorabit/miniconda3/envs/scanpy/lib/python3.11/site-packages/anndata/_core/anndata.py:1840: UserWarning: Variable names are not unique. To make them unique, call `.var_names_make_unique`.\n",
      "  utils.warn_names_duplicates(\"var\")\n",
      "/pub/smorabit/miniconda3/envs/scanpy/lib/python3.11/site-packages/anndata/_core/anndata.py:1840: UserWarning: Variable names are not unique. To make them unique, call `.var_names_make_unique`.\n",
      "  utils.warn_names_duplicates(\"var\")\n"
     ]
    },
    {
     "name": "stdout",
     "output_type": "stream",
     "text": [
      "reading /dfs7/swaruplab/smorabit/data/Visium_Mouse_2021/Nov_15_2021/spaceranger_count/Visium5xFAD_16/outs/raw_feature_bc_matrix.h5\n",
      " (0:00:02)\n"
     ]
    },
    {
     "name": "stderr",
     "output_type": "stream",
     "text": [
      "/pub/smorabit/miniconda3/envs/scanpy/lib/python3.11/site-packages/anndata/_core/anndata.py:1840: UserWarning: Variable names are not unique. To make them unique, call `.var_names_make_unique`.\n",
      "  utils.warn_names_duplicates(\"var\")\n",
      "/pub/smorabit/miniconda3/envs/scanpy/lib/python3.11/site-packages/anndata/_core/anndata.py:1840: UserWarning: Variable names are not unique. To make them unique, call `.var_names_make_unique`.\n",
      "  utils.warn_names_duplicates(\"var\")\n"
     ]
    },
    {
     "name": "stdout",
     "output_type": "stream",
     "text": [
      "reading /dfs7/swaruplab/smorabit/data/Visium_Mouse_2021/Nov_15_2021/spaceranger_count/Visium5xFAD_2/outs/raw_feature_bc_matrix.h5\n",
      " (0:00:01)\n"
     ]
    },
    {
     "name": "stderr",
     "output_type": "stream",
     "text": [
      "/pub/smorabit/miniconda3/envs/scanpy/lib/python3.11/site-packages/anndata/_core/anndata.py:1840: UserWarning: Variable names are not unique. To make them unique, call `.var_names_make_unique`.\n",
      "  utils.warn_names_duplicates(\"var\")\n",
      "/pub/smorabit/miniconda3/envs/scanpy/lib/python3.11/site-packages/anndata/_core/anndata.py:1840: UserWarning: Variable names are not unique. To make them unique, call `.var_names_make_unique`.\n",
      "  utils.warn_names_duplicates(\"var\")\n"
     ]
    },
    {
     "name": "stdout",
     "output_type": "stream",
     "text": [
      "reading /dfs7/swaruplab/smorabit/data/Visium_Mouse_2021/Nov_15_2021/spaceranger_count/Visium5xFAD_3/outs/raw_feature_bc_matrix.h5\n",
      " (0:00:01)\n"
     ]
    },
    {
     "name": "stderr",
     "output_type": "stream",
     "text": [
      "/pub/smorabit/miniconda3/envs/scanpy/lib/python3.11/site-packages/anndata/_core/anndata.py:1840: UserWarning: Variable names are not unique. To make them unique, call `.var_names_make_unique`.\n",
      "  utils.warn_names_duplicates(\"var\")\n",
      "/pub/smorabit/miniconda3/envs/scanpy/lib/python3.11/site-packages/anndata/_core/anndata.py:1840: UserWarning: Variable names are not unique. To make them unique, call `.var_names_make_unique`.\n",
      "  utils.warn_names_duplicates(\"var\")\n"
     ]
    },
    {
     "name": "stdout",
     "output_type": "stream",
     "text": [
      "reading /dfs7/swaruplab/smorabit/data/Visium_Mouse_2021/Nov_15_2021/spaceranger_count/Visium5xFAD_4/outs/raw_feature_bc_matrix.h5\n",
      " (0:00:03)\n"
     ]
    },
    {
     "name": "stderr",
     "output_type": "stream",
     "text": [
      "/pub/smorabit/miniconda3/envs/scanpy/lib/python3.11/site-packages/anndata/_core/anndata.py:1840: UserWarning: Variable names are not unique. To make them unique, call `.var_names_make_unique`.\n",
      "  utils.warn_names_duplicates(\"var\")\n",
      "/pub/smorabit/miniconda3/envs/scanpy/lib/python3.11/site-packages/anndata/_core/anndata.py:1840: UserWarning: Variable names are not unique. To make them unique, call `.var_names_make_unique`.\n",
      "  utils.warn_names_duplicates(\"var\")\n"
     ]
    },
    {
     "name": "stdout",
     "output_type": "stream",
     "text": [
      "reading /dfs7/swaruplab/smorabit/data/Visium_Mouse_2021/Nov_15_2021/spaceranger_count/Visium5xFAD_5/outs/raw_feature_bc_matrix.h5\n",
      " (0:00:02)\n"
     ]
    },
    {
     "name": "stderr",
     "output_type": "stream",
     "text": [
      "/pub/smorabit/miniconda3/envs/scanpy/lib/python3.11/site-packages/anndata/_core/anndata.py:1840: UserWarning: Variable names are not unique. To make them unique, call `.var_names_make_unique`.\n",
      "  utils.warn_names_duplicates(\"var\")\n",
      "/pub/smorabit/miniconda3/envs/scanpy/lib/python3.11/site-packages/anndata/_core/anndata.py:1840: UserWarning: Variable names are not unique. To make them unique, call `.var_names_make_unique`.\n",
      "  utils.warn_names_duplicates(\"var\")\n"
     ]
    },
    {
     "name": "stdout",
     "output_type": "stream",
     "text": [
      "reading /dfs7/swaruplab/smorabit/data/Visium_Mouse_2021/Nov_15_2021/spaceranger_count/Visium5xFAD_6/outs/raw_feature_bc_matrix.h5\n",
      " (0:00:03)\n"
     ]
    },
    {
     "name": "stderr",
     "output_type": "stream",
     "text": [
      "/pub/smorabit/miniconda3/envs/scanpy/lib/python3.11/site-packages/anndata/_core/anndata.py:1840: UserWarning: Variable names are not unique. To make them unique, call `.var_names_make_unique`.\n",
      "  utils.warn_names_duplicates(\"var\")\n",
      "/pub/smorabit/miniconda3/envs/scanpy/lib/python3.11/site-packages/anndata/_core/anndata.py:1840: UserWarning: Variable names are not unique. To make them unique, call `.var_names_make_unique`.\n",
      "  utils.warn_names_duplicates(\"var\")\n"
     ]
    },
    {
     "name": "stdout",
     "output_type": "stream",
     "text": [
      "reading /dfs7/swaruplab/smorabit/data/Visium_Mouse_2021/Nov_15_2021/spaceranger_count/Visium5xFAD_7/outs/raw_feature_bc_matrix.h5\n",
      " (0:00:02)\n"
     ]
    },
    {
     "name": "stderr",
     "output_type": "stream",
     "text": [
      "/pub/smorabit/miniconda3/envs/scanpy/lib/python3.11/site-packages/anndata/_core/anndata.py:1840: UserWarning: Variable names are not unique. To make them unique, call `.var_names_make_unique`.\n",
      "  utils.warn_names_duplicates(\"var\")\n",
      "/pub/smorabit/miniconda3/envs/scanpy/lib/python3.11/site-packages/anndata/_core/anndata.py:1840: UserWarning: Variable names are not unique. To make them unique, call `.var_names_make_unique`.\n",
      "  utils.warn_names_duplicates(\"var\")\n"
     ]
    },
    {
     "name": "stdout",
     "output_type": "stream",
     "text": [
      "reading /dfs7/swaruplab/smorabit/data/Visium_Mouse_2021/Nov_15_2021/spaceranger_count/Visium5xFAD_8/outs/raw_feature_bc_matrix.h5\n",
      " (0:00:02)\n"
     ]
    },
    {
     "name": "stderr",
     "output_type": "stream",
     "text": [
      "/pub/smorabit/miniconda3/envs/scanpy/lib/python3.11/site-packages/anndata/_core/anndata.py:1840: UserWarning: Variable names are not unique. To make them unique, call `.var_names_make_unique`.\n",
      "  utils.warn_names_duplicates(\"var\")\n",
      "/pub/smorabit/miniconda3/envs/scanpy/lib/python3.11/site-packages/anndata/_core/anndata.py:1840: UserWarning: Variable names are not unique. To make them unique, call `.var_names_make_unique`.\n",
      "  utils.warn_names_duplicates(\"var\")\n"
     ]
    },
    {
     "name": "stdout",
     "output_type": "stream",
     "text": [
      "reading /dfs7/swaruplab/smorabit/data/Visium_Mouse_2021/Nov_15_2021/spaceranger_count/Visium5xFAD_9/outs/raw_feature_bc_matrix.h5\n",
      " (0:00:02)\n"
     ]
    },
    {
     "name": "stderr",
     "output_type": "stream",
     "text": [
      "/pub/smorabit/miniconda3/envs/scanpy/lib/python3.11/site-packages/anndata/_core/anndata.py:1840: UserWarning: Variable names are not unique. To make them unique, call `.var_names_make_unique`.\n",
      "  utils.warn_names_duplicates(\"var\")\n",
      "/pub/smorabit/miniconda3/envs/scanpy/lib/python3.11/site-packages/anndata/_core/anndata.py:1840: UserWarning: Variable names are not unique. To make them unique, call `.var_names_make_unique`.\n",
      "  utils.warn_names_duplicates(\"var\")\n",
      "/pub/smorabit/miniconda3/envs/scanpy/lib/python3.11/site-packages/anndata/_core/anndata.py:1763: FutureWarning: The AnnData.concatenate method is deprecated in favour of the anndata.concat function. Please use anndata.concat instead.\n",
      "\n",
      "See the tutorial for concat at: https://anndata.readthedocs.io/en/latest/concatenation.html\n",
      "  warnings.warn(\n",
      "/pub/smorabit/miniconda3/envs/scanpy/lib/python3.11/site-packages/anndata/_core/merge.py:1015: FutureWarning: The default value of 'ignore' for the `na_action` parameter in pandas.Categorical.map is deprecated and will be changed to 'None' in a future version. Please set na_action to the desired value to avoid seeing this warning\n",
      "  concat_indices = concat_indices.str.cat(label_col.map(str), sep=index_unique)\n",
      "/pub/smorabit/miniconda3/envs/scanpy/lib/python3.11/site-packages/anndata/_core/merge.py:1015: FutureWarning: The default value of 'ignore' for the `na_action` parameter in pandas.Categorical.map is deprecated and will be changed to 'None' in a future version. Please set na_action to the desired value to avoid seeing this warning\n",
      "  concat_indices = concat_indices.str.cat(label_col.map(str), sep=index_unique)\n"
     ]
    },
    {
     "data": {
      "text/html": [
       "<div>\n",
       "<style scoped>\n",
       "    .dataframe tbody tr th:only-of-type {\n",
       "        vertical-align: middle;\n",
       "    }\n",
       "\n",
       "    .dataframe tbody tr th {\n",
       "        vertical-align: top;\n",
       "    }\n",
       "\n",
       "    .dataframe thead th {\n",
       "        text-align: right;\n",
       "    }\n",
       "</style>\n",
       "<table border=\"1\" class=\"dataframe\">\n",
       "  <thead>\n",
       "    <tr style=\"text-align: right;\">\n",
       "      <th></th>\n",
       "      <th>in_tissue</th>\n",
       "      <th>array_row</th>\n",
       "      <th>array_col</th>\n",
       "      <th>seqbatch</th>\n",
       "      <th>SampleID</th>\n",
       "      <th>bc</th>\n",
       "      <th>Sample_num</th>\n",
       "      <th>batch</th>\n",
       "    </tr>\n",
       "  </thead>\n",
       "  <tbody>\n",
       "    <tr>\n",
       "      <th>AAACAACGAATAGTTC-1-0</th>\n",
       "      <td>0</td>\n",
       "      <td>0</td>\n",
       "      <td>16</td>\n",
       "      <td>Nov_15_2021</td>\n",
       "      <td>Visium5xFAD_1</td>\n",
       "      <td>AAACAACGAATAGTTC</td>\n",
       "      <td>0</td>\n",
       "      <td>0</td>\n",
       "    </tr>\n",
       "    <tr>\n",
       "      <th>AAACAAGTATCTCCCA-1-0</th>\n",
       "      <td>1</td>\n",
       "      <td>50</td>\n",
       "      <td>102</td>\n",
       "      <td>Nov_15_2021</td>\n",
       "      <td>Visium5xFAD_1</td>\n",
       "      <td>AAACAAGTATCTCCCA</td>\n",
       "      <td>0</td>\n",
       "      <td>0</td>\n",
       "    </tr>\n",
       "    <tr>\n",
       "      <th>AAACAATCTACTAGCA-1-0</th>\n",
       "      <td>0</td>\n",
       "      <td>3</td>\n",
       "      <td>43</td>\n",
       "      <td>Nov_15_2021</td>\n",
       "      <td>Visium5xFAD_1</td>\n",
       "      <td>AAACAATCTACTAGCA</td>\n",
       "      <td>0</td>\n",
       "      <td>0</td>\n",
       "    </tr>\n",
       "    <tr>\n",
       "      <th>AAACACCAATAACTGC-1-0</th>\n",
       "      <td>0</td>\n",
       "      <td>59</td>\n",
       "      <td>19</td>\n",
       "      <td>Nov_15_2021</td>\n",
       "      <td>Visium5xFAD_1</td>\n",
       "      <td>AAACACCAATAACTGC</td>\n",
       "      <td>0</td>\n",
       "      <td>0</td>\n",
       "    </tr>\n",
       "    <tr>\n",
       "      <th>AAACAGAGCGACTCCT-1-0</th>\n",
       "      <td>1</td>\n",
       "      <td>14</td>\n",
       "      <td>94</td>\n",
       "      <td>Nov_15_2021</td>\n",
       "      <td>Visium5xFAD_1</td>\n",
       "      <td>AAACAGAGCGACTCCT</td>\n",
       "      <td>0</td>\n",
       "      <td>0</td>\n",
       "    </tr>\n",
       "  </tbody>\n",
       "</table>\n",
       "</div>"
      ],
      "text/plain": [
       "                      in_tissue  array_row  array_col     seqbatch  \\\n",
       "AAACAACGAATAGTTC-1-0          0          0         16  Nov_15_2021   \n",
       "AAACAAGTATCTCCCA-1-0          1         50        102  Nov_15_2021   \n",
       "AAACAATCTACTAGCA-1-0          0          3         43  Nov_15_2021   \n",
       "AAACACCAATAACTGC-1-0          0         59         19  Nov_15_2021   \n",
       "AAACAGAGCGACTCCT-1-0          1         14         94  Nov_15_2021   \n",
       "\n",
       "                           SampleID                bc Sample_num batch  \n",
       "AAACAACGAATAGTTC-1-0  Visium5xFAD_1  AAACAACGAATAGTTC          0     0  \n",
       "AAACAAGTATCTCCCA-1-0  Visium5xFAD_1  AAACAAGTATCTCCCA          0     0  \n",
       "AAACAATCTACTAGCA-1-0  Visium5xFAD_1  AAACAATCTACTAGCA          0     0  \n",
       "AAACACCAATAACTGC-1-0  Visium5xFAD_1  AAACACCAATAACTGC          0     0  \n",
       "AAACAGAGCGACTCCT-1-0  Visium5xFAD_1  AAACAGAGCGACTCCT          0     0  "
      ]
     },
     "execution_count": 15,
     "metadata": {},
     "output_type": "execute_result"
    }
   ],
   "source": [
    "\n",
    "# files\n",
    "spaceranger_dir = '/dfs7/swaruplab/smorabit/data/Visium_Mouse_2021/Nov_15_2021/spaceranger_count/'\n",
    "samples = os.listdir(spaceranger_dir)\n",
    "h5ad_list = [spaceranger_dir + x + '/outs/' for x in samples]\n",
    "\n",
    "# loop over each sample\n",
    "adata_list = [] \n",
    "for i, cur_file in enumerate(h5ad_list):\n",
    "    cur_adata = sc.read_visium(cur_file, count_file='raw_feature_bc_matrix.h5')\n",
    "\n",
    "    cur_adata.obs['seqbatch'] = 'Nov_15_2021'\n",
    "    cur_adata.obs['SampleID'] = samples[i]\n",
    "    cur_adata.obs['bc'] = [x.split('-')[0] for x in cur_adata.obs.index.to_list()]\n",
    "    cur_adata.uns['title'] = samples[i]\n",
    "\n",
    "    cur_adata.var_names_make_unique()\n",
    "    uns_dict[str(i) + '-Nov_15_2021' ] = cur_adata.uns\n",
    "    cur_adata.obs['Sample_num'] = str(i)\n",
    "\n",
    "    adata_list.append(cur_adata)\n",
    "\n",
    "# combine\n",
    "adata = adata_list[0].concatenate(adata_list[1:len(adata_list)])\n",
    "adata.obs.head()"
   ]
  },
  {
   "cell_type": "code",
   "execution_count": 16,
   "id": "2b2f8106-06f5-4834-a6f2-1c01cbc90b9a",
   "metadata": {},
   "outputs": [
    {
     "data": {
      "text/html": [
       "<div>\n",
       "<style scoped>\n",
       "    .dataframe tbody tr th:only-of-type {\n",
       "        vertical-align: middle;\n",
       "    }\n",
       "\n",
       "    .dataframe tbody tr th {\n",
       "        vertical-align: top;\n",
       "    }\n",
       "\n",
       "    .dataframe thead th {\n",
       "        text-align: right;\n",
       "    }\n",
       "</style>\n",
       "<table border=\"1\" class=\"dataframe\">\n",
       "  <thead>\n",
       "    <tr style=\"text-align: right;\">\n",
       "      <th></th>\n",
       "      <th>SAMPLE</th>\n",
       "      <th>ID</th>\n",
       "      <th>Condition</th>\n",
       "      <th>Sex</th>\n",
       "      <th>Age</th>\n",
       "      <th>CaptureArea</th>\n",
       "      <th>Slide</th>\n",
       "      <th>Sectioning</th>\n",
       "      <th>LibraryDay1</th>\n",
       "      <th>LibraryDay2</th>\n",
       "      <th>INDEX</th>\n",
       "      <th>SampleID</th>\n",
       "    </tr>\n",
       "  </thead>\n",
       "  <tbody>\n",
       "    <tr>\n",
       "      <th>0</th>\n",
       "      <td>541</td>\n",
       "      <td>5.4-1</td>\n",
       "      <td>5X</td>\n",
       "      <td>M</td>\n",
       "      <td>6mo</td>\n",
       "      <td>A1</td>\n",
       "      <td>V10D07-126</td>\n",
       "      <td>10/25/21</td>\n",
       "      <td>10/27/21</td>\n",
       "      <td>11/3/21</td>\n",
       "      <td>E4</td>\n",
       "      <td>Visium5xFAD_1</td>\n",
       "    </tr>\n",
       "    <tr>\n",
       "      <th>1</th>\n",
       "      <td>412</td>\n",
       "      <td>4.1-2</td>\n",
       "      <td>WT</td>\n",
       "      <td>M</td>\n",
       "      <td>6mo</td>\n",
       "      <td>B1</td>\n",
       "      <td>V10D07-126</td>\n",
       "      <td>10/25/21</td>\n",
       "      <td>10/27/21</td>\n",
       "      <td>11/3/21</td>\n",
       "      <td>F4</td>\n",
       "      <td>Visium5xFAD_2</td>\n",
       "    </tr>\n",
       "    <tr>\n",
       "      <th>2</th>\n",
       "      <td>331</td>\n",
       "      <td>3.3-1</td>\n",
       "      <td>5X</td>\n",
       "      <td>M</td>\n",
       "      <td>8mo</td>\n",
       "      <td>C1</td>\n",
       "      <td>V10D07-126</td>\n",
       "      <td>10/25/21</td>\n",
       "      <td>10/27/21</td>\n",
       "      <td>11/3/21</td>\n",
       "      <td>G4</td>\n",
       "      <td>Visium5xFAD_3</td>\n",
       "    </tr>\n",
       "    <tr>\n",
       "      <th>3</th>\n",
       "      <td>585</td>\n",
       "      <td>5.8-5</td>\n",
       "      <td>WT</td>\n",
       "      <td>M</td>\n",
       "      <td>8mo</td>\n",
       "      <td>D1</td>\n",
       "      <td>V10D07-126</td>\n",
       "      <td>10/25/21</td>\n",
       "      <td>10/27/21</td>\n",
       "      <td>11/3/21</td>\n",
       "      <td>E6</td>\n",
       "      <td>Visium5xFAD_4</td>\n",
       "    </tr>\n",
       "    <tr>\n",
       "      <th>4</th>\n",
       "      <td>365</td>\n",
       "      <td>3.6-5</td>\n",
       "      <td>5X</td>\n",
       "      <td>F</td>\n",
       "      <td>4mo</td>\n",
       "      <td>A1</td>\n",
       "      <td>V11A13-402</td>\n",
       "      <td>10/26/21</td>\n",
       "      <td>10/28/21</td>\n",
       "      <td>11/3/21</td>\n",
       "      <td>B5</td>\n",
       "      <td>Visium5xFAD_5</td>\n",
       "    </tr>\n",
       "  </tbody>\n",
       "</table>\n",
       "</div>"
      ],
      "text/plain": [
       "   SAMPLE     ID Condition Sex  Age CaptureArea       Slide Sectioning  \\\n",
       "0     541  5.4-1        5X   M  6mo          A1  V10D07-126   10/25/21   \n",
       "1     412  4.1-2        WT   M  6mo          B1  V10D07-126   10/25/21   \n",
       "2     331  3.3-1        5X   M  8mo          C1  V10D07-126   10/25/21   \n",
       "3     585  5.8-5        WT   M  8mo          D1  V10D07-126   10/25/21   \n",
       "4     365  3.6-5        5X   F  4mo          A1  V11A13-402   10/26/21   \n",
       "\n",
       "  LibraryDay1 LibraryDay2 INDEX       SampleID  \n",
       "0    10/27/21     11/3/21    E4  Visium5xFAD_1  \n",
       "1    10/27/21     11/3/21    F4  Visium5xFAD_2  \n",
       "2    10/27/21     11/3/21    G4  Visium5xFAD_3  \n",
       "3    10/27/21     11/3/21    E6  Visium5xFAD_4  \n",
       "4    10/28/21     11/3/21    B5  Visium5xFAD_5  "
      ]
     },
     "execution_count": 16,
     "metadata": {},
     "output_type": "execute_result"
    }
   ],
   "source": [
    "# load metadata\n",
    "meta_file = \"/dfs7/swaruplab/smorabit/data/Visium_Mouse_2021/Nov_15_2021/visium_5xFAD_11-15-21_sample_meta.csv\"\n",
    "meta_df = pd.read_csv(meta_file, sep=',', index_col=None)\n",
    "\n",
    "\n",
    "meta_df['SampleID'] = ['Visium5xFAD_' + str(int(x)) for x in meta_df['SAMPLE_num'].to_list()]\n",
    "\n",
    "meta_df = meta_df[['SAMPLE', 'ID', 'Condition', 'Sex', 'Age', 'CaptureArea', 'Slide', 'Sectioning', 'LibraryDay1', 'LibraryDay2', 'INDEX', 'SampleID']]\n",
    "\n",
    "#meta_df.columns = ['SAMPLE', 'Condition', 'Age']\n",
    "#meta_df.SAMPLE = meta_df.SAMPLE.astype('str')\n",
    "meta_df.head()"
   ]
  },
  {
   "cell_type": "code",
   "execution_count": 17,
   "id": "e2ddc6dc-5988-49f5-9149-698f86de36b2",
   "metadata": {},
   "outputs": [],
   "source": [
    "# add the meta\n",
    "temp = adata.obs.merge(\n",
    "    meta_df,\n",
    "    how = 'left',\n",
    "    left_on = 'SampleID',\n",
    "    right_on = 'SampleID'\n",
    ")\n",
    "temp.index = adata.obs.index\n",
    "temp = temp.drop(labels='SampleID', axis=1)\n",
    "temp.head() \n",
    "\n",
    "adata.obs = temp\n"
   ]
  },
  {
   "cell_type": "code",
   "execution_count": 18,
   "id": "99c8258a-be30-454c-bfe9-4b4b9fdd1040",
   "metadata": {},
   "outputs": [
    {
     "data": {
      "text/plain": [
       "array([541, 631, 435, 413, 223, 594, 621, 314, 412, 331, 585, 365, 591,\n",
       "       422, 624, 231])"
      ]
     },
     "execution_count": 18,
     "metadata": {},
     "output_type": "execute_result"
    }
   ],
   "source": [
    "adata_nov_15 = adata \n",
    "adata_nov_15.obs.SAMPLE.unique()"
   ]
  },
  {
   "cell_type": "markdown",
   "id": "b79fd4b4-7441-43de-a97b-fe52af259b0f",
   "metadata": {},
   "source": [
    "## Nov 24 "
   ]
  },
  {
   "cell_type": "code",
   "execution_count": 19,
   "id": "4d78e32c-34ce-4480-b6d7-3ebdef0ebffb",
   "metadata": {
    "scrolled": true
   },
   "outputs": [
    {
     "name": "stdout",
     "output_type": "stream",
     "text": [
      "reading /dfs7/swaruplab/smorabit/data/Visium_Mouse_2021/Nov_24_2021/spaceranger_count/Visium5xFAD_1/outs/raw_feature_bc_matrix.h5\n",
      " (0:00:02)\n"
     ]
    },
    {
     "name": "stderr",
     "output_type": "stream",
     "text": [
      "/pub/smorabit/miniconda3/envs/scanpy/lib/python3.11/site-packages/anndata/_core/anndata.py:1840: UserWarning: Variable names are not unique. To make them unique, call `.var_names_make_unique`.\n",
      "  utils.warn_names_duplicates(\"var\")\n",
      "/pub/smorabit/miniconda3/envs/scanpy/lib/python3.11/site-packages/anndata/_core/anndata.py:1840: UserWarning: Variable names are not unique. To make them unique, call `.var_names_make_unique`.\n",
      "  utils.warn_names_duplicates(\"var\")\n"
     ]
    },
    {
     "name": "stdout",
     "output_type": "stream",
     "text": [
      "reading /dfs7/swaruplab/smorabit/data/Visium_Mouse_2021/Nov_24_2021/spaceranger_count/Visium5xFAD_10/outs/raw_feature_bc_matrix.h5\n",
      " (0:00:01)\n"
     ]
    },
    {
     "name": "stderr",
     "output_type": "stream",
     "text": [
      "/pub/smorabit/miniconda3/envs/scanpy/lib/python3.11/site-packages/anndata/_core/anndata.py:1840: UserWarning: Variable names are not unique. To make them unique, call `.var_names_make_unique`.\n",
      "  utils.warn_names_duplicates(\"var\")\n",
      "/pub/smorabit/miniconda3/envs/scanpy/lib/python3.11/site-packages/anndata/_core/anndata.py:1840: UserWarning: Variable names are not unique. To make them unique, call `.var_names_make_unique`.\n",
      "  utils.warn_names_duplicates(\"var\")\n"
     ]
    },
    {
     "name": "stdout",
     "output_type": "stream",
     "text": [
      "reading /dfs7/swaruplab/smorabit/data/Visium_Mouse_2021/Nov_24_2021/spaceranger_count/Visium5xFAD_11/outs/raw_feature_bc_matrix.h5\n",
      " (0:00:02)\n"
     ]
    },
    {
     "name": "stderr",
     "output_type": "stream",
     "text": [
      "/pub/smorabit/miniconda3/envs/scanpy/lib/python3.11/site-packages/anndata/_core/anndata.py:1840: UserWarning: Variable names are not unique. To make them unique, call `.var_names_make_unique`.\n",
      "  utils.warn_names_duplicates(\"var\")\n",
      "/pub/smorabit/miniconda3/envs/scanpy/lib/python3.11/site-packages/anndata/_core/anndata.py:1840: UserWarning: Variable names are not unique. To make them unique, call `.var_names_make_unique`.\n",
      "  utils.warn_names_duplicates(\"var\")\n"
     ]
    },
    {
     "name": "stdout",
     "output_type": "stream",
     "text": [
      "reading /dfs7/swaruplab/smorabit/data/Visium_Mouse_2021/Nov_24_2021/spaceranger_count/Visium5xFAD_12/outs/raw_feature_bc_matrix.h5\n",
      " (0:00:02)\n"
     ]
    },
    {
     "name": "stderr",
     "output_type": "stream",
     "text": [
      "/pub/smorabit/miniconda3/envs/scanpy/lib/python3.11/site-packages/anndata/_core/anndata.py:1840: UserWarning: Variable names are not unique. To make them unique, call `.var_names_make_unique`.\n",
      "  utils.warn_names_duplicates(\"var\")\n",
      "/pub/smorabit/miniconda3/envs/scanpy/lib/python3.11/site-packages/anndata/_core/anndata.py:1840: UserWarning: Variable names are not unique. To make them unique, call `.var_names_make_unique`.\n",
      "  utils.warn_names_duplicates(\"var\")\n"
     ]
    },
    {
     "name": "stdout",
     "output_type": "stream",
     "text": [
      "reading /dfs7/swaruplab/smorabit/data/Visium_Mouse_2021/Nov_24_2021/spaceranger_count/Visium5xFAD_13/outs/raw_feature_bc_matrix.h5\n",
      " (0:00:02)\n"
     ]
    },
    {
     "name": "stderr",
     "output_type": "stream",
     "text": [
      "/pub/smorabit/miniconda3/envs/scanpy/lib/python3.11/site-packages/anndata/_core/anndata.py:1840: UserWarning: Variable names are not unique. To make them unique, call `.var_names_make_unique`.\n",
      "  utils.warn_names_duplicates(\"var\")\n",
      "/pub/smorabit/miniconda3/envs/scanpy/lib/python3.11/site-packages/anndata/_core/anndata.py:1840: UserWarning: Variable names are not unique. To make them unique, call `.var_names_make_unique`.\n",
      "  utils.warn_names_duplicates(\"var\")\n"
     ]
    },
    {
     "name": "stdout",
     "output_type": "stream",
     "text": [
      "reading /dfs7/swaruplab/smorabit/data/Visium_Mouse_2021/Nov_24_2021/spaceranger_count/Visium5xFAD_14/outs/raw_feature_bc_matrix.h5\n",
      " (0:00:02)\n"
     ]
    },
    {
     "name": "stderr",
     "output_type": "stream",
     "text": [
      "/pub/smorabit/miniconda3/envs/scanpy/lib/python3.11/site-packages/anndata/_core/anndata.py:1840: UserWarning: Variable names are not unique. To make them unique, call `.var_names_make_unique`.\n",
      "  utils.warn_names_duplicates(\"var\")\n",
      "/pub/smorabit/miniconda3/envs/scanpy/lib/python3.11/site-packages/anndata/_core/anndata.py:1840: UserWarning: Variable names are not unique. To make them unique, call `.var_names_make_unique`.\n",
      "  utils.warn_names_duplicates(\"var\")\n"
     ]
    },
    {
     "name": "stdout",
     "output_type": "stream",
     "text": [
      "reading /dfs7/swaruplab/smorabit/data/Visium_Mouse_2021/Nov_24_2021/spaceranger_count/Visium5xFAD_15/outs/raw_feature_bc_matrix.h5\n",
      " (0:00:02)\n"
     ]
    },
    {
     "name": "stderr",
     "output_type": "stream",
     "text": [
      "/pub/smorabit/miniconda3/envs/scanpy/lib/python3.11/site-packages/anndata/_core/anndata.py:1840: UserWarning: Variable names are not unique. To make them unique, call `.var_names_make_unique`.\n",
      "  utils.warn_names_duplicates(\"var\")\n",
      "/pub/smorabit/miniconda3/envs/scanpy/lib/python3.11/site-packages/anndata/_core/anndata.py:1840: UserWarning: Variable names are not unique. To make them unique, call `.var_names_make_unique`.\n",
      "  utils.warn_names_duplicates(\"var\")\n"
     ]
    },
    {
     "name": "stdout",
     "output_type": "stream",
     "text": [
      "reading /dfs7/swaruplab/smorabit/data/Visium_Mouse_2021/Nov_24_2021/spaceranger_count/Visium5xFAD_16/outs/raw_feature_bc_matrix.h5\n",
      " (0:00:01)\n"
     ]
    },
    {
     "name": "stderr",
     "output_type": "stream",
     "text": [
      "/pub/smorabit/miniconda3/envs/scanpy/lib/python3.11/site-packages/anndata/_core/anndata.py:1840: UserWarning: Variable names are not unique. To make them unique, call `.var_names_make_unique`.\n",
      "  utils.warn_names_duplicates(\"var\")\n",
      "/pub/smorabit/miniconda3/envs/scanpy/lib/python3.11/site-packages/anndata/_core/anndata.py:1840: UserWarning: Variable names are not unique. To make them unique, call `.var_names_make_unique`.\n",
      "  utils.warn_names_duplicates(\"var\")\n"
     ]
    },
    {
     "name": "stdout",
     "output_type": "stream",
     "text": [
      "reading /dfs7/swaruplab/smorabit/data/Visium_Mouse_2021/Nov_24_2021/spaceranger_count/Visium5xFAD_2/outs/raw_feature_bc_matrix.h5\n",
      " (0:00:02)\n"
     ]
    },
    {
     "name": "stderr",
     "output_type": "stream",
     "text": [
      "/pub/smorabit/miniconda3/envs/scanpy/lib/python3.11/site-packages/anndata/_core/anndata.py:1840: UserWarning: Variable names are not unique. To make them unique, call `.var_names_make_unique`.\n",
      "  utils.warn_names_duplicates(\"var\")\n",
      "/pub/smorabit/miniconda3/envs/scanpy/lib/python3.11/site-packages/anndata/_core/anndata.py:1840: UserWarning: Variable names are not unique. To make them unique, call `.var_names_make_unique`.\n",
      "  utils.warn_names_duplicates(\"var\")\n"
     ]
    },
    {
     "name": "stdout",
     "output_type": "stream",
     "text": [
      "reading /dfs7/swaruplab/smorabit/data/Visium_Mouse_2021/Nov_24_2021/spaceranger_count/Visium5xFAD_3/outs/raw_feature_bc_matrix.h5\n",
      " (0:00:01)\n"
     ]
    },
    {
     "name": "stderr",
     "output_type": "stream",
     "text": [
      "/pub/smorabit/miniconda3/envs/scanpy/lib/python3.11/site-packages/anndata/_core/anndata.py:1840: UserWarning: Variable names are not unique. To make them unique, call `.var_names_make_unique`.\n",
      "  utils.warn_names_duplicates(\"var\")\n",
      "/pub/smorabit/miniconda3/envs/scanpy/lib/python3.11/site-packages/anndata/_core/anndata.py:1840: UserWarning: Variable names are not unique. To make them unique, call `.var_names_make_unique`.\n",
      "  utils.warn_names_duplicates(\"var\")\n"
     ]
    },
    {
     "name": "stdout",
     "output_type": "stream",
     "text": [
      "reading /dfs7/swaruplab/smorabit/data/Visium_Mouse_2021/Nov_24_2021/spaceranger_count/Visium5xFAD_4/outs/raw_feature_bc_matrix.h5\n",
      " (0:00:02)\n"
     ]
    },
    {
     "name": "stderr",
     "output_type": "stream",
     "text": [
      "/pub/smorabit/miniconda3/envs/scanpy/lib/python3.11/site-packages/anndata/_core/anndata.py:1840: UserWarning: Variable names are not unique. To make them unique, call `.var_names_make_unique`.\n",
      "  utils.warn_names_duplicates(\"var\")\n",
      "/pub/smorabit/miniconda3/envs/scanpy/lib/python3.11/site-packages/anndata/_core/anndata.py:1840: UserWarning: Variable names are not unique. To make them unique, call `.var_names_make_unique`.\n",
      "  utils.warn_names_duplicates(\"var\")\n"
     ]
    },
    {
     "name": "stdout",
     "output_type": "stream",
     "text": [
      "reading /dfs7/swaruplab/smorabit/data/Visium_Mouse_2021/Nov_24_2021/spaceranger_count/Visium5xFAD_5/outs/raw_feature_bc_matrix.h5\n",
      " (0:00:01)\n"
     ]
    },
    {
     "name": "stderr",
     "output_type": "stream",
     "text": [
      "/pub/smorabit/miniconda3/envs/scanpy/lib/python3.11/site-packages/anndata/_core/anndata.py:1840: UserWarning: Variable names are not unique. To make them unique, call `.var_names_make_unique`.\n",
      "  utils.warn_names_duplicates(\"var\")\n",
      "/pub/smorabit/miniconda3/envs/scanpy/lib/python3.11/site-packages/anndata/_core/anndata.py:1840: UserWarning: Variable names are not unique. To make them unique, call `.var_names_make_unique`.\n",
      "  utils.warn_names_duplicates(\"var\")\n"
     ]
    },
    {
     "name": "stdout",
     "output_type": "stream",
     "text": [
      "reading /dfs7/swaruplab/smorabit/data/Visium_Mouse_2021/Nov_24_2021/spaceranger_count/Visium5xFAD_6/outs/raw_feature_bc_matrix.h5\n",
      " (0:00:02)\n"
     ]
    },
    {
     "name": "stderr",
     "output_type": "stream",
     "text": [
      "/pub/smorabit/miniconda3/envs/scanpy/lib/python3.11/site-packages/anndata/_core/anndata.py:1840: UserWarning: Variable names are not unique. To make them unique, call `.var_names_make_unique`.\n",
      "  utils.warn_names_duplicates(\"var\")\n",
      "/pub/smorabit/miniconda3/envs/scanpy/lib/python3.11/site-packages/anndata/_core/anndata.py:1840: UserWarning: Variable names are not unique. To make them unique, call `.var_names_make_unique`.\n",
      "  utils.warn_names_duplicates(\"var\")\n"
     ]
    },
    {
     "name": "stdout",
     "output_type": "stream",
     "text": [
      "reading /dfs7/swaruplab/smorabit/data/Visium_Mouse_2021/Nov_24_2021/spaceranger_count/Visium5xFAD_7/outs/raw_feature_bc_matrix.h5\n",
      " (0:00:02)\n"
     ]
    },
    {
     "name": "stderr",
     "output_type": "stream",
     "text": [
      "/pub/smorabit/miniconda3/envs/scanpy/lib/python3.11/site-packages/anndata/_core/anndata.py:1840: UserWarning: Variable names are not unique. To make them unique, call `.var_names_make_unique`.\n",
      "  utils.warn_names_duplicates(\"var\")\n",
      "/pub/smorabit/miniconda3/envs/scanpy/lib/python3.11/site-packages/anndata/_core/anndata.py:1840: UserWarning: Variable names are not unique. To make them unique, call `.var_names_make_unique`.\n",
      "  utils.warn_names_duplicates(\"var\")\n"
     ]
    },
    {
     "name": "stdout",
     "output_type": "stream",
     "text": [
      "reading /dfs7/swaruplab/smorabit/data/Visium_Mouse_2021/Nov_24_2021/spaceranger_count/Visium5xFAD_8/outs/raw_feature_bc_matrix.h5\n",
      " (0:00:02)\n"
     ]
    },
    {
     "name": "stderr",
     "output_type": "stream",
     "text": [
      "/pub/smorabit/miniconda3/envs/scanpy/lib/python3.11/site-packages/anndata/_core/anndata.py:1840: UserWarning: Variable names are not unique. To make them unique, call `.var_names_make_unique`.\n",
      "  utils.warn_names_duplicates(\"var\")\n",
      "/pub/smorabit/miniconda3/envs/scanpy/lib/python3.11/site-packages/anndata/_core/anndata.py:1840: UserWarning: Variable names are not unique. To make them unique, call `.var_names_make_unique`.\n",
      "  utils.warn_names_duplicates(\"var\")\n"
     ]
    },
    {
     "name": "stdout",
     "output_type": "stream",
     "text": [
      "reading /dfs7/swaruplab/smorabit/data/Visium_Mouse_2021/Nov_24_2021/spaceranger_count/Visium5xFAD_9/outs/raw_feature_bc_matrix.h5\n",
      " (0:00:02)\n"
     ]
    },
    {
     "name": "stderr",
     "output_type": "stream",
     "text": [
      "/pub/smorabit/miniconda3/envs/scanpy/lib/python3.11/site-packages/anndata/_core/anndata.py:1840: UserWarning: Variable names are not unique. To make them unique, call `.var_names_make_unique`.\n",
      "  utils.warn_names_duplicates(\"var\")\n",
      "/pub/smorabit/miniconda3/envs/scanpy/lib/python3.11/site-packages/anndata/_core/anndata.py:1840: UserWarning: Variable names are not unique. To make them unique, call `.var_names_make_unique`.\n",
      "  utils.warn_names_duplicates(\"var\")\n",
      "/pub/smorabit/miniconda3/envs/scanpy/lib/python3.11/site-packages/anndata/_core/anndata.py:1763: FutureWarning: The AnnData.concatenate method is deprecated in favour of the anndata.concat function. Please use anndata.concat instead.\n",
      "\n",
      "See the tutorial for concat at: https://anndata.readthedocs.io/en/latest/concatenation.html\n",
      "  warnings.warn(\n",
      "/pub/smorabit/miniconda3/envs/scanpy/lib/python3.11/site-packages/anndata/_core/merge.py:1015: FutureWarning: The default value of 'ignore' for the `na_action` parameter in pandas.Categorical.map is deprecated and will be changed to 'None' in a future version. Please set na_action to the desired value to avoid seeing this warning\n",
      "  concat_indices = concat_indices.str.cat(label_col.map(str), sep=index_unique)\n",
      "/pub/smorabit/miniconda3/envs/scanpy/lib/python3.11/site-packages/anndata/_core/merge.py:1015: FutureWarning: The default value of 'ignore' for the `na_action` parameter in pandas.Categorical.map is deprecated and will be changed to 'None' in a future version. Please set na_action to the desired value to avoid seeing this warning\n",
      "  concat_indices = concat_indices.str.cat(label_col.map(str), sep=index_unique)\n"
     ]
    },
    {
     "data": {
      "text/html": [
       "<div>\n",
       "<style scoped>\n",
       "    .dataframe tbody tr th:only-of-type {\n",
       "        vertical-align: middle;\n",
       "    }\n",
       "\n",
       "    .dataframe tbody tr th {\n",
       "        vertical-align: top;\n",
       "    }\n",
       "\n",
       "    .dataframe thead th {\n",
       "        text-align: right;\n",
       "    }\n",
       "</style>\n",
       "<table border=\"1\" class=\"dataframe\">\n",
       "  <thead>\n",
       "    <tr style=\"text-align: right;\">\n",
       "      <th></th>\n",
       "      <th>in_tissue</th>\n",
       "      <th>array_row</th>\n",
       "      <th>array_col</th>\n",
       "      <th>seqbatch</th>\n",
       "      <th>SampleID</th>\n",
       "      <th>bc</th>\n",
       "      <th>Sample_num</th>\n",
       "      <th>batch</th>\n",
       "    </tr>\n",
       "  </thead>\n",
       "  <tbody>\n",
       "    <tr>\n",
       "      <th>AAACAACGAATAGTTC-1-0</th>\n",
       "      <td>0</td>\n",
       "      <td>0</td>\n",
       "      <td>16</td>\n",
       "      <td>Nov_24_2021</td>\n",
       "      <td>Visium5xFAD_1</td>\n",
       "      <td>AAACAACGAATAGTTC</td>\n",
       "      <td>0</td>\n",
       "      <td>0</td>\n",
       "    </tr>\n",
       "    <tr>\n",
       "      <th>AAACAAGTATCTCCCA-1-0</th>\n",
       "      <td>1</td>\n",
       "      <td>50</td>\n",
       "      <td>102</td>\n",
       "      <td>Nov_24_2021</td>\n",
       "      <td>Visium5xFAD_1</td>\n",
       "      <td>AAACAAGTATCTCCCA</td>\n",
       "      <td>0</td>\n",
       "      <td>0</td>\n",
       "    </tr>\n",
       "    <tr>\n",
       "      <th>AAACAATCTACTAGCA-1-0</th>\n",
       "      <td>0</td>\n",
       "      <td>3</td>\n",
       "      <td>43</td>\n",
       "      <td>Nov_24_2021</td>\n",
       "      <td>Visium5xFAD_1</td>\n",
       "      <td>AAACAATCTACTAGCA</td>\n",
       "      <td>0</td>\n",
       "      <td>0</td>\n",
       "    </tr>\n",
       "    <tr>\n",
       "      <th>AAACACCAATAACTGC-1-0</th>\n",
       "      <td>0</td>\n",
       "      <td>59</td>\n",
       "      <td>19</td>\n",
       "      <td>Nov_24_2021</td>\n",
       "      <td>Visium5xFAD_1</td>\n",
       "      <td>AAACACCAATAACTGC</td>\n",
       "      <td>0</td>\n",
       "      <td>0</td>\n",
       "    </tr>\n",
       "    <tr>\n",
       "      <th>AAACAGAGCGACTCCT-1-0</th>\n",
       "      <td>1</td>\n",
       "      <td>14</td>\n",
       "      <td>94</td>\n",
       "      <td>Nov_24_2021</td>\n",
       "      <td>Visium5xFAD_1</td>\n",
       "      <td>AAACAGAGCGACTCCT</td>\n",
       "      <td>0</td>\n",
       "      <td>0</td>\n",
       "    </tr>\n",
       "  </tbody>\n",
       "</table>\n",
       "</div>"
      ],
      "text/plain": [
       "                      in_tissue  array_row  array_col     seqbatch  \\\n",
       "AAACAACGAATAGTTC-1-0          0          0         16  Nov_24_2021   \n",
       "AAACAAGTATCTCCCA-1-0          1         50        102  Nov_24_2021   \n",
       "AAACAATCTACTAGCA-1-0          0          3         43  Nov_24_2021   \n",
       "AAACACCAATAACTGC-1-0          0         59         19  Nov_24_2021   \n",
       "AAACAGAGCGACTCCT-1-0          1         14         94  Nov_24_2021   \n",
       "\n",
       "                           SampleID                bc Sample_num batch  \n",
       "AAACAACGAATAGTTC-1-0  Visium5xFAD_1  AAACAACGAATAGTTC          0     0  \n",
       "AAACAAGTATCTCCCA-1-0  Visium5xFAD_1  AAACAAGTATCTCCCA          0     0  \n",
       "AAACAATCTACTAGCA-1-0  Visium5xFAD_1  AAACAATCTACTAGCA          0     0  \n",
       "AAACACCAATAACTGC-1-0  Visium5xFAD_1  AAACACCAATAACTGC          0     0  \n",
       "AAACAGAGCGACTCCT-1-0  Visium5xFAD_1  AAACAGAGCGACTCCT          0     0  "
      ]
     },
     "execution_count": 19,
     "metadata": {},
     "output_type": "execute_result"
    }
   ],
   "source": [
    "\n",
    "# files\n",
    "spaceranger_dir = '/dfs7/swaruplab/smorabit/data/Visium_Mouse_2021/Nov_24_2021/spaceranger_count/'\n",
    "samples = os.listdir(spaceranger_dir)\n",
    "h5ad_list = [spaceranger_dir + x + '/outs/' for x in samples]\n",
    "\n",
    "# loop over each sample\n",
    "adata_list = [] \n",
    "for i, cur_file in enumerate(h5ad_list):\n",
    "    cur_adata = sc.read_visium(cur_file, count_file='raw_feature_bc_matrix.h5')\n",
    "\n",
    "    cur_adata.obs['seqbatch'] = 'Nov_24_2021'\n",
    "    cur_adata.obs['SampleID'] = samples[i]\n",
    "    cur_adata.obs['bc'] = [x.split('-')[0] for x in cur_adata.obs.index.to_list()]\n",
    "    cur_adata.uns['title'] = samples[i]\n",
    "\n",
    "    cur_adata.var_names_make_unique()\n",
    "    uns_dict[str(i) + '-Nov_24_2021'] = cur_adata.uns\n",
    "    cur_adata.obs['Sample_num'] = str(i)\n",
    "\n",
    "    adata_list.append(cur_adata)\n",
    "\n",
    "# combine\n",
    "adata = adata_list[0].concatenate(adata_list[1:len(adata_list)])\n",
    "adata.obs.head()"
   ]
  },
  {
   "cell_type": "code",
   "execution_count": 20,
   "id": "86bc558a-66e9-4cf4-aea2-dd9abb1dcee6",
   "metadata": {},
   "outputs": [
    {
     "data": {
      "text/html": [
       "<div>\n",
       "<style scoped>\n",
       "    .dataframe tbody tr th:only-of-type {\n",
       "        vertical-align: middle;\n",
       "    }\n",
       "\n",
       "    .dataframe tbody tr th {\n",
       "        vertical-align: top;\n",
       "    }\n",
       "\n",
       "    .dataframe thead th {\n",
       "        text-align: right;\n",
       "    }\n",
       "</style>\n",
       "<table border=\"1\" class=\"dataframe\">\n",
       "  <thead>\n",
       "    <tr style=\"text-align: right;\">\n",
       "      <th></th>\n",
       "      <th>SAMPLE</th>\n",
       "      <th>ID</th>\n",
       "      <th>Condition</th>\n",
       "      <th>Sex</th>\n",
       "      <th>Age</th>\n",
       "      <th>CaptureArea</th>\n",
       "      <th>Slide</th>\n",
       "      <th>Sectioning</th>\n",
       "      <th>LibraryDay1</th>\n",
       "      <th>LibraryDay2</th>\n",
       "      <th>INDEX</th>\n",
       "      <th>LibraryName</th>\n",
       "    </tr>\n",
       "  </thead>\n",
       "  <tbody>\n",
       "    <tr>\n",
       "      <th>0</th>\n",
       "      <td>552</td>\n",
       "      <td>5.5-2</td>\n",
       "      <td>5X</td>\n",
       "      <td>F</td>\n",
       "      <td>8mo</td>\n",
       "      <td>A1</td>\n",
       "      <td>V11A13-399</td>\n",
       "      <td>11/2/21</td>\n",
       "      <td>11/10/21</td>\n",
       "      <td>11/12/21</td>\n",
       "      <td>C10</td>\n",
       "      <td>Visium5xFAD_1</td>\n",
       "    </tr>\n",
       "    <tr>\n",
       "      <th>1</th>\n",
       "      <td>645</td>\n",
       "      <td>6.4-5</td>\n",
       "      <td>WT</td>\n",
       "      <td>F</td>\n",
       "      <td>8mo</td>\n",
       "      <td>B1</td>\n",
       "      <td>V11A13-399</td>\n",
       "      <td>11/2/21</td>\n",
       "      <td>11/10/21</td>\n",
       "      <td>11/12/21</td>\n",
       "      <td>C11</td>\n",
       "      <td>Visium5xFAD_2</td>\n",
       "    </tr>\n",
       "    <tr>\n",
       "      <th>2</th>\n",
       "      <td>622</td>\n",
       "      <td>6.2-2</td>\n",
       "      <td>5X</td>\n",
       "      <td>F</td>\n",
       "      <td>12mo</td>\n",
       "      <td>C1</td>\n",
       "      <td>V11A13-399</td>\n",
       "      <td>11/2/21</td>\n",
       "      <td>11/10/21</td>\n",
       "      <td>11/12/21</td>\n",
       "      <td>C12</td>\n",
       "      <td>Visium5xFAD_3</td>\n",
       "    </tr>\n",
       "    <tr>\n",
       "      <th>3</th>\n",
       "      <td>313</td>\n",
       "      <td>3.1-3</td>\n",
       "      <td>WT</td>\n",
       "      <td>F</td>\n",
       "      <td>12mo</td>\n",
       "      <td>D1</td>\n",
       "      <td>V11A13-399</td>\n",
       "      <td>11/2/21</td>\n",
       "      <td>11/10/21</td>\n",
       "      <td>11/12/21</td>\n",
       "      <td>D7</td>\n",
       "      <td>Visium5xFAD_4</td>\n",
       "    </tr>\n",
       "    <tr>\n",
       "      <th>4</th>\n",
       "      <td>445</td>\n",
       "      <td>4.4-5</td>\n",
       "      <td>5X</td>\n",
       "      <td>M</td>\n",
       "      <td>6mo</td>\n",
       "      <td>A1</td>\n",
       "      <td>V11A19-100</td>\n",
       "      <td>11/3/21</td>\n",
       "      <td>11/10/21</td>\n",
       "      <td>11/12/21</td>\n",
       "      <td>D8</td>\n",
       "      <td>Visium5xFAD_5</td>\n",
       "    </tr>\n",
       "  </tbody>\n",
       "</table>\n",
       "</div>"
      ],
      "text/plain": [
       "   SAMPLE     ID Condition Sex   Age CaptureArea       Slide Sectioning  \\\n",
       "0     552  5.5-2        5X   F   8mo          A1  V11A13-399    11/2/21   \n",
       "1     645  6.4-5        WT   F   8mo          B1  V11A13-399    11/2/21   \n",
       "2     622  6.2-2        5X   F  12mo          C1  V11A13-399    11/2/21   \n",
       "3     313  3.1-3        WT   F  12mo          D1  V11A13-399    11/2/21   \n",
       "4     445  4.4-5        5X   M   6mo          A1  V11A19-100    11/3/21   \n",
       "\n",
       "  LibraryDay1 LibraryDay2 INDEX    LibraryName  \n",
       "0    11/10/21    11/12/21   C10  Visium5xFAD_1  \n",
       "1    11/10/21    11/12/21   C11  Visium5xFAD_2  \n",
       "2    11/10/21    11/12/21   C12  Visium5xFAD_3  \n",
       "3    11/10/21    11/12/21    D7  Visium5xFAD_4  \n",
       "4    11/10/21    11/12/21    D8  Visium5xFAD_5  "
      ]
     },
     "execution_count": 20,
     "metadata": {},
     "output_type": "execute_result"
    }
   ],
   "source": [
    "# load metadata\n",
    "meta_file = \"/dfs7/swaruplab/smorabit/data/Visium_Mouse_2021/Nov_24_2021/visium_5xFAD_11-24-21_sample_meta.csv\"\n",
    "meta_df = pd.read_csv(meta_file, sep=',', index_col=None)\n",
    "\n",
    "\n",
    "\n",
    "meta_df = meta_df[['SAMPLE', 'ID', 'Condition', 'Sex', 'Age', 'CaptureArea', 'Slide', 'Sectioning', 'LibraryDay1', 'LibraryDay2', 'INDEX', 'LibraryName']]\n",
    "\n",
    "#meta_df.columns = ['SAMPLE', 'Condition', 'Age']\n",
    "#meta_df.SAMPLE = meta_df.SAMPLE.astype('str')\n",
    "meta_df.head()"
   ]
  },
  {
   "cell_type": "code",
   "execution_count": 21,
   "id": "f3de0c39-f34e-4efe-b40a-a379fb2a5228",
   "metadata": {},
   "outputs": [],
   "source": [
    "# add the meta\n",
    "temp = adata.obs.merge(\n",
    "    meta_df,\n",
    "    how = 'left',\n",
    "    left_on = 'SampleID',\n",
    "    right_on = 'LibraryName'\n",
    ")\n",
    "temp.index = adata.obs.index\n",
    "temp = temp.drop(labels='LibraryName', axis=1)\n",
    "temp.head() \n",
    "\n",
    "adata.obs = temp\n"
   ]
  },
  {
   "cell_type": "code",
   "execution_count": 22,
   "id": "d5814047-ecb1-4a18-b32a-2634ec006dc3",
   "metadata": {},
   "outputs": [],
   "source": [
    "adata_nov_24 = adata"
   ]
  },
  {
   "cell_type": "markdown",
   "id": "63c5ce74-ae81-4954-93ee-420847fe1a22",
   "metadata": {},
   "source": [
    "## Dec 13"
   ]
  },
  {
   "cell_type": "code",
   "execution_count": 23,
   "id": "248c5949-39d9-49db-bed3-d5d3f69ebfd5",
   "metadata": {
    "scrolled": true
   },
   "outputs": [
    {
     "name": "stdout",
     "output_type": "stream",
     "text": [
      "reading /dfs7/swaruplab/smorabit/data/Visium_Mouse_2021/Dec_13_2021/spaceranger_count/5XFAD1/outs/raw_feature_bc_matrix.h5\n",
      " (0:00:02)\n"
     ]
    },
    {
     "name": "stderr",
     "output_type": "stream",
     "text": [
      "/pub/smorabit/miniconda3/envs/scanpy/lib/python3.11/site-packages/anndata/_core/anndata.py:1840: UserWarning: Variable names are not unique. To make them unique, call `.var_names_make_unique`.\n",
      "  utils.warn_names_duplicates(\"var\")\n",
      "/pub/smorabit/miniconda3/envs/scanpy/lib/python3.11/site-packages/anndata/_core/anndata.py:1840: UserWarning: Variable names are not unique. To make them unique, call `.var_names_make_unique`.\n",
      "  utils.warn_names_duplicates(\"var\")\n"
     ]
    },
    {
     "name": "stdout",
     "output_type": "stream",
     "text": [
      "reading /dfs7/swaruplab/smorabit/data/Visium_Mouse_2021/Dec_13_2021/spaceranger_count/5XFAD2/outs/raw_feature_bc_matrix.h5\n",
      " (0:00:02)\n"
     ]
    },
    {
     "name": "stderr",
     "output_type": "stream",
     "text": [
      "/pub/smorabit/miniconda3/envs/scanpy/lib/python3.11/site-packages/anndata/_core/anndata.py:1840: UserWarning: Variable names are not unique. To make them unique, call `.var_names_make_unique`.\n",
      "  utils.warn_names_duplicates(\"var\")\n",
      "/pub/smorabit/miniconda3/envs/scanpy/lib/python3.11/site-packages/anndata/_core/anndata.py:1840: UserWarning: Variable names are not unique. To make them unique, call `.var_names_make_unique`.\n",
      "  utils.warn_names_duplicates(\"var\")\n"
     ]
    },
    {
     "name": "stdout",
     "output_type": "stream",
     "text": [
      "reading /dfs7/swaruplab/smorabit/data/Visium_Mouse_2021/Dec_13_2021/spaceranger_count/5XFAD3/outs/raw_feature_bc_matrix.h5\n",
      " (0:00:02)\n"
     ]
    },
    {
     "name": "stderr",
     "output_type": "stream",
     "text": [
      "/pub/smorabit/miniconda3/envs/scanpy/lib/python3.11/site-packages/anndata/_core/anndata.py:1840: UserWarning: Variable names are not unique. To make them unique, call `.var_names_make_unique`.\n",
      "  utils.warn_names_duplicates(\"var\")\n",
      "/pub/smorabit/miniconda3/envs/scanpy/lib/python3.11/site-packages/anndata/_core/anndata.py:1840: UserWarning: Variable names are not unique. To make them unique, call `.var_names_make_unique`.\n",
      "  utils.warn_names_duplicates(\"var\")\n"
     ]
    },
    {
     "name": "stdout",
     "output_type": "stream",
     "text": [
      "reading /dfs7/swaruplab/smorabit/data/Visium_Mouse_2021/Dec_13_2021/spaceranger_count/5XFAD4/outs/raw_feature_bc_matrix.h5\n",
      " (0:00:02)\n"
     ]
    },
    {
     "name": "stderr",
     "output_type": "stream",
     "text": [
      "/pub/smorabit/miniconda3/envs/scanpy/lib/python3.11/site-packages/anndata/_core/anndata.py:1840: UserWarning: Variable names are not unique. To make them unique, call `.var_names_make_unique`.\n",
      "  utils.warn_names_duplicates(\"var\")\n",
      "/pub/smorabit/miniconda3/envs/scanpy/lib/python3.11/site-packages/anndata/_core/anndata.py:1840: UserWarning: Variable names are not unique. To make them unique, call `.var_names_make_unique`.\n",
      "  utils.warn_names_duplicates(\"var\")\n"
     ]
    },
    {
     "name": "stdout",
     "output_type": "stream",
     "text": [
      "reading /dfs7/swaruplab/smorabit/data/Visium_Mouse_2021/Dec_13_2021/spaceranger_count/5XFAD5/outs/raw_feature_bc_matrix.h5\n",
      " (0:00:03)\n"
     ]
    },
    {
     "name": "stderr",
     "output_type": "stream",
     "text": [
      "/pub/smorabit/miniconda3/envs/scanpy/lib/python3.11/site-packages/anndata/_core/anndata.py:1840: UserWarning: Variable names are not unique. To make them unique, call `.var_names_make_unique`.\n",
      "  utils.warn_names_duplicates(\"var\")\n",
      "/pub/smorabit/miniconda3/envs/scanpy/lib/python3.11/site-packages/anndata/_core/anndata.py:1840: UserWarning: Variable names are not unique. To make them unique, call `.var_names_make_unique`.\n",
      "  utils.warn_names_duplicates(\"var\")\n"
     ]
    },
    {
     "name": "stdout",
     "output_type": "stream",
     "text": [
      "reading /dfs7/swaruplab/smorabit/data/Visium_Mouse_2021/Dec_13_2021/spaceranger_count/5XFAD6/outs/raw_feature_bc_matrix.h5\n",
      " (0:00:01)\n"
     ]
    },
    {
     "name": "stderr",
     "output_type": "stream",
     "text": [
      "/pub/smorabit/miniconda3/envs/scanpy/lib/python3.11/site-packages/anndata/_core/anndata.py:1840: UserWarning: Variable names are not unique. To make them unique, call `.var_names_make_unique`.\n",
      "  utils.warn_names_duplicates(\"var\")\n",
      "/pub/smorabit/miniconda3/envs/scanpy/lib/python3.11/site-packages/anndata/_core/anndata.py:1840: UserWarning: Variable names are not unique. To make them unique, call `.var_names_make_unique`.\n",
      "  utils.warn_names_duplicates(\"var\")\n"
     ]
    },
    {
     "name": "stdout",
     "output_type": "stream",
     "text": [
      "reading /dfs7/swaruplab/smorabit/data/Visium_Mouse_2021/Dec_13_2021/spaceranger_count/5XFAD7/outs/raw_feature_bc_matrix.h5\n",
      " (0:00:02)\n"
     ]
    },
    {
     "name": "stderr",
     "output_type": "stream",
     "text": [
      "/pub/smorabit/miniconda3/envs/scanpy/lib/python3.11/site-packages/anndata/_core/anndata.py:1840: UserWarning: Variable names are not unique. To make them unique, call `.var_names_make_unique`.\n",
      "  utils.warn_names_duplicates(\"var\")\n",
      "/pub/smorabit/miniconda3/envs/scanpy/lib/python3.11/site-packages/anndata/_core/anndata.py:1840: UserWarning: Variable names are not unique. To make them unique, call `.var_names_make_unique`.\n",
      "  utils.warn_names_duplicates(\"var\")\n"
     ]
    },
    {
     "name": "stdout",
     "output_type": "stream",
     "text": [
      "reading /dfs7/swaruplab/smorabit/data/Visium_Mouse_2021/Dec_13_2021/spaceranger_count/5XFAD8/outs/raw_feature_bc_matrix.h5\n",
      " (0:00:02)\n"
     ]
    },
    {
     "name": "stderr",
     "output_type": "stream",
     "text": [
      "/pub/smorabit/miniconda3/envs/scanpy/lib/python3.11/site-packages/anndata/_core/anndata.py:1840: UserWarning: Variable names are not unique. To make them unique, call `.var_names_make_unique`.\n",
      "  utils.warn_names_duplicates(\"var\")\n",
      "/pub/smorabit/miniconda3/envs/scanpy/lib/python3.11/site-packages/anndata/_core/anndata.py:1840: UserWarning: Variable names are not unique. To make them unique, call `.var_names_make_unique`.\n",
      "  utils.warn_names_duplicates(\"var\")\n",
      "/pub/smorabit/miniconda3/envs/scanpy/lib/python3.11/site-packages/anndata/_core/anndata.py:1763: FutureWarning: The AnnData.concatenate method is deprecated in favour of the anndata.concat function. Please use anndata.concat instead.\n",
      "\n",
      "See the tutorial for concat at: https://anndata.readthedocs.io/en/latest/concatenation.html\n",
      "  warnings.warn(\n",
      "/pub/smorabit/miniconda3/envs/scanpy/lib/python3.11/site-packages/anndata/_core/merge.py:1015: FutureWarning: The default value of 'ignore' for the `na_action` parameter in pandas.Categorical.map is deprecated and will be changed to 'None' in a future version. Please set na_action to the desired value to avoid seeing this warning\n",
      "  concat_indices = concat_indices.str.cat(label_col.map(str), sep=index_unique)\n",
      "/pub/smorabit/miniconda3/envs/scanpy/lib/python3.11/site-packages/anndata/_core/merge.py:1015: FutureWarning: The default value of 'ignore' for the `na_action` parameter in pandas.Categorical.map is deprecated and will be changed to 'None' in a future version. Please set na_action to the desired value to avoid seeing this warning\n",
      "  concat_indices = concat_indices.str.cat(label_col.map(str), sep=index_unique)\n"
     ]
    },
    {
     "data": {
      "text/html": [
       "<div>\n",
       "<style scoped>\n",
       "    .dataframe tbody tr th:only-of-type {\n",
       "        vertical-align: middle;\n",
       "    }\n",
       "\n",
       "    .dataframe tbody tr th {\n",
       "        vertical-align: top;\n",
       "    }\n",
       "\n",
       "    .dataframe thead th {\n",
       "        text-align: right;\n",
       "    }\n",
       "</style>\n",
       "<table border=\"1\" class=\"dataframe\">\n",
       "  <thead>\n",
       "    <tr style=\"text-align: right;\">\n",
       "      <th></th>\n",
       "      <th>in_tissue</th>\n",
       "      <th>array_row</th>\n",
       "      <th>array_col</th>\n",
       "      <th>seqbatch</th>\n",
       "      <th>SampleID</th>\n",
       "      <th>bc</th>\n",
       "      <th>Sample_num</th>\n",
       "      <th>batch</th>\n",
       "    </tr>\n",
       "  </thead>\n",
       "  <tbody>\n",
       "    <tr>\n",
       "      <th>AAACAACGAATAGTTC-1-0</th>\n",
       "      <td>0</td>\n",
       "      <td>0</td>\n",
       "      <td>16</td>\n",
       "      <td>Dec_13_2021</td>\n",
       "      <td>5XFAD1</td>\n",
       "      <td>AAACAACGAATAGTTC</td>\n",
       "      <td>0</td>\n",
       "      <td>0</td>\n",
       "    </tr>\n",
       "    <tr>\n",
       "      <th>AAACAAGTATCTCCCA-1-0</th>\n",
       "      <td>1</td>\n",
       "      <td>50</td>\n",
       "      <td>102</td>\n",
       "      <td>Dec_13_2021</td>\n",
       "      <td>5XFAD1</td>\n",
       "      <td>AAACAAGTATCTCCCA</td>\n",
       "      <td>0</td>\n",
       "      <td>0</td>\n",
       "    </tr>\n",
       "    <tr>\n",
       "      <th>AAACAATCTACTAGCA-1-0</th>\n",
       "      <td>0</td>\n",
       "      <td>3</td>\n",
       "      <td>43</td>\n",
       "      <td>Dec_13_2021</td>\n",
       "      <td>5XFAD1</td>\n",
       "      <td>AAACAATCTACTAGCA</td>\n",
       "      <td>0</td>\n",
       "      <td>0</td>\n",
       "    </tr>\n",
       "    <tr>\n",
       "      <th>AAACACCAATAACTGC-1-0</th>\n",
       "      <td>1</td>\n",
       "      <td>59</td>\n",
       "      <td>19</td>\n",
       "      <td>Dec_13_2021</td>\n",
       "      <td>5XFAD1</td>\n",
       "      <td>AAACACCAATAACTGC</td>\n",
       "      <td>0</td>\n",
       "      <td>0</td>\n",
       "    </tr>\n",
       "    <tr>\n",
       "      <th>AAACAGAGCGACTCCT-1-0</th>\n",
       "      <td>1</td>\n",
       "      <td>14</td>\n",
       "      <td>94</td>\n",
       "      <td>Dec_13_2021</td>\n",
       "      <td>5XFAD1</td>\n",
       "      <td>AAACAGAGCGACTCCT</td>\n",
       "      <td>0</td>\n",
       "      <td>0</td>\n",
       "    </tr>\n",
       "  </tbody>\n",
       "</table>\n",
       "</div>"
      ],
      "text/plain": [
       "                      in_tissue  array_row  array_col     seqbatch SampleID  \\\n",
       "AAACAACGAATAGTTC-1-0          0          0         16  Dec_13_2021   5XFAD1   \n",
       "AAACAAGTATCTCCCA-1-0          1         50        102  Dec_13_2021   5XFAD1   \n",
       "AAACAATCTACTAGCA-1-0          0          3         43  Dec_13_2021   5XFAD1   \n",
       "AAACACCAATAACTGC-1-0          1         59         19  Dec_13_2021   5XFAD1   \n",
       "AAACAGAGCGACTCCT-1-0          1         14         94  Dec_13_2021   5XFAD1   \n",
       "\n",
       "                                    bc Sample_num batch  \n",
       "AAACAACGAATAGTTC-1-0  AAACAACGAATAGTTC          0     0  \n",
       "AAACAAGTATCTCCCA-1-0  AAACAAGTATCTCCCA          0     0  \n",
       "AAACAATCTACTAGCA-1-0  AAACAATCTACTAGCA          0     0  \n",
       "AAACACCAATAACTGC-1-0  AAACACCAATAACTGC          0     0  \n",
       "AAACAGAGCGACTCCT-1-0  AAACAGAGCGACTCCT          0     0  "
      ]
     },
     "execution_count": 23,
     "metadata": {},
     "output_type": "execute_result"
    }
   ],
   "source": [
    "\n",
    "# files\n",
    "spaceranger_dir = '/dfs7/swaruplab/smorabit/data/Visium_Mouse_2021/Dec_13_2021/spaceranger_count/'\n",
    "samples = os.listdir(spaceranger_dir)\n",
    "h5ad_list = [spaceranger_dir + x + '/outs/' for x in samples]\n",
    "\n",
    "# loop over each sample\n",
    "adata_list = [] \n",
    "for i, cur_file in enumerate(h5ad_list):\n",
    "    cur_adata = sc.read_visium(cur_file, count_file='raw_feature_bc_matrix.h5')\n",
    "\n",
    "    cur_adata.obs['seqbatch'] = 'Dec_13_2021'\n",
    "    cur_adata.obs['SampleID'] = samples[i]\n",
    "    cur_adata.obs['bc'] = [x.split('-')[0] for x in cur_adata.obs.index.to_list()]\n",
    "    cur_adata.uns['title'] = samples[i]\n",
    "\n",
    "    cur_adata.var_names_make_unique()\n",
    "    uns_dict[str(i) + '-Dec_13_2021'] = cur_adata.uns\n",
    "    cur_adata.obs['Sample_num'] = str(i)\n",
    "    \n",
    "    adata_list.append(cur_adata)\n",
    "\n",
    "# combine\n",
    "adata = adata_list[0].concatenate(adata_list[1:len(adata_list)])\n",
    "adata.obs.head()"
   ]
  },
  {
   "cell_type": "code",
   "execution_count": 24,
   "id": "e7a2281a-d730-4cbb-bd3d-5e8789c58eb9",
   "metadata": {},
   "outputs": [
    {
     "data": {
      "text/html": [
       "<div>\n",
       "<style scoped>\n",
       "    .dataframe tbody tr th:only-of-type {\n",
       "        vertical-align: middle;\n",
       "    }\n",
       "\n",
       "    .dataframe tbody tr th {\n",
       "        vertical-align: top;\n",
       "    }\n",
       "\n",
       "    .dataframe thead th {\n",
       "        text-align: right;\n",
       "    }\n",
       "</style>\n",
       "<table border=\"1\" class=\"dataframe\">\n",
       "  <thead>\n",
       "    <tr style=\"text-align: right;\">\n",
       "      <th></th>\n",
       "      <th>SAMPLE</th>\n",
       "      <th>ID</th>\n",
       "      <th>Condition</th>\n",
       "      <th>Sex</th>\n",
       "      <th>Age</th>\n",
       "      <th>CaptureArea</th>\n",
       "      <th>Slide</th>\n",
       "      <th>Sectioning</th>\n",
       "      <th>LibraryDay1</th>\n",
       "      <th>LibraryDay2</th>\n",
       "      <th>INDEX</th>\n",
       "      <th>LibraryName</th>\n",
       "    </tr>\n",
       "  </thead>\n",
       "  <tbody>\n",
       "    <tr>\n",
       "      <th>0</th>\n",
       "      <td>632</td>\n",
       "      <td>6.3-2</td>\n",
       "      <td>5X</td>\n",
       "      <td>M</td>\n",
       "      <td>4mo</td>\n",
       "      <td>A1</td>\n",
       "      <td>V11A12-006</td>\n",
       "      <td>11/16/21</td>\n",
       "      <td>11/19/21</td>\n",
       "      <td>11/21/21</td>\n",
       "      <td>A5</td>\n",
       "      <td>5XFAD1</td>\n",
       "    </tr>\n",
       "    <tr>\n",
       "      <th>1</th>\n",
       "      <td>242</td>\n",
       "      <td>2.4-2</td>\n",
       "      <td>WT</td>\n",
       "      <td>F</td>\n",
       "      <td>4mo</td>\n",
       "      <td>B1</td>\n",
       "      <td>V11A12-006</td>\n",
       "      <td>11/16/21</td>\n",
       "      <td>11/19/21</td>\n",
       "      <td>11/21/21</td>\n",
       "      <td>A6</td>\n",
       "      <td>5XFAD2</td>\n",
       "    </tr>\n",
       "    <tr>\n",
       "      <th>2</th>\n",
       "      <td>222</td>\n",
       "      <td>2.2-2</td>\n",
       "      <td>5X</td>\n",
       "      <td>F</td>\n",
       "      <td>12mo</td>\n",
       "      <td>C1</td>\n",
       "      <td>V11A12-006</td>\n",
       "      <td>11/16/21</td>\n",
       "      <td>11/19/21</td>\n",
       "      <td>11/21/21</td>\n",
       "      <td>A7</td>\n",
       "      <td>5XFAD3</td>\n",
       "    </tr>\n",
       "    <tr>\n",
       "      <th>3</th>\n",
       "      <td>711</td>\n",
       "      <td>7.1-1</td>\n",
       "      <td>WT</td>\n",
       "      <td>M</td>\n",
       "      <td>12mo</td>\n",
       "      <td>D1</td>\n",
       "      <td>V11A12-006</td>\n",
       "      <td>11/16/21</td>\n",
       "      <td>11/19/21</td>\n",
       "      <td>11/21/21</td>\n",
       "      <td>A8</td>\n",
       "      <td>5XFAD4</td>\n",
       "    </tr>\n",
       "    <tr>\n",
       "      <th>4</th>\n",
       "      <td>765</td>\n",
       "      <td>7.6-5</td>\n",
       "      <td>5X</td>\n",
       "      <td>F</td>\n",
       "      <td>4mo</td>\n",
       "      <td>A1</td>\n",
       "      <td>V11Y24-115</td>\n",
       "      <td>11/17/21</td>\n",
       "      <td>11/19/21</td>\n",
       "      <td>11/21/21</td>\n",
       "      <td>A9</td>\n",
       "      <td>5XFAD5</td>\n",
       "    </tr>\n",
       "  </tbody>\n",
       "</table>\n",
       "</div>"
      ],
      "text/plain": [
       "   SAMPLE     ID Condition Sex   Age CaptureArea       Slide Sectioning  \\\n",
       "0     632  6.3-2        5X   M   4mo          A1  V11A12-006   11/16/21   \n",
       "1     242  2.4-2        WT   F   4mo          B1  V11A12-006   11/16/21   \n",
       "2     222  2.2-2        5X   F  12mo          C1  V11A12-006   11/16/21   \n",
       "3     711  7.1-1        WT   M  12mo          D1  V11A12-006   11/16/21   \n",
       "4     765  7.6-5        5X   F   4mo          A1  V11Y24-115   11/17/21   \n",
       "\n",
       "  LibraryDay1 LibraryDay2 INDEX LibraryName  \n",
       "0    11/19/21    11/21/21    A5      5XFAD1  \n",
       "1    11/19/21    11/21/21    A6      5XFAD2  \n",
       "2    11/19/21    11/21/21    A7      5XFAD3  \n",
       "3    11/19/21    11/21/21    A8      5XFAD4  \n",
       "4    11/19/21    11/21/21    A9      5XFAD5  "
      ]
     },
     "execution_count": 24,
     "metadata": {},
     "output_type": "execute_result"
    }
   ],
   "source": [
    "# load metadata\n",
    "meta_file = \"/dfs7/swaruplab/smorabit/data/Visium_Mouse_2021/Dec_13_2021/visium_5xFAD_12-13-21_sample_meta.csv\"\n",
    "meta_df = pd.read_csv(meta_file, sep=',', index_col=None)\n",
    "\n",
    "meta_df['LibraryName'] = ['5XFAD' + str(int(x)) for x in meta_df['LibraryName'].to_list()]\n",
    "\n",
    "meta_df = meta_df[['SAMPLE', 'ID', 'Condition', 'Sex', 'Age', 'CaptureArea', 'Slide', 'Sectioning', 'LibraryDay1', 'LibraryDay2', 'INDEX', 'LibraryName']]\n",
    "\n",
    "#meta_df.columns = ['SAMPLE', 'Condition', 'Age']\n",
    "#meta_df.SAMPLE = meta_df.SAMPLE.astype('str')\n",
    "meta_df.head()"
   ]
  },
  {
   "cell_type": "code",
   "execution_count": 25,
   "id": "1ddc0032-c3aa-49c6-ae51-2f55cef50f51",
   "metadata": {},
   "outputs": [],
   "source": [
    "# add the meta\n",
    "temp = adata.obs.merge(\n",
    "    meta_df,\n",
    "    how = 'left',\n",
    "    left_on = 'SampleID',\n",
    "    right_on = 'LibraryName'\n",
    ")\n",
    "temp.index = adata.obs.index\n",
    "temp = temp.drop(labels='LibraryName', axis=1)\n",
    "temp.head() \n",
    "\n",
    "adata.obs = temp\n"
   ]
  },
  {
   "cell_type": "code",
   "execution_count": 26,
   "id": "689acdc1-ceda-4556-b40e-3c47b551c1a2",
   "metadata": {},
   "outputs": [],
   "source": [
    "adata_dec_13 = adata"
   ]
  },
  {
   "cell_type": "markdown",
   "id": "48e1ea6e-1f4f-45ce-87e2-18c4f4799a91",
   "metadata": {},
   "source": [
    "## Dec 20"
   ]
  },
  {
   "cell_type": "code",
   "execution_count": 27,
   "id": "fe280b24-32d2-4f5f-a733-15b723b74ccd",
   "metadata": {
    "scrolled": true
   },
   "outputs": [
    {
     "name": "stdout",
     "output_type": "stream",
     "text": [
      "reading /dfs7/swaruplab/smorabit/data/Visium_Mouse_2021/Dec_20_2021/spaceranger_count/5XFAD1/outs/raw_feature_bc_matrix.h5\n",
      " (0:00:02)\n"
     ]
    },
    {
     "name": "stderr",
     "output_type": "stream",
     "text": [
      "/pub/smorabit/miniconda3/envs/scanpy/lib/python3.11/site-packages/anndata/_core/anndata.py:1840: UserWarning: Variable names are not unique. To make them unique, call `.var_names_make_unique`.\n",
      "  utils.warn_names_duplicates(\"var\")\n",
      "/pub/smorabit/miniconda3/envs/scanpy/lib/python3.11/site-packages/anndata/_core/anndata.py:1840: UserWarning: Variable names are not unique. To make them unique, call `.var_names_make_unique`.\n",
      "  utils.warn_names_duplicates(\"var\")\n"
     ]
    },
    {
     "name": "stdout",
     "output_type": "stream",
     "text": [
      "reading /dfs7/swaruplab/smorabit/data/Visium_Mouse_2021/Dec_20_2021/spaceranger_count/5XFAD10/outs/raw_feature_bc_matrix.h5\n",
      " (0:00:02)\n"
     ]
    },
    {
     "name": "stderr",
     "output_type": "stream",
     "text": [
      "/pub/smorabit/miniconda3/envs/scanpy/lib/python3.11/site-packages/anndata/_core/anndata.py:1840: UserWarning: Variable names are not unique. To make them unique, call `.var_names_make_unique`.\n",
      "  utils.warn_names_duplicates(\"var\")\n",
      "/pub/smorabit/miniconda3/envs/scanpy/lib/python3.11/site-packages/anndata/_core/anndata.py:1840: UserWarning: Variable names are not unique. To make them unique, call `.var_names_make_unique`.\n",
      "  utils.warn_names_duplicates(\"var\")\n"
     ]
    },
    {
     "name": "stdout",
     "output_type": "stream",
     "text": [
      "reading /dfs7/swaruplab/smorabit/data/Visium_Mouse_2021/Dec_20_2021/spaceranger_count/5XFAD11/outs/raw_feature_bc_matrix.h5\n",
      " (0:00:02)\n"
     ]
    },
    {
     "name": "stderr",
     "output_type": "stream",
     "text": [
      "/pub/smorabit/miniconda3/envs/scanpy/lib/python3.11/site-packages/anndata/_core/anndata.py:1840: UserWarning: Variable names are not unique. To make them unique, call `.var_names_make_unique`.\n",
      "  utils.warn_names_duplicates(\"var\")\n",
      "/pub/smorabit/miniconda3/envs/scanpy/lib/python3.11/site-packages/anndata/_core/anndata.py:1840: UserWarning: Variable names are not unique. To make them unique, call `.var_names_make_unique`.\n",
      "  utils.warn_names_duplicates(\"var\")\n"
     ]
    },
    {
     "name": "stdout",
     "output_type": "stream",
     "text": [
      "reading /dfs7/swaruplab/smorabit/data/Visium_Mouse_2021/Dec_20_2021/spaceranger_count/5XFAD12/outs/raw_feature_bc_matrix.h5\n",
      " (0:00:01)\n"
     ]
    },
    {
     "name": "stderr",
     "output_type": "stream",
     "text": [
      "/pub/smorabit/miniconda3/envs/scanpy/lib/python3.11/site-packages/anndata/_core/anndata.py:1840: UserWarning: Variable names are not unique. To make them unique, call `.var_names_make_unique`.\n",
      "  utils.warn_names_duplicates(\"var\")\n",
      "/pub/smorabit/miniconda3/envs/scanpy/lib/python3.11/site-packages/anndata/_core/anndata.py:1840: UserWarning: Variable names are not unique. To make them unique, call `.var_names_make_unique`.\n",
      "  utils.warn_names_duplicates(\"var\")\n"
     ]
    },
    {
     "name": "stdout",
     "output_type": "stream",
     "text": [
      "reading /dfs7/swaruplab/smorabit/data/Visium_Mouse_2021/Dec_20_2021/spaceranger_count/5XFAD13/outs/raw_feature_bc_matrix.h5\n",
      " (0:00:02)\n"
     ]
    },
    {
     "name": "stderr",
     "output_type": "stream",
     "text": [
      "/pub/smorabit/miniconda3/envs/scanpy/lib/python3.11/site-packages/anndata/_core/anndata.py:1840: UserWarning: Variable names are not unique. To make them unique, call `.var_names_make_unique`.\n",
      "  utils.warn_names_duplicates(\"var\")\n",
      "/pub/smorabit/miniconda3/envs/scanpy/lib/python3.11/site-packages/anndata/_core/anndata.py:1840: UserWarning: Variable names are not unique. To make them unique, call `.var_names_make_unique`.\n",
      "  utils.warn_names_duplicates(\"var\")\n"
     ]
    },
    {
     "name": "stdout",
     "output_type": "stream",
     "text": [
      "reading /dfs7/swaruplab/smorabit/data/Visium_Mouse_2021/Dec_20_2021/spaceranger_count/5XFAD14/outs/raw_feature_bc_matrix.h5\n",
      " (0:00:02)\n"
     ]
    },
    {
     "name": "stderr",
     "output_type": "stream",
     "text": [
      "/pub/smorabit/miniconda3/envs/scanpy/lib/python3.11/site-packages/anndata/_core/anndata.py:1840: UserWarning: Variable names are not unique. To make them unique, call `.var_names_make_unique`.\n",
      "  utils.warn_names_duplicates(\"var\")\n",
      "/pub/smorabit/miniconda3/envs/scanpy/lib/python3.11/site-packages/anndata/_core/anndata.py:1840: UserWarning: Variable names are not unique. To make them unique, call `.var_names_make_unique`.\n",
      "  utils.warn_names_duplicates(\"var\")\n"
     ]
    },
    {
     "name": "stdout",
     "output_type": "stream",
     "text": [
      "reading /dfs7/swaruplab/smorabit/data/Visium_Mouse_2021/Dec_20_2021/spaceranger_count/5XFAD15/outs/raw_feature_bc_matrix.h5\n",
      " (0:00:01)\n"
     ]
    },
    {
     "name": "stderr",
     "output_type": "stream",
     "text": [
      "/pub/smorabit/miniconda3/envs/scanpy/lib/python3.11/site-packages/anndata/_core/anndata.py:1840: UserWarning: Variable names are not unique. To make them unique, call `.var_names_make_unique`.\n",
      "  utils.warn_names_duplicates(\"var\")\n",
      "/pub/smorabit/miniconda3/envs/scanpy/lib/python3.11/site-packages/anndata/_core/anndata.py:1840: UserWarning: Variable names are not unique. To make them unique, call `.var_names_make_unique`.\n",
      "  utils.warn_names_duplicates(\"var\")\n"
     ]
    },
    {
     "name": "stdout",
     "output_type": "stream",
     "text": [
      "reading /dfs7/swaruplab/smorabit/data/Visium_Mouse_2021/Dec_20_2021/spaceranger_count/5XFAD16/outs/raw_feature_bc_matrix.h5\n",
      " (0:00:03)\n"
     ]
    },
    {
     "name": "stderr",
     "output_type": "stream",
     "text": [
      "/pub/smorabit/miniconda3/envs/scanpy/lib/python3.11/site-packages/anndata/_core/anndata.py:1840: UserWarning: Variable names are not unique. To make them unique, call `.var_names_make_unique`.\n",
      "  utils.warn_names_duplicates(\"var\")\n",
      "/pub/smorabit/miniconda3/envs/scanpy/lib/python3.11/site-packages/anndata/_core/anndata.py:1840: UserWarning: Variable names are not unique. To make them unique, call `.var_names_make_unique`.\n",
      "  utils.warn_names_duplicates(\"var\")\n"
     ]
    },
    {
     "name": "stdout",
     "output_type": "stream",
     "text": [
      "reading /dfs7/swaruplab/smorabit/data/Visium_Mouse_2021/Dec_20_2021/spaceranger_count/5XFAD17/outs/raw_feature_bc_matrix.h5\n",
      " (0:00:03)\n"
     ]
    },
    {
     "name": "stderr",
     "output_type": "stream",
     "text": [
      "/pub/smorabit/miniconda3/envs/scanpy/lib/python3.11/site-packages/anndata/_core/anndata.py:1840: UserWarning: Variable names are not unique. To make them unique, call `.var_names_make_unique`.\n",
      "  utils.warn_names_duplicates(\"var\")\n",
      "/pub/smorabit/miniconda3/envs/scanpy/lib/python3.11/site-packages/anndata/_core/anndata.py:1840: UserWarning: Variable names are not unique. To make them unique, call `.var_names_make_unique`.\n",
      "  utils.warn_names_duplicates(\"var\")\n"
     ]
    },
    {
     "name": "stdout",
     "output_type": "stream",
     "text": [
      "reading /dfs7/swaruplab/smorabit/data/Visium_Mouse_2021/Dec_20_2021/spaceranger_count/5XFAD18/outs/raw_feature_bc_matrix.h5\n",
      " (0:00:02)\n"
     ]
    },
    {
     "name": "stderr",
     "output_type": "stream",
     "text": [
      "/pub/smorabit/miniconda3/envs/scanpy/lib/python3.11/site-packages/anndata/_core/anndata.py:1840: UserWarning: Variable names are not unique. To make them unique, call `.var_names_make_unique`.\n",
      "  utils.warn_names_duplicates(\"var\")\n",
      "/pub/smorabit/miniconda3/envs/scanpy/lib/python3.11/site-packages/anndata/_core/anndata.py:1840: UserWarning: Variable names are not unique. To make them unique, call `.var_names_make_unique`.\n",
      "  utils.warn_names_duplicates(\"var\")\n"
     ]
    },
    {
     "name": "stdout",
     "output_type": "stream",
     "text": [
      "reading /dfs7/swaruplab/smorabit/data/Visium_Mouse_2021/Dec_20_2021/spaceranger_count/5XFAD19/outs/raw_feature_bc_matrix.h5\n",
      " (0:00:01)\n"
     ]
    },
    {
     "name": "stderr",
     "output_type": "stream",
     "text": [
      "/pub/smorabit/miniconda3/envs/scanpy/lib/python3.11/site-packages/anndata/_core/anndata.py:1840: UserWarning: Variable names are not unique. To make them unique, call `.var_names_make_unique`.\n",
      "  utils.warn_names_duplicates(\"var\")\n",
      "/pub/smorabit/miniconda3/envs/scanpy/lib/python3.11/site-packages/anndata/_core/anndata.py:1840: UserWarning: Variable names are not unique. To make them unique, call `.var_names_make_unique`.\n",
      "  utils.warn_names_duplicates(\"var\")\n"
     ]
    },
    {
     "name": "stdout",
     "output_type": "stream",
     "text": [
      "reading /dfs7/swaruplab/smorabit/data/Visium_Mouse_2021/Dec_20_2021/spaceranger_count/5XFAD2/outs/raw_feature_bc_matrix.h5\n",
      " (0:00:02)\n"
     ]
    },
    {
     "name": "stderr",
     "output_type": "stream",
     "text": [
      "/pub/smorabit/miniconda3/envs/scanpy/lib/python3.11/site-packages/anndata/_core/anndata.py:1840: UserWarning: Variable names are not unique. To make them unique, call `.var_names_make_unique`.\n",
      "  utils.warn_names_duplicates(\"var\")\n",
      "/pub/smorabit/miniconda3/envs/scanpy/lib/python3.11/site-packages/anndata/_core/anndata.py:1840: UserWarning: Variable names are not unique. To make them unique, call `.var_names_make_unique`.\n",
      "  utils.warn_names_duplicates(\"var\")\n"
     ]
    },
    {
     "name": "stdout",
     "output_type": "stream",
     "text": [
      "reading /dfs7/swaruplab/smorabit/data/Visium_Mouse_2021/Dec_20_2021/spaceranger_count/5XFAD20/outs/raw_feature_bc_matrix.h5\n",
      " (0:00:02)\n"
     ]
    },
    {
     "name": "stderr",
     "output_type": "stream",
     "text": [
      "/pub/smorabit/miniconda3/envs/scanpy/lib/python3.11/site-packages/anndata/_core/anndata.py:1840: UserWarning: Variable names are not unique. To make them unique, call `.var_names_make_unique`.\n",
      "  utils.warn_names_duplicates(\"var\")\n",
      "/pub/smorabit/miniconda3/envs/scanpy/lib/python3.11/site-packages/anndata/_core/anndata.py:1840: UserWarning: Variable names are not unique. To make them unique, call `.var_names_make_unique`.\n",
      "  utils.warn_names_duplicates(\"var\")\n"
     ]
    },
    {
     "name": "stdout",
     "output_type": "stream",
     "text": [
      "reading /dfs7/swaruplab/smorabit/data/Visium_Mouse_2021/Dec_20_2021/spaceranger_count/5XFAD21/outs/raw_feature_bc_matrix.h5\n",
      " (0:00:01)\n"
     ]
    },
    {
     "name": "stderr",
     "output_type": "stream",
     "text": [
      "/pub/smorabit/miniconda3/envs/scanpy/lib/python3.11/site-packages/anndata/_core/anndata.py:1840: UserWarning: Variable names are not unique. To make them unique, call `.var_names_make_unique`.\n",
      "  utils.warn_names_duplicates(\"var\")\n",
      "/pub/smorabit/miniconda3/envs/scanpy/lib/python3.11/site-packages/anndata/_core/anndata.py:1840: UserWarning: Variable names are not unique. To make them unique, call `.var_names_make_unique`.\n",
      "  utils.warn_names_duplicates(\"var\")\n"
     ]
    },
    {
     "name": "stdout",
     "output_type": "stream",
     "text": [
      "reading /dfs7/swaruplab/smorabit/data/Visium_Mouse_2021/Dec_20_2021/spaceranger_count/5XFAD22/outs/raw_feature_bc_matrix.h5\n",
      " (0:00:01)\n"
     ]
    },
    {
     "name": "stderr",
     "output_type": "stream",
     "text": [
      "/pub/smorabit/miniconda3/envs/scanpy/lib/python3.11/site-packages/anndata/_core/anndata.py:1840: UserWarning: Variable names are not unique. To make them unique, call `.var_names_make_unique`.\n",
      "  utils.warn_names_duplicates(\"var\")\n",
      "/pub/smorabit/miniconda3/envs/scanpy/lib/python3.11/site-packages/anndata/_core/anndata.py:1840: UserWarning: Variable names are not unique. To make them unique, call `.var_names_make_unique`.\n",
      "  utils.warn_names_duplicates(\"var\")\n"
     ]
    },
    {
     "name": "stdout",
     "output_type": "stream",
     "text": [
      "reading /dfs7/swaruplab/smorabit/data/Visium_Mouse_2021/Dec_20_2021/spaceranger_count/5XFAD23/outs/raw_feature_bc_matrix.h5\n",
      " (0:00:02)\n"
     ]
    },
    {
     "name": "stderr",
     "output_type": "stream",
     "text": [
      "/pub/smorabit/miniconda3/envs/scanpy/lib/python3.11/site-packages/anndata/_core/anndata.py:1840: UserWarning: Variable names are not unique. To make them unique, call `.var_names_make_unique`.\n",
      "  utils.warn_names_duplicates(\"var\")\n",
      "/pub/smorabit/miniconda3/envs/scanpy/lib/python3.11/site-packages/anndata/_core/anndata.py:1840: UserWarning: Variable names are not unique. To make them unique, call `.var_names_make_unique`.\n",
      "  utils.warn_names_duplicates(\"var\")\n"
     ]
    },
    {
     "name": "stdout",
     "output_type": "stream",
     "text": [
      "reading /dfs7/swaruplab/smorabit/data/Visium_Mouse_2021/Dec_20_2021/spaceranger_count/5XFAD24/outs/raw_feature_bc_matrix.h5\n",
      " (0:00:02)\n"
     ]
    },
    {
     "name": "stderr",
     "output_type": "stream",
     "text": [
      "/pub/smorabit/miniconda3/envs/scanpy/lib/python3.11/site-packages/anndata/_core/anndata.py:1840: UserWarning: Variable names are not unique. To make them unique, call `.var_names_make_unique`.\n",
      "  utils.warn_names_duplicates(\"var\")\n",
      "/pub/smorabit/miniconda3/envs/scanpy/lib/python3.11/site-packages/anndata/_core/anndata.py:1840: UserWarning: Variable names are not unique. To make them unique, call `.var_names_make_unique`.\n",
      "  utils.warn_names_duplicates(\"var\")\n"
     ]
    },
    {
     "name": "stdout",
     "output_type": "stream",
     "text": [
      "reading /dfs7/swaruplab/smorabit/data/Visium_Mouse_2021/Dec_20_2021/spaceranger_count/5XFAD25/outs/raw_feature_bc_matrix.h5\n",
      " (0:00:01)\n"
     ]
    },
    {
     "name": "stderr",
     "output_type": "stream",
     "text": [
      "/pub/smorabit/miniconda3/envs/scanpy/lib/python3.11/site-packages/anndata/_core/anndata.py:1840: UserWarning: Variable names are not unique. To make them unique, call `.var_names_make_unique`.\n",
      "  utils.warn_names_duplicates(\"var\")\n",
      "/pub/smorabit/miniconda3/envs/scanpy/lib/python3.11/site-packages/anndata/_core/anndata.py:1840: UserWarning: Variable names are not unique. To make them unique, call `.var_names_make_unique`.\n",
      "  utils.warn_names_duplicates(\"var\")\n"
     ]
    },
    {
     "name": "stdout",
     "output_type": "stream",
     "text": [
      "reading /dfs7/swaruplab/smorabit/data/Visium_Mouse_2021/Dec_20_2021/spaceranger_count/5XFAD26/outs/raw_feature_bc_matrix.h5\n",
      " (0:00:01)\n"
     ]
    },
    {
     "name": "stderr",
     "output_type": "stream",
     "text": [
      "/pub/smorabit/miniconda3/envs/scanpy/lib/python3.11/site-packages/anndata/_core/anndata.py:1840: UserWarning: Variable names are not unique. To make them unique, call `.var_names_make_unique`.\n",
      "  utils.warn_names_duplicates(\"var\")\n",
      "/pub/smorabit/miniconda3/envs/scanpy/lib/python3.11/site-packages/anndata/_core/anndata.py:1840: UserWarning: Variable names are not unique. To make them unique, call `.var_names_make_unique`.\n",
      "  utils.warn_names_duplicates(\"var\")\n"
     ]
    },
    {
     "name": "stdout",
     "output_type": "stream",
     "text": [
      "reading /dfs7/swaruplab/smorabit/data/Visium_Mouse_2021/Dec_20_2021/spaceranger_count/5XFAD27/outs/raw_feature_bc_matrix.h5\n",
      " (0:00:02)\n"
     ]
    },
    {
     "name": "stderr",
     "output_type": "stream",
     "text": [
      "/pub/smorabit/miniconda3/envs/scanpy/lib/python3.11/site-packages/anndata/_core/anndata.py:1840: UserWarning: Variable names are not unique. To make them unique, call `.var_names_make_unique`.\n",
      "  utils.warn_names_duplicates(\"var\")\n",
      "/pub/smorabit/miniconda3/envs/scanpy/lib/python3.11/site-packages/anndata/_core/anndata.py:1840: UserWarning: Variable names are not unique. To make them unique, call `.var_names_make_unique`.\n",
      "  utils.warn_names_duplicates(\"var\")\n"
     ]
    },
    {
     "name": "stdout",
     "output_type": "stream",
     "text": [
      "reading /dfs7/swaruplab/smorabit/data/Visium_Mouse_2021/Dec_20_2021/spaceranger_count/5XFAD28/outs/raw_feature_bc_matrix.h5\n",
      " (0:00:01)\n"
     ]
    },
    {
     "name": "stderr",
     "output_type": "stream",
     "text": [
      "/pub/smorabit/miniconda3/envs/scanpy/lib/python3.11/site-packages/anndata/_core/anndata.py:1840: UserWarning: Variable names are not unique. To make them unique, call `.var_names_make_unique`.\n",
      "  utils.warn_names_duplicates(\"var\")\n",
      "/pub/smorabit/miniconda3/envs/scanpy/lib/python3.11/site-packages/anndata/_core/anndata.py:1840: UserWarning: Variable names are not unique. To make them unique, call `.var_names_make_unique`.\n",
      "  utils.warn_names_duplicates(\"var\")\n"
     ]
    },
    {
     "name": "stdout",
     "output_type": "stream",
     "text": [
      "reading /dfs7/swaruplab/smorabit/data/Visium_Mouse_2021/Dec_20_2021/spaceranger_count/5XFAD3/outs/raw_feature_bc_matrix.h5\n",
      " (0:00:02)\n"
     ]
    },
    {
     "name": "stderr",
     "output_type": "stream",
     "text": [
      "/pub/smorabit/miniconda3/envs/scanpy/lib/python3.11/site-packages/anndata/_core/anndata.py:1840: UserWarning: Variable names are not unique. To make them unique, call `.var_names_make_unique`.\n",
      "  utils.warn_names_duplicates(\"var\")\n",
      "/pub/smorabit/miniconda3/envs/scanpy/lib/python3.11/site-packages/anndata/_core/anndata.py:1840: UserWarning: Variable names are not unique. To make them unique, call `.var_names_make_unique`.\n",
      "  utils.warn_names_duplicates(\"var\")\n"
     ]
    },
    {
     "name": "stdout",
     "output_type": "stream",
     "text": [
      "reading /dfs7/swaruplab/smorabit/data/Visium_Mouse_2021/Dec_20_2021/spaceranger_count/5XFAD4/outs/raw_feature_bc_matrix.h5\n",
      " (0:00:02)\n"
     ]
    },
    {
     "name": "stderr",
     "output_type": "stream",
     "text": [
      "/pub/smorabit/miniconda3/envs/scanpy/lib/python3.11/site-packages/anndata/_core/anndata.py:1840: UserWarning: Variable names are not unique. To make them unique, call `.var_names_make_unique`.\n",
      "  utils.warn_names_duplicates(\"var\")\n",
      "/pub/smorabit/miniconda3/envs/scanpy/lib/python3.11/site-packages/anndata/_core/anndata.py:1840: UserWarning: Variable names are not unique. To make them unique, call `.var_names_make_unique`.\n",
      "  utils.warn_names_duplicates(\"var\")\n"
     ]
    },
    {
     "name": "stdout",
     "output_type": "stream",
     "text": [
      "reading /dfs7/swaruplab/smorabit/data/Visium_Mouse_2021/Dec_20_2021/spaceranger_count/5XFAD5/outs/raw_feature_bc_matrix.h5\n",
      " (0:00:02)\n"
     ]
    },
    {
     "name": "stderr",
     "output_type": "stream",
     "text": [
      "/pub/smorabit/miniconda3/envs/scanpy/lib/python3.11/site-packages/anndata/_core/anndata.py:1840: UserWarning: Variable names are not unique. To make them unique, call `.var_names_make_unique`.\n",
      "  utils.warn_names_duplicates(\"var\")\n",
      "/pub/smorabit/miniconda3/envs/scanpy/lib/python3.11/site-packages/anndata/_core/anndata.py:1840: UserWarning: Variable names are not unique. To make them unique, call `.var_names_make_unique`.\n",
      "  utils.warn_names_duplicates(\"var\")\n"
     ]
    },
    {
     "name": "stdout",
     "output_type": "stream",
     "text": [
      "reading /dfs7/swaruplab/smorabit/data/Visium_Mouse_2021/Dec_20_2021/spaceranger_count/5XFAD6/outs/raw_feature_bc_matrix.h5\n",
      " (0:00:02)\n"
     ]
    },
    {
     "name": "stderr",
     "output_type": "stream",
     "text": [
      "/pub/smorabit/miniconda3/envs/scanpy/lib/python3.11/site-packages/anndata/_core/anndata.py:1840: UserWarning: Variable names are not unique. To make them unique, call `.var_names_make_unique`.\n",
      "  utils.warn_names_duplicates(\"var\")\n",
      "/pub/smorabit/miniconda3/envs/scanpy/lib/python3.11/site-packages/anndata/_core/anndata.py:1840: UserWarning: Variable names are not unique. To make them unique, call `.var_names_make_unique`.\n",
      "  utils.warn_names_duplicates(\"var\")\n"
     ]
    },
    {
     "name": "stdout",
     "output_type": "stream",
     "text": [
      "reading /dfs7/swaruplab/smorabit/data/Visium_Mouse_2021/Dec_20_2021/spaceranger_count/5XFAD7/outs/raw_feature_bc_matrix.h5\n",
      " (0:00:01)\n"
     ]
    },
    {
     "name": "stderr",
     "output_type": "stream",
     "text": [
      "/pub/smorabit/miniconda3/envs/scanpy/lib/python3.11/site-packages/anndata/_core/anndata.py:1840: UserWarning: Variable names are not unique. To make them unique, call `.var_names_make_unique`.\n",
      "  utils.warn_names_duplicates(\"var\")\n",
      "/pub/smorabit/miniconda3/envs/scanpy/lib/python3.11/site-packages/anndata/_core/anndata.py:1840: UserWarning: Variable names are not unique. To make them unique, call `.var_names_make_unique`.\n",
      "  utils.warn_names_duplicates(\"var\")\n"
     ]
    },
    {
     "name": "stdout",
     "output_type": "stream",
     "text": [
      "reading /dfs7/swaruplab/smorabit/data/Visium_Mouse_2021/Dec_20_2021/spaceranger_count/5XFAD8/outs/raw_feature_bc_matrix.h5\n",
      " (0:00:03)\n"
     ]
    },
    {
     "name": "stderr",
     "output_type": "stream",
     "text": [
      "/pub/smorabit/miniconda3/envs/scanpy/lib/python3.11/site-packages/anndata/_core/anndata.py:1840: UserWarning: Variable names are not unique. To make them unique, call `.var_names_make_unique`.\n",
      "  utils.warn_names_duplicates(\"var\")\n",
      "/pub/smorabit/miniconda3/envs/scanpy/lib/python3.11/site-packages/anndata/_core/anndata.py:1840: UserWarning: Variable names are not unique. To make them unique, call `.var_names_make_unique`.\n",
      "  utils.warn_names_duplicates(\"var\")\n"
     ]
    },
    {
     "name": "stdout",
     "output_type": "stream",
     "text": [
      "reading /dfs7/swaruplab/smorabit/data/Visium_Mouse_2021/Dec_20_2021/spaceranger_count/5XFAD9/outs/raw_feature_bc_matrix.h5\n",
      " (0:00:02)\n"
     ]
    },
    {
     "name": "stderr",
     "output_type": "stream",
     "text": [
      "/pub/smorabit/miniconda3/envs/scanpy/lib/python3.11/site-packages/anndata/_core/anndata.py:1840: UserWarning: Variable names are not unique. To make them unique, call `.var_names_make_unique`.\n",
      "  utils.warn_names_duplicates(\"var\")\n",
      "/pub/smorabit/miniconda3/envs/scanpy/lib/python3.11/site-packages/anndata/_core/anndata.py:1840: UserWarning: Variable names are not unique. To make them unique, call `.var_names_make_unique`.\n",
      "  utils.warn_names_duplicates(\"var\")\n",
      "/pub/smorabit/miniconda3/envs/scanpy/lib/python3.11/site-packages/anndata/_core/anndata.py:1763: FutureWarning: The AnnData.concatenate method is deprecated in favour of the anndata.concat function. Please use anndata.concat instead.\n",
      "\n",
      "See the tutorial for concat at: https://anndata.readthedocs.io/en/latest/concatenation.html\n",
      "  warnings.warn(\n",
      "/pub/smorabit/miniconda3/envs/scanpy/lib/python3.11/site-packages/anndata/_core/merge.py:1015: FutureWarning: The default value of 'ignore' for the `na_action` parameter in pandas.Categorical.map is deprecated and will be changed to 'None' in a future version. Please set na_action to the desired value to avoid seeing this warning\n",
      "  concat_indices = concat_indices.str.cat(label_col.map(str), sep=index_unique)\n",
      "/pub/smorabit/miniconda3/envs/scanpy/lib/python3.11/site-packages/anndata/_core/merge.py:1015: FutureWarning: The default value of 'ignore' for the `na_action` parameter in pandas.Categorical.map is deprecated and will be changed to 'None' in a future version. Please set na_action to the desired value to avoid seeing this warning\n",
      "  concat_indices = concat_indices.str.cat(label_col.map(str), sep=index_unique)\n"
     ]
    },
    {
     "data": {
      "text/html": [
       "<div>\n",
       "<style scoped>\n",
       "    .dataframe tbody tr th:only-of-type {\n",
       "        vertical-align: middle;\n",
       "    }\n",
       "\n",
       "    .dataframe tbody tr th {\n",
       "        vertical-align: top;\n",
       "    }\n",
       "\n",
       "    .dataframe thead th {\n",
       "        text-align: right;\n",
       "    }\n",
       "</style>\n",
       "<table border=\"1\" class=\"dataframe\">\n",
       "  <thead>\n",
       "    <tr style=\"text-align: right;\">\n",
       "      <th></th>\n",
       "      <th>in_tissue</th>\n",
       "      <th>array_row</th>\n",
       "      <th>array_col</th>\n",
       "      <th>seqbatch</th>\n",
       "      <th>SampleID</th>\n",
       "      <th>bc</th>\n",
       "      <th>Sample_num</th>\n",
       "      <th>batch</th>\n",
       "    </tr>\n",
       "  </thead>\n",
       "  <tbody>\n",
       "    <tr>\n",
       "      <th>AAACAACGAATAGTTC-1-0</th>\n",
       "      <td>0</td>\n",
       "      <td>0</td>\n",
       "      <td>16</td>\n",
       "      <td>Dec_20_2021</td>\n",
       "      <td>5XFAD1</td>\n",
       "      <td>AAACAACGAATAGTTC</td>\n",
       "      <td>0</td>\n",
       "      <td>0</td>\n",
       "    </tr>\n",
       "    <tr>\n",
       "      <th>AAACAAGTATCTCCCA-1-0</th>\n",
       "      <td>1</td>\n",
       "      <td>50</td>\n",
       "      <td>102</td>\n",
       "      <td>Dec_20_2021</td>\n",
       "      <td>5XFAD1</td>\n",
       "      <td>AAACAAGTATCTCCCA</td>\n",
       "      <td>0</td>\n",
       "      <td>0</td>\n",
       "    </tr>\n",
       "    <tr>\n",
       "      <th>AAACAATCTACTAGCA-1-0</th>\n",
       "      <td>0</td>\n",
       "      <td>3</td>\n",
       "      <td>43</td>\n",
       "      <td>Dec_20_2021</td>\n",
       "      <td>5XFAD1</td>\n",
       "      <td>AAACAATCTACTAGCA</td>\n",
       "      <td>0</td>\n",
       "      <td>0</td>\n",
       "    </tr>\n",
       "    <tr>\n",
       "      <th>AAACACCAATAACTGC-1-0</th>\n",
       "      <td>0</td>\n",
       "      <td>59</td>\n",
       "      <td>19</td>\n",
       "      <td>Dec_20_2021</td>\n",
       "      <td>5XFAD1</td>\n",
       "      <td>AAACACCAATAACTGC</td>\n",
       "      <td>0</td>\n",
       "      <td>0</td>\n",
       "    </tr>\n",
       "    <tr>\n",
       "      <th>AAACAGAGCGACTCCT-1-0</th>\n",
       "      <td>1</td>\n",
       "      <td>14</td>\n",
       "      <td>94</td>\n",
       "      <td>Dec_20_2021</td>\n",
       "      <td>5XFAD1</td>\n",
       "      <td>AAACAGAGCGACTCCT</td>\n",
       "      <td>0</td>\n",
       "      <td>0</td>\n",
       "    </tr>\n",
       "  </tbody>\n",
       "</table>\n",
       "</div>"
      ],
      "text/plain": [
       "                      in_tissue  array_row  array_col     seqbatch SampleID  \\\n",
       "AAACAACGAATAGTTC-1-0          0          0         16  Dec_20_2021   5XFAD1   \n",
       "AAACAAGTATCTCCCA-1-0          1         50        102  Dec_20_2021   5XFAD1   \n",
       "AAACAATCTACTAGCA-1-0          0          3         43  Dec_20_2021   5XFAD1   \n",
       "AAACACCAATAACTGC-1-0          0         59         19  Dec_20_2021   5XFAD1   \n",
       "AAACAGAGCGACTCCT-1-0          1         14         94  Dec_20_2021   5XFAD1   \n",
       "\n",
       "                                    bc Sample_num batch  \n",
       "AAACAACGAATAGTTC-1-0  AAACAACGAATAGTTC          0     0  \n",
       "AAACAAGTATCTCCCA-1-0  AAACAAGTATCTCCCA          0     0  \n",
       "AAACAATCTACTAGCA-1-0  AAACAATCTACTAGCA          0     0  \n",
       "AAACACCAATAACTGC-1-0  AAACACCAATAACTGC          0     0  \n",
       "AAACAGAGCGACTCCT-1-0  AAACAGAGCGACTCCT          0     0  "
      ]
     },
     "execution_count": 27,
     "metadata": {},
     "output_type": "execute_result"
    }
   ],
   "source": [
    "\n",
    "# files\n",
    "spaceranger_dir = '/dfs7/swaruplab/smorabit/data/Visium_Mouse_2021/Dec_20_2021/spaceranger_count/'\n",
    "samples = os.listdir(spaceranger_dir)\n",
    "h5ad_list = [spaceranger_dir + x + '/outs/' for x in samples]\n",
    "\n",
    "# loop over each sample\n",
    "adata_list = [] \n",
    "for i, cur_file in enumerate(h5ad_list):\n",
    "    cur_adata = sc.read_visium(cur_file, count_file='raw_feature_bc_matrix.h5')\n",
    "\n",
    "    cur_adata.obs['seqbatch'] = 'Dec_20_2021'\n",
    "    cur_adata.obs['SampleID'] = samples[i]\n",
    "    cur_adata.obs['bc'] = [x.split('-')[0] for x in cur_adata.obs.index.to_list()]\n",
    "    cur_adata.uns['title'] = samples[i]\n",
    "\n",
    "    cur_adata.var_names_make_unique()\n",
    "    uns_dict[str(i) + '-Dec_20_2021'] = cur_adata.uns\n",
    "    cur_adata.obs['Sample_num'] = str(i)\n",
    "    adata_list.append(cur_adata)\n",
    "\n",
    "# combine\n",
    "adata = adata_list[0].concatenate(adata_list[1:len(adata_list)])\n",
    "adata.obs.head()"
   ]
  },
  {
   "cell_type": "code",
   "execution_count": 28,
   "id": "bf878dbe-753e-41d8-b2a9-6786178177d2",
   "metadata": {},
   "outputs": [
    {
     "data": {
      "text/html": [
       "<div>\n",
       "<style scoped>\n",
       "    .dataframe tbody tr th:only-of-type {\n",
       "        vertical-align: middle;\n",
       "    }\n",
       "\n",
       "    .dataframe tbody tr th {\n",
       "        vertical-align: top;\n",
       "    }\n",
       "\n",
       "    .dataframe thead th {\n",
       "        text-align: right;\n",
       "    }\n",
       "</style>\n",
       "<table border=\"1\" class=\"dataframe\">\n",
       "  <thead>\n",
       "    <tr style=\"text-align: right;\">\n",
       "      <th></th>\n",
       "      <th>SAMPLE</th>\n",
       "      <th>ID</th>\n",
       "      <th>Condition</th>\n",
       "      <th>Sex</th>\n",
       "      <th>Age</th>\n",
       "      <th>CaptureArea</th>\n",
       "      <th>Slide</th>\n",
       "      <th>Sectioning</th>\n",
       "      <th>LibraryDay1</th>\n",
       "      <th>LibraryDay2</th>\n",
       "      <th>INDEX</th>\n",
       "      <th>LibraryName</th>\n",
       "    </tr>\n",
       "  </thead>\n",
       "  <tbody>\n",
       "    <tr>\n",
       "      <th>0</th>\n",
       "      <td>741</td>\n",
       "      <td>7.4-1</td>\n",
       "      <td>5X</td>\n",
       "      <td>F</td>\n",
       "      <td>6mo</td>\n",
       "      <td>A1</td>\n",
       "      <td>V11Y24-116</td>\n",
       "      <td>11/18/21</td>\n",
       "      <td>11/24/21</td>\n",
       "      <td>12/3/21</td>\n",
       "      <td>F9</td>\n",
       "      <td>5XFAD1</td>\n",
       "    </tr>\n",
       "    <tr>\n",
       "      <th>1</th>\n",
       "      <td>414</td>\n",
       "      <td>4.1-4</td>\n",
       "      <td>WT</td>\n",
       "      <td>M</td>\n",
       "      <td>6mo</td>\n",
       "      <td>B1</td>\n",
       "      <td>V11Y24-116</td>\n",
       "      <td>11/18/21</td>\n",
       "      <td>11/24/21</td>\n",
       "      <td>12/3/21</td>\n",
       "      <td>F10</td>\n",
       "      <td>5XFAD2</td>\n",
       "    </tr>\n",
       "    <tr>\n",
       "      <th>2</th>\n",
       "      <td>5114</td>\n",
       "      <td>5.11-4</td>\n",
       "      <td>5X</td>\n",
       "      <td>M</td>\n",
       "      <td>12mo</td>\n",
       "      <td>C1</td>\n",
       "      <td>V11Y24-116</td>\n",
       "      <td>11/18/21</td>\n",
       "      <td>11/24/21</td>\n",
       "      <td>12/3/21</td>\n",
       "      <td>F11</td>\n",
       "      <td>5XFAD3</td>\n",
       "    </tr>\n",
       "    <tr>\n",
       "      <th>3</th>\n",
       "      <td>315</td>\n",
       "      <td>3.1-5</td>\n",
       "      <td>5X?</td>\n",
       "      <td>F</td>\n",
       "      <td>12mo</td>\n",
       "      <td>D1</td>\n",
       "      <td>V11Y24-116</td>\n",
       "      <td>11/18/21</td>\n",
       "      <td>11/24/21</td>\n",
       "      <td>12/3/21</td>\n",
       "      <td>F12</td>\n",
       "      <td>5XFAD4</td>\n",
       "    </tr>\n",
       "    <tr>\n",
       "      <th>4</th>\n",
       "      <td>5105</td>\n",
       "      <td>5.10-5</td>\n",
       "      <td>5X</td>\n",
       "      <td>F</td>\n",
       "      <td>8mo</td>\n",
       "      <td>A1</td>\n",
       "      <td>V11A13-386</td>\n",
       "      <td>11/22/21</td>\n",
       "      <td>11/24/21</td>\n",
       "      <td>12/3/21</td>\n",
       "      <td>B1</td>\n",
       "      <td>5XFAD5</td>\n",
       "    </tr>\n",
       "  </tbody>\n",
       "</table>\n",
       "</div>"
      ],
      "text/plain": [
       "   SAMPLE      ID Condition Sex   Age CaptureArea       Slide Sectioning  \\\n",
       "0     741   7.4-1        5X   F   6mo          A1  V11Y24-116   11/18/21   \n",
       "1     414   4.1-4        WT   M   6mo          B1  V11Y24-116   11/18/21   \n",
       "2    5114  5.11-4        5X   M  12mo          C1  V11Y24-116   11/18/21   \n",
       "3     315   3.1-5       5X?   F  12mo          D1  V11Y24-116   11/18/21   \n",
       "4    5105  5.10-5        5X   F   8mo          A1  V11A13-386   11/22/21   \n",
       "\n",
       "  LibraryDay1 LibraryDay2 INDEX LibraryName  \n",
       "0    11/24/21     12/3/21    F9      5XFAD1  \n",
       "1    11/24/21     12/3/21   F10      5XFAD2  \n",
       "2    11/24/21     12/3/21   F11      5XFAD3  \n",
       "3    11/24/21     12/3/21   F12      5XFAD4  \n",
       "4    11/24/21     12/3/21    B1      5XFAD5  "
      ]
     },
     "execution_count": 28,
     "metadata": {},
     "output_type": "execute_result"
    }
   ],
   "source": [
    "# load metadata\n",
    "meta_file = \"/dfs7/swaruplab/smorabit/data/Visium_Mouse_2021/Dec_20_2021/visium_5xFAD_12-20-21_sample_meta.csv\"\n",
    "meta_df = pd.read_csv(meta_file, sep=',', index_col=None)\n",
    "\n",
    "#meta_df['LibraryName'] = ['5XFAD' + str(int(x)) for x in meta_df['LibraryName'].to_list()]\n",
    "\n",
    "meta_df = meta_df[['SAMPLE', 'ID', 'Condition', 'Sex', 'Age', 'CaptureArea', 'Slide', 'Sectioning', 'LibraryDay1', 'LibraryDay2', 'INDEX', 'LibraryName']]\n",
    "\n",
    "#meta_df.columns = ['SAMPLE', 'Condition', 'Age']\n",
    "#meta_df.SAMPLE = meta_df.SAMPLE.astype('str')\n",
    "meta_df.head()"
   ]
  },
  {
   "cell_type": "code",
   "execution_count": 29,
   "id": "6fb48d9e-046d-4f51-89d1-0a1e3c9523ea",
   "metadata": {},
   "outputs": [],
   "source": [
    "# add the meta\n",
    "temp = adata.obs.merge(\n",
    "    meta_df,\n",
    "    how = 'left',\n",
    "    left_on = 'SampleID',\n",
    "    right_on = 'LibraryName'\n",
    ")\n",
    "temp.index = adata.obs.index\n",
    "temp = temp.drop(labels='LibraryName', axis=1)\n",
    "temp.head() \n",
    "\n",
    "adata.obs = temp\n"
   ]
  },
  {
   "cell_type": "code",
   "execution_count": 30,
   "id": "8c86bad9-5862-44a1-857d-6af86c7f693f",
   "metadata": {},
   "outputs": [],
   "source": [
    "adata_dec_20 = adata"
   ]
  },
  {
   "cell_type": "markdown",
   "id": "2280a700-0523-405b-b067-27907525cea9",
   "metadata": {},
   "source": [
    "## Combine adatas"
   ]
  },
  {
   "cell_type": "code",
   "execution_count": 31,
   "id": "5bb336d1-ba20-4918-a69c-0703633b993c",
   "metadata": {},
   "outputs": [
    {
     "name": "stderr",
     "output_type": "stream",
     "text": [
      "/pub/smorabit/miniconda3/envs/scanpy/lib/python3.11/site-packages/anndata/_core/anndata.py:1763: FutureWarning: The AnnData.concatenate method is deprecated in favour of the anndata.concat function. Please use anndata.concat instead.\n",
      "\n",
      "See the tutorial for concat at: https://anndata.readthedocs.io/en/latest/concatenation.html\n",
      "  warnings.warn(\n",
      "/pub/smorabit/miniconda3/envs/scanpy/lib/python3.11/site-packages/anndata/_core/merge.py:1015: FutureWarning: The default value of 'ignore' for the `na_action` parameter in pandas.Categorical.map is deprecated and will be changed to 'None' in a future version. Please set na_action to the desired value to avoid seeing this warning\n",
      "  concat_indices = concat_indices.str.cat(label_col.map(str), sep=index_unique)\n",
      "/pub/smorabit/miniconda3/envs/scanpy/lib/python3.11/site-packages/anndata/_core/merge.py:1015: FutureWarning: The default value of 'ignore' for the `na_action` parameter in pandas.Categorical.map is deprecated and will be changed to 'None' in a future version. Please set na_action to the desired value to avoid seeing this warning\n",
      "  concat_indices = concat_indices.str.cat(label_col.map(str), sep=index_unique)\n"
     ]
    }
   ],
   "source": [
    "adata_full = adata_pilot.concatenate(\n",
    "    [adata_july, adata_nov_15, adata_nov_24, adata_dec_13, adata_dec_20]\n",
    ")"
   ]
  },
  {
   "cell_type": "markdown",
   "id": "4b47dedb-1c64-426c-9f36-f93590ad03b1",
   "metadata": {},
   "source": [
    "Next we make a new barcode with bc + Sample + batch in order to match the two datasets"
   ]
  },
  {
   "cell_type": "code",
   "execution_count": 32,
   "id": "9d10e937-9375-46fe-ac72-dc1488f01b97",
   "metadata": {},
   "outputs": [],
   "source": [
    "# combine the bc + SAMPLE + seqbatch\n",
    "adata_full.obs.SAMPLE = adata_full.obs.SAMPLE.astype(float).astype(int).astype(str)\n",
    "adata_full.obs['bc_sample_batch'] = adata_full.obs[['bc', 'SAMPLE', 'seqbatch']].agg('-'.join, axis=1)\n",
    "\n",
    "# make it the index\n",
    "adata_full.obs.index = adata_full.obs.bc_sample_batch.to_list()\n"
   ]
  },
  {
   "cell_type": "markdown",
   "id": "6969693d-567c-4acf-adb8-6ac06bfb81ae",
   "metadata": {},
   "source": [
    "## Load the previous dataset"
   ]
  },
  {
   "cell_type": "code",
   "execution_count": 33,
   "id": "5b41ca02-a612-418d-b72b-d9b2663204b4",
   "metadata": {},
   "outputs": [
    {
     "data": {
      "text/html": [
       "<div>\n",
       "<style scoped>\n",
       "    .dataframe tbody tr th:only-of-type {\n",
       "        vertical-align: middle;\n",
       "    }\n",
       "\n",
       "    .dataframe tbody tr th {\n",
       "        vertical-align: top;\n",
       "    }\n",
       "\n",
       "    .dataframe thead th {\n",
       "        text-align: right;\n",
       "    }\n",
       "</style>\n",
       "<table border=\"1\" class=\"dataframe\">\n",
       "  <thead>\n",
       "    <tr style=\"text-align: right;\">\n",
       "      <th></th>\n",
       "      <th>nCount_Spatial</th>\n",
       "      <th>SAMPLE</th>\n",
       "      <th>Condition</th>\n",
       "      <th>Age</th>\n",
       "      <th>seqbatch</th>\n",
       "      <th>Sex</th>\n",
       "      <th>CaptureArea</th>\n",
       "      <th>SlideSerial</th>\n",
       "      <th>Sack.date</th>\n",
       "      <th>Cage.No</th>\n",
       "      <th>row</th>\n",
       "      <th>col</th>\n",
       "      <th>imagerow</th>\n",
       "      <th>imagecol</th>\n",
       "      <th>annotation</th>\n",
       "    </tr>\n",
       "  </thead>\n",
       "  <tbody>\n",
       "    <tr>\n",
       "      <th>AAACAAGTATCTCCCA-1_1_1</th>\n",
       "      <td>974</td>\n",
       "      <td>241</td>\n",
       "      <td>WT</td>\n",
       "      <td>4mo</td>\n",
       "      <td>Pilot_2021</td>\n",
       "      <td>F</td>\n",
       "      <td>C1</td>\n",
       "      <td>V10M17-063</td>\n",
       "      <td>6/4/20</td>\n",
       "      <td>2.4</td>\n",
       "      <td>150</td>\n",
       "      <td>252</td>\n",
       "      <td>4911</td>\n",
       "      <td>9575</td>\n",
       "      <td>ctx-deep-layers</td>\n",
       "    </tr>\n",
       "    <tr>\n",
       "      <th>AAACAGTGTTCCTGGG-1_1_1</th>\n",
       "      <td>1731</td>\n",
       "      <td>241</td>\n",
       "      <td>WT</td>\n",
       "      <td>4mo</td>\n",
       "      <td>Pilot_2021</td>\n",
       "      <td>F</td>\n",
       "      <td>C1</td>\n",
       "      <td>V10M17-063</td>\n",
       "      <td>6/4/20</td>\n",
       "      <td>2.4</td>\n",
       "      <td>173</td>\n",
       "      <td>193</td>\n",
       "      <td>9443</td>\n",
       "      <td>12671</td>\n",
       "      <td>ctx-olfactory</td>\n",
       "    </tr>\n",
       "    <tr>\n",
       "      <th>AAACATTTCCCGGATT-1_1_1</th>\n",
       "      <td>1941</td>\n",
       "      <td>241</td>\n",
       "      <td>WT</td>\n",
       "      <td>4mo</td>\n",
       "      <td>Pilot_2021</td>\n",
       "      <td>F</td>\n",
       "      <td>C1</td>\n",
       "      <td>V10M17-063</td>\n",
       "      <td>6/4/20</td>\n",
       "      <td>2.4</td>\n",
       "      <td>161</td>\n",
       "      <td>247</td>\n",
       "      <td>5291</td>\n",
       "      <td>11050</td>\n",
       "      <td>ctx-olfactory</td>\n",
       "    </tr>\n",
       "    <tr>\n",
       "      <th>AAACCCGAACGAAATC-1_1_1</th>\n",
       "      <td>4018</td>\n",
       "      <td>241</td>\n",
       "      <td>WT</td>\n",
       "      <td>4mo</td>\n",
       "      <td>Pilot_2021</td>\n",
       "      <td>F</td>\n",
       "      <td>C1</td>\n",
       "      <td>V10M17-063</td>\n",
       "      <td>6/4/20</td>\n",
       "      <td>2.4</td>\n",
       "      <td>145</td>\n",
       "      <td>265</td>\n",
       "      <td>3913</td>\n",
       "      <td>8902</td>\n",
       "      <td>ctx-upper-layers</td>\n",
       "    </tr>\n",
       "    <tr>\n",
       "      <th>AAACCGGGTAGGTACC-1_1_1</th>\n",
       "      <td>1371</td>\n",
       "      <td>241</td>\n",
       "      <td>WT</td>\n",
       "      <td>4mo</td>\n",
       "      <td>Pilot_2021</td>\n",
       "      <td>F</td>\n",
       "      <td>C1</td>\n",
       "      <td>V10M17-063</td>\n",
       "      <td>6/4/20</td>\n",
       "      <td>2.4</td>\n",
       "      <td>142</td>\n",
       "      <td>178</td>\n",
       "      <td>10612</td>\n",
       "      <td>8522</td>\n",
       "      <td>thalamus1</td>\n",
       "    </tr>\n",
       "  </tbody>\n",
       "</table>\n",
       "</div>"
      ],
      "text/plain": [
       "                        nCount_Spatial  SAMPLE Condition  Age    seqbatch Sex  \\\n",
       "AAACAAGTATCTCCCA-1_1_1             974     241        WT  4mo  Pilot_2021   F   \n",
       "AAACAGTGTTCCTGGG-1_1_1            1731     241        WT  4mo  Pilot_2021   F   \n",
       "AAACATTTCCCGGATT-1_1_1            1941     241        WT  4mo  Pilot_2021   F   \n",
       "AAACCCGAACGAAATC-1_1_1            4018     241        WT  4mo  Pilot_2021   F   \n",
       "AAACCGGGTAGGTACC-1_1_1            1371     241        WT  4mo  Pilot_2021   F   \n",
       "\n",
       "                       CaptureArea SlideSerial Sack.date  Cage.No  row  col  \\\n",
       "AAACAAGTATCTCCCA-1_1_1          C1  V10M17-063    6/4/20      2.4  150  252   \n",
       "AAACAGTGTTCCTGGG-1_1_1          C1  V10M17-063    6/4/20      2.4  173  193   \n",
       "AAACATTTCCCGGATT-1_1_1          C1  V10M17-063    6/4/20      2.4  161  247   \n",
       "AAACCCGAACGAAATC-1_1_1          C1  V10M17-063    6/4/20      2.4  145  265   \n",
       "AAACCGGGTAGGTACC-1_1_1          C1  V10M17-063    6/4/20      2.4  142  178   \n",
       "\n",
       "                        imagerow  imagecol        annotation  \n",
       "AAACAAGTATCTCCCA-1_1_1      4911      9575   ctx-deep-layers  \n",
       "AAACAGTGTTCCTGGG-1_1_1      9443     12671     ctx-olfactory  \n",
       "AAACATTTCCCGGATT-1_1_1      5291     11050     ctx-olfactory  \n",
       "AAACCCGAACGAAATC-1_1_1      3913      8902  ctx-upper-layers  \n",
       "AAACCGGGTAGGTACC-1_1_1     10612      8522         thalamus1  "
      ]
     },
     "execution_count": 33,
     "metadata": {},
     "output_type": "execute_result"
    }
   ],
   "source": [
    "# load dataset\n",
    "h5ad_file=\"/dfs7/swaruplab/smorabit/analysis/ADDS_2021/visium/5xFAD/data/5xFAD_visium_scDRS.h5ad\"\n",
    "adata_seurat = sc.read(h5ad_file)\n",
    "adata_seurat.obs.head()"
   ]
  },
  {
   "cell_type": "code",
   "execution_count": 34,
   "id": "bedd67be-4d9f-43e2-9dba-737b0430eea0",
   "metadata": {},
   "outputs": [],
   "source": [
    "# add a barcode column\n",
    "adata_seurat.obs['bc'] = [x.split('-')[0] for x in adata_seurat.obs.index.to_list()]"
   ]
  },
  {
   "cell_type": "code",
   "execution_count": 35,
   "id": "96a63c8c-df9b-4e7a-aeb3-9891e1db9146",
   "metadata": {},
   "outputs": [],
   "source": [
    "# combine the bc + SAMPLE + seqbatch\n",
    "adata_seurat.obs.SAMPLE = adata_seurat.obs.SAMPLE.astype(str)\n",
    "adata_seurat.obs['bc_sample_batch'] = adata_seurat.obs[['bc', 'SAMPLE', 'seqbatch']].agg('-'.join, axis=1)\n",
    "\n",
    "# make it the index\n",
    "adata_seurat.obs.index = adata_seurat.obs.bc_sample_batch.to_list()\n"
   ]
  },
  {
   "cell_type": "code",
   "execution_count": 36,
   "id": "a5ffeae5-28cd-48a4-b3a4-4befdd1fd7a3",
   "metadata": {},
   "outputs": [
    {
     "data": {
      "text/html": [
       "<div>\n",
       "<style scoped>\n",
       "    .dataframe tbody tr th:only-of-type {\n",
       "        vertical-align: middle;\n",
       "    }\n",
       "\n",
       "    .dataframe tbody tr th {\n",
       "        vertical-align: top;\n",
       "    }\n",
       "\n",
       "    .dataframe thead th {\n",
       "        text-align: right;\n",
       "    }\n",
       "</style>\n",
       "<table border=\"1\" class=\"dataframe\">\n",
       "  <thead>\n",
       "    <tr style=\"text-align: right;\">\n",
       "      <th></th>\n",
       "      <th>nCount_Spatial</th>\n",
       "      <th>SAMPLE</th>\n",
       "      <th>Condition</th>\n",
       "      <th>Age</th>\n",
       "      <th>seqbatch</th>\n",
       "      <th>Sex</th>\n",
       "      <th>CaptureArea</th>\n",
       "      <th>SlideSerial</th>\n",
       "      <th>Sack.date</th>\n",
       "      <th>Cage.No</th>\n",
       "      <th>row</th>\n",
       "      <th>col</th>\n",
       "      <th>imagerow</th>\n",
       "      <th>imagecol</th>\n",
       "      <th>annotation</th>\n",
       "      <th>bc</th>\n",
       "      <th>bc_sample_batch</th>\n",
       "    </tr>\n",
       "  </thead>\n",
       "  <tbody>\n",
       "    <tr>\n",
       "      <th>AAACAAGTATCTCCCA-592-Pilot_2021</th>\n",
       "      <td>19145</td>\n",
       "      <td>592</td>\n",
       "      <td>5X</td>\n",
       "      <td>8mo</td>\n",
       "      <td>Pilot_2021</td>\n",
       "      <td>F</td>\n",
       "      <td>B1</td>\n",
       "      <td>V10M17-063</td>\n",
       "      <td>10/27/20</td>\n",
       "      <td>5.9</td>\n",
       "      <td>150</td>\n",
       "      <td>702</td>\n",
       "      <td>4930</td>\n",
       "      <td>8612</td>\n",
       "      <td>ctx-olfactory</td>\n",
       "      <td>AAACAAGTATCTCCCA</td>\n",
       "      <td>AAACAAGTATCTCCCA-592-Pilot_2021</td>\n",
       "    </tr>\n",
       "    <tr>\n",
       "      <th>AAACAATCTACTAGCA-592-Pilot_2021</th>\n",
       "      <td>8497</td>\n",
       "      <td>592</td>\n",
       "      <td>5X</td>\n",
       "      <td>8mo</td>\n",
       "      <td>Pilot_2021</td>\n",
       "      <td>F</td>\n",
       "      <td>B1</td>\n",
       "      <td>V10M17-063</td>\n",
       "      <td>10/27/20</td>\n",
       "      <td>5.9</td>\n",
       "      <td>103</td>\n",
       "      <td>643</td>\n",
       "      <td>9464</td>\n",
       "      <td>2342</td>\n",
       "      <td>ctx-upper-layers</td>\n",
       "      <td>AAACAATCTACTAGCA</td>\n",
       "      <td>AAACAATCTACTAGCA-592-Pilot_2021</td>\n",
       "    </tr>\n",
       "    <tr>\n",
       "      <th>AAACAGAGCGACTCCT-592-Pilot_2021</th>\n",
       "      <td>7541</td>\n",
       "      <td>592</td>\n",
       "      <td>5X</td>\n",
       "      <td>8mo</td>\n",
       "      <td>Pilot_2021</td>\n",
       "      <td>F</td>\n",
       "      <td>B1</td>\n",
       "      <td>V10M17-063</td>\n",
       "      <td>10/27/20</td>\n",
       "      <td>5.9</td>\n",
       "      <td>114</td>\n",
       "      <td>694</td>\n",
       "      <td>5549</td>\n",
       "      <td>3807</td>\n",
       "      <td>ctx-upper-layers</td>\n",
       "      <td>AAACAGAGCGACTCCT</td>\n",
       "      <td>AAACAGAGCGACTCCT-592-Pilot_2021</td>\n",
       "    </tr>\n",
       "    <tr>\n",
       "      <th>AAACATTTCCCGGATT-592-Pilot_2021</th>\n",
       "      <td>4199</td>\n",
       "      <td>592</td>\n",
       "      <td>5X</td>\n",
       "      <td>8mo</td>\n",
       "      <td>Pilot_2021</td>\n",
       "      <td>F</td>\n",
       "      <td>B1</td>\n",
       "      <td>V10M17-063</td>\n",
       "      <td>10/27/20</td>\n",
       "      <td>5.9</td>\n",
       "      <td>161</td>\n",
       "      <td>697</td>\n",
       "      <td>5312</td>\n",
       "      <td>10081</td>\n",
       "      <td>hippocampus</td>\n",
       "      <td>AAACATTTCCCGGATT</td>\n",
       "      <td>AAACATTTCCCGGATT-592-Pilot_2021</td>\n",
       "    </tr>\n",
       "    <tr>\n",
       "      <th>AAACCGGGTAGGTACC-592-Pilot_2021</th>\n",
       "      <td>13566</td>\n",
       "      <td>592</td>\n",
       "      <td>5X</td>\n",
       "      <td>8mo</td>\n",
       "      <td>Pilot_2021</td>\n",
       "      <td>F</td>\n",
       "      <td>B1</td>\n",
       "      <td>V10M17-063</td>\n",
       "      <td>10/27/20</td>\n",
       "      <td>5.9</td>\n",
       "      <td>142</td>\n",
       "      <td>628</td>\n",
       "      <td>10609</td>\n",
       "      <td>7550</td>\n",
       "      <td>WM-cerebral-peduncle</td>\n",
       "      <td>AAACCGGGTAGGTACC</td>\n",
       "      <td>AAACCGGGTAGGTACC-592-Pilot_2021</td>\n",
       "    </tr>\n",
       "  </tbody>\n",
       "</table>\n",
       "</div>"
      ],
      "text/plain": [
       "                                 nCount_Spatial SAMPLE Condition  Age  \\\n",
       "AAACAAGTATCTCCCA-592-Pilot_2021           19145    592        5X  8mo   \n",
       "AAACAATCTACTAGCA-592-Pilot_2021            8497    592        5X  8mo   \n",
       "AAACAGAGCGACTCCT-592-Pilot_2021            7541    592        5X  8mo   \n",
       "AAACATTTCCCGGATT-592-Pilot_2021            4199    592        5X  8mo   \n",
       "AAACCGGGTAGGTACC-592-Pilot_2021           13566    592        5X  8mo   \n",
       "\n",
       "                                   seqbatch Sex CaptureArea SlideSerial  \\\n",
       "AAACAAGTATCTCCCA-592-Pilot_2021  Pilot_2021   F          B1  V10M17-063   \n",
       "AAACAATCTACTAGCA-592-Pilot_2021  Pilot_2021   F          B1  V10M17-063   \n",
       "AAACAGAGCGACTCCT-592-Pilot_2021  Pilot_2021   F          B1  V10M17-063   \n",
       "AAACATTTCCCGGATT-592-Pilot_2021  Pilot_2021   F          B1  V10M17-063   \n",
       "AAACCGGGTAGGTACC-592-Pilot_2021  Pilot_2021   F          B1  V10M17-063   \n",
       "\n",
       "                                Sack.date  Cage.No  row  col  imagerow  \\\n",
       "AAACAAGTATCTCCCA-592-Pilot_2021  10/27/20      5.9  150  702      4930   \n",
       "AAACAATCTACTAGCA-592-Pilot_2021  10/27/20      5.9  103  643      9464   \n",
       "AAACAGAGCGACTCCT-592-Pilot_2021  10/27/20      5.9  114  694      5549   \n",
       "AAACATTTCCCGGATT-592-Pilot_2021  10/27/20      5.9  161  697      5312   \n",
       "AAACCGGGTAGGTACC-592-Pilot_2021  10/27/20      5.9  142  628     10609   \n",
       "\n",
       "                                 imagecol            annotation  \\\n",
       "AAACAAGTATCTCCCA-592-Pilot_2021      8612         ctx-olfactory   \n",
       "AAACAATCTACTAGCA-592-Pilot_2021      2342      ctx-upper-layers   \n",
       "AAACAGAGCGACTCCT-592-Pilot_2021      3807      ctx-upper-layers   \n",
       "AAACATTTCCCGGATT-592-Pilot_2021     10081           hippocampus   \n",
       "AAACCGGGTAGGTACC-592-Pilot_2021      7550  WM-cerebral-peduncle   \n",
       "\n",
       "                                               bc  \\\n",
       "AAACAAGTATCTCCCA-592-Pilot_2021  AAACAAGTATCTCCCA   \n",
       "AAACAATCTACTAGCA-592-Pilot_2021  AAACAATCTACTAGCA   \n",
       "AAACAGAGCGACTCCT-592-Pilot_2021  AAACAGAGCGACTCCT   \n",
       "AAACATTTCCCGGATT-592-Pilot_2021  AAACATTTCCCGGATT   \n",
       "AAACCGGGTAGGTACC-592-Pilot_2021  AAACCGGGTAGGTACC   \n",
       "\n",
       "                                                 bc_sample_batch  \n",
       "AAACAAGTATCTCCCA-592-Pilot_2021  AAACAAGTATCTCCCA-592-Pilot_2021  \n",
       "AAACAATCTACTAGCA-592-Pilot_2021  AAACAATCTACTAGCA-592-Pilot_2021  \n",
       "AAACAGAGCGACTCCT-592-Pilot_2021  AAACAGAGCGACTCCT-592-Pilot_2021  \n",
       "AAACATTTCCCGGATT-592-Pilot_2021  AAACATTTCCCGGATT-592-Pilot_2021  \n",
       "AAACCGGGTAGGTACC-592-Pilot_2021  AAACCGGGTAGGTACC-592-Pilot_2021  "
      ]
     },
     "execution_count": 36,
     "metadata": {},
     "output_type": "execute_result"
    }
   ],
   "source": [
    "# check ages of some samples:\n",
    "adata_seurat.obs[adata_seurat.obs.SAMPLE == '592'].head()\n"
   ]
  },
  {
   "cell_type": "code",
   "execution_count": 37,
   "id": "e853670d-85c1-4a7a-91a0-c7d27daa8a91",
   "metadata": {},
   "outputs": [
    {
     "data": {
      "text/plain": [
       "Index(['nCount_Spatial', 'SAMPLE', 'Condition', 'Age', 'seqbatch', 'Sex',\n",
       "       'CaptureArea', 'SlideSerial', 'Sack.date', 'Cage.No', 'row', 'col',\n",
       "       'imagerow', 'imagecol', 'annotation', 'bc', 'bc_sample_batch'],\n",
       "      dtype='object')"
      ]
     },
     "execution_count": 37,
     "metadata": {},
     "output_type": "execute_result"
    }
   ],
   "source": [
    "adata_seurat.obs.columns"
   ]
  },
  {
   "cell_type": "markdown",
   "id": "669840a3-2d2e-41a1-b409-faa20668198d",
   "metadata": {},
   "source": [
    "## Transfer info (clusters etc) from the processed to the new one\n",
    "\n",
    "This doesn't work anymore because they want us to have the other stuff\n"
   ]
  },
  {
   "cell_type": "code",
   "execution_count": 38,
   "id": "8e39cc1a-7af4-44cd-ab0e-c02f69231dd6",
   "metadata": {},
   "outputs": [],
   "source": [
    "temp = adata_full.obs.merge(\n",
    "    adata_seurat.obs,\n",
    "    how = 'left',\n",
    "    on = 'bc_sample_batch',\n",
    ")\n",
    "temp.head()\n",
    "\n",
    "# transfer selected columns:\n",
    "adata_full.obs['annotation'] = temp.annotation.to_list()\n",
    "\n",
    "#temp.Age_x.isna()\n",
    "\n",
    "# temp.index = adata.obs.index\n",
    "# temp = temp.drop(labels='LibraryName', axis=1)\n",
    "# temp.head() \n",
    "\n",
    "# adata.obs = temp\n"
   ]
  },
  {
   "cell_type": "code",
   "execution_count": 39,
   "id": "9c0e932c-6d2c-4c75-9f03-b17f7543fd69",
   "metadata": {},
   "outputs": [],
   "source": [
    "adata_full.layers['counts'] = adata_full.X.copy()"
   ]
  },
  {
   "cell_type": "code",
   "execution_count": 40,
   "id": "33c208cd-fdc9-4276-b6b2-6de45b3805a3",
   "metadata": {},
   "outputs": [
    {
     "name": "stdout",
     "output_type": "stream",
     "text": [
      "normalizing counts per cell\n"
     ]
    },
    {
     "name": "stderr",
     "output_type": "stream",
     "text": [
      "/pub/smorabit/miniconda3/envs/scanpy/lib/python3.11/site-packages/scanpy/preprocessing/_normalization.py:196: UserWarning: Some cells have zero counts\n",
      "  warn(UserWarning('Some cells have zero counts'))\n"
     ]
    },
    {
     "name": "stdout",
     "output_type": "stream",
     "text": [
      "    finished (0:00:03)\n"
     ]
    }
   ],
   "source": [
    "# make the counts the raw\n",
    "#adata_full.raw = adata_full.copy()\n",
    "\n",
    "# normalize expression \n",
    "sc.pp.normalize_total(adata_full, target_sum=1e4)\n",
    "sc.pp.log1p(adata_full)"
   ]
  },
  {
   "cell_type": "markdown",
   "id": "50ccd455-5b49-4433-bf4d-59dbca1fe9fb",
   "metadata": {},
   "source": [
    "Now adding columns required by CxG\n",
    "\n",
    "* organism_ontology_term_id\n",
    "* tissue_ontology_term_id\n",
    "* assay_ontology_term_id\n",
    "* disease_ontology_term_id\n",
    "* cell_type_ontology_term_id\n",
    "* self_reported_ethnicity_ontology_term_id\n",
    "* development_stage_ontology_term_id\n",
    "* sex_ontology_term_id\n",
    "* donor_id\n",
    "* suspension_type\n"
   ]
  },
  {
   "cell_type": "code",
   "execution_count": 43,
   "id": "f7f03148-1f3a-4f9a-968d-0bf42eca039f",
   "metadata": {},
   "outputs": [],
   "source": [
    "# species info (MOUSE)\n",
    "adata_full.obs['organism_ontology_term_id'] = 'NCBITaxon:10090'"
   ]
  },
  {
   "cell_type": "code",
   "execution_count": 44,
   "id": "0bae04ff-fbee-4e7b-b8f0-fac3d7491a9f",
   "metadata": {},
   "outputs": [],
   "source": [
    "# tissue info\n",
    "adata_full.obs['tissue_ontology_term_id'] = 'UBERON:0000955'\n",
    "adata_full.obs['tissue_type'] = 'tissue'"
   ]
  },
  {
   "cell_type": "code",
   "execution_count": 45,
   "id": "7e168c62-b4ff-4ddc-8b66-1a9b7c11374c",
   "metadata": {},
   "outputs": [],
   "source": [
    "# assay info \n",
    "adata_full.obs['assay_ontology_term_id'] = 'EFO:0010961' \n",
    "adata_full.obs['suspension_type'] = 'na' # because visium"
   ]
  },
  {
   "cell_type": "code",
   "execution_count": 46,
   "id": "2259da19-f707-4851-8629-1674f6485b7c",
   "metadata": {},
   "outputs": [],
   "source": [
    "# disease ontology info (not available because this is a mouse)\n",
    "adata_full.obs['disease_ontology_term_id'] = 'PATO:0000461'"
   ]
  },
  {
   "cell_type": "code",
   "execution_count": 47,
   "id": "534864bd-ff3a-48f7-a44d-8853d2d8788d",
   "metadata": {},
   "outputs": [],
   "source": [
    "# cell type info (not available because this is visium \n",
    "adata_full.obs['cell_type_ontology_term_id'] = 'CL:0002319'"
   ]
  },
  {
   "cell_type": "code",
   "execution_count": 48,
   "id": "065a1769-d5a5-455c-9753-e0610d04c916",
   "metadata": {},
   "outputs": [],
   "source": [
    "# ethnicity\n",
    "adata_full.obs['self_reported_ethnicity_ontology_term_id'] = 'na'"
   ]
  },
  {
   "cell_type": "code",
   "execution_count": 49,
   "id": "f63a8d03-c26b-446f-9246-ca714ff15216",
   "metadata": {},
   "outputs": [],
   "source": [
    "# development stage\n",
    "adata_full.obs['development_stage_ontology_term_id'] = 'MmusDv:0000136'"
   ]
  },
  {
   "cell_type": "code",
   "execution_count": 50,
   "id": "cbfb9bf9-bd40-44c1-a636-2b095097764e",
   "metadata": {},
   "outputs": [],
   "source": [
    "# sex info\n",
    "\n",
    "# female:  PATO:0000383\n",
    "# male:  PATO:0000384\n",
    "sex = adata_full.obs['Sex'].replace('F', 'PATO:0000383')\n",
    "sex = sex.replace('M', 'PATO:0000384')\n",
    "adata_full.obs['sex_ontology_term_id'] = sex\n"
   ]
  },
  {
   "cell_type": "code",
   "execution_count": 51,
   "id": "04368c6e-2a71-4bef-b7e4-b0547a8ba6d3",
   "metadata": {},
   "outputs": [],
   "source": [
    "adata_full.obs['donor_id'] = 'Miyoshi_Morabito_2024_5xFAD_Visium_' + adata_full.obs['SAMPLE'] "
   ]
  },
  {
   "cell_type": "markdown",
   "id": "ea359d98-4b3a-476e-8cbf-0d833e85a378",
   "metadata": {},
   "source": [
    "### Only keep the columns that they ask for !!!"
   ]
  },
  {
   "cell_type": "code",
   "execution_count": 52,
   "id": "834b1da3-aa71-4ff7-9878-474c987d98f4",
   "metadata": {},
   "outputs": [
    {
     "data": {
      "text/plain": [
       "Index(['in_tissue', 'array_row', 'array_col', 'seqbatch', 'SAMPLE', 'bc',\n",
       "       'Sample_num', 'batch', 'Condition', 'Age', 'Sex', 'Unnamed: 0',\n",
       "       'CaptureArea', 'Slide', 'Sectioning', 'LibraryDay1', 'LibraryDay2',\n",
       "       'INDEX', 'ID', 'SampleID', 'bc_sample_batch', 'annotation',\n",
       "       'organism_ontology_term_id', 'tissue_ontology_term_id', 'tissue_type',\n",
       "       'assay_ontology_term_id', 'suspension_type', 'disease_ontology_term_id',\n",
       "       'cell_type_ontology_term_id',\n",
       "       'self_reported_ethnicity_ontology_term_id',\n",
       "       'development_stage_ontology_term_id', 'sex_ontology_term_id',\n",
       "       'donor_id'],\n",
       "      dtype='object')"
      ]
     },
     "execution_count": 52,
     "metadata": {},
     "output_type": "execute_result"
    }
   ],
   "source": [
    "adata_full.obs.columns"
   ]
  },
  {
   "cell_type": "code",
   "execution_count": 53,
   "id": "acc133f0-ecf4-479b-91e9-4b292f75ec3d",
   "metadata": {},
   "outputs": [],
   "source": [
    "columns_keep = [\n",
    "    'in_tissue',\n",
    "    'array_row',\n",
    "    'array_col',\n",
    "    'organism_ontology_term_id',\n",
    "    'tissue_ontology_term_id',\n",
    "    'tissue_type',\n",
    "    'assay_ontology_term_id',\n",
    "    'disease_ontology_term_id',\n",
    "    'cell_type_ontology_term_id',\n",
    "    'self_reported_ethnicity_ontology_term_id',\n",
    "    'development_stage_ontology_term_id',\n",
    "    'sex_ontology_term_id',\n",
    "    'donor_id',\n",
    "    'suspension_type',\n",
    "    'Sample_num',\n",
    "    'annotation',\n",
    "    'Condition',\n",
    "    'Age',\n",
    "    'Sex'\n",
    "]"
   ]
  },
  {
   "cell_type": "code",
   "execution_count": 54,
   "id": "4b57e5c1-ba32-45c2-8422-6917ab288fc5",
   "metadata": {},
   "outputs": [],
   "source": [
    "adata_full.obs = adata_full.obs[columns_keep]"
   ]
  },
  {
   "cell_type": "markdown",
   "id": "9afa4e14-5b78-45e6-a65a-1a296bcab7e2",
   "metadata": {},
   "source": [
    "Set the var to the gene ids:"
   ]
  },
  {
   "cell_type": "code",
   "execution_count": 55,
   "id": "c72c102b-14b1-4efb-bc91-1ec3e8f12982",
   "metadata": {},
   "outputs": [],
   "source": [
    "adata_full.var.index = adata_full.var['gene_ids'].to_list()"
   ]
  },
  {
   "cell_type": "code",
   "execution_count": 56,
   "id": "fa642b19-0e4d-478c-8064-01de2d3fd62c",
   "metadata": {},
   "outputs": [
    {
     "data": {
      "text/html": [
       "<div>\n",
       "<style scoped>\n",
       "    .dataframe tbody tr th:only-of-type {\n",
       "        vertical-align: middle;\n",
       "    }\n",
       "\n",
       "    .dataframe tbody tr th {\n",
       "        vertical-align: top;\n",
       "    }\n",
       "\n",
       "    .dataframe thead th {\n",
       "        text-align: right;\n",
       "    }\n",
       "</style>\n",
       "<table border=\"1\" class=\"dataframe\">\n",
       "  <thead>\n",
       "    <tr style=\"text-align: right;\">\n",
       "      <th></th>\n",
       "      <th>in_tissue</th>\n",
       "      <th>array_row</th>\n",
       "      <th>array_col</th>\n",
       "      <th>organism_ontology_term_id</th>\n",
       "      <th>tissue_ontology_term_id</th>\n",
       "      <th>tissue_type</th>\n",
       "      <th>assay_ontology_term_id</th>\n",
       "      <th>disease_ontology_term_id</th>\n",
       "      <th>cell_type_ontology_term_id</th>\n",
       "      <th>self_reported_ethnicity_ontology_term_id</th>\n",
       "      <th>development_stage_ontology_term_id</th>\n",
       "      <th>sex_ontology_term_id</th>\n",
       "      <th>donor_id</th>\n",
       "      <th>suspension_type</th>\n",
       "      <th>Sample_num</th>\n",
       "      <th>annotation</th>\n",
       "      <th>Condition</th>\n",
       "      <th>Age</th>\n",
       "      <th>Sex</th>\n",
       "    </tr>\n",
       "  </thead>\n",
       "  <tbody>\n",
       "    <tr>\n",
       "      <th>AAACAACGAATAGTTC-241-Pilot_2021</th>\n",
       "      <td>0</td>\n",
       "      <td>0</td>\n",
       "      <td>16</td>\n",
       "      <td>NCBITaxon:10090</td>\n",
       "      <td>UBERON:0000955</td>\n",
       "      <td>tissue</td>\n",
       "      <td>EFO:0010961</td>\n",
       "      <td>PATO:0000461</td>\n",
       "      <td>CL:0002319</td>\n",
       "      <td>na</td>\n",
       "      <td>MmusDv:0000136</td>\n",
       "      <td>PATO:0000383</td>\n",
       "      <td>Miyoshi_Morabito_2024_5xFAD_Visium_241</td>\n",
       "      <td>na</td>\n",
       "      <td>0</td>\n",
       "      <td>NaN</td>\n",
       "      <td>WT</td>\n",
       "      <td>4mo</td>\n",
       "      <td>F</td>\n",
       "    </tr>\n",
       "    <tr>\n",
       "      <th>AAACAAGTATCTCCCA-241-Pilot_2021</th>\n",
       "      <td>1</td>\n",
       "      <td>50</td>\n",
       "      <td>102</td>\n",
       "      <td>NCBITaxon:10090</td>\n",
       "      <td>UBERON:0000955</td>\n",
       "      <td>tissue</td>\n",
       "      <td>EFO:0010961</td>\n",
       "      <td>PATO:0000461</td>\n",
       "      <td>CL:0002319</td>\n",
       "      <td>na</td>\n",
       "      <td>MmusDv:0000136</td>\n",
       "      <td>PATO:0000383</td>\n",
       "      <td>Miyoshi_Morabito_2024_5xFAD_Visium_241</td>\n",
       "      <td>na</td>\n",
       "      <td>0</td>\n",
       "      <td>ctx-deep-layers</td>\n",
       "      <td>WT</td>\n",
       "      <td>4mo</td>\n",
       "      <td>F</td>\n",
       "    </tr>\n",
       "    <tr>\n",
       "      <th>AAACAATCTACTAGCA-241-Pilot_2021</th>\n",
       "      <td>0</td>\n",
       "      <td>3</td>\n",
       "      <td>43</td>\n",
       "      <td>NCBITaxon:10090</td>\n",
       "      <td>UBERON:0000955</td>\n",
       "      <td>tissue</td>\n",
       "      <td>EFO:0010961</td>\n",
       "      <td>PATO:0000461</td>\n",
       "      <td>CL:0002319</td>\n",
       "      <td>na</td>\n",
       "      <td>MmusDv:0000136</td>\n",
       "      <td>PATO:0000383</td>\n",
       "      <td>Miyoshi_Morabito_2024_5xFAD_Visium_241</td>\n",
       "      <td>na</td>\n",
       "      <td>0</td>\n",
       "      <td>NaN</td>\n",
       "      <td>WT</td>\n",
       "      <td>4mo</td>\n",
       "      <td>F</td>\n",
       "    </tr>\n",
       "    <tr>\n",
       "      <th>AAACACCAATAACTGC-241-Pilot_2021</th>\n",
       "      <td>0</td>\n",
       "      <td>59</td>\n",
       "      <td>19</td>\n",
       "      <td>NCBITaxon:10090</td>\n",
       "      <td>UBERON:0000955</td>\n",
       "      <td>tissue</td>\n",
       "      <td>EFO:0010961</td>\n",
       "      <td>PATO:0000461</td>\n",
       "      <td>CL:0002319</td>\n",
       "      <td>na</td>\n",
       "      <td>MmusDv:0000136</td>\n",
       "      <td>PATO:0000383</td>\n",
       "      <td>Miyoshi_Morabito_2024_5xFAD_Visium_241</td>\n",
       "      <td>na</td>\n",
       "      <td>0</td>\n",
       "      <td>NaN</td>\n",
       "      <td>WT</td>\n",
       "      <td>4mo</td>\n",
       "      <td>F</td>\n",
       "    </tr>\n",
       "    <tr>\n",
       "      <th>AAACAGAGCGACTCCT-241-Pilot_2021</th>\n",
       "      <td>0</td>\n",
       "      <td>14</td>\n",
       "      <td>94</td>\n",
       "      <td>NCBITaxon:10090</td>\n",
       "      <td>UBERON:0000955</td>\n",
       "      <td>tissue</td>\n",
       "      <td>EFO:0010961</td>\n",
       "      <td>PATO:0000461</td>\n",
       "      <td>CL:0002319</td>\n",
       "      <td>na</td>\n",
       "      <td>MmusDv:0000136</td>\n",
       "      <td>PATO:0000383</td>\n",
       "      <td>Miyoshi_Morabito_2024_5xFAD_Visium_241</td>\n",
       "      <td>na</td>\n",
       "      <td>0</td>\n",
       "      <td>NaN</td>\n",
       "      <td>WT</td>\n",
       "      <td>4mo</td>\n",
       "      <td>F</td>\n",
       "    </tr>\n",
       "  </tbody>\n",
       "</table>\n",
       "</div>"
      ],
      "text/plain": [
       "                                 in_tissue  array_row  array_col  \\\n",
       "AAACAACGAATAGTTC-241-Pilot_2021          0          0         16   \n",
       "AAACAAGTATCTCCCA-241-Pilot_2021          1         50        102   \n",
       "AAACAATCTACTAGCA-241-Pilot_2021          0          3         43   \n",
       "AAACACCAATAACTGC-241-Pilot_2021          0         59         19   \n",
       "AAACAGAGCGACTCCT-241-Pilot_2021          0         14         94   \n",
       "\n",
       "                                organism_ontology_term_id  \\\n",
       "AAACAACGAATAGTTC-241-Pilot_2021           NCBITaxon:10090   \n",
       "AAACAAGTATCTCCCA-241-Pilot_2021           NCBITaxon:10090   \n",
       "AAACAATCTACTAGCA-241-Pilot_2021           NCBITaxon:10090   \n",
       "AAACACCAATAACTGC-241-Pilot_2021           NCBITaxon:10090   \n",
       "AAACAGAGCGACTCCT-241-Pilot_2021           NCBITaxon:10090   \n",
       "\n",
       "                                tissue_ontology_term_id tissue_type  \\\n",
       "AAACAACGAATAGTTC-241-Pilot_2021          UBERON:0000955      tissue   \n",
       "AAACAAGTATCTCCCA-241-Pilot_2021          UBERON:0000955      tissue   \n",
       "AAACAATCTACTAGCA-241-Pilot_2021          UBERON:0000955      tissue   \n",
       "AAACACCAATAACTGC-241-Pilot_2021          UBERON:0000955      tissue   \n",
       "AAACAGAGCGACTCCT-241-Pilot_2021          UBERON:0000955      tissue   \n",
       "\n",
       "                                assay_ontology_term_id  \\\n",
       "AAACAACGAATAGTTC-241-Pilot_2021            EFO:0010961   \n",
       "AAACAAGTATCTCCCA-241-Pilot_2021            EFO:0010961   \n",
       "AAACAATCTACTAGCA-241-Pilot_2021            EFO:0010961   \n",
       "AAACACCAATAACTGC-241-Pilot_2021            EFO:0010961   \n",
       "AAACAGAGCGACTCCT-241-Pilot_2021            EFO:0010961   \n",
       "\n",
       "                                disease_ontology_term_id  \\\n",
       "AAACAACGAATAGTTC-241-Pilot_2021             PATO:0000461   \n",
       "AAACAAGTATCTCCCA-241-Pilot_2021             PATO:0000461   \n",
       "AAACAATCTACTAGCA-241-Pilot_2021             PATO:0000461   \n",
       "AAACACCAATAACTGC-241-Pilot_2021             PATO:0000461   \n",
       "AAACAGAGCGACTCCT-241-Pilot_2021             PATO:0000461   \n",
       "\n",
       "                                cell_type_ontology_term_id  \\\n",
       "AAACAACGAATAGTTC-241-Pilot_2021                 CL:0002319   \n",
       "AAACAAGTATCTCCCA-241-Pilot_2021                 CL:0002319   \n",
       "AAACAATCTACTAGCA-241-Pilot_2021                 CL:0002319   \n",
       "AAACACCAATAACTGC-241-Pilot_2021                 CL:0002319   \n",
       "AAACAGAGCGACTCCT-241-Pilot_2021                 CL:0002319   \n",
       "\n",
       "                                self_reported_ethnicity_ontology_term_id  \\\n",
       "AAACAACGAATAGTTC-241-Pilot_2021                                       na   \n",
       "AAACAAGTATCTCCCA-241-Pilot_2021                                       na   \n",
       "AAACAATCTACTAGCA-241-Pilot_2021                                       na   \n",
       "AAACACCAATAACTGC-241-Pilot_2021                                       na   \n",
       "AAACAGAGCGACTCCT-241-Pilot_2021                                       na   \n",
       "\n",
       "                                development_stage_ontology_term_id  \\\n",
       "AAACAACGAATAGTTC-241-Pilot_2021                     MmusDv:0000136   \n",
       "AAACAAGTATCTCCCA-241-Pilot_2021                     MmusDv:0000136   \n",
       "AAACAATCTACTAGCA-241-Pilot_2021                     MmusDv:0000136   \n",
       "AAACACCAATAACTGC-241-Pilot_2021                     MmusDv:0000136   \n",
       "AAACAGAGCGACTCCT-241-Pilot_2021                     MmusDv:0000136   \n",
       "\n",
       "                                sex_ontology_term_id  \\\n",
       "AAACAACGAATAGTTC-241-Pilot_2021         PATO:0000383   \n",
       "AAACAAGTATCTCCCA-241-Pilot_2021         PATO:0000383   \n",
       "AAACAATCTACTAGCA-241-Pilot_2021         PATO:0000383   \n",
       "AAACACCAATAACTGC-241-Pilot_2021         PATO:0000383   \n",
       "AAACAGAGCGACTCCT-241-Pilot_2021         PATO:0000383   \n",
       "\n",
       "                                                               donor_id  \\\n",
       "AAACAACGAATAGTTC-241-Pilot_2021  Miyoshi_Morabito_2024_5xFAD_Visium_241   \n",
       "AAACAAGTATCTCCCA-241-Pilot_2021  Miyoshi_Morabito_2024_5xFAD_Visium_241   \n",
       "AAACAATCTACTAGCA-241-Pilot_2021  Miyoshi_Morabito_2024_5xFAD_Visium_241   \n",
       "AAACACCAATAACTGC-241-Pilot_2021  Miyoshi_Morabito_2024_5xFAD_Visium_241   \n",
       "AAACAGAGCGACTCCT-241-Pilot_2021  Miyoshi_Morabito_2024_5xFAD_Visium_241   \n",
       "\n",
       "                                suspension_type Sample_num       annotation  \\\n",
       "AAACAACGAATAGTTC-241-Pilot_2021              na          0              NaN   \n",
       "AAACAAGTATCTCCCA-241-Pilot_2021              na          0  ctx-deep-layers   \n",
       "AAACAATCTACTAGCA-241-Pilot_2021              na          0              NaN   \n",
       "AAACACCAATAACTGC-241-Pilot_2021              na          0              NaN   \n",
       "AAACAGAGCGACTCCT-241-Pilot_2021              na          0              NaN   \n",
       "\n",
       "                                Condition  Age Sex  \n",
       "AAACAACGAATAGTTC-241-Pilot_2021        WT  4mo   F  \n",
       "AAACAAGTATCTCCCA-241-Pilot_2021        WT  4mo   F  \n",
       "AAACAATCTACTAGCA-241-Pilot_2021        WT  4mo   F  \n",
       "AAACACCAATAACTGC-241-Pilot_2021        WT  4mo   F  \n",
       "AAACAGAGCGACTCCT-241-Pilot_2021        WT  4mo   F  "
      ]
     },
     "execution_count": 56,
     "metadata": {},
     "output_type": "execute_result"
    }
   ],
   "source": [
    "adata_full.obs.head()"
   ]
  },
  {
   "cell_type": "markdown",
   "id": "d5896adf-df90-4b9e-ad79-ecf0c69bce1a",
   "metadata": {},
   "source": [
    "## Save h5ad file for each sample:"
   ]
  },
  {
   "cell_type": "code",
   "execution_count": 57,
   "id": "e9590275-467e-40d5-bd74-67d630d4c3a2",
   "metadata": {},
   "outputs": [],
   "source": [
    "\n",
    "out_dir = '/dfs7/swaruplab/smorabit/analysis/ADDS_2021/data/cellxgene/visium_mouse/'"
   ]
  },
  {
   "cell_type": "code",
   "execution_count": 58,
   "id": "c3f97933-e37e-4487-8a37-22ae8a0ad388",
   "metadata": {},
   "outputs": [],
   "source": [
    "donor_ids = adata_full.obs['donor_id'].unique()\n",
    "cur_donor = donor_ids[1]\n",
    "\n",
    "\n",
    "cur_adata = adata_full[adata_full.obs.donor_id == cur_donor].copy()\n",
    "\n",
    "# add the correct uns \n",
    "tmp = cur_adata.obs.index.to_list()[0].split('-')\n",
    "\n",
    "cur_num = str(cur_adata.obs.Sample_num.unique()[0])\n",
    "cur_id = cur_num + '-' + tmp[2]\n",
    "\n",
    "cur_uns = uns_dict[cur_id]\n",
    "cur_adata.uns = cur_uns\n",
    "\n"
   ]
  },
  {
   "cell_type": "code",
   "execution_count": 59,
   "id": "4e768940-cebe-492a-a10b-6eb8f7cd96a7",
   "metadata": {},
   "outputs": [
    {
     "data": {
      "text/html": [
       "<div>\n",
       "<style scoped>\n",
       "    .dataframe tbody tr th:only-of-type {\n",
       "        vertical-align: middle;\n",
       "    }\n",
       "\n",
       "    .dataframe tbody tr th {\n",
       "        vertical-align: top;\n",
       "    }\n",
       "\n",
       "    .dataframe thead th {\n",
       "        text-align: right;\n",
       "    }\n",
       "</style>\n",
       "<table border=\"1\" class=\"dataframe\">\n",
       "  <thead>\n",
       "    <tr style=\"text-align: right;\">\n",
       "      <th></th>\n",
       "      <th>in_tissue</th>\n",
       "      <th>array_row</th>\n",
       "      <th>array_col</th>\n",
       "      <th>organism_ontology_term_id</th>\n",
       "      <th>tissue_ontology_term_id</th>\n",
       "      <th>tissue_type</th>\n",
       "      <th>assay_ontology_term_id</th>\n",
       "      <th>disease_ontology_term_id</th>\n",
       "      <th>cell_type_ontology_term_id</th>\n",
       "      <th>self_reported_ethnicity_ontology_term_id</th>\n",
       "      <th>development_stage_ontology_term_id</th>\n",
       "      <th>sex_ontology_term_id</th>\n",
       "      <th>donor_id</th>\n",
       "      <th>suspension_type</th>\n",
       "      <th>Sample_num</th>\n",
       "      <th>annotation</th>\n",
       "      <th>Condition</th>\n",
       "      <th>Age</th>\n",
       "      <th>Sex</th>\n",
       "    </tr>\n",
       "  </thead>\n",
       "  <tbody>\n",
       "    <tr>\n",
       "      <th>AAACAACGAATAGTTC-342-Pilot_2021</th>\n",
       "      <td>0</td>\n",
       "      <td>0</td>\n",
       "      <td>16</td>\n",
       "      <td>NCBITaxon:10090</td>\n",
       "      <td>UBERON:0000955</td>\n",
       "      <td>tissue</td>\n",
       "      <td>EFO:0010961</td>\n",
       "      <td>PATO:0000461</td>\n",
       "      <td>CL:0002319</td>\n",
       "      <td>na</td>\n",
       "      <td>MmusDv:0000136</td>\n",
       "      <td>PATO:0000383</td>\n",
       "      <td>Miyoshi_Morabito_2024_5xFAD_Visium_342</td>\n",
       "      <td>na</td>\n",
       "      <td>1</td>\n",
       "      <td>NaN</td>\n",
       "      <td>WT</td>\n",
       "      <td>8mo</td>\n",
       "      <td>F</td>\n",
       "    </tr>\n",
       "    <tr>\n",
       "      <th>AAACAAGTATCTCCCA-342-Pilot_2021</th>\n",
       "      <td>1</td>\n",
       "      <td>50</td>\n",
       "      <td>102</td>\n",
       "      <td>NCBITaxon:10090</td>\n",
       "      <td>UBERON:0000955</td>\n",
       "      <td>tissue</td>\n",
       "      <td>EFO:0010961</td>\n",
       "      <td>PATO:0000461</td>\n",
       "      <td>CL:0002319</td>\n",
       "      <td>na</td>\n",
       "      <td>MmusDv:0000136</td>\n",
       "      <td>PATO:0000383</td>\n",
       "      <td>Miyoshi_Morabito_2024_5xFAD_Visium_342</td>\n",
       "      <td>na</td>\n",
       "      <td>1</td>\n",
       "      <td>unknown</td>\n",
       "      <td>WT</td>\n",
       "      <td>8mo</td>\n",
       "      <td>F</td>\n",
       "    </tr>\n",
       "    <tr>\n",
       "      <th>AAACAATCTACTAGCA-342-Pilot_2021</th>\n",
       "      <td>0</td>\n",
       "      <td>3</td>\n",
       "      <td>43</td>\n",
       "      <td>NCBITaxon:10090</td>\n",
       "      <td>UBERON:0000955</td>\n",
       "      <td>tissue</td>\n",
       "      <td>EFO:0010961</td>\n",
       "      <td>PATO:0000461</td>\n",
       "      <td>CL:0002319</td>\n",
       "      <td>na</td>\n",
       "      <td>MmusDv:0000136</td>\n",
       "      <td>PATO:0000383</td>\n",
       "      <td>Miyoshi_Morabito_2024_5xFAD_Visium_342</td>\n",
       "      <td>na</td>\n",
       "      <td>1</td>\n",
       "      <td>NaN</td>\n",
       "      <td>WT</td>\n",
       "      <td>8mo</td>\n",
       "      <td>F</td>\n",
       "    </tr>\n",
       "    <tr>\n",
       "      <th>AAACACCAATAACTGC-342-Pilot_2021</th>\n",
       "      <td>1</td>\n",
       "      <td>59</td>\n",
       "      <td>19</td>\n",
       "      <td>NCBITaxon:10090</td>\n",
       "      <td>UBERON:0000955</td>\n",
       "      <td>tissue</td>\n",
       "      <td>EFO:0010961</td>\n",
       "      <td>PATO:0000461</td>\n",
       "      <td>CL:0002319</td>\n",
       "      <td>na</td>\n",
       "      <td>MmusDv:0000136</td>\n",
       "      <td>PATO:0000383</td>\n",
       "      <td>Miyoshi_Morabito_2024_5xFAD_Visium_342</td>\n",
       "      <td>na</td>\n",
       "      <td>1</td>\n",
       "      <td>WM1</td>\n",
       "      <td>WT</td>\n",
       "      <td>8mo</td>\n",
       "      <td>F</td>\n",
       "    </tr>\n",
       "    <tr>\n",
       "      <th>AAACAGAGCGACTCCT-342-Pilot_2021</th>\n",
       "      <td>0</td>\n",
       "      <td>14</td>\n",
       "      <td>94</td>\n",
       "      <td>NCBITaxon:10090</td>\n",
       "      <td>UBERON:0000955</td>\n",
       "      <td>tissue</td>\n",
       "      <td>EFO:0010961</td>\n",
       "      <td>PATO:0000461</td>\n",
       "      <td>CL:0002319</td>\n",
       "      <td>na</td>\n",
       "      <td>MmusDv:0000136</td>\n",
       "      <td>PATO:0000383</td>\n",
       "      <td>Miyoshi_Morabito_2024_5xFAD_Visium_342</td>\n",
       "      <td>na</td>\n",
       "      <td>1</td>\n",
       "      <td>NaN</td>\n",
       "      <td>WT</td>\n",
       "      <td>8mo</td>\n",
       "      <td>F</td>\n",
       "    </tr>\n",
       "  </tbody>\n",
       "</table>\n",
       "</div>"
      ],
      "text/plain": [
       "                                 in_tissue  array_row  array_col  \\\n",
       "AAACAACGAATAGTTC-342-Pilot_2021          0          0         16   \n",
       "AAACAAGTATCTCCCA-342-Pilot_2021          1         50        102   \n",
       "AAACAATCTACTAGCA-342-Pilot_2021          0          3         43   \n",
       "AAACACCAATAACTGC-342-Pilot_2021          1         59         19   \n",
       "AAACAGAGCGACTCCT-342-Pilot_2021          0         14         94   \n",
       "\n",
       "                                organism_ontology_term_id  \\\n",
       "AAACAACGAATAGTTC-342-Pilot_2021           NCBITaxon:10090   \n",
       "AAACAAGTATCTCCCA-342-Pilot_2021           NCBITaxon:10090   \n",
       "AAACAATCTACTAGCA-342-Pilot_2021           NCBITaxon:10090   \n",
       "AAACACCAATAACTGC-342-Pilot_2021           NCBITaxon:10090   \n",
       "AAACAGAGCGACTCCT-342-Pilot_2021           NCBITaxon:10090   \n",
       "\n",
       "                                tissue_ontology_term_id tissue_type  \\\n",
       "AAACAACGAATAGTTC-342-Pilot_2021          UBERON:0000955      tissue   \n",
       "AAACAAGTATCTCCCA-342-Pilot_2021          UBERON:0000955      tissue   \n",
       "AAACAATCTACTAGCA-342-Pilot_2021          UBERON:0000955      tissue   \n",
       "AAACACCAATAACTGC-342-Pilot_2021          UBERON:0000955      tissue   \n",
       "AAACAGAGCGACTCCT-342-Pilot_2021          UBERON:0000955      tissue   \n",
       "\n",
       "                                assay_ontology_term_id  \\\n",
       "AAACAACGAATAGTTC-342-Pilot_2021            EFO:0010961   \n",
       "AAACAAGTATCTCCCA-342-Pilot_2021            EFO:0010961   \n",
       "AAACAATCTACTAGCA-342-Pilot_2021            EFO:0010961   \n",
       "AAACACCAATAACTGC-342-Pilot_2021            EFO:0010961   \n",
       "AAACAGAGCGACTCCT-342-Pilot_2021            EFO:0010961   \n",
       "\n",
       "                                disease_ontology_term_id  \\\n",
       "AAACAACGAATAGTTC-342-Pilot_2021             PATO:0000461   \n",
       "AAACAAGTATCTCCCA-342-Pilot_2021             PATO:0000461   \n",
       "AAACAATCTACTAGCA-342-Pilot_2021             PATO:0000461   \n",
       "AAACACCAATAACTGC-342-Pilot_2021             PATO:0000461   \n",
       "AAACAGAGCGACTCCT-342-Pilot_2021             PATO:0000461   \n",
       "\n",
       "                                cell_type_ontology_term_id  \\\n",
       "AAACAACGAATAGTTC-342-Pilot_2021                 CL:0002319   \n",
       "AAACAAGTATCTCCCA-342-Pilot_2021                 CL:0002319   \n",
       "AAACAATCTACTAGCA-342-Pilot_2021                 CL:0002319   \n",
       "AAACACCAATAACTGC-342-Pilot_2021                 CL:0002319   \n",
       "AAACAGAGCGACTCCT-342-Pilot_2021                 CL:0002319   \n",
       "\n",
       "                                self_reported_ethnicity_ontology_term_id  \\\n",
       "AAACAACGAATAGTTC-342-Pilot_2021                                       na   \n",
       "AAACAAGTATCTCCCA-342-Pilot_2021                                       na   \n",
       "AAACAATCTACTAGCA-342-Pilot_2021                                       na   \n",
       "AAACACCAATAACTGC-342-Pilot_2021                                       na   \n",
       "AAACAGAGCGACTCCT-342-Pilot_2021                                       na   \n",
       "\n",
       "                                development_stage_ontology_term_id  \\\n",
       "AAACAACGAATAGTTC-342-Pilot_2021                     MmusDv:0000136   \n",
       "AAACAAGTATCTCCCA-342-Pilot_2021                     MmusDv:0000136   \n",
       "AAACAATCTACTAGCA-342-Pilot_2021                     MmusDv:0000136   \n",
       "AAACACCAATAACTGC-342-Pilot_2021                     MmusDv:0000136   \n",
       "AAACAGAGCGACTCCT-342-Pilot_2021                     MmusDv:0000136   \n",
       "\n",
       "                                sex_ontology_term_id  \\\n",
       "AAACAACGAATAGTTC-342-Pilot_2021         PATO:0000383   \n",
       "AAACAAGTATCTCCCA-342-Pilot_2021         PATO:0000383   \n",
       "AAACAATCTACTAGCA-342-Pilot_2021         PATO:0000383   \n",
       "AAACACCAATAACTGC-342-Pilot_2021         PATO:0000383   \n",
       "AAACAGAGCGACTCCT-342-Pilot_2021         PATO:0000383   \n",
       "\n",
       "                                                               donor_id  \\\n",
       "AAACAACGAATAGTTC-342-Pilot_2021  Miyoshi_Morabito_2024_5xFAD_Visium_342   \n",
       "AAACAAGTATCTCCCA-342-Pilot_2021  Miyoshi_Morabito_2024_5xFAD_Visium_342   \n",
       "AAACAATCTACTAGCA-342-Pilot_2021  Miyoshi_Morabito_2024_5xFAD_Visium_342   \n",
       "AAACACCAATAACTGC-342-Pilot_2021  Miyoshi_Morabito_2024_5xFAD_Visium_342   \n",
       "AAACAGAGCGACTCCT-342-Pilot_2021  Miyoshi_Morabito_2024_5xFAD_Visium_342   \n",
       "\n",
       "                                suspension_type Sample_num annotation  \\\n",
       "AAACAACGAATAGTTC-342-Pilot_2021              na          1        NaN   \n",
       "AAACAAGTATCTCCCA-342-Pilot_2021              na          1    unknown   \n",
       "AAACAATCTACTAGCA-342-Pilot_2021              na          1        NaN   \n",
       "AAACACCAATAACTGC-342-Pilot_2021              na          1        WM1   \n",
       "AAACAGAGCGACTCCT-342-Pilot_2021              na          1        NaN   \n",
       "\n",
       "                                Condition  Age Sex  \n",
       "AAACAACGAATAGTTC-342-Pilot_2021        WT  8mo   F  \n",
       "AAACAAGTATCTCCCA-342-Pilot_2021        WT  8mo   F  \n",
       "AAACAATCTACTAGCA-342-Pilot_2021        WT  8mo   F  \n",
       "AAACACCAATAACTGC-342-Pilot_2021        WT  8mo   F  \n",
       "AAACAGAGCGACTCCT-342-Pilot_2021        WT  8mo   F  "
      ]
     },
     "execution_count": 59,
     "metadata": {},
     "output_type": "execute_result"
    }
   ],
   "source": [
    "cur_adata.obs.head()"
   ]
  },
  {
   "cell_type": "code",
   "execution_count": 63,
   "id": "12b5d9db-5198-4a80-8350-b5cc4b4dca15",
   "metadata": {},
   "outputs": [
    {
     "data": {
      "text/plain": [
       "80"
      ]
     },
     "execution_count": 63,
     "metadata": {},
     "output_type": "execute_result"
    }
   ],
   "source": [
    "len(adata_full.obs.donor_id.unique())"
   ]
  },
  {
   "cell_type": "code",
   "execution_count": 125,
   "id": "3fe53adf-0e0a-4a42-9add-dcb3f8c52ea5",
   "metadata": {},
   "outputs": [
    {
     "name": "stdout",
     "output_type": "stream",
     "text": [
      "/dfs7/swaruplab/smorabit/analysis/ADDS_2021/data/cellxgene/visium_mouse/visium_mouse_0-Pilot_2021.h5ad\n",
      "/dfs7/swaruplab/smorabit/analysis/ADDS_2021/data/cellxgene/visium_mouse/visium_mouse_1-Pilot_2021.h5ad\n",
      "/dfs7/swaruplab/smorabit/analysis/ADDS_2021/data/cellxgene/visium_mouse/visium_mouse_2-Pilot_2021.h5ad\n",
      "/dfs7/swaruplab/smorabit/analysis/ADDS_2021/data/cellxgene/visium_mouse/visium_mouse_3-Pilot_2021.h5ad\n",
      "/dfs7/swaruplab/smorabit/analysis/ADDS_2021/data/cellxgene/visium_mouse/visium_mouse_0-July_2021.h5ad\n",
      "/dfs7/swaruplab/smorabit/analysis/ADDS_2021/data/cellxgene/visium_mouse/visium_mouse_1-July_2021.h5ad\n",
      "/dfs7/swaruplab/smorabit/analysis/ADDS_2021/data/cellxgene/visium_mouse/visium_mouse_2-July_2021.h5ad\n",
      "/dfs7/swaruplab/smorabit/analysis/ADDS_2021/data/cellxgene/visium_mouse/visium_mouse_3-July_2021.h5ad\n",
      "/dfs7/swaruplab/smorabit/analysis/ADDS_2021/data/cellxgene/visium_mouse/visium_mouse_4-July_2021.h5ad\n",
      "/dfs7/swaruplab/smorabit/analysis/ADDS_2021/data/cellxgene/visium_mouse/visium_mouse_5-July_2021.h5ad\n",
      "/dfs7/swaruplab/smorabit/analysis/ADDS_2021/data/cellxgene/visium_mouse/visium_mouse_6-July_2021.h5ad\n",
      "/dfs7/swaruplab/smorabit/analysis/ADDS_2021/data/cellxgene/visium_mouse/visium_mouse_7-July_2021.h5ad\n",
      "/dfs7/swaruplab/smorabit/analysis/ADDS_2021/data/cellxgene/visium_mouse/visium_mouse_0-Nov_15_2021.h5ad\n",
      "/dfs7/swaruplab/smorabit/analysis/ADDS_2021/data/cellxgene/visium_mouse/visium_mouse_1-Nov_15_2021.h5ad\n",
      "/dfs7/swaruplab/smorabit/analysis/ADDS_2021/data/cellxgene/visium_mouse/visium_mouse_2-Nov_15_2021.h5ad\n",
      "/dfs7/swaruplab/smorabit/analysis/ADDS_2021/data/cellxgene/visium_mouse/visium_mouse_3-Nov_15_2021.h5ad\n",
      "/dfs7/swaruplab/smorabit/analysis/ADDS_2021/data/cellxgene/visium_mouse/visium_mouse_4-Nov_15_2021.h5ad\n",
      "/dfs7/swaruplab/smorabit/analysis/ADDS_2021/data/cellxgene/visium_mouse/visium_mouse_5-Nov_15_2021.h5ad\n",
      "/dfs7/swaruplab/smorabit/analysis/ADDS_2021/data/cellxgene/visium_mouse/visium_mouse_6-Nov_15_2021.h5ad\n",
      "/dfs7/swaruplab/smorabit/analysis/ADDS_2021/data/cellxgene/visium_mouse/visium_mouse_7-Nov_15_2021.h5ad\n",
      "/dfs7/swaruplab/smorabit/analysis/ADDS_2021/data/cellxgene/visium_mouse/visium_mouse_8-Nov_15_2021.h5ad\n",
      "/dfs7/swaruplab/smorabit/analysis/ADDS_2021/data/cellxgene/visium_mouse/visium_mouse_9-Nov_15_2021.h5ad\n",
      "/dfs7/swaruplab/smorabit/analysis/ADDS_2021/data/cellxgene/visium_mouse/visium_mouse_10-Nov_15_2021.h5ad\n",
      "/dfs7/swaruplab/smorabit/analysis/ADDS_2021/data/cellxgene/visium_mouse/visium_mouse_11-Nov_15_2021.h5ad\n",
      "/dfs7/swaruplab/smorabit/analysis/ADDS_2021/data/cellxgene/visium_mouse/visium_mouse_12-Nov_15_2021.h5ad\n",
      "/dfs7/swaruplab/smorabit/analysis/ADDS_2021/data/cellxgene/visium_mouse/visium_mouse_13-Nov_15_2021.h5ad\n",
      "/dfs7/swaruplab/smorabit/analysis/ADDS_2021/data/cellxgene/visium_mouse/visium_mouse_14-Nov_15_2021.h5ad\n",
      "/dfs7/swaruplab/smorabit/analysis/ADDS_2021/data/cellxgene/visium_mouse/visium_mouse_15-Nov_15_2021.h5ad\n",
      "/dfs7/swaruplab/smorabit/analysis/ADDS_2021/data/cellxgene/visium_mouse/visium_mouse_0-Nov_24_2021.h5ad\n",
      "/dfs7/swaruplab/smorabit/analysis/ADDS_2021/data/cellxgene/visium_mouse/visium_mouse_1-Nov_24_2021.h5ad\n",
      "/dfs7/swaruplab/smorabit/analysis/ADDS_2021/data/cellxgene/visium_mouse/visium_mouse_2-Nov_24_2021.h5ad\n",
      "/dfs7/swaruplab/smorabit/analysis/ADDS_2021/data/cellxgene/visium_mouse/visium_mouse_3-Nov_24_2021.h5ad\n",
      "/dfs7/swaruplab/smorabit/analysis/ADDS_2021/data/cellxgene/visium_mouse/visium_mouse_4-Nov_24_2021.h5ad\n",
      "/dfs7/swaruplab/smorabit/analysis/ADDS_2021/data/cellxgene/visium_mouse/visium_mouse_5-Nov_24_2021.h5ad\n",
      "/dfs7/swaruplab/smorabit/analysis/ADDS_2021/data/cellxgene/visium_mouse/visium_mouse_6-Nov_24_2021.h5ad\n",
      "/dfs7/swaruplab/smorabit/analysis/ADDS_2021/data/cellxgene/visium_mouse/visium_mouse_7-Nov_24_2021.h5ad\n",
      "/dfs7/swaruplab/smorabit/analysis/ADDS_2021/data/cellxgene/visium_mouse/visium_mouse_8-Nov_24_2021.h5ad\n",
      "/dfs7/swaruplab/smorabit/analysis/ADDS_2021/data/cellxgene/visium_mouse/visium_mouse_9-Nov_24_2021.h5ad\n",
      "/dfs7/swaruplab/smorabit/analysis/ADDS_2021/data/cellxgene/visium_mouse/visium_mouse_10-Nov_24_2021.h5ad\n",
      "/dfs7/swaruplab/smorabit/analysis/ADDS_2021/data/cellxgene/visium_mouse/visium_mouse_11-Nov_24_2021.h5ad\n",
      "/dfs7/swaruplab/smorabit/analysis/ADDS_2021/data/cellxgene/visium_mouse/visium_mouse_12-Nov_24_2021.h5ad\n",
      "/dfs7/swaruplab/smorabit/analysis/ADDS_2021/data/cellxgene/visium_mouse/visium_mouse_13-Nov_24_2021.h5ad\n",
      "/dfs7/swaruplab/smorabit/analysis/ADDS_2021/data/cellxgene/visium_mouse/visium_mouse_14-Nov_24_2021.h5ad\n",
      "/dfs7/swaruplab/smorabit/analysis/ADDS_2021/data/cellxgene/visium_mouse/visium_mouse_15-Nov_24_2021.h5ad\n",
      "/dfs7/swaruplab/smorabit/analysis/ADDS_2021/data/cellxgene/visium_mouse/visium_mouse_0-Dec_13_2021.h5ad\n",
      "/dfs7/swaruplab/smorabit/analysis/ADDS_2021/data/cellxgene/visium_mouse/visium_mouse_1-Dec_13_2021.h5ad\n",
      "/dfs7/swaruplab/smorabit/analysis/ADDS_2021/data/cellxgene/visium_mouse/visium_mouse_2-Dec_13_2021.h5ad\n",
      "/dfs7/swaruplab/smorabit/analysis/ADDS_2021/data/cellxgene/visium_mouse/visium_mouse_3-Dec_13_2021.h5ad\n",
      "/dfs7/swaruplab/smorabit/analysis/ADDS_2021/data/cellxgene/visium_mouse/visium_mouse_4-Dec_13_2021.h5ad\n",
      "/dfs7/swaruplab/smorabit/analysis/ADDS_2021/data/cellxgene/visium_mouse/visium_mouse_5-Dec_13_2021.h5ad\n",
      "/dfs7/swaruplab/smorabit/analysis/ADDS_2021/data/cellxgene/visium_mouse/visium_mouse_6-Dec_13_2021.h5ad\n",
      "/dfs7/swaruplab/smorabit/analysis/ADDS_2021/data/cellxgene/visium_mouse/visium_mouse_7-Dec_13_2021.h5ad\n",
      "/dfs7/swaruplab/smorabit/analysis/ADDS_2021/data/cellxgene/visium_mouse/visium_mouse_0-Dec_20_2021.h5ad\n",
      "/dfs7/swaruplab/smorabit/analysis/ADDS_2021/data/cellxgene/visium_mouse/visium_mouse_1-Dec_20_2021.h5ad\n",
      "/dfs7/swaruplab/smorabit/analysis/ADDS_2021/data/cellxgene/visium_mouse/visium_mouse_2-Dec_20_2021.h5ad\n",
      "/dfs7/swaruplab/smorabit/analysis/ADDS_2021/data/cellxgene/visium_mouse/visium_mouse_3-Dec_20_2021.h5ad\n",
      "/dfs7/swaruplab/smorabit/analysis/ADDS_2021/data/cellxgene/visium_mouse/visium_mouse_4-Dec_20_2021.h5ad\n",
      "/dfs7/swaruplab/smorabit/analysis/ADDS_2021/data/cellxgene/visium_mouse/visium_mouse_5-Dec_20_2021.h5ad\n",
      "/dfs7/swaruplab/smorabit/analysis/ADDS_2021/data/cellxgene/visium_mouse/visium_mouse_6-Dec_20_2021.h5ad\n",
      "/dfs7/swaruplab/smorabit/analysis/ADDS_2021/data/cellxgene/visium_mouse/visium_mouse_7-Dec_20_2021.h5ad\n",
      "/dfs7/swaruplab/smorabit/analysis/ADDS_2021/data/cellxgene/visium_mouse/visium_mouse_8-Dec_20_2021.h5ad\n",
      "/dfs7/swaruplab/smorabit/analysis/ADDS_2021/data/cellxgene/visium_mouse/visium_mouse_9-Dec_20_2021.h5ad\n",
      "/dfs7/swaruplab/smorabit/analysis/ADDS_2021/data/cellxgene/visium_mouse/visium_mouse_10-Dec_20_2021.h5ad\n",
      "/dfs7/swaruplab/smorabit/analysis/ADDS_2021/data/cellxgene/visium_mouse/visium_mouse_11-Dec_20_2021.h5ad\n",
      "/dfs7/swaruplab/smorabit/analysis/ADDS_2021/data/cellxgene/visium_mouse/visium_mouse_12-Dec_20_2021.h5ad\n",
      "/dfs7/swaruplab/smorabit/analysis/ADDS_2021/data/cellxgene/visium_mouse/visium_mouse_13-Dec_20_2021.h5ad\n",
      "/dfs7/swaruplab/smorabit/analysis/ADDS_2021/data/cellxgene/visium_mouse/visium_mouse_14-Dec_20_2021.h5ad\n",
      "/dfs7/swaruplab/smorabit/analysis/ADDS_2021/data/cellxgene/visium_mouse/visium_mouse_15-Dec_20_2021.h5ad\n",
      "/dfs7/swaruplab/smorabit/analysis/ADDS_2021/data/cellxgene/visium_mouse/visium_mouse_16-Dec_20_2021.h5ad\n",
      "/dfs7/swaruplab/smorabit/analysis/ADDS_2021/data/cellxgene/visium_mouse/visium_mouse_17-Dec_20_2021.h5ad\n",
      "/dfs7/swaruplab/smorabit/analysis/ADDS_2021/data/cellxgene/visium_mouse/visium_mouse_18-Dec_20_2021.h5ad\n",
      "/dfs7/swaruplab/smorabit/analysis/ADDS_2021/data/cellxgene/visium_mouse/visium_mouse_19-Dec_20_2021.h5ad\n",
      "/dfs7/swaruplab/smorabit/analysis/ADDS_2021/data/cellxgene/visium_mouse/visium_mouse_20-Dec_20_2021.h5ad\n",
      "/dfs7/swaruplab/smorabit/analysis/ADDS_2021/data/cellxgene/visium_mouse/visium_mouse_21-Dec_20_2021.h5ad\n",
      "/dfs7/swaruplab/smorabit/analysis/ADDS_2021/data/cellxgene/visium_mouse/visium_mouse_22-Dec_20_2021.h5ad\n",
      "/dfs7/swaruplab/smorabit/analysis/ADDS_2021/data/cellxgene/visium_mouse/visium_mouse_23-Dec_20_2021.h5ad\n",
      "/dfs7/swaruplab/smorabit/analysis/ADDS_2021/data/cellxgene/visium_mouse/visium_mouse_24-Dec_20_2021.h5ad\n",
      "/dfs7/swaruplab/smorabit/analysis/ADDS_2021/data/cellxgene/visium_mouse/visium_mouse_25-Dec_20_2021.h5ad\n",
      "/dfs7/swaruplab/smorabit/analysis/ADDS_2021/data/cellxgene/visium_mouse/visium_mouse_26-Dec_20_2021.h5ad\n",
      "/dfs7/swaruplab/smorabit/analysis/ADDS_2021/data/cellxgene/visium_mouse/visium_mouse_27-Dec_20_2021.h5ad\n"
     ]
    }
   ],
   "source": [
    "donor_ids = adata_full.obs['donor_id'].unique()\n",
    "cur_donor = donor_ids[1]\n",
    "\n",
    "for cur_donor in donor_ids:\n",
    "    \n",
    "    cur_adata = adata_full[adata_full.obs.donor_id == cur_donor].copy()\n",
    "    \n",
    "    # add the correct uns \n",
    "    tmp = cur_adata.obs.index.to_list()[0].split('-')\n",
    "    \n",
    "    cur_num = str(cur_adata.obs.Sample_num.unique()[0])\n",
    "    cur_id = cur_num + '-' + tmp[2]\n",
    "    \n",
    "    cur_uns = uns_dict[cur_id]\n",
    "    cur_adata.uns = cur_uns\n",
    "    \n",
    "    # save the output file:\n",
    "    out_file = out_dir + 'visium_mouse_' + cur_id + '.h5ad'\n",
    "    print(out_file)\n",
    "    cur_adata.write_h5ad(out_file, compression='gzip')\n"
   ]
  },
  {
   "cell_type": "code",
   "execution_count": 126,
   "id": "0aba2104-2339-42d7-a20a-0716bbc3829b",
   "metadata": {},
   "outputs": [
    {
     "data": {
      "text/plain": [
       "Age\n",
       "4mo     99840\n",
       "8mo     99840\n",
       "12mo    99840\n",
       "6mo     99840\n",
       "Name: count, dtype: int64"
      ]
     },
     "execution_count": 126,
     "metadata": {},
     "output_type": "execute_result"
    }
   ],
   "source": [
    "adata_full.obs.Age.value_counts()"
   ]
  },
  {
   "cell_type": "code",
   "execution_count": 41,
   "id": "9f4038d1-2cf5-48dd-8fdf-d4b74b3459ec",
   "metadata": {},
   "outputs": [
    {
     "data": {
      "text/html": [
       "<div>\n",
       "<style scoped>\n",
       "    .dataframe tbody tr th:only-of-type {\n",
       "        vertical-align: middle;\n",
       "    }\n",
       "\n",
       "    .dataframe tbody tr th {\n",
       "        vertical-align: top;\n",
       "    }\n",
       "\n",
       "    .dataframe thead th {\n",
       "        text-align: right;\n",
       "    }\n",
       "</style>\n",
       "<table border=\"1\" class=\"dataframe\">\n",
       "  <thead>\n",
       "    <tr style=\"text-align: right;\">\n",
       "      <th></th>\n",
       "      <th>in_tissue</th>\n",
       "      <th>array_row</th>\n",
       "      <th>array_col</th>\n",
       "      <th>seqbatch</th>\n",
       "      <th>SAMPLE</th>\n",
       "      <th>bc</th>\n",
       "      <th>Sample_num</th>\n",
       "      <th>batch</th>\n",
       "      <th>Condition</th>\n",
       "      <th>Age</th>\n",
       "      <th>...</th>\n",
       "      <th>CaptureArea</th>\n",
       "      <th>Slide</th>\n",
       "      <th>Sectioning</th>\n",
       "      <th>LibraryDay1</th>\n",
       "      <th>LibraryDay2</th>\n",
       "      <th>INDEX</th>\n",
       "      <th>ID</th>\n",
       "      <th>SampleID</th>\n",
       "      <th>bc_sample_batch</th>\n",
       "      <th>annotation</th>\n",
       "    </tr>\n",
       "  </thead>\n",
       "  <tbody>\n",
       "    <tr>\n",
       "      <th>AAACAACGAATAGTTC-241-Pilot_2021</th>\n",
       "      <td>0</td>\n",
       "      <td>0</td>\n",
       "      <td>16</td>\n",
       "      <td>Pilot_2021</td>\n",
       "      <td>241</td>\n",
       "      <td>AAACAACGAATAGTTC</td>\n",
       "      <td>0</td>\n",
       "      <td>0</td>\n",
       "      <td>WT</td>\n",
       "      <td>4mo</td>\n",
       "      <td>...</td>\n",
       "      <td>NaN</td>\n",
       "      <td>NaN</td>\n",
       "      <td>NaN</td>\n",
       "      <td>NaN</td>\n",
       "      <td>NaN</td>\n",
       "      <td>NaN</td>\n",
       "      <td>NaN</td>\n",
       "      <td>NaN</td>\n",
       "      <td>AAACAACGAATAGTTC-241-Pilot_2021</td>\n",
       "      <td>NaN</td>\n",
       "    </tr>\n",
       "    <tr>\n",
       "      <th>AAACAAGTATCTCCCA-241-Pilot_2021</th>\n",
       "      <td>1</td>\n",
       "      <td>50</td>\n",
       "      <td>102</td>\n",
       "      <td>Pilot_2021</td>\n",
       "      <td>241</td>\n",
       "      <td>AAACAAGTATCTCCCA</td>\n",
       "      <td>0</td>\n",
       "      <td>0</td>\n",
       "      <td>WT</td>\n",
       "      <td>4mo</td>\n",
       "      <td>...</td>\n",
       "      <td>NaN</td>\n",
       "      <td>NaN</td>\n",
       "      <td>NaN</td>\n",
       "      <td>NaN</td>\n",
       "      <td>NaN</td>\n",
       "      <td>NaN</td>\n",
       "      <td>NaN</td>\n",
       "      <td>NaN</td>\n",
       "      <td>AAACAAGTATCTCCCA-241-Pilot_2021</td>\n",
       "      <td>ctx-deep-layers</td>\n",
       "    </tr>\n",
       "    <tr>\n",
       "      <th>AAACAATCTACTAGCA-241-Pilot_2021</th>\n",
       "      <td>0</td>\n",
       "      <td>3</td>\n",
       "      <td>43</td>\n",
       "      <td>Pilot_2021</td>\n",
       "      <td>241</td>\n",
       "      <td>AAACAATCTACTAGCA</td>\n",
       "      <td>0</td>\n",
       "      <td>0</td>\n",
       "      <td>WT</td>\n",
       "      <td>4mo</td>\n",
       "      <td>...</td>\n",
       "      <td>NaN</td>\n",
       "      <td>NaN</td>\n",
       "      <td>NaN</td>\n",
       "      <td>NaN</td>\n",
       "      <td>NaN</td>\n",
       "      <td>NaN</td>\n",
       "      <td>NaN</td>\n",
       "      <td>NaN</td>\n",
       "      <td>AAACAATCTACTAGCA-241-Pilot_2021</td>\n",
       "      <td>NaN</td>\n",
       "    </tr>\n",
       "    <tr>\n",
       "      <th>AAACACCAATAACTGC-241-Pilot_2021</th>\n",
       "      <td>0</td>\n",
       "      <td>59</td>\n",
       "      <td>19</td>\n",
       "      <td>Pilot_2021</td>\n",
       "      <td>241</td>\n",
       "      <td>AAACACCAATAACTGC</td>\n",
       "      <td>0</td>\n",
       "      <td>0</td>\n",
       "      <td>WT</td>\n",
       "      <td>4mo</td>\n",
       "      <td>...</td>\n",
       "      <td>NaN</td>\n",
       "      <td>NaN</td>\n",
       "      <td>NaN</td>\n",
       "      <td>NaN</td>\n",
       "      <td>NaN</td>\n",
       "      <td>NaN</td>\n",
       "      <td>NaN</td>\n",
       "      <td>NaN</td>\n",
       "      <td>AAACACCAATAACTGC-241-Pilot_2021</td>\n",
       "      <td>NaN</td>\n",
       "    </tr>\n",
       "    <tr>\n",
       "      <th>AAACAGAGCGACTCCT-241-Pilot_2021</th>\n",
       "      <td>0</td>\n",
       "      <td>14</td>\n",
       "      <td>94</td>\n",
       "      <td>Pilot_2021</td>\n",
       "      <td>241</td>\n",
       "      <td>AAACAGAGCGACTCCT</td>\n",
       "      <td>0</td>\n",
       "      <td>0</td>\n",
       "      <td>WT</td>\n",
       "      <td>4mo</td>\n",
       "      <td>...</td>\n",
       "      <td>NaN</td>\n",
       "      <td>NaN</td>\n",
       "      <td>NaN</td>\n",
       "      <td>NaN</td>\n",
       "      <td>NaN</td>\n",
       "      <td>NaN</td>\n",
       "      <td>NaN</td>\n",
       "      <td>NaN</td>\n",
       "      <td>AAACAGAGCGACTCCT-241-Pilot_2021</td>\n",
       "      <td>NaN</td>\n",
       "    </tr>\n",
       "  </tbody>\n",
       "</table>\n",
       "<p>5 rows × 22 columns</p>\n",
       "</div>"
      ],
      "text/plain": [
       "                                 in_tissue  array_row  array_col    seqbatch  \\\n",
       "AAACAACGAATAGTTC-241-Pilot_2021          0          0         16  Pilot_2021   \n",
       "AAACAAGTATCTCCCA-241-Pilot_2021          1         50        102  Pilot_2021   \n",
       "AAACAATCTACTAGCA-241-Pilot_2021          0          3         43  Pilot_2021   \n",
       "AAACACCAATAACTGC-241-Pilot_2021          0         59         19  Pilot_2021   \n",
       "AAACAGAGCGACTCCT-241-Pilot_2021          0         14         94  Pilot_2021   \n",
       "\n",
       "                                SAMPLE                bc Sample_num batch  \\\n",
       "AAACAACGAATAGTTC-241-Pilot_2021    241  AAACAACGAATAGTTC          0     0   \n",
       "AAACAAGTATCTCCCA-241-Pilot_2021    241  AAACAAGTATCTCCCA          0     0   \n",
       "AAACAATCTACTAGCA-241-Pilot_2021    241  AAACAATCTACTAGCA          0     0   \n",
       "AAACACCAATAACTGC-241-Pilot_2021    241  AAACACCAATAACTGC          0     0   \n",
       "AAACAGAGCGACTCCT-241-Pilot_2021    241  AAACAGAGCGACTCCT          0     0   \n",
       "\n",
       "                                Condition  Age  ... CaptureArea  Slide  \\\n",
       "AAACAACGAATAGTTC-241-Pilot_2021        WT  4mo  ...         NaN    NaN   \n",
       "AAACAAGTATCTCCCA-241-Pilot_2021        WT  4mo  ...         NaN    NaN   \n",
       "AAACAATCTACTAGCA-241-Pilot_2021        WT  4mo  ...         NaN    NaN   \n",
       "AAACACCAATAACTGC-241-Pilot_2021        WT  4mo  ...         NaN    NaN   \n",
       "AAACAGAGCGACTCCT-241-Pilot_2021        WT  4mo  ...         NaN    NaN   \n",
       "\n",
       "                                Sectioning LibraryDay1 LibraryDay2 INDEX   ID  \\\n",
       "AAACAACGAATAGTTC-241-Pilot_2021        NaN         NaN         NaN   NaN  NaN   \n",
       "AAACAAGTATCTCCCA-241-Pilot_2021        NaN         NaN         NaN   NaN  NaN   \n",
       "AAACAATCTACTAGCA-241-Pilot_2021        NaN         NaN         NaN   NaN  NaN   \n",
       "AAACACCAATAACTGC-241-Pilot_2021        NaN         NaN         NaN   NaN  NaN   \n",
       "AAACAGAGCGACTCCT-241-Pilot_2021        NaN         NaN         NaN   NaN  NaN   \n",
       "\n",
       "                                SampleID                  bc_sample_batch  \\\n",
       "AAACAACGAATAGTTC-241-Pilot_2021      NaN  AAACAACGAATAGTTC-241-Pilot_2021   \n",
       "AAACAAGTATCTCCCA-241-Pilot_2021      NaN  AAACAAGTATCTCCCA-241-Pilot_2021   \n",
       "AAACAATCTACTAGCA-241-Pilot_2021      NaN  AAACAATCTACTAGCA-241-Pilot_2021   \n",
       "AAACACCAATAACTGC-241-Pilot_2021      NaN  AAACACCAATAACTGC-241-Pilot_2021   \n",
       "AAACAGAGCGACTCCT-241-Pilot_2021      NaN  AAACAGAGCGACTCCT-241-Pilot_2021   \n",
       "\n",
       "                                      annotation  \n",
       "AAACAACGAATAGTTC-241-Pilot_2021              NaN  \n",
       "AAACAAGTATCTCCCA-241-Pilot_2021  ctx-deep-layers  \n",
       "AAACAATCTACTAGCA-241-Pilot_2021              NaN  \n",
       "AAACACCAATAACTGC-241-Pilot_2021              NaN  \n",
       "AAACAGAGCGACTCCT-241-Pilot_2021              NaN  \n",
       "\n",
       "[5 rows x 22 columns]"
      ]
     },
     "execution_count": 41,
     "metadata": {},
     "output_type": "execute_result"
    }
   ],
   "source": [
    "adata_full.obs.head()"
   ]
  },
  {
   "cell_type": "code",
   "execution_count": null,
   "id": "2d739efd-0bdf-494c-8d5d-d09105ca2d71",
   "metadata": {},
   "outputs": [],
   "source": [
    "adata_full.obs."
   ]
  },
  {
   "cell_type": "code",
   "execution_count": null,
   "id": "cb05d7e1-90b4-4e98-abd1-3c4d49599965",
   "metadata": {},
   "outputs": [],
   "source": []
  }
 ],
 "metadata": {
  "kernelspec": {
   "display_name": "Python 3 (ipykernel)",
   "language": "python",
   "name": "python3"
  },
  "language_info": {
   "codemirror_mode": {
    "name": "ipython",
    "version": 3
   },
   "file_extension": ".py",
   "mimetype": "text/x-python",
   "name": "python",
   "nbconvert_exporter": "python",
   "pygments_lexer": "ipython3",
   "version": "3.11.5"
  }
 },
 "nbformat": 4,
 "nbformat_minor": 5
}
