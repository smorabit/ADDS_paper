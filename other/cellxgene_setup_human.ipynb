{
 "cells": [
  {
   "cell_type": "code",
   "execution_count": 1,
   "id": "f80c9bdd-4971-4c53-b156-d3a3878851a7",
   "metadata": {},
   "outputs": [],
   "source": [
    "import scanpy as sc;\n",
    "import scrublet as scr\n",
    "import numpy as np\n",
    "from matplotlib import pyplot as plt\n",
    "import seaborn as sns\n",
    "import os\n",
    "import pandas as pd\n",
    "from scipy import io\n",
    "import harmonypy\n",
    "import scdrs\n",
    "import scipy.stats as stats\n",
    "np.random.seed(12345)\n",
    "sc.settings.verbosity = 3             # verbosity: errors (0), warnings (1), info (2), hints (3)\n"
   ]
  },
  {
   "cell_type": "code",
   "execution_count": 2,
   "id": "425c5905-3ba8-4766-8a35-020a1bc05b4e",
   "metadata": {},
   "outputs": [
    {
     "data": {
      "text/html": [
       "<div>\n",
       "<style scoped>\n",
       "    .dataframe tbody tr th:only-of-type {\n",
       "        vertical-align: middle;\n",
       "    }\n",
       "\n",
       "    .dataframe tbody tr th {\n",
       "        vertical-align: top;\n",
       "    }\n",
       "\n",
       "    .dataframe thead th {\n",
       "        text-align: right;\n",
       "    }\n",
       "</style>\n",
       "<table border=\"1\" class=\"dataframe\">\n",
       "  <thead>\n",
       "    <tr style=\"text-align: right;\">\n",
       "      <th></th>\n",
       "      <th>nCount_Spatial</th>\n",
       "      <th>Sample</th>\n",
       "      <th>Diagnosis</th>\n",
       "      <th>Sex</th>\n",
       "      <th>Age</th>\n",
       "      <th>seqbatch</th>\n",
       "      <th>annotation</th>\n",
       "    </tr>\n",
       "  </thead>\n",
       "  <tbody>\n",
       "    <tr>\n",
       "      <th>AAACAAGTATCTCCCA-1_1_1</th>\n",
       "      <td>547</td>\n",
       "      <td>Oct_2021_1</td>\n",
       "      <td>Control</td>\n",
       "      <td>F</td>\n",
       "      <td>74</td>\n",
       "      <td>Oct_2021</td>\n",
       "      <td>WM3</td>\n",
       "    </tr>\n",
       "    <tr>\n",
       "      <th>AAACAATCTACTAGCA-1_1_1</th>\n",
       "      <td>242</td>\n",
       "      <td>Oct_2021_1</td>\n",
       "      <td>Control</td>\n",
       "      <td>F</td>\n",
       "      <td>74</td>\n",
       "      <td>Oct_2021</td>\n",
       "      <td>L1</td>\n",
       "    </tr>\n",
       "    <tr>\n",
       "      <th>AAACAGAGCGACTCCT-1_1_1</th>\n",
       "      <td>1602</td>\n",
       "      <td>Oct_2021_1</td>\n",
       "      <td>Control</td>\n",
       "      <td>F</td>\n",
       "      <td>74</td>\n",
       "      <td>Oct_2021</td>\n",
       "      <td>WM3</td>\n",
       "    </tr>\n",
       "    <tr>\n",
       "      <th>AAACATTTCCCGGATT-1_1_1</th>\n",
       "      <td>1025</td>\n",
       "      <td>Oct_2021_1</td>\n",
       "      <td>Control</td>\n",
       "      <td>F</td>\n",
       "      <td>74</td>\n",
       "      <td>Oct_2021</td>\n",
       "      <td>L5/6</td>\n",
       "    </tr>\n",
       "    <tr>\n",
       "      <th>AAACCACTACACAGAT-1_1_1</th>\n",
       "      <td>283</td>\n",
       "      <td>Oct_2021_1</td>\n",
       "      <td>Control</td>\n",
       "      <td>F</td>\n",
       "      <td>74</td>\n",
       "      <td>Oct_2021</td>\n",
       "      <td>L1</td>\n",
       "    </tr>\n",
       "  </tbody>\n",
       "</table>\n",
       "</div>"
      ],
      "text/plain": [
       "                        nCount_Spatial      Sample Diagnosis Sex  Age  \\\n",
       "AAACAAGTATCTCCCA-1_1_1             547  Oct_2021_1   Control   F   74   \n",
       "AAACAATCTACTAGCA-1_1_1             242  Oct_2021_1   Control   F   74   \n",
       "AAACAGAGCGACTCCT-1_1_1            1602  Oct_2021_1   Control   F   74   \n",
       "AAACATTTCCCGGATT-1_1_1            1025  Oct_2021_1   Control   F   74   \n",
       "AAACCACTACACAGAT-1_1_1             283  Oct_2021_1   Control   F   74   \n",
       "\n",
       "                        seqbatch annotation  \n",
       "AAACAAGTATCTCCCA-1_1_1  Oct_2021        WM3  \n",
       "AAACAATCTACTAGCA-1_1_1  Oct_2021         L1  \n",
       "AAACAGAGCGACTCCT-1_1_1  Oct_2021        WM3  \n",
       "AAACATTTCCCGGATT-1_1_1  Oct_2021       L5/6  \n",
       "AAACCACTACACAGAT-1_1_1  Oct_2021         L1  "
      ]
     },
     "execution_count": 2,
     "metadata": {},
     "output_type": "execute_result"
    }
   ],
   "source": [
    "# load the previous dataset which does not have the Visium images:\n",
    "# load dataset\n",
    "h5ad_file=\"/dfs7/swaruplab/smorabit/analysis/ADDS_2021/visium/human/data/ADDS_visium_scDRS.h5ad\"\n",
    "adata_seurat = sc.read(h5ad_file)\n",
    "adata_seurat.obs.head()"
   ]
  },
  {
   "cell_type": "code",
   "execution_count": 3,
   "id": "5aad5cd6-248d-4e87-ac10-6dc8233a3ab4",
   "metadata": {},
   "outputs": [
    {
     "data": {
      "text/plain": [
       "Index(['nCount_Spatial', 'Sample', 'Diagnosis', 'Sex', 'Age', 'seqbatch',\n",
       "       'annotation'],\n",
       "      dtype='object')"
      ]
     },
     "execution_count": 3,
     "metadata": {},
     "output_type": "execute_result"
    }
   ],
   "source": [
    "adata_seurat.obs.columns"
   ]
  },
  {
   "cell_type": "code",
   "execution_count": 4,
   "id": "ef632076-4b74-4b61-9219-cace055f55e2",
   "metadata": {},
   "outputs": [
    {
     "data": {
      "text/plain": [
       "['Oct_2021', 'Nov_24_2021', 'Dec_13_2021', 'Dec_20_2021']\n",
       "Categories (4, object): ['Dec_13_2021', 'Dec_20_2021', 'Nov_24_2021', 'Oct_2021']"
      ]
     },
     "execution_count": 4,
     "metadata": {},
     "output_type": "execute_result"
    }
   ],
   "source": [
    "adata_seurat.obs.seqbatch.unique()"
   ]
  },
  {
   "cell_type": "markdown",
   "id": "0e5605f1-ea7d-40f7-a83c-117611aa7cd6",
   "metadata": {},
   "source": [
    "## Human visium\n",
    "\n",
    "\n",
    "\n",
    "It seems like I will have to load everything from the spaceranger stage :(\n",
    "\n",
    "\n",
    "### October 2021"
   ]
  },
  {
   "cell_type": "code",
   "execution_count": 10,
   "id": "b9fc5282-2bb1-47ed-aa80-8b9d6cb3389e",
   "metadata": {},
   "outputs": [],
   "source": [
    "# dictionary for storing the .uns\n",
    "uns_dict = {}"
   ]
  },
  {
   "cell_type": "code",
   "execution_count": 11,
   "id": "305c4119-5a8d-426b-8cdc-082688e45132",
   "metadata": {
    "scrolled": true
   },
   "outputs": [
    {
     "name": "stdout",
     "output_type": "stream",
     "text": [
      "reading /dfs7/swaruplab/smorabit/data/ADDS_2021/visium/October_2021/spaceranger_count/1/outs/raw_feature_bc_matrix.h5\n",
      " (0:00:00)\n"
     ]
    },
    {
     "name": "stderr",
     "output_type": "stream",
     "text": [
      "/pub/smorabit/miniconda3/envs/scanpy/lib/python3.11/site-packages/anndata/_core/anndata.py:1840: UserWarning: Variable names are not unique. To make them unique, call `.var_names_make_unique`.\n",
      "  utils.warn_names_duplicates(\"var\")\n",
      "/pub/smorabit/miniconda3/envs/scanpy/lib/python3.11/site-packages/anndata/_core/anndata.py:1840: UserWarning: Variable names are not unique. To make them unique, call `.var_names_make_unique`.\n",
      "  utils.warn_names_duplicates(\"var\")\n"
     ]
    },
    {
     "name": "stdout",
     "output_type": "stream",
     "text": [
      "reading /dfs7/swaruplab/smorabit/data/ADDS_2021/visium/October_2021/spaceranger_count/2/outs/raw_feature_bc_matrix.h5\n",
      " (0:00:00)\n"
     ]
    },
    {
     "name": "stderr",
     "output_type": "stream",
     "text": [
      "/pub/smorabit/miniconda3/envs/scanpy/lib/python3.11/site-packages/anndata/_core/anndata.py:1840: UserWarning: Variable names are not unique. To make them unique, call `.var_names_make_unique`.\n",
      "  utils.warn_names_duplicates(\"var\")\n",
      "/pub/smorabit/miniconda3/envs/scanpy/lib/python3.11/site-packages/anndata/_core/anndata.py:1840: UserWarning: Variable names are not unique. To make them unique, call `.var_names_make_unique`.\n",
      "  utils.warn_names_duplicates(\"var\")\n"
     ]
    },
    {
     "name": "stdout",
     "output_type": "stream",
     "text": [
      "reading /dfs7/swaruplab/smorabit/data/ADDS_2021/visium/October_2021/spaceranger_count/3/outs/raw_feature_bc_matrix.h5\n",
      " (0:00:00)\n"
     ]
    },
    {
     "name": "stderr",
     "output_type": "stream",
     "text": [
      "/pub/smorabit/miniconda3/envs/scanpy/lib/python3.11/site-packages/anndata/_core/anndata.py:1840: UserWarning: Variable names are not unique. To make them unique, call `.var_names_make_unique`.\n",
      "  utils.warn_names_duplicates(\"var\")\n",
      "/pub/smorabit/miniconda3/envs/scanpy/lib/python3.11/site-packages/anndata/_core/anndata.py:1840: UserWarning: Variable names are not unique. To make them unique, call `.var_names_make_unique`.\n",
      "  utils.warn_names_duplicates(\"var\")\n"
     ]
    },
    {
     "name": "stdout",
     "output_type": "stream",
     "text": [
      "reading /dfs7/swaruplab/smorabit/data/ADDS_2021/visium/October_2021/spaceranger_count/4/outs/raw_feature_bc_matrix.h5\n",
      " (0:00:00)\n"
     ]
    },
    {
     "name": "stderr",
     "output_type": "stream",
     "text": [
      "/pub/smorabit/miniconda3/envs/scanpy/lib/python3.11/site-packages/anndata/_core/anndata.py:1840: UserWarning: Variable names are not unique. To make them unique, call `.var_names_make_unique`.\n",
      "  utils.warn_names_duplicates(\"var\")\n",
      "/pub/smorabit/miniconda3/envs/scanpy/lib/python3.11/site-packages/anndata/_core/anndata.py:1840: UserWarning: Variable names are not unique. To make them unique, call `.var_names_make_unique`.\n",
      "  utils.warn_names_duplicates(\"var\")\n"
     ]
    },
    {
     "name": "stdout",
     "output_type": "stream",
     "text": [
      "reading /dfs7/swaruplab/smorabit/data/ADDS_2021/visium/October_2021/spaceranger_count/5/outs/raw_feature_bc_matrix.h5\n",
      " (0:00:00)\n"
     ]
    },
    {
     "name": "stderr",
     "output_type": "stream",
     "text": [
      "/pub/smorabit/miniconda3/envs/scanpy/lib/python3.11/site-packages/anndata/_core/anndata.py:1840: UserWarning: Variable names are not unique. To make them unique, call `.var_names_make_unique`.\n",
      "  utils.warn_names_duplicates(\"var\")\n",
      "/pub/smorabit/miniconda3/envs/scanpy/lib/python3.11/site-packages/anndata/_core/anndata.py:1840: UserWarning: Variable names are not unique. To make them unique, call `.var_names_make_unique`.\n",
      "  utils.warn_names_duplicates(\"var\")\n"
     ]
    },
    {
     "name": "stdout",
     "output_type": "stream",
     "text": [
      "reading /dfs7/swaruplab/smorabit/data/ADDS_2021/visium/October_2021/spaceranger_count/6/outs/raw_feature_bc_matrix.h5\n",
      " (0:00:00)\n"
     ]
    },
    {
     "name": "stderr",
     "output_type": "stream",
     "text": [
      "/pub/smorabit/miniconda3/envs/scanpy/lib/python3.11/site-packages/anndata/_core/anndata.py:1840: UserWarning: Variable names are not unique. To make them unique, call `.var_names_make_unique`.\n",
      "  utils.warn_names_duplicates(\"var\")\n",
      "/pub/smorabit/miniconda3/envs/scanpy/lib/python3.11/site-packages/anndata/_core/anndata.py:1840: UserWarning: Variable names are not unique. To make them unique, call `.var_names_make_unique`.\n",
      "  utils.warn_names_duplicates(\"var\")\n"
     ]
    },
    {
     "name": "stdout",
     "output_type": "stream",
     "text": [
      "reading /dfs7/swaruplab/smorabit/data/ADDS_2021/visium/October_2021/spaceranger_count/7/outs/raw_feature_bc_matrix.h5\n",
      " (0:00:00)\n"
     ]
    },
    {
     "name": "stderr",
     "output_type": "stream",
     "text": [
      "/pub/smorabit/miniconda3/envs/scanpy/lib/python3.11/site-packages/anndata/_core/anndata.py:1840: UserWarning: Variable names are not unique. To make them unique, call `.var_names_make_unique`.\n",
      "  utils.warn_names_duplicates(\"var\")\n",
      "/pub/smorabit/miniconda3/envs/scanpy/lib/python3.11/site-packages/anndata/_core/anndata.py:1840: UserWarning: Variable names are not unique. To make them unique, call `.var_names_make_unique`.\n",
      "  utils.warn_names_duplicates(\"var\")\n"
     ]
    },
    {
     "name": "stdout",
     "output_type": "stream",
     "text": [
      "reading /dfs7/swaruplab/smorabit/data/ADDS_2021/visium/October_2021/spaceranger_count/8/outs/raw_feature_bc_matrix.h5\n",
      " (0:00:00)\n"
     ]
    },
    {
     "name": "stderr",
     "output_type": "stream",
     "text": [
      "/pub/smorabit/miniconda3/envs/scanpy/lib/python3.11/site-packages/anndata/_core/anndata.py:1840: UserWarning: Variable names are not unique. To make them unique, call `.var_names_make_unique`.\n",
      "  utils.warn_names_duplicates(\"var\")\n",
      "/pub/smorabit/miniconda3/envs/scanpy/lib/python3.11/site-packages/anndata/_core/anndata.py:1840: UserWarning: Variable names are not unique. To make them unique, call `.var_names_make_unique`.\n",
      "  utils.warn_names_duplicates(\"var\")\n",
      "/pub/smorabit/miniconda3/envs/scanpy/lib/python3.11/site-packages/anndata/_core/anndata.py:1763: FutureWarning: The AnnData.concatenate method is deprecated in favour of the anndata.concat function. Please use anndata.concat instead.\n",
      "\n",
      "See the tutorial for concat at: https://anndata.readthedocs.io/en/latest/concatenation.html\n",
      "  warnings.warn(\n",
      "/pub/smorabit/miniconda3/envs/scanpy/lib/python3.11/site-packages/anndata/_core/merge.py:1015: FutureWarning: The default value of 'ignore' for the `na_action` parameter in pandas.Categorical.map is deprecated and will be changed to 'None' in a future version. Please set na_action to the desired value to avoid seeing this warning\n",
      "  concat_indices = concat_indices.str.cat(label_col.map(str), sep=index_unique)\n",
      "/pub/smorabit/miniconda3/envs/scanpy/lib/python3.11/site-packages/anndata/_core/merge.py:1015: FutureWarning: The default value of 'ignore' for the `na_action` parameter in pandas.Categorical.map is deprecated and will be changed to 'None' in a future version. Please set na_action to the desired value to avoid seeing this warning\n",
      "  concat_indices = concat_indices.str.cat(label_col.map(str), sep=index_unique)\n"
     ]
    },
    {
     "data": {
      "text/html": [
       "<div>\n",
       "<style scoped>\n",
       "    .dataframe tbody tr th:only-of-type {\n",
       "        vertical-align: middle;\n",
       "    }\n",
       "\n",
       "    .dataframe tbody tr th {\n",
       "        vertical-align: top;\n",
       "    }\n",
       "\n",
       "    .dataframe thead th {\n",
       "        text-align: right;\n",
       "    }\n",
       "</style>\n",
       "<table border=\"1\" class=\"dataframe\">\n",
       "  <thead>\n",
       "    <tr style=\"text-align: right;\">\n",
       "      <th></th>\n",
       "      <th>in_tissue</th>\n",
       "      <th>array_row</th>\n",
       "      <th>array_col</th>\n",
       "      <th>seqbatch</th>\n",
       "      <th>Sample</th>\n",
       "      <th>bc</th>\n",
       "      <th>Sample_i</th>\n",
       "      <th>batch</th>\n",
       "    </tr>\n",
       "  </thead>\n",
       "  <tbody>\n",
       "    <tr>\n",
       "      <th>AAACAACGAATAGTTC-1-0</th>\n",
       "      <td>0</td>\n",
       "      <td>0</td>\n",
       "      <td>16</td>\n",
       "      <td>Oct_2021</td>\n",
       "      <td>1</td>\n",
       "      <td>AAACAACGAATAGTTC</td>\n",
       "      <td>0</td>\n",
       "      <td>0</td>\n",
       "    </tr>\n",
       "    <tr>\n",
       "      <th>AAACAAGTATCTCCCA-1-0</th>\n",
       "      <td>1</td>\n",
       "      <td>50</td>\n",
       "      <td>102</td>\n",
       "      <td>Oct_2021</td>\n",
       "      <td>1</td>\n",
       "      <td>AAACAAGTATCTCCCA</td>\n",
       "      <td>0</td>\n",
       "      <td>0</td>\n",
       "    </tr>\n",
       "    <tr>\n",
       "      <th>AAACAATCTACTAGCA-1-0</th>\n",
       "      <td>1</td>\n",
       "      <td>3</td>\n",
       "      <td>43</td>\n",
       "      <td>Oct_2021</td>\n",
       "      <td>1</td>\n",
       "      <td>AAACAATCTACTAGCA</td>\n",
       "      <td>0</td>\n",
       "      <td>0</td>\n",
       "    </tr>\n",
       "    <tr>\n",
       "      <th>AAACACCAATAACTGC-1-0</th>\n",
       "      <td>0</td>\n",
       "      <td>59</td>\n",
       "      <td>19</td>\n",
       "      <td>Oct_2021</td>\n",
       "      <td>1</td>\n",
       "      <td>AAACACCAATAACTGC</td>\n",
       "      <td>0</td>\n",
       "      <td>0</td>\n",
       "    </tr>\n",
       "    <tr>\n",
       "      <th>AAACAGAGCGACTCCT-1-0</th>\n",
       "      <td>1</td>\n",
       "      <td>14</td>\n",
       "      <td>94</td>\n",
       "      <td>Oct_2021</td>\n",
       "      <td>1</td>\n",
       "      <td>AAACAGAGCGACTCCT</td>\n",
       "      <td>0</td>\n",
       "      <td>0</td>\n",
       "    </tr>\n",
       "  </tbody>\n",
       "</table>\n",
       "</div>"
      ],
      "text/plain": [
       "                      in_tissue  array_row  array_col  seqbatch Sample  \\\n",
       "AAACAACGAATAGTTC-1-0          0          0         16  Oct_2021      1   \n",
       "AAACAAGTATCTCCCA-1-0          1         50        102  Oct_2021      1   \n",
       "AAACAATCTACTAGCA-1-0          1          3         43  Oct_2021      1   \n",
       "AAACACCAATAACTGC-1-0          0         59         19  Oct_2021      1   \n",
       "AAACAGAGCGACTCCT-1-0          1         14         94  Oct_2021      1   \n",
       "\n",
       "                                    bc Sample_i batch  \n",
       "AAACAACGAATAGTTC-1-0  AAACAACGAATAGTTC        0     0  \n",
       "AAACAAGTATCTCCCA-1-0  AAACAAGTATCTCCCA        0     0  \n",
       "AAACAATCTACTAGCA-1-0  AAACAATCTACTAGCA        0     0  \n",
       "AAACACCAATAACTGC-1-0  AAACACCAATAACTGC        0     0  \n",
       "AAACAGAGCGACTCCT-1-0  AAACAGAGCGACTCCT        0     0  "
      ]
     },
     "execution_count": 11,
     "metadata": {},
     "output_type": "execute_result"
    }
   ],
   "source": [
    "\n",
    "# files\n",
    "spaceranger_dir = '/dfs7/swaruplab/smorabit/data/ADDS_2021/visium/October_2021/spaceranger_count/'\n",
    "samples = os.listdir(spaceranger_dir)\n",
    "h5ad_list = [spaceranger_dir + x + '/outs/' for x in samples]\n",
    "\n",
    "# loop over each sample\n",
    "adata_list = [] \n",
    "for i, cur_file in enumerate(h5ad_list):\n",
    "    cur_adata = sc.read_visium(cur_file, count_file='raw_feature_bc_matrix.h5')\n",
    "\n",
    "    cur_adata.obs['seqbatch'] = 'Oct_2021'\n",
    "    cur_adata.obs['Sample'] = str(samples[i])\n",
    "    cur_adata.obs['bc'] = [x.split('-')[0] for x in cur_adata.obs.index.to_list()]\n",
    "    cur_adata.uns['title'] = samples[i]\n",
    "    cur_adata.var_names_make_unique()\n",
    "    uns_dict[str(i) + '-Oct_2021'] = cur_adata.uns\n",
    "    cur_adata.obs['Sample_i'] = str(i)\n",
    "    \n",
    "    adata_list.append(cur_adata)\n",
    "\n",
    "# combine\n",
    "adata = adata_list[0].concatenate(adata_list[1:len(adata_list)])\n",
    "adata.obs.head()"
   ]
  },
  {
   "cell_type": "code",
   "execution_count": 12,
   "id": "3aecc84a-5505-4d27-b321-dfc3efe445e7",
   "metadata": {},
   "outputs": [
    {
     "data": {
      "text/html": [
       "<div>\n",
       "<style scoped>\n",
       "    .dataframe tbody tr th:only-of-type {\n",
       "        vertical-align: middle;\n",
       "    }\n",
       "\n",
       "    .dataframe tbody tr th {\n",
       "        vertical-align: top;\n",
       "    }\n",
       "\n",
       "    .dataframe thead th {\n",
       "        text-align: right;\n",
       "    }\n",
       "</style>\n",
       "<table border=\"1\" class=\"dataframe\">\n",
       "  <thead>\n",
       "    <tr style=\"text-align: right;\">\n",
       "      <th></th>\n",
       "      <th>Sample_num</th>\n",
       "      <th>Case.Year</th>\n",
       "      <th>Case.Num</th>\n",
       "      <th>Diagnosis</th>\n",
       "      <th>Sex</th>\n",
       "      <th>Age</th>\n",
       "      <th>CaptureArea</th>\n",
       "      <th>Slide</th>\n",
       "      <th>Sectioning</th>\n",
       "      <th>LibraryDay1</th>\n",
       "      <th>LibraryDay2</th>\n",
       "      <th>Amp.Cycles</th>\n",
       "      <th>INDEX</th>\n",
       "      <th>Qubit.Concentration</th>\n",
       "      <th>Av.Library.bp</th>\n",
       "      <th>Initial nM</th>\n",
       "      <th>Sample (ul)</th>\n",
       "      <th>H2O (ul)</th>\n",
       "    </tr>\n",
       "  </thead>\n",
       "  <tbody>\n",
       "    <tr>\n",
       "      <th>0</th>\n",
       "      <td>1</td>\n",
       "      <td>1999</td>\n",
       "      <td>2</td>\n",
       "      <td>Control</td>\n",
       "      <td>F</td>\n",
       "      <td>74</td>\n",
       "      <td>A1</td>\n",
       "      <td>V10D07-124</td>\n",
       "      <td>9/20/21</td>\n",
       "      <td>9/24/21</td>\n",
       "      <td>10/5/21</td>\n",
       "      <td>14</td>\n",
       "      <td>E3</td>\n",
       "      <td>17.70</td>\n",
       "      <td>481</td>\n",
       "      <td>55.755056</td>\n",
       "      <td>2.2</td>\n",
       "      <td>22.8</td>\n",
       "    </tr>\n",
       "    <tr>\n",
       "      <th>1</th>\n",
       "      <td>2</td>\n",
       "      <td>2016</td>\n",
       "      <td>21</td>\n",
       "      <td>earlyAD</td>\n",
       "      <td>M</td>\n",
       "      <td>80</td>\n",
       "      <td>B1</td>\n",
       "      <td>V10D07-124</td>\n",
       "      <td>9/20/21</td>\n",
       "      <td>9/24/21</td>\n",
       "      <td>10/5/21</td>\n",
       "      <td>14</td>\n",
       "      <td>F3</td>\n",
       "      <td>24.00</td>\n",
       "      <td>473</td>\n",
       "      <td>76.878724</td>\n",
       "      <td>1.6</td>\n",
       "      <td>23.4</td>\n",
       "    </tr>\n",
       "    <tr>\n",
       "      <th>2</th>\n",
       "      <td>3</td>\n",
       "      <td>2017</td>\n",
       "      <td>13</td>\n",
       "      <td>AD</td>\n",
       "      <td>F</td>\n",
       "      <td>89</td>\n",
       "      <td>C1</td>\n",
       "      <td>V10D07-124</td>\n",
       "      <td>9/20/21</td>\n",
       "      <td>9/24/21</td>\n",
       "      <td>10/5/21</td>\n",
       "      <td>14</td>\n",
       "      <td>G3</td>\n",
       "      <td>17.70</td>\n",
       "      <td>478</td>\n",
       "      <td>56.104983</td>\n",
       "      <td>2.2</td>\n",
       "      <td>22.8</td>\n",
       "    </tr>\n",
       "    <tr>\n",
       "      <th>3</th>\n",
       "      <td>4</td>\n",
       "      <td>2015</td>\n",
       "      <td>2</td>\n",
       "      <td>AD_DS</td>\n",
       "      <td>M</td>\n",
       "      <td>43</td>\n",
       "      <td>D1</td>\n",
       "      <td>V10D07-124</td>\n",
       "      <td>9/20/21</td>\n",
       "      <td>9/24/21</td>\n",
       "      <td>10/5/21</td>\n",
       "      <td>13</td>\n",
       "      <td>H3</td>\n",
       "      <td>9.80</td>\n",
       "      <td>482</td>\n",
       "      <td>30.805985</td>\n",
       "      <td>4.1</td>\n",
       "      <td>20.9</td>\n",
       "    </tr>\n",
       "    <tr>\n",
       "      <th>4</th>\n",
       "      <td>5</td>\n",
       "      <td>1991</td>\n",
       "      <td>6</td>\n",
       "      <td>Control</td>\n",
       "      <td>M</td>\n",
       "      <td>79</td>\n",
       "      <td>A1</td>\n",
       "      <td>V10D07-125</td>\n",
       "      <td>9/23/21</td>\n",
       "      <td>10/4/21</td>\n",
       "      <td>10/5/21</td>\n",
       "      <td>15</td>\n",
       "      <td>A4</td>\n",
       "      <td>7.82</td>\n",
       "      <td>491</td>\n",
       "      <td>24.131334</td>\n",
       "      <td>5.2</td>\n",
       "      <td>19.8</td>\n",
       "    </tr>\n",
       "  </tbody>\n",
       "</table>\n",
       "</div>"
      ],
      "text/plain": [
       "  Sample_num  Case.Year  Case.Num Diagnosis Sex  Age CaptureArea       Slide  \\\n",
       "0          1       1999         2   Control   F   74          A1  V10D07-124   \n",
       "1          2       2016        21   earlyAD   M   80          B1  V10D07-124   \n",
       "2          3       2017        13        AD   F   89          C1  V10D07-124   \n",
       "3          4       2015         2     AD_DS   M   43          D1  V10D07-124   \n",
       "4          5       1991         6   Control   M   79          A1  V10D07-125   \n",
       "\n",
       "  Sectioning LibraryDay1 LibraryDay2  Amp.Cycles INDEX  Qubit.Concentration  \\\n",
       "0    9/20/21     9/24/21     10/5/21          14    E3                17.70   \n",
       "1    9/20/21     9/24/21     10/5/21          14    F3                24.00   \n",
       "2    9/20/21     9/24/21     10/5/21          14    G3                17.70   \n",
       "3    9/20/21     9/24/21     10/5/21          13    H3                 9.80   \n",
       "4    9/23/21     10/4/21     10/5/21          15    A4                 7.82   \n",
       "\n",
       "   Av.Library.bp  Initial nM  Sample (ul)  H2O (ul)  \n",
       "0            481   55.755056          2.2      22.8  \n",
       "1            473   76.878724          1.6      23.4  \n",
       "2            478   56.104983          2.2      22.8  \n",
       "3            482   30.805985          4.1      20.9  \n",
       "4            491   24.131334          5.2      19.8  "
      ]
     },
     "execution_count": 12,
     "metadata": {},
     "output_type": "execute_result"
    }
   ],
   "source": [
    "# load metadata\n",
    "meta_file = \"/dfs7/swaruplab/smorabit/data/ADDS_2021/visium/October_2021/visium_human_Oct_2021.csv\"\n",
    "meta_df = pd.read_csv(meta_file, sep=',', index_col=None)\n",
    "#meta_df.rename(columns={'Sample_num' : 'Sample'})\n",
    "meta_df['Sample_num'] = meta_df['Sample_num'].astype(str)\n",
    "meta_df.head()\n",
    "#meta_df.columns = ['SAMPLE', 'Condition', 'Age']\n",
    "#meta_df.SAMPLE = meta_df.SAMPLE.astype('str')"
   ]
  },
  {
   "cell_type": "code",
   "execution_count": 13,
   "id": "505a5142-ecc0-479c-93cc-fea529246660",
   "metadata": {},
   "outputs": [],
   "source": [
    "# add the meta\n",
    "temp = adata.obs.merge(\n",
    "    meta_df,\n",
    "    how = 'left',\n",
    "    left_on = 'Sample',\n",
    "    right_on = 'Sample_num'\n",
    ")\n",
    "temp.index = adata.obs.index\n",
    "\n",
    "adata.obs['Diagnosis'] = temp['Diagnosis']\n",
    "adata.obs['Age'] = temp['Age']\n",
    "adata.obs['Sex'] = temp['Sex']\n"
   ]
  },
  {
   "cell_type": "code",
   "execution_count": 14,
   "id": "05448281-7855-4894-aef6-03c98a535069",
   "metadata": {},
   "outputs": [],
   "source": [
    "adata_oct = adata"
   ]
  },
  {
   "cell_type": "markdown",
   "id": "2d1901aa-e1cc-4453-b8cd-4a804271e938",
   "metadata": {},
   "source": [
    "### November batch"
   ]
  },
  {
   "cell_type": "code",
   "execution_count": 15,
   "id": "66750d7f-4cb8-44da-8d34-965860069738",
   "metadata": {
    "scrolled": true
   },
   "outputs": [
    {
     "name": "stdout",
     "output_type": "stream",
     "text": [
      "reading /dfs7/swaruplab/smorabit/data/ADDS_2021/visium/Nov_24_2021/spaceranger_count/VisiumHuman_1/outs/raw_feature_bc_matrix.h5\n",
      " (0:00:00)\n"
     ]
    },
    {
     "name": "stderr",
     "output_type": "stream",
     "text": [
      "/pub/smorabit/miniconda3/envs/scanpy/lib/python3.11/site-packages/anndata/_core/anndata.py:1840: UserWarning: Variable names are not unique. To make them unique, call `.var_names_make_unique`.\n",
      "  utils.warn_names_duplicates(\"var\")\n",
      "/pub/smorabit/miniconda3/envs/scanpy/lib/python3.11/site-packages/anndata/_core/anndata.py:1840: UserWarning: Variable names are not unique. To make them unique, call `.var_names_make_unique`.\n",
      "  utils.warn_names_duplicates(\"var\")\n"
     ]
    },
    {
     "name": "stdout",
     "output_type": "stream",
     "text": [
      "reading /dfs7/swaruplab/smorabit/data/ADDS_2021/visium/Nov_24_2021/spaceranger_count/VisiumHuman_10/outs/raw_feature_bc_matrix.h5\n",
      " (0:00:00)\n"
     ]
    },
    {
     "name": "stderr",
     "output_type": "stream",
     "text": [
      "/pub/smorabit/miniconda3/envs/scanpy/lib/python3.11/site-packages/anndata/_core/anndata.py:1840: UserWarning: Variable names are not unique. To make them unique, call `.var_names_make_unique`.\n",
      "  utils.warn_names_duplicates(\"var\")\n",
      "/pub/smorabit/miniconda3/envs/scanpy/lib/python3.11/site-packages/anndata/_core/anndata.py:1840: UserWarning: Variable names are not unique. To make them unique, call `.var_names_make_unique`.\n",
      "  utils.warn_names_duplicates(\"var\")\n"
     ]
    },
    {
     "name": "stdout",
     "output_type": "stream",
     "text": [
      "reading /dfs7/swaruplab/smorabit/data/ADDS_2021/visium/Nov_24_2021/spaceranger_count/VisiumHuman_11/outs/raw_feature_bc_matrix.h5\n",
      " (0:00:00)\n"
     ]
    },
    {
     "name": "stderr",
     "output_type": "stream",
     "text": [
      "/pub/smorabit/miniconda3/envs/scanpy/lib/python3.11/site-packages/anndata/_core/anndata.py:1840: UserWarning: Variable names are not unique. To make them unique, call `.var_names_make_unique`.\n",
      "  utils.warn_names_duplicates(\"var\")\n",
      "/pub/smorabit/miniconda3/envs/scanpy/lib/python3.11/site-packages/anndata/_core/anndata.py:1840: UserWarning: Variable names are not unique. To make them unique, call `.var_names_make_unique`.\n",
      "  utils.warn_names_duplicates(\"var\")\n"
     ]
    },
    {
     "name": "stdout",
     "output_type": "stream",
     "text": [
      "reading /dfs7/swaruplab/smorabit/data/ADDS_2021/visium/Nov_24_2021/spaceranger_count/VisiumHuman_12/outs/raw_feature_bc_matrix.h5\n",
      " (0:00:00)\n"
     ]
    },
    {
     "name": "stderr",
     "output_type": "stream",
     "text": [
      "/pub/smorabit/miniconda3/envs/scanpy/lib/python3.11/site-packages/anndata/_core/anndata.py:1840: UserWarning: Variable names are not unique. To make them unique, call `.var_names_make_unique`.\n",
      "  utils.warn_names_duplicates(\"var\")\n",
      "/pub/smorabit/miniconda3/envs/scanpy/lib/python3.11/site-packages/anndata/_core/anndata.py:1840: UserWarning: Variable names are not unique. To make them unique, call `.var_names_make_unique`.\n",
      "  utils.warn_names_duplicates(\"var\")\n"
     ]
    },
    {
     "name": "stdout",
     "output_type": "stream",
     "text": [
      "reading /dfs7/swaruplab/smorabit/data/ADDS_2021/visium/Nov_24_2021/spaceranger_count/VisiumHuman_13/outs/raw_feature_bc_matrix.h5\n",
      " (0:00:00)\n"
     ]
    },
    {
     "name": "stderr",
     "output_type": "stream",
     "text": [
      "/pub/smorabit/miniconda3/envs/scanpy/lib/python3.11/site-packages/anndata/_core/anndata.py:1840: UserWarning: Variable names are not unique. To make them unique, call `.var_names_make_unique`.\n",
      "  utils.warn_names_duplicates(\"var\")\n",
      "/pub/smorabit/miniconda3/envs/scanpy/lib/python3.11/site-packages/anndata/_core/anndata.py:1840: UserWarning: Variable names are not unique. To make them unique, call `.var_names_make_unique`.\n",
      "  utils.warn_names_duplicates(\"var\")\n"
     ]
    },
    {
     "name": "stdout",
     "output_type": "stream",
     "text": [
      "reading /dfs7/swaruplab/smorabit/data/ADDS_2021/visium/Nov_24_2021/spaceranger_count/VisiumHuman_14/outs/raw_feature_bc_matrix.h5\n",
      " (0:00:00)\n"
     ]
    },
    {
     "name": "stderr",
     "output_type": "stream",
     "text": [
      "/pub/smorabit/miniconda3/envs/scanpy/lib/python3.11/site-packages/anndata/_core/anndata.py:1840: UserWarning: Variable names are not unique. To make them unique, call `.var_names_make_unique`.\n",
      "  utils.warn_names_duplicates(\"var\")\n",
      "/pub/smorabit/miniconda3/envs/scanpy/lib/python3.11/site-packages/anndata/_core/anndata.py:1840: UserWarning: Variable names are not unique. To make them unique, call `.var_names_make_unique`.\n",
      "  utils.warn_names_duplicates(\"var\")\n"
     ]
    },
    {
     "name": "stdout",
     "output_type": "stream",
     "text": [
      "reading /dfs7/swaruplab/smorabit/data/ADDS_2021/visium/Nov_24_2021/spaceranger_count/VisiumHuman_15/outs/raw_feature_bc_matrix.h5\n",
      " (0:00:00)\n"
     ]
    },
    {
     "name": "stderr",
     "output_type": "stream",
     "text": [
      "/pub/smorabit/miniconda3/envs/scanpy/lib/python3.11/site-packages/anndata/_core/anndata.py:1840: UserWarning: Variable names are not unique. To make them unique, call `.var_names_make_unique`.\n",
      "  utils.warn_names_duplicates(\"var\")\n",
      "/pub/smorabit/miniconda3/envs/scanpy/lib/python3.11/site-packages/anndata/_core/anndata.py:1840: UserWarning: Variable names are not unique. To make them unique, call `.var_names_make_unique`.\n",
      "  utils.warn_names_duplicates(\"var\")\n"
     ]
    },
    {
     "name": "stdout",
     "output_type": "stream",
     "text": [
      "reading /dfs7/swaruplab/smorabit/data/ADDS_2021/visium/Nov_24_2021/spaceranger_count/VisiumHuman_16/outs/raw_feature_bc_matrix.h5\n",
      " (0:00:00)\n"
     ]
    },
    {
     "name": "stderr",
     "output_type": "stream",
     "text": [
      "/pub/smorabit/miniconda3/envs/scanpy/lib/python3.11/site-packages/anndata/_core/anndata.py:1840: UserWarning: Variable names are not unique. To make them unique, call `.var_names_make_unique`.\n",
      "  utils.warn_names_duplicates(\"var\")\n",
      "/pub/smorabit/miniconda3/envs/scanpy/lib/python3.11/site-packages/anndata/_core/anndata.py:1840: UserWarning: Variable names are not unique. To make them unique, call `.var_names_make_unique`.\n",
      "  utils.warn_names_duplicates(\"var\")\n"
     ]
    },
    {
     "name": "stdout",
     "output_type": "stream",
     "text": [
      "reading /dfs7/swaruplab/smorabit/data/ADDS_2021/visium/Nov_24_2021/spaceranger_count/VisiumHuman_2/outs/raw_feature_bc_matrix.h5\n",
      " (0:00:00)\n"
     ]
    },
    {
     "name": "stderr",
     "output_type": "stream",
     "text": [
      "/pub/smorabit/miniconda3/envs/scanpy/lib/python3.11/site-packages/anndata/_core/anndata.py:1840: UserWarning: Variable names are not unique. To make them unique, call `.var_names_make_unique`.\n",
      "  utils.warn_names_duplicates(\"var\")\n",
      "/pub/smorabit/miniconda3/envs/scanpy/lib/python3.11/site-packages/anndata/_core/anndata.py:1840: UserWarning: Variable names are not unique. To make them unique, call `.var_names_make_unique`.\n",
      "  utils.warn_names_duplicates(\"var\")\n"
     ]
    },
    {
     "name": "stdout",
     "output_type": "stream",
     "text": [
      "reading /dfs7/swaruplab/smorabit/data/ADDS_2021/visium/Nov_24_2021/spaceranger_count/VisiumHuman_3/outs/raw_feature_bc_matrix.h5\n",
      " (0:00:00)\n"
     ]
    },
    {
     "name": "stderr",
     "output_type": "stream",
     "text": [
      "/pub/smorabit/miniconda3/envs/scanpy/lib/python3.11/site-packages/anndata/_core/anndata.py:1840: UserWarning: Variable names are not unique. To make them unique, call `.var_names_make_unique`.\n",
      "  utils.warn_names_duplicates(\"var\")\n",
      "/pub/smorabit/miniconda3/envs/scanpy/lib/python3.11/site-packages/anndata/_core/anndata.py:1840: UserWarning: Variable names are not unique. To make them unique, call `.var_names_make_unique`.\n",
      "  utils.warn_names_duplicates(\"var\")\n"
     ]
    },
    {
     "name": "stdout",
     "output_type": "stream",
     "text": [
      "reading /dfs7/swaruplab/smorabit/data/ADDS_2021/visium/Nov_24_2021/spaceranger_count/VisiumHuman_4/outs/raw_feature_bc_matrix.h5\n",
      " (0:00:00)\n"
     ]
    },
    {
     "name": "stderr",
     "output_type": "stream",
     "text": [
      "/pub/smorabit/miniconda3/envs/scanpy/lib/python3.11/site-packages/anndata/_core/anndata.py:1840: UserWarning: Variable names are not unique. To make them unique, call `.var_names_make_unique`.\n",
      "  utils.warn_names_duplicates(\"var\")\n",
      "/pub/smorabit/miniconda3/envs/scanpy/lib/python3.11/site-packages/anndata/_core/anndata.py:1840: UserWarning: Variable names are not unique. To make them unique, call `.var_names_make_unique`.\n",
      "  utils.warn_names_duplicates(\"var\")\n"
     ]
    },
    {
     "name": "stdout",
     "output_type": "stream",
     "text": [
      "reading /dfs7/swaruplab/smorabit/data/ADDS_2021/visium/Nov_24_2021/spaceranger_count/VisiumHuman_5/outs/raw_feature_bc_matrix.h5\n",
      " (0:00:00)\n"
     ]
    },
    {
     "name": "stderr",
     "output_type": "stream",
     "text": [
      "/pub/smorabit/miniconda3/envs/scanpy/lib/python3.11/site-packages/anndata/_core/anndata.py:1840: UserWarning: Variable names are not unique. To make them unique, call `.var_names_make_unique`.\n",
      "  utils.warn_names_duplicates(\"var\")\n",
      "/pub/smorabit/miniconda3/envs/scanpy/lib/python3.11/site-packages/anndata/_core/anndata.py:1840: UserWarning: Variable names are not unique. To make them unique, call `.var_names_make_unique`.\n",
      "  utils.warn_names_duplicates(\"var\")\n"
     ]
    },
    {
     "name": "stdout",
     "output_type": "stream",
     "text": [
      "reading /dfs7/swaruplab/smorabit/data/ADDS_2021/visium/Nov_24_2021/spaceranger_count/VisiumHuman_6/outs/raw_feature_bc_matrix.h5\n",
      " (0:00:00)\n"
     ]
    },
    {
     "name": "stderr",
     "output_type": "stream",
     "text": [
      "/pub/smorabit/miniconda3/envs/scanpy/lib/python3.11/site-packages/anndata/_core/anndata.py:1840: UserWarning: Variable names are not unique. To make them unique, call `.var_names_make_unique`.\n",
      "  utils.warn_names_duplicates(\"var\")\n",
      "/pub/smorabit/miniconda3/envs/scanpy/lib/python3.11/site-packages/anndata/_core/anndata.py:1840: UserWarning: Variable names are not unique. To make them unique, call `.var_names_make_unique`.\n",
      "  utils.warn_names_duplicates(\"var\")\n"
     ]
    },
    {
     "name": "stdout",
     "output_type": "stream",
     "text": [
      "reading /dfs7/swaruplab/smorabit/data/ADDS_2021/visium/Nov_24_2021/spaceranger_count/VisiumHuman_7/outs/raw_feature_bc_matrix.h5\n",
      " (0:00:00)\n"
     ]
    },
    {
     "name": "stderr",
     "output_type": "stream",
     "text": [
      "/pub/smorabit/miniconda3/envs/scanpy/lib/python3.11/site-packages/anndata/_core/anndata.py:1840: UserWarning: Variable names are not unique. To make them unique, call `.var_names_make_unique`.\n",
      "  utils.warn_names_duplicates(\"var\")\n",
      "/pub/smorabit/miniconda3/envs/scanpy/lib/python3.11/site-packages/anndata/_core/anndata.py:1840: UserWarning: Variable names are not unique. To make them unique, call `.var_names_make_unique`.\n",
      "  utils.warn_names_duplicates(\"var\")\n"
     ]
    },
    {
     "name": "stdout",
     "output_type": "stream",
     "text": [
      "reading /dfs7/swaruplab/smorabit/data/ADDS_2021/visium/Nov_24_2021/spaceranger_count/VisiumHuman_8/outs/raw_feature_bc_matrix.h5\n",
      " (0:00:00)\n"
     ]
    },
    {
     "name": "stderr",
     "output_type": "stream",
     "text": [
      "/pub/smorabit/miniconda3/envs/scanpy/lib/python3.11/site-packages/anndata/_core/anndata.py:1840: UserWarning: Variable names are not unique. To make them unique, call `.var_names_make_unique`.\n",
      "  utils.warn_names_duplicates(\"var\")\n",
      "/pub/smorabit/miniconda3/envs/scanpy/lib/python3.11/site-packages/anndata/_core/anndata.py:1840: UserWarning: Variable names are not unique. To make them unique, call `.var_names_make_unique`.\n",
      "  utils.warn_names_duplicates(\"var\")\n"
     ]
    },
    {
     "name": "stdout",
     "output_type": "stream",
     "text": [
      "reading /dfs7/swaruplab/smorabit/data/ADDS_2021/visium/Nov_24_2021/spaceranger_count/VisiumHuman_9/outs/raw_feature_bc_matrix.h5\n",
      " (0:00:00)\n"
     ]
    },
    {
     "name": "stderr",
     "output_type": "stream",
     "text": [
      "/pub/smorabit/miniconda3/envs/scanpy/lib/python3.11/site-packages/anndata/_core/anndata.py:1840: UserWarning: Variable names are not unique. To make them unique, call `.var_names_make_unique`.\n",
      "  utils.warn_names_duplicates(\"var\")\n",
      "/pub/smorabit/miniconda3/envs/scanpy/lib/python3.11/site-packages/anndata/_core/anndata.py:1840: UserWarning: Variable names are not unique. To make them unique, call `.var_names_make_unique`.\n",
      "  utils.warn_names_duplicates(\"var\")\n",
      "/pub/smorabit/miniconda3/envs/scanpy/lib/python3.11/site-packages/anndata/_core/anndata.py:1763: FutureWarning: The AnnData.concatenate method is deprecated in favour of the anndata.concat function. Please use anndata.concat instead.\n",
      "\n",
      "See the tutorial for concat at: https://anndata.readthedocs.io/en/latest/concatenation.html\n",
      "  warnings.warn(\n",
      "/pub/smorabit/miniconda3/envs/scanpy/lib/python3.11/site-packages/anndata/_core/merge.py:1015: FutureWarning: The default value of 'ignore' for the `na_action` parameter in pandas.Categorical.map is deprecated and will be changed to 'None' in a future version. Please set na_action to the desired value to avoid seeing this warning\n",
      "  concat_indices = concat_indices.str.cat(label_col.map(str), sep=index_unique)\n",
      "/pub/smorabit/miniconda3/envs/scanpy/lib/python3.11/site-packages/anndata/_core/merge.py:1015: FutureWarning: The default value of 'ignore' for the `na_action` parameter in pandas.Categorical.map is deprecated and will be changed to 'None' in a future version. Please set na_action to the desired value to avoid seeing this warning\n",
      "  concat_indices = concat_indices.str.cat(label_col.map(str), sep=index_unique)\n"
     ]
    },
    {
     "data": {
      "text/html": [
       "<div>\n",
       "<style scoped>\n",
       "    .dataframe tbody tr th:only-of-type {\n",
       "        vertical-align: middle;\n",
       "    }\n",
       "\n",
       "    .dataframe tbody tr th {\n",
       "        vertical-align: top;\n",
       "    }\n",
       "\n",
       "    .dataframe thead th {\n",
       "        text-align: right;\n",
       "    }\n",
       "</style>\n",
       "<table border=\"1\" class=\"dataframe\">\n",
       "  <thead>\n",
       "    <tr style=\"text-align: right;\">\n",
       "      <th></th>\n",
       "      <th>in_tissue</th>\n",
       "      <th>array_row</th>\n",
       "      <th>array_col</th>\n",
       "      <th>seqbatch</th>\n",
       "      <th>Sample</th>\n",
       "      <th>bc</th>\n",
       "      <th>Sample_i</th>\n",
       "      <th>batch</th>\n",
       "    </tr>\n",
       "  </thead>\n",
       "  <tbody>\n",
       "    <tr>\n",
       "      <th>AAACAACGAATAGTTC-1-0</th>\n",
       "      <td>1</td>\n",
       "      <td>0</td>\n",
       "      <td>16</td>\n",
       "      <td>Nov_24_2021</td>\n",
       "      <td>VisiumHuman_1</td>\n",
       "      <td>AAACAACGAATAGTTC</td>\n",
       "      <td>0</td>\n",
       "      <td>0</td>\n",
       "    </tr>\n",
       "    <tr>\n",
       "      <th>AAACAAGTATCTCCCA-1-0</th>\n",
       "      <td>0</td>\n",
       "      <td>50</td>\n",
       "      <td>102</td>\n",
       "      <td>Nov_24_2021</td>\n",
       "      <td>VisiumHuman_1</td>\n",
       "      <td>AAACAAGTATCTCCCA</td>\n",
       "      <td>0</td>\n",
       "      <td>0</td>\n",
       "    </tr>\n",
       "    <tr>\n",
       "      <th>AAACAATCTACTAGCA-1-0</th>\n",
       "      <td>1</td>\n",
       "      <td>3</td>\n",
       "      <td>43</td>\n",
       "      <td>Nov_24_2021</td>\n",
       "      <td>VisiumHuman_1</td>\n",
       "      <td>AAACAATCTACTAGCA</td>\n",
       "      <td>0</td>\n",
       "      <td>0</td>\n",
       "    </tr>\n",
       "    <tr>\n",
       "      <th>AAACACCAATAACTGC-1-0</th>\n",
       "      <td>1</td>\n",
       "      <td>59</td>\n",
       "      <td>19</td>\n",
       "      <td>Nov_24_2021</td>\n",
       "      <td>VisiumHuman_1</td>\n",
       "      <td>AAACACCAATAACTGC</td>\n",
       "      <td>0</td>\n",
       "      <td>0</td>\n",
       "    </tr>\n",
       "    <tr>\n",
       "      <th>AAACAGAGCGACTCCT-1-0</th>\n",
       "      <td>1</td>\n",
       "      <td>14</td>\n",
       "      <td>94</td>\n",
       "      <td>Nov_24_2021</td>\n",
       "      <td>VisiumHuman_1</td>\n",
       "      <td>AAACAGAGCGACTCCT</td>\n",
       "      <td>0</td>\n",
       "      <td>0</td>\n",
       "    </tr>\n",
       "  </tbody>\n",
       "</table>\n",
       "</div>"
      ],
      "text/plain": [
       "                      in_tissue  array_row  array_col     seqbatch  \\\n",
       "AAACAACGAATAGTTC-1-0          1          0         16  Nov_24_2021   \n",
       "AAACAAGTATCTCCCA-1-0          0         50        102  Nov_24_2021   \n",
       "AAACAATCTACTAGCA-1-0          1          3         43  Nov_24_2021   \n",
       "AAACACCAATAACTGC-1-0          1         59         19  Nov_24_2021   \n",
       "AAACAGAGCGACTCCT-1-0          1         14         94  Nov_24_2021   \n",
       "\n",
       "                             Sample                bc Sample_i batch  \n",
       "AAACAACGAATAGTTC-1-0  VisiumHuman_1  AAACAACGAATAGTTC        0     0  \n",
       "AAACAAGTATCTCCCA-1-0  VisiumHuman_1  AAACAAGTATCTCCCA        0     0  \n",
       "AAACAATCTACTAGCA-1-0  VisiumHuman_1  AAACAATCTACTAGCA        0     0  \n",
       "AAACACCAATAACTGC-1-0  VisiumHuman_1  AAACACCAATAACTGC        0     0  \n",
       "AAACAGAGCGACTCCT-1-0  VisiumHuman_1  AAACAGAGCGACTCCT        0     0  "
      ]
     },
     "execution_count": 15,
     "metadata": {},
     "output_type": "execute_result"
    }
   ],
   "source": [
    "\n",
    "# files\n",
    "spaceranger_dir = '/dfs7/swaruplab/smorabit/data/ADDS_2021/visium/Nov_24_2021/spaceranger_count/'\n",
    "samples = os.listdir(spaceranger_dir)\n",
    "h5ad_list = [spaceranger_dir + x + '/outs/' for x in samples]\n",
    "\n",
    "# loop over each sample\n",
    "adata_list = [] \n",
    "for i, cur_file in enumerate(h5ad_list):\n",
    "    cur_adata = sc.read_visium(cur_file, count_file='raw_feature_bc_matrix.h5')\n",
    "\n",
    "    cur_adata.obs['seqbatch'] = 'Nov_24_2021'\n",
    "    cur_adata.obs['Sample'] = samples[i]\n",
    "    cur_adata.obs['bc'] = [x.split('-')[0] for x in cur_adata.obs.index.to_list()]\n",
    "    cur_adata.uns['title'] = samples[i]\n",
    "\n",
    "    cur_adata.var_names_make_unique()\n",
    "    uns_dict[str(i) + '-Nov_24_2021' ] = cur_adata.uns\n",
    "    cur_adata.obs['Sample_i'] = str(i)\n",
    "    \n",
    "    adata_list.append(cur_adata)\n",
    "\n",
    "# combine\n",
    "adata = adata_list[0].concatenate(adata_list[1:len(adata_list)])\n",
    "adata.obs.head()"
   ]
  },
  {
   "cell_type": "code",
   "execution_count": 16,
   "id": "4de7170e-2784-4405-82fb-8475c4bb80a4",
   "metadata": {},
   "outputs": [
    {
     "data": {
      "text/html": [
       "<div>\n",
       "<style scoped>\n",
       "    .dataframe tbody tr th:only-of-type {\n",
       "        vertical-align: middle;\n",
       "    }\n",
       "\n",
       "    .dataframe tbody tr th {\n",
       "        vertical-align: top;\n",
       "    }\n",
       "\n",
       "    .dataframe thead th {\n",
       "        text-align: right;\n",
       "    }\n",
       "</style>\n",
       "<table border=\"1\" class=\"dataframe\">\n",
       "  <thead>\n",
       "    <tr style=\"text-align: right;\">\n",
       "      <th></th>\n",
       "      <th>LibraryName</th>\n",
       "      <th>Case.Year</th>\n",
       "      <th>Case.Num</th>\n",
       "      <th>Diagnosis</th>\n",
       "      <th>Sex</th>\n",
       "      <th>Age</th>\n",
       "      <th>CaptureArea</th>\n",
       "      <th>Slide</th>\n",
       "      <th>Sectioning</th>\n",
       "      <th>LibraryDay1</th>\n",
       "      <th>LibraryDay2</th>\n",
       "      <th>Amp.Cycles</th>\n",
       "      <th>INDEX</th>\n",
       "      <th>Qubit.Concentration</th>\n",
       "      <th>Av.Library.bp</th>\n",
       "      <th>Initial nM</th>\n",
       "      <th>Sample (ul)</th>\n",
       "      <th>H2O (ul)</th>\n",
       "    </tr>\n",
       "  </thead>\n",
       "  <tbody>\n",
       "    <tr>\n",
       "      <th>0</th>\n",
       "      <td>VisiumHuman_1</td>\n",
       "      <td>2008</td>\n",
       "      <td>18</td>\n",
       "      <td>Control</td>\n",
       "      <td>M</td>\n",
       "      <td>90</td>\n",
       "      <td>A1</td>\n",
       "      <td>V11A19-101</td>\n",
       "      <td>11/5/21</td>\n",
       "      <td>11/8/21</td>\n",
       "      <td>11/11/21</td>\n",
       "      <td>15</td>\n",
       "      <td>B8</td>\n",
       "      <td>28.20</td>\n",
       "      <td>522</td>\n",
       "      <td>81.853013</td>\n",
       "      <td>1.5</td>\n",
       "      <td>23.5</td>\n",
       "    </tr>\n",
       "    <tr>\n",
       "      <th>1</th>\n",
       "      <td>VisiumHuman_2</td>\n",
       "      <td>2015</td>\n",
       "      <td>53</td>\n",
       "      <td>earlyAD</td>\n",
       "      <td>F</td>\n",
       "      <td>87</td>\n",
       "      <td>B1</td>\n",
       "      <td>V11A19-101</td>\n",
       "      <td>11/5/21</td>\n",
       "      <td>11/8/21</td>\n",
       "      <td>11/11/21</td>\n",
       "      <td>14</td>\n",
       "      <td>B9</td>\n",
       "      <td>7.38</td>\n",
       "      <td>463</td>\n",
       "      <td>24.150795</td>\n",
       "      <td>5.2</td>\n",
       "      <td>19.8</td>\n",
       "    </tr>\n",
       "    <tr>\n",
       "      <th>2</th>\n",
       "      <td>VisiumHuman_3</td>\n",
       "      <td>2008</td>\n",
       "      <td>1</td>\n",
       "      <td>AD</td>\n",
       "      <td>F</td>\n",
       "      <td>90</td>\n",
       "      <td>C1</td>\n",
       "      <td>V11A19-101</td>\n",
       "      <td>11/5/21</td>\n",
       "      <td>11/8/21</td>\n",
       "      <td>11/11/21</td>\n",
       "      <td>15</td>\n",
       "      <td>B10</td>\n",
       "      <td>8.78</td>\n",
       "      <td>515</td>\n",
       "      <td>25.831127</td>\n",
       "      <td>4.8</td>\n",
       "      <td>20.2</td>\n",
       "    </tr>\n",
       "    <tr>\n",
       "      <th>3</th>\n",
       "      <td>VisiumHuman_4</td>\n",
       "      <td>2013</td>\n",
       "      <td>10</td>\n",
       "      <td>AD_DS</td>\n",
       "      <td>M</td>\n",
       "      <td>56</td>\n",
       "      <td>D1</td>\n",
       "      <td>V11A19-101</td>\n",
       "      <td>11/5/21</td>\n",
       "      <td>11/8/21</td>\n",
       "      <td>11/11/21</td>\n",
       "      <td>15</td>\n",
       "      <td>B11</td>\n",
       "      <td>17.00</td>\n",
       "      <td>512</td>\n",
       "      <td>50.307765</td>\n",
       "      <td>2.5</td>\n",
       "      <td>22.5</td>\n",
       "    </tr>\n",
       "    <tr>\n",
       "      <th>4</th>\n",
       "      <td>VisiumHuman_5</td>\n",
       "      <td>1996</td>\n",
       "      <td>34</td>\n",
       "      <td>Control</td>\n",
       "      <td>F</td>\n",
       "      <td>79</td>\n",
       "      <td>A1</td>\n",
       "      <td>V11A19-103</td>\n",
       "      <td>11/5/21</td>\n",
       "      <td>11/9/21</td>\n",
       "      <td>11/11/21</td>\n",
       "      <td>15</td>\n",
       "      <td>B12</td>\n",
       "      <td>16.40</td>\n",
       "      <td>515</td>\n",
       "      <td>48.249485</td>\n",
       "      <td>2.6</td>\n",
       "      <td>22.4</td>\n",
       "    </tr>\n",
       "  </tbody>\n",
       "</table>\n",
       "</div>"
      ],
      "text/plain": [
       "     LibraryName  Case.Year  Case.Num Diagnosis Sex  Age CaptureArea  \\\n",
       "0  VisiumHuman_1       2008        18   Control   M   90          A1   \n",
       "1  VisiumHuman_2       2015        53   earlyAD   F   87          B1   \n",
       "2  VisiumHuman_3       2008         1        AD   F   90          C1   \n",
       "3  VisiumHuman_4       2013        10     AD_DS   M   56          D1   \n",
       "4  VisiumHuman_5       1996        34   Control   F   79          A1   \n",
       "\n",
       "        Slide Sectioning LibraryDay1 LibraryDay2  Amp.Cycles INDEX  \\\n",
       "0  V11A19-101    11/5/21     11/8/21    11/11/21          15    B8   \n",
       "1  V11A19-101    11/5/21     11/8/21    11/11/21          14    B9   \n",
       "2  V11A19-101    11/5/21     11/8/21    11/11/21          15   B10   \n",
       "3  V11A19-101    11/5/21     11/8/21    11/11/21          15   B11   \n",
       "4  V11A19-103    11/5/21     11/9/21    11/11/21          15   B12   \n",
       "\n",
       "   Qubit.Concentration  Av.Library.bp  Initial nM  Sample (ul)  H2O (ul)  \n",
       "0                28.20            522   81.853013          1.5      23.5  \n",
       "1                 7.38            463   24.150795          5.2      19.8  \n",
       "2                 8.78            515   25.831127          4.8      20.2  \n",
       "3                17.00            512   50.307765          2.5      22.5  \n",
       "4                16.40            515   48.249485          2.6      22.4  "
      ]
     },
     "execution_count": 16,
     "metadata": {},
     "output_type": "execute_result"
    }
   ],
   "source": [
    "# load metadata\n",
    "meta_file = \"/dfs7/swaruplab/smorabit/data/ADDS_2021/visium/Nov_24_2021/visium_human_11-24-21_sample_meta.csv\"\n",
    "meta_df = pd.read_csv(meta_file, sep=',', index_col=None)\n",
    "\n",
    "#meta_df = meta_df.iloc[:8]\n",
    "#meta_df = meta_df[['Unnamed: 0', 'SAMPLE', 'Condition', 'Sex', 'Age', 'CaptureArea', 'Slide', 'Sectioning', 'LibraryDay1', 'LibraryDay2', 'INDEX']]\n",
    "\n",
    "#meta_df.columns = ['SAMPLE', 'Condition', 'Age']\n",
    "#meta_df.SAMPLE = meta_df.SAMPLE.astype('str')\n",
    "meta_df.head()"
   ]
  },
  {
   "cell_type": "code",
   "execution_count": 17,
   "id": "ea38ece7-07fb-4f79-b50b-280321731699",
   "metadata": {},
   "outputs": [],
   "source": [
    "# add the meta\n",
    "temp = adata.obs.merge(\n",
    "    meta_df,\n",
    "    how = 'left',\n",
    "    left_on = 'Sample',\n",
    "    right_on = 'LibraryName'\n",
    ")\n",
    "temp.index = adata.obs.index\n",
    "temp.head() \n",
    "#temp = temp.drop(labels='LibraryID', axis=1)\n",
    "\n",
    "adata.obs['Diagnosis'] = temp['Diagnosis']\n",
    "adata.obs['Age'] = temp['Age']\n",
    "adata.obs['Sex'] = temp['Sex']\n",
    "\n",
    "\n",
    "#adata.obs = temp\n"
   ]
  },
  {
   "cell_type": "code",
   "execution_count": 18,
   "id": "1a3506e6-c01d-43cc-bf7b-4a7becd3d370",
   "metadata": {},
   "outputs": [],
   "source": [
    "adata_nov = adata\n"
   ]
  },
  {
   "cell_type": "markdown",
   "id": "9fbe248e-13aa-4fd6-835d-e391dda43f90",
   "metadata": {},
   "source": [
    "## December 13 batch"
   ]
  },
  {
   "cell_type": "code",
   "execution_count": 19,
   "id": "82c98e41-cb01-4f65-9e0c-a728165a9d1a",
   "metadata": {
    "scrolled": true
   },
   "outputs": [
    {
     "name": "stdout",
     "output_type": "stream",
     "text": [
      "reading /dfs7/swaruplab/smorabit/data/ADDS_2021/visium/Dec_13_2021/spaceranger_count/Human1/outs/raw_feature_bc_matrix.h5\n",
      " (0:00:00)\n"
     ]
    },
    {
     "name": "stderr",
     "output_type": "stream",
     "text": [
      "/pub/smorabit/miniconda3/envs/scanpy/lib/python3.11/site-packages/anndata/_core/anndata.py:1840: UserWarning: Variable names are not unique. To make them unique, call `.var_names_make_unique`.\n",
      "  utils.warn_names_duplicates(\"var\")\n",
      "/pub/smorabit/miniconda3/envs/scanpy/lib/python3.11/site-packages/anndata/_core/anndata.py:1840: UserWarning: Variable names are not unique. To make them unique, call `.var_names_make_unique`.\n",
      "  utils.warn_names_duplicates(\"var\")\n"
     ]
    },
    {
     "name": "stdout",
     "output_type": "stream",
     "text": [
      "reading /dfs7/swaruplab/smorabit/data/ADDS_2021/visium/Dec_13_2021/spaceranger_count/Human2/outs/raw_feature_bc_matrix.h5\n",
      " (0:00:00)\n"
     ]
    },
    {
     "name": "stderr",
     "output_type": "stream",
     "text": [
      "/pub/smorabit/miniconda3/envs/scanpy/lib/python3.11/site-packages/anndata/_core/anndata.py:1840: UserWarning: Variable names are not unique. To make them unique, call `.var_names_make_unique`.\n",
      "  utils.warn_names_duplicates(\"var\")\n",
      "/pub/smorabit/miniconda3/envs/scanpy/lib/python3.11/site-packages/anndata/_core/anndata.py:1840: UserWarning: Variable names are not unique. To make them unique, call `.var_names_make_unique`.\n",
      "  utils.warn_names_duplicates(\"var\")\n"
     ]
    },
    {
     "name": "stdout",
     "output_type": "stream",
     "text": [
      "reading /dfs7/swaruplab/smorabit/data/ADDS_2021/visium/Dec_13_2021/spaceranger_count/Human3/outs/raw_feature_bc_matrix.h5\n",
      " (0:00:00)\n"
     ]
    },
    {
     "name": "stderr",
     "output_type": "stream",
     "text": [
      "/pub/smorabit/miniconda3/envs/scanpy/lib/python3.11/site-packages/anndata/_core/anndata.py:1840: UserWarning: Variable names are not unique. To make them unique, call `.var_names_make_unique`.\n",
      "  utils.warn_names_duplicates(\"var\")\n",
      "/pub/smorabit/miniconda3/envs/scanpy/lib/python3.11/site-packages/anndata/_core/anndata.py:1840: UserWarning: Variable names are not unique. To make them unique, call `.var_names_make_unique`.\n",
      "  utils.warn_names_duplicates(\"var\")\n"
     ]
    },
    {
     "name": "stdout",
     "output_type": "stream",
     "text": [
      "reading /dfs7/swaruplab/smorabit/data/ADDS_2021/visium/Dec_13_2021/spaceranger_count/Human4/outs/raw_feature_bc_matrix.h5\n",
      " (0:00:00)\n"
     ]
    },
    {
     "name": "stderr",
     "output_type": "stream",
     "text": [
      "/pub/smorabit/miniconda3/envs/scanpy/lib/python3.11/site-packages/anndata/_core/anndata.py:1840: UserWarning: Variable names are not unique. To make them unique, call `.var_names_make_unique`.\n",
      "  utils.warn_names_duplicates(\"var\")\n",
      "/pub/smorabit/miniconda3/envs/scanpy/lib/python3.11/site-packages/anndata/_core/anndata.py:1840: UserWarning: Variable names are not unique. To make them unique, call `.var_names_make_unique`.\n",
      "  utils.warn_names_duplicates(\"var\")\n"
     ]
    },
    {
     "name": "stdout",
     "output_type": "stream",
     "text": [
      "reading /dfs7/swaruplab/smorabit/data/ADDS_2021/visium/Dec_13_2021/spaceranger_count/Human5/outs/raw_feature_bc_matrix.h5\n",
      " (0:00:00)\n"
     ]
    },
    {
     "name": "stderr",
     "output_type": "stream",
     "text": [
      "/pub/smorabit/miniconda3/envs/scanpy/lib/python3.11/site-packages/anndata/_core/anndata.py:1840: UserWarning: Variable names are not unique. To make them unique, call `.var_names_make_unique`.\n",
      "  utils.warn_names_duplicates(\"var\")\n",
      "/pub/smorabit/miniconda3/envs/scanpy/lib/python3.11/site-packages/anndata/_core/anndata.py:1840: UserWarning: Variable names are not unique. To make them unique, call `.var_names_make_unique`.\n",
      "  utils.warn_names_duplicates(\"var\")\n"
     ]
    },
    {
     "name": "stdout",
     "output_type": "stream",
     "text": [
      "reading /dfs7/swaruplab/smorabit/data/ADDS_2021/visium/Dec_13_2021/spaceranger_count/Human6/outs/raw_feature_bc_matrix.h5\n",
      " (0:00:00)\n"
     ]
    },
    {
     "name": "stderr",
     "output_type": "stream",
     "text": [
      "/pub/smorabit/miniconda3/envs/scanpy/lib/python3.11/site-packages/anndata/_core/anndata.py:1840: UserWarning: Variable names are not unique. To make them unique, call `.var_names_make_unique`.\n",
      "  utils.warn_names_duplicates(\"var\")\n",
      "/pub/smorabit/miniconda3/envs/scanpy/lib/python3.11/site-packages/anndata/_core/anndata.py:1840: UserWarning: Variable names are not unique. To make them unique, call `.var_names_make_unique`.\n",
      "  utils.warn_names_duplicates(\"var\")\n"
     ]
    },
    {
     "name": "stdout",
     "output_type": "stream",
     "text": [
      "reading /dfs7/swaruplab/smorabit/data/ADDS_2021/visium/Dec_13_2021/spaceranger_count/Human7/outs/raw_feature_bc_matrix.h5\n",
      " (0:00:00)\n"
     ]
    },
    {
     "name": "stderr",
     "output_type": "stream",
     "text": [
      "/pub/smorabit/miniconda3/envs/scanpy/lib/python3.11/site-packages/anndata/_core/anndata.py:1840: UserWarning: Variable names are not unique. To make them unique, call `.var_names_make_unique`.\n",
      "  utils.warn_names_duplicates(\"var\")\n",
      "/pub/smorabit/miniconda3/envs/scanpy/lib/python3.11/site-packages/anndata/_core/anndata.py:1840: UserWarning: Variable names are not unique. To make them unique, call `.var_names_make_unique`.\n",
      "  utils.warn_names_duplicates(\"var\")\n"
     ]
    },
    {
     "name": "stdout",
     "output_type": "stream",
     "text": [
      "reading /dfs7/swaruplab/smorabit/data/ADDS_2021/visium/Dec_13_2021/spaceranger_count/Human8/outs/raw_feature_bc_matrix.h5\n",
      " (0:00:00)\n"
     ]
    },
    {
     "name": "stderr",
     "output_type": "stream",
     "text": [
      "/pub/smorabit/miniconda3/envs/scanpy/lib/python3.11/site-packages/anndata/_core/anndata.py:1840: UserWarning: Variable names are not unique. To make them unique, call `.var_names_make_unique`.\n",
      "  utils.warn_names_duplicates(\"var\")\n",
      "/pub/smorabit/miniconda3/envs/scanpy/lib/python3.11/site-packages/anndata/_core/anndata.py:1840: UserWarning: Variable names are not unique. To make them unique, call `.var_names_make_unique`.\n",
      "  utils.warn_names_duplicates(\"var\")\n",
      "/pub/smorabit/miniconda3/envs/scanpy/lib/python3.11/site-packages/anndata/_core/anndata.py:1763: FutureWarning: The AnnData.concatenate method is deprecated in favour of the anndata.concat function. Please use anndata.concat instead.\n",
      "\n",
      "See the tutorial for concat at: https://anndata.readthedocs.io/en/latest/concatenation.html\n",
      "  warnings.warn(\n",
      "/pub/smorabit/miniconda3/envs/scanpy/lib/python3.11/site-packages/anndata/_core/merge.py:1015: FutureWarning: The default value of 'ignore' for the `na_action` parameter in pandas.Categorical.map is deprecated and will be changed to 'None' in a future version. Please set na_action to the desired value to avoid seeing this warning\n",
      "  concat_indices = concat_indices.str.cat(label_col.map(str), sep=index_unique)\n",
      "/pub/smorabit/miniconda3/envs/scanpy/lib/python3.11/site-packages/anndata/_core/merge.py:1015: FutureWarning: The default value of 'ignore' for the `na_action` parameter in pandas.Categorical.map is deprecated and will be changed to 'None' in a future version. Please set na_action to the desired value to avoid seeing this warning\n",
      "  concat_indices = concat_indices.str.cat(label_col.map(str), sep=index_unique)\n"
     ]
    },
    {
     "data": {
      "text/html": [
       "<div>\n",
       "<style scoped>\n",
       "    .dataframe tbody tr th:only-of-type {\n",
       "        vertical-align: middle;\n",
       "    }\n",
       "\n",
       "    .dataframe tbody tr th {\n",
       "        vertical-align: top;\n",
       "    }\n",
       "\n",
       "    .dataframe thead th {\n",
       "        text-align: right;\n",
       "    }\n",
       "</style>\n",
       "<table border=\"1\" class=\"dataframe\">\n",
       "  <thead>\n",
       "    <tr style=\"text-align: right;\">\n",
       "      <th></th>\n",
       "      <th>in_tissue</th>\n",
       "      <th>array_row</th>\n",
       "      <th>array_col</th>\n",
       "      <th>seqbatch</th>\n",
       "      <th>Sample</th>\n",
       "      <th>bc</th>\n",
       "      <th>Sample_i</th>\n",
       "      <th>batch</th>\n",
       "    </tr>\n",
       "  </thead>\n",
       "  <tbody>\n",
       "    <tr>\n",
       "      <th>AAACAACGAATAGTTC-1-0</th>\n",
       "      <td>0</td>\n",
       "      <td>0</td>\n",
       "      <td>16</td>\n",
       "      <td>Dec_13_2021</td>\n",
       "      <td>Human1</td>\n",
       "      <td>AAACAACGAATAGTTC</td>\n",
       "      <td>0</td>\n",
       "      <td>0</td>\n",
       "    </tr>\n",
       "    <tr>\n",
       "      <th>AAACAAGTATCTCCCA-1-0</th>\n",
       "      <td>1</td>\n",
       "      <td>50</td>\n",
       "      <td>102</td>\n",
       "      <td>Dec_13_2021</td>\n",
       "      <td>Human1</td>\n",
       "      <td>AAACAAGTATCTCCCA</td>\n",
       "      <td>0</td>\n",
       "      <td>0</td>\n",
       "    </tr>\n",
       "    <tr>\n",
       "      <th>AAACAATCTACTAGCA-1-0</th>\n",
       "      <td>1</td>\n",
       "      <td>3</td>\n",
       "      <td>43</td>\n",
       "      <td>Dec_13_2021</td>\n",
       "      <td>Human1</td>\n",
       "      <td>AAACAATCTACTAGCA</td>\n",
       "      <td>0</td>\n",
       "      <td>0</td>\n",
       "    </tr>\n",
       "    <tr>\n",
       "      <th>AAACACCAATAACTGC-1-0</th>\n",
       "      <td>1</td>\n",
       "      <td>59</td>\n",
       "      <td>19</td>\n",
       "      <td>Dec_13_2021</td>\n",
       "      <td>Human1</td>\n",
       "      <td>AAACACCAATAACTGC</td>\n",
       "      <td>0</td>\n",
       "      <td>0</td>\n",
       "    </tr>\n",
       "    <tr>\n",
       "      <th>AAACAGAGCGACTCCT-1-0</th>\n",
       "      <td>1</td>\n",
       "      <td>14</td>\n",
       "      <td>94</td>\n",
       "      <td>Dec_13_2021</td>\n",
       "      <td>Human1</td>\n",
       "      <td>AAACAGAGCGACTCCT</td>\n",
       "      <td>0</td>\n",
       "      <td>0</td>\n",
       "    </tr>\n",
       "  </tbody>\n",
       "</table>\n",
       "</div>"
      ],
      "text/plain": [
       "                      in_tissue  array_row  array_col     seqbatch  Sample  \\\n",
       "AAACAACGAATAGTTC-1-0          0          0         16  Dec_13_2021  Human1   \n",
       "AAACAAGTATCTCCCA-1-0          1         50        102  Dec_13_2021  Human1   \n",
       "AAACAATCTACTAGCA-1-0          1          3         43  Dec_13_2021  Human1   \n",
       "AAACACCAATAACTGC-1-0          1         59         19  Dec_13_2021  Human1   \n",
       "AAACAGAGCGACTCCT-1-0          1         14         94  Dec_13_2021  Human1   \n",
       "\n",
       "                                    bc Sample_i batch  \n",
       "AAACAACGAATAGTTC-1-0  AAACAACGAATAGTTC        0     0  \n",
       "AAACAAGTATCTCCCA-1-0  AAACAAGTATCTCCCA        0     0  \n",
       "AAACAATCTACTAGCA-1-0  AAACAATCTACTAGCA        0     0  \n",
       "AAACACCAATAACTGC-1-0  AAACACCAATAACTGC        0     0  \n",
       "AAACAGAGCGACTCCT-1-0  AAACAGAGCGACTCCT        0     0  "
      ]
     },
     "execution_count": 19,
     "metadata": {},
     "output_type": "execute_result"
    }
   ],
   "source": [
    "\n",
    "# files\n",
    "spaceranger_dir = '/dfs7/swaruplab/smorabit/data/ADDS_2021/visium/Dec_13_2021/spaceranger_count/'\n",
    "samples = os.listdir(spaceranger_dir)\n",
    "h5ad_list = [spaceranger_dir + x + '/outs/' for x in samples]\n",
    "\n",
    "# loop over each sample\n",
    "adata_list = [] \n",
    "for i, cur_file in enumerate(h5ad_list):\n",
    "    cur_adata = sc.read_visium(cur_file, count_file='raw_feature_bc_matrix.h5')\n",
    "\n",
    "    cur_adata.obs['seqbatch'] = 'Dec_13_2021'\n",
    "    cur_adata.obs['Sample'] = samples[i]\n",
    "    cur_adata.obs['bc'] = [x.split('-')[0] for x in cur_adata.obs.index.to_list()]\n",
    "    cur_adata.uns['title'] = samples[i]\n",
    "\n",
    "    cur_adata.var_names_make_unique()\n",
    "    uns_dict[str(i) + '-Dec_13_2021' ] = cur_adata.uns\n",
    "    cur_adata.obs['Sample_i'] = str(i)\n",
    "\n",
    "    adata_list.append(cur_adata)\n",
    "\n",
    "# combine\n",
    "adata = adata_list[0].concatenate(adata_list[1:len(adata_list)])\n",
    "adata.obs.head()"
   ]
  },
  {
   "cell_type": "code",
   "execution_count": 20,
   "id": "2b2f8106-06f5-4834-a6f2-1c01cbc90b9a",
   "metadata": {},
   "outputs": [
    {
     "data": {
      "text/html": [
       "<div>\n",
       "<style scoped>\n",
       "    .dataframe tbody tr th:only-of-type {\n",
       "        vertical-align: middle;\n",
       "    }\n",
       "\n",
       "    .dataframe tbody tr th {\n",
       "        vertical-align: top;\n",
       "    }\n",
       "\n",
       "    .dataframe thead th {\n",
       "        text-align: right;\n",
       "    }\n",
       "</style>\n",
       "<table border=\"1\" class=\"dataframe\">\n",
       "  <thead>\n",
       "    <tr style=\"text-align: right;\">\n",
       "      <th></th>\n",
       "      <th>LibraryName</th>\n",
       "      <th>Case.Year</th>\n",
       "      <th>Case.Num</th>\n",
       "      <th>Diagnosis</th>\n",
       "      <th>Sex</th>\n",
       "      <th>Age</th>\n",
       "      <th>CaptureArea</th>\n",
       "      <th>Slide</th>\n",
       "      <th>Sectioning</th>\n",
       "      <th>LibraryDay1</th>\n",
       "      <th>LibraryDay2</th>\n",
       "      <th>Amp.Cycles</th>\n",
       "      <th>INDEX</th>\n",
       "      <th>Qubit.Concentration</th>\n",
       "      <th>Av.Library.bp</th>\n",
       "      <th>Initial nM</th>\n",
       "      <th>Sample (ul)</th>\n",
       "      <th>H2O (ul)</th>\n",
       "    </tr>\n",
       "  </thead>\n",
       "  <tbody>\n",
       "    <tr>\n",
       "      <th>0</th>\n",
       "      <td>Human1</td>\n",
       "      <td>1993</td>\n",
       "      <td>16</td>\n",
       "      <td>Control</td>\n",
       "      <td>F</td>\n",
       "      <td>64</td>\n",
       "      <td>A1</td>\n",
       "      <td>V11Y24-118</td>\n",
       "      <td>11/20/21</td>\n",
       "      <td>11/22/21</td>\n",
       "      <td>11/26/21</td>\n",
       "      <td>15</td>\n",
       "      <td>D12</td>\n",
       "      <td>15.70</td>\n",
       "      <td>501</td>\n",
       "      <td>47.480796</td>\n",
       "      <td>2.6</td>\n",
       "      <td>22.4</td>\n",
       "    </tr>\n",
       "    <tr>\n",
       "      <th>1</th>\n",
       "      <td>Human2</td>\n",
       "      <td>2017</td>\n",
       "      <td>9</td>\n",
       "      <td>earlyAD</td>\n",
       "      <td>M</td>\n",
       "      <td>87</td>\n",
       "      <td>B1</td>\n",
       "      <td>V11Y24-118</td>\n",
       "      <td>11/20/21</td>\n",
       "      <td>11/22/21</td>\n",
       "      <td>11/26/21</td>\n",
       "      <td>15</td>\n",
       "      <td>E7</td>\n",
       "      <td>17.50</td>\n",
       "      <td>513</td>\n",
       "      <td>51.686455</td>\n",
       "      <td>2.4</td>\n",
       "      <td>22.6</td>\n",
       "    </tr>\n",
       "    <tr>\n",
       "      <th>2</th>\n",
       "      <td>Human3</td>\n",
       "      <td>2018</td>\n",
       "      <td>22</td>\n",
       "      <td>AD</td>\n",
       "      <td>F</td>\n",
       "      <td>89</td>\n",
       "      <td>C1</td>\n",
       "      <td>V11Y24-118</td>\n",
       "      <td>11/20/21</td>\n",
       "      <td>11/22/21</td>\n",
       "      <td>11/26/21</td>\n",
       "      <td>14</td>\n",
       "      <td>E8</td>\n",
       "      <td>9.42</td>\n",
       "      <td>555</td>\n",
       "      <td>25.716626</td>\n",
       "      <td>4.9</td>\n",
       "      <td>20.1</td>\n",
       "    </tr>\n",
       "    <tr>\n",
       "      <th>3</th>\n",
       "      <td>Human4</td>\n",
       "      <td>2005</td>\n",
       "      <td>30</td>\n",
       "      <td>AD_DS</td>\n",
       "      <td>F</td>\n",
       "      <td>57</td>\n",
       "      <td>D1</td>\n",
       "      <td>V11Y24-118</td>\n",
       "      <td>11/20/21</td>\n",
       "      <td>11/22/21</td>\n",
       "      <td>11/26/21</td>\n",
       "      <td>14</td>\n",
       "      <td>E9</td>\n",
       "      <td>22.40</td>\n",
       "      <td>543</td>\n",
       "      <td>62.503488</td>\n",
       "      <td>2.0</td>\n",
       "      <td>23.0</td>\n",
       "    </tr>\n",
       "    <tr>\n",
       "      <th>4</th>\n",
       "      <td>Human5</td>\n",
       "      <td>1999</td>\n",
       "      <td>10</td>\n",
       "      <td>Control</td>\n",
       "      <td>M</td>\n",
       "      <td>70</td>\n",
       "      <td>A1</td>\n",
       "      <td>V11Y24-117</td>\n",
       "      <td>11/20/21</td>\n",
       "      <td>11/23/21</td>\n",
       "      <td>11/26/21</td>\n",
       "      <td>13</td>\n",
       "      <td>E10</td>\n",
       "      <td>16.80</td>\n",
       "      <td>567</td>\n",
       "      <td>44.893378</td>\n",
       "      <td>2.8</td>\n",
       "      <td>22.2</td>\n",
       "    </tr>\n",
       "  </tbody>\n",
       "</table>\n",
       "</div>"
      ],
      "text/plain": [
       "  LibraryName  Case.Year  Case.Num Diagnosis Sex  Age CaptureArea       Slide  \\\n",
       "0      Human1       1993        16   Control   F   64          A1  V11Y24-118   \n",
       "1      Human2       2017         9   earlyAD   M   87          B1  V11Y24-118   \n",
       "2      Human3       2018        22        AD   F   89          C1  V11Y24-118   \n",
       "3      Human4       2005        30     AD_DS   F   57          D1  V11Y24-118   \n",
       "4      Human5       1999        10   Control   M   70          A1  V11Y24-117   \n",
       "\n",
       "  Sectioning LibraryDay1 LibraryDay2  Amp.Cycles INDEX  Qubit.Concentration  \\\n",
       "0   11/20/21    11/22/21    11/26/21          15   D12                15.70   \n",
       "1   11/20/21    11/22/21    11/26/21          15    E7                17.50   \n",
       "2   11/20/21    11/22/21    11/26/21          14    E8                 9.42   \n",
       "3   11/20/21    11/22/21    11/26/21          14    E9                22.40   \n",
       "4   11/20/21    11/23/21    11/26/21          13   E10                16.80   \n",
       "\n",
       "   Av.Library.bp  Initial nM  Sample (ul)  H2O (ul)  \n",
       "0            501   47.480796          2.6      22.4  \n",
       "1            513   51.686455          2.4      22.6  \n",
       "2            555   25.716626          4.9      20.1  \n",
       "3            543   62.503488          2.0      23.0  \n",
       "4            567   44.893378          2.8      22.2  "
      ]
     },
     "execution_count": 20,
     "metadata": {},
     "output_type": "execute_result"
    }
   ],
   "source": [
    "# load metadata\n",
    "meta_file = \"/dfs7/swaruplab/smorabit/data/ADDS_2021/visium/Dec_13_2021/visium_human_12-13-21_sample_meta.csv\"\n",
    "meta_df = pd.read_csv(meta_file, sep=',', index_col=None)\n",
    "meta_df['LibraryName'] = 'Human' + meta_df['LibraryName'].astype(str)\n",
    "\n",
    "meta_df.head()"
   ]
  },
  {
   "cell_type": "code",
   "execution_count": 21,
   "id": "e2ddc6dc-5988-49f5-9149-698f86de36b2",
   "metadata": {},
   "outputs": [],
   "source": [
    "# add the meta\n",
    "temp = adata.obs.merge(\n",
    "    meta_df,\n",
    "    how = 'left',\n",
    "    left_on = 'Sample',\n",
    "    right_on = 'LibraryName'\n",
    ")\n",
    "temp.index = adata.obs.index\n",
    "\n",
    "adata.obs['Diagnosis'] = temp['Diagnosis']\n",
    "adata.obs['Age'] = temp['Age']\n",
    "adata.obs['Sex'] = temp['Sex']\n",
    "\n"
   ]
  },
  {
   "cell_type": "code",
   "execution_count": 22,
   "id": "99c8258a-be30-454c-bfe9-4b4b9fdd1040",
   "metadata": {},
   "outputs": [],
   "source": [
    "adata_dec_13 = adata "
   ]
  },
  {
   "cell_type": "markdown",
   "id": "b79fd4b4-7441-43de-a97b-fe52af259b0f",
   "metadata": {},
   "source": [
    "## Dec 20"
   ]
  },
  {
   "cell_type": "code",
   "execution_count": 23,
   "id": "4d78e32c-34ce-4480-b6d7-3ebdef0ebffb",
   "metadata": {
    "scrolled": true
   },
   "outputs": [
    {
     "name": "stdout",
     "output_type": "stream",
     "text": [
      "reading /dfs7/swaruplab/smorabit/data/ADDS_2021/visium/Dec_20_2021/spaceranger_count/Human1/outs/raw_feature_bc_matrix.h5\n",
      " (0:00:00)\n"
     ]
    },
    {
     "name": "stderr",
     "output_type": "stream",
     "text": [
      "/pub/smorabit/miniconda3/envs/scanpy/lib/python3.11/site-packages/anndata/_core/anndata.py:1840: UserWarning: Variable names are not unique. To make them unique, call `.var_names_make_unique`.\n",
      "  utils.warn_names_duplicates(\"var\")\n",
      "/pub/smorabit/miniconda3/envs/scanpy/lib/python3.11/site-packages/anndata/_core/anndata.py:1840: UserWarning: Variable names are not unique. To make them unique, call `.var_names_make_unique`.\n",
      "  utils.warn_names_duplicates(\"var\")\n"
     ]
    },
    {
     "name": "stdout",
     "output_type": "stream",
     "text": [
      "reading /dfs7/swaruplab/smorabit/data/ADDS_2021/visium/Dec_20_2021/spaceranger_count/Human2/outs/raw_feature_bc_matrix.h5\n",
      " (0:00:00)\n"
     ]
    },
    {
     "name": "stderr",
     "output_type": "stream",
     "text": [
      "/pub/smorabit/miniconda3/envs/scanpy/lib/python3.11/site-packages/anndata/_core/anndata.py:1840: UserWarning: Variable names are not unique. To make them unique, call `.var_names_make_unique`.\n",
      "  utils.warn_names_duplicates(\"var\")\n",
      "/pub/smorabit/miniconda3/envs/scanpy/lib/python3.11/site-packages/anndata/_core/anndata.py:1840: UserWarning: Variable names are not unique. To make them unique, call `.var_names_make_unique`.\n",
      "  utils.warn_names_duplicates(\"var\")\n"
     ]
    },
    {
     "name": "stdout",
     "output_type": "stream",
     "text": [
      "reading /dfs7/swaruplab/smorabit/data/ADDS_2021/visium/Dec_20_2021/spaceranger_count/Human3/outs/raw_feature_bc_matrix.h5\n",
      " (0:00:00)\n"
     ]
    },
    {
     "name": "stderr",
     "output_type": "stream",
     "text": [
      "/pub/smorabit/miniconda3/envs/scanpy/lib/python3.11/site-packages/anndata/_core/anndata.py:1840: UserWarning: Variable names are not unique. To make them unique, call `.var_names_make_unique`.\n",
      "  utils.warn_names_duplicates(\"var\")\n",
      "/pub/smorabit/miniconda3/envs/scanpy/lib/python3.11/site-packages/anndata/_core/anndata.py:1840: UserWarning: Variable names are not unique. To make them unique, call `.var_names_make_unique`.\n",
      "  utils.warn_names_duplicates(\"var\")\n"
     ]
    },
    {
     "name": "stdout",
     "output_type": "stream",
     "text": [
      "reading /dfs7/swaruplab/smorabit/data/ADDS_2021/visium/Dec_20_2021/spaceranger_count/Human4/outs/raw_feature_bc_matrix.h5\n",
      " (0:00:00)\n"
     ]
    },
    {
     "name": "stderr",
     "output_type": "stream",
     "text": [
      "/pub/smorabit/miniconda3/envs/scanpy/lib/python3.11/site-packages/anndata/_core/anndata.py:1840: UserWarning: Variable names are not unique. To make them unique, call `.var_names_make_unique`.\n",
      "  utils.warn_names_duplicates(\"var\")\n",
      "/pub/smorabit/miniconda3/envs/scanpy/lib/python3.11/site-packages/anndata/_core/anndata.py:1840: UserWarning: Variable names are not unique. To make them unique, call `.var_names_make_unique`.\n",
      "  utils.warn_names_duplicates(\"var\")\n"
     ]
    },
    {
     "name": "stdout",
     "output_type": "stream",
     "text": [
      "reading /dfs7/swaruplab/smorabit/data/ADDS_2021/visium/Dec_20_2021/spaceranger_count/Human5/outs/raw_feature_bc_matrix.h5\n",
      " (0:00:00)\n"
     ]
    },
    {
     "name": "stderr",
     "output_type": "stream",
     "text": [
      "/pub/smorabit/miniconda3/envs/scanpy/lib/python3.11/site-packages/anndata/_core/anndata.py:1840: UserWarning: Variable names are not unique. To make them unique, call `.var_names_make_unique`.\n",
      "  utils.warn_names_duplicates(\"var\")\n",
      "/pub/smorabit/miniconda3/envs/scanpy/lib/python3.11/site-packages/anndata/_core/anndata.py:1840: UserWarning: Variable names are not unique. To make them unique, call `.var_names_make_unique`.\n",
      "  utils.warn_names_duplicates(\"var\")\n"
     ]
    },
    {
     "name": "stdout",
     "output_type": "stream",
     "text": [
      "reading /dfs7/swaruplab/smorabit/data/ADDS_2021/visium/Dec_20_2021/spaceranger_count/Human7/outs/raw_feature_bc_matrix.h5\n",
      " (0:00:00)\n"
     ]
    },
    {
     "name": "stderr",
     "output_type": "stream",
     "text": [
      "/pub/smorabit/miniconda3/envs/scanpy/lib/python3.11/site-packages/anndata/_core/anndata.py:1840: UserWarning: Variable names are not unique. To make them unique, call `.var_names_make_unique`.\n",
      "  utils.warn_names_duplicates(\"var\")\n",
      "/pub/smorabit/miniconda3/envs/scanpy/lib/python3.11/site-packages/anndata/_core/anndata.py:1840: UserWarning: Variable names are not unique. To make them unique, call `.var_names_make_unique`.\n",
      "  utils.warn_names_duplicates(\"var\")\n"
     ]
    },
    {
     "name": "stdout",
     "output_type": "stream",
     "text": [
      "reading /dfs7/swaruplab/smorabit/data/ADDS_2021/visium/Dec_20_2021/spaceranger_count/Human8/outs/raw_feature_bc_matrix.h5\n",
      " (0:00:00)\n"
     ]
    },
    {
     "name": "stderr",
     "output_type": "stream",
     "text": [
      "/pub/smorabit/miniconda3/envs/scanpy/lib/python3.11/site-packages/anndata/_core/anndata.py:1840: UserWarning: Variable names are not unique. To make them unique, call `.var_names_make_unique`.\n",
      "  utils.warn_names_duplicates(\"var\")\n",
      "/pub/smorabit/miniconda3/envs/scanpy/lib/python3.11/site-packages/anndata/_core/anndata.py:1840: UserWarning: Variable names are not unique. To make them unique, call `.var_names_make_unique`.\n",
      "  utils.warn_names_duplicates(\"var\")\n",
      "/pub/smorabit/miniconda3/envs/scanpy/lib/python3.11/site-packages/anndata/_core/anndata.py:1763: FutureWarning: The AnnData.concatenate method is deprecated in favour of the anndata.concat function. Please use anndata.concat instead.\n",
      "\n",
      "See the tutorial for concat at: https://anndata.readthedocs.io/en/latest/concatenation.html\n",
      "  warnings.warn(\n",
      "/pub/smorabit/miniconda3/envs/scanpy/lib/python3.11/site-packages/anndata/_core/merge.py:1015: FutureWarning: The default value of 'ignore' for the `na_action` parameter in pandas.Categorical.map is deprecated and will be changed to 'None' in a future version. Please set na_action to the desired value to avoid seeing this warning\n",
      "  concat_indices = concat_indices.str.cat(label_col.map(str), sep=index_unique)\n",
      "/pub/smorabit/miniconda3/envs/scanpy/lib/python3.11/site-packages/anndata/_core/merge.py:1015: FutureWarning: The default value of 'ignore' for the `na_action` parameter in pandas.Categorical.map is deprecated and will be changed to 'None' in a future version. Please set na_action to the desired value to avoid seeing this warning\n",
      "  concat_indices = concat_indices.str.cat(label_col.map(str), sep=index_unique)\n"
     ]
    },
    {
     "data": {
      "text/html": [
       "<div>\n",
       "<style scoped>\n",
       "    .dataframe tbody tr th:only-of-type {\n",
       "        vertical-align: middle;\n",
       "    }\n",
       "\n",
       "    .dataframe tbody tr th {\n",
       "        vertical-align: top;\n",
       "    }\n",
       "\n",
       "    .dataframe thead th {\n",
       "        text-align: right;\n",
       "    }\n",
       "</style>\n",
       "<table border=\"1\" class=\"dataframe\">\n",
       "  <thead>\n",
       "    <tr style=\"text-align: right;\">\n",
       "      <th></th>\n",
       "      <th>in_tissue</th>\n",
       "      <th>array_row</th>\n",
       "      <th>array_col</th>\n",
       "      <th>seqbatch</th>\n",
       "      <th>Sample</th>\n",
       "      <th>bc</th>\n",
       "      <th>Sample_i</th>\n",
       "      <th>batch</th>\n",
       "    </tr>\n",
       "  </thead>\n",
       "  <tbody>\n",
       "    <tr>\n",
       "      <th>AAACAACGAATAGTTC-1-0</th>\n",
       "      <td>0</td>\n",
       "      <td>0</td>\n",
       "      <td>16</td>\n",
       "      <td>Dec_20_2021</td>\n",
       "      <td>Human1</td>\n",
       "      <td>AAACAACGAATAGTTC</td>\n",
       "      <td>0</td>\n",
       "      <td>0</td>\n",
       "    </tr>\n",
       "    <tr>\n",
       "      <th>AAACAAGTATCTCCCA-1-0</th>\n",
       "      <td>0</td>\n",
       "      <td>50</td>\n",
       "      <td>102</td>\n",
       "      <td>Dec_20_2021</td>\n",
       "      <td>Human1</td>\n",
       "      <td>AAACAAGTATCTCCCA</td>\n",
       "      <td>0</td>\n",
       "      <td>0</td>\n",
       "    </tr>\n",
       "    <tr>\n",
       "      <th>AAACAATCTACTAGCA-1-0</th>\n",
       "      <td>0</td>\n",
       "      <td>3</td>\n",
       "      <td>43</td>\n",
       "      <td>Dec_20_2021</td>\n",
       "      <td>Human1</td>\n",
       "      <td>AAACAATCTACTAGCA</td>\n",
       "      <td>0</td>\n",
       "      <td>0</td>\n",
       "    </tr>\n",
       "    <tr>\n",
       "      <th>AAACACCAATAACTGC-1-0</th>\n",
       "      <td>0</td>\n",
       "      <td>59</td>\n",
       "      <td>19</td>\n",
       "      <td>Dec_20_2021</td>\n",
       "      <td>Human1</td>\n",
       "      <td>AAACACCAATAACTGC</td>\n",
       "      <td>0</td>\n",
       "      <td>0</td>\n",
       "    </tr>\n",
       "    <tr>\n",
       "      <th>AAACAGAGCGACTCCT-1-0</th>\n",
       "      <td>1</td>\n",
       "      <td>14</td>\n",
       "      <td>94</td>\n",
       "      <td>Dec_20_2021</td>\n",
       "      <td>Human1</td>\n",
       "      <td>AAACAGAGCGACTCCT</td>\n",
       "      <td>0</td>\n",
       "      <td>0</td>\n",
       "    </tr>\n",
       "  </tbody>\n",
       "</table>\n",
       "</div>"
      ],
      "text/plain": [
       "                      in_tissue  array_row  array_col     seqbatch  Sample  \\\n",
       "AAACAACGAATAGTTC-1-0          0          0         16  Dec_20_2021  Human1   \n",
       "AAACAAGTATCTCCCA-1-0          0         50        102  Dec_20_2021  Human1   \n",
       "AAACAATCTACTAGCA-1-0          0          3         43  Dec_20_2021  Human1   \n",
       "AAACACCAATAACTGC-1-0          0         59         19  Dec_20_2021  Human1   \n",
       "AAACAGAGCGACTCCT-1-0          1         14         94  Dec_20_2021  Human1   \n",
       "\n",
       "                                    bc Sample_i batch  \n",
       "AAACAACGAATAGTTC-1-0  AAACAACGAATAGTTC        0     0  \n",
       "AAACAAGTATCTCCCA-1-0  AAACAAGTATCTCCCA        0     0  \n",
       "AAACAATCTACTAGCA-1-0  AAACAATCTACTAGCA        0     0  \n",
       "AAACACCAATAACTGC-1-0  AAACACCAATAACTGC        0     0  \n",
       "AAACAGAGCGACTCCT-1-0  AAACAGAGCGACTCCT        0     0  "
      ]
     },
     "execution_count": 23,
     "metadata": {},
     "output_type": "execute_result"
    }
   ],
   "source": [
    "\n",
    "# files\n",
    "spaceranger_dir = '/dfs7/swaruplab/smorabit/data/ADDS_2021/visium/Dec_20_2021/spaceranger_count/'\n",
    "samples = os.listdir(spaceranger_dir)\n",
    "h5ad_list = [spaceranger_dir + x + '/outs/' for x in samples]\n",
    "\n",
    "# loop over each sample\n",
    "adata_list = [] \n",
    "for i, cur_file in enumerate(h5ad_list):\n",
    "    cur_adata = sc.read_visium(cur_file, count_file='raw_feature_bc_matrix.h5')\n",
    "\n",
    "    cur_adata.obs['seqbatch'] = 'Dec_20_2021'\n",
    "    cur_adata.obs['Sample'] = samples[i]\n",
    "    cur_adata.obs['bc'] = [x.split('-')[0] for x in cur_adata.obs.index.to_list()]\n",
    "    cur_adata.uns['title'] = samples[i]\n",
    "\n",
    "    cur_adata.var_names_make_unique()\n",
    "    uns_dict[str(i) + '-Dec_20_2021'] = cur_adata.uns\n",
    "    cur_adata.obs['Sample_i'] = str(i)\n",
    "\n",
    "    adata_list.append(cur_adata)\n",
    "\n",
    "# combine\n",
    "adata = adata_list[0].concatenate(adata_list[1:len(adata_list)])\n",
    "adata.obs.head()"
   ]
  },
  {
   "cell_type": "code",
   "execution_count": 24,
   "id": "90587d86-6f37-4ee2-a4fa-3fe51a6007bd",
   "metadata": {},
   "outputs": [
    {
     "data": {
      "text/plain": [
       "['Human1', 'Human2', 'Human3', 'Human4', 'Human5', 'Human7', 'Human8']"
      ]
     },
     "execution_count": 24,
     "metadata": {},
     "output_type": "execute_result"
    }
   ],
   "source": [
    "samples"
   ]
  },
  {
   "cell_type": "code",
   "execution_count": 25,
   "id": "86bc558a-66e9-4cf4-aea2-dd9abb1dcee6",
   "metadata": {},
   "outputs": [
    {
     "data": {
      "text/html": [
       "<div>\n",
       "<style scoped>\n",
       "    .dataframe tbody tr th:only-of-type {\n",
       "        vertical-align: middle;\n",
       "    }\n",
       "\n",
       "    .dataframe tbody tr th {\n",
       "        vertical-align: top;\n",
       "    }\n",
       "\n",
       "    .dataframe thead th {\n",
       "        text-align: right;\n",
       "    }\n",
       "</style>\n",
       "<table border=\"1\" class=\"dataframe\">\n",
       "  <thead>\n",
       "    <tr style=\"text-align: right;\">\n",
       "      <th></th>\n",
       "      <th>LibraryName</th>\n",
       "      <th>Case.Year</th>\n",
       "      <th>Case.Num</th>\n",
       "      <th>Diagnosis</th>\n",
       "      <th>Sex</th>\n",
       "      <th>Age</th>\n",
       "      <th>CaptureArea</th>\n",
       "      <th>Slide</th>\n",
       "      <th>Sectioning</th>\n",
       "      <th>LibraryDay1</th>\n",
       "      <th>LibraryDay2</th>\n",
       "      <th>Amp.Cycles</th>\n",
       "      <th>INDEX</th>\n",
       "      <th>Qubit.Concentration</th>\n",
       "      <th>Av.Library.bp</th>\n",
       "      <th>Initial nM</th>\n",
       "      <th>Sample (ul)</th>\n",
       "      <th>H2O (ul)</th>\n",
       "    </tr>\n",
       "  </thead>\n",
       "  <tbody>\n",
       "    <tr>\n",
       "      <th>0</th>\n",
       "      <td>Human1</td>\n",
       "      <td>1999</td>\n",
       "      <td>37</td>\n",
       "      <td>Control</td>\n",
       "      <td>F</td>\n",
       "      <td>74</td>\n",
       "      <td>A1</td>\n",
       "      <td>V11A13-390</td>\n",
       "      <td>11/28/21</td>\n",
       "      <td>11/29/21</td>\n",
       "      <td>12/7/21</td>\n",
       "      <td>15</td>\n",
       "      <td>G1</td>\n",
       "      <td>25.00</td>\n",
       "      <td>481.0</td>\n",
       "      <td>78.75007875</td>\n",
       "      <td>1.6</td>\n",
       "      <td>23.4</td>\n",
       "    </tr>\n",
       "    <tr>\n",
       "      <th>1</th>\n",
       "      <td>Human2</td>\n",
       "      <td>2011</td>\n",
       "      <td>24</td>\n",
       "      <td>earlyAD</td>\n",
       "      <td>M</td>\n",
       "      <td>86</td>\n",
       "      <td>B1</td>\n",
       "      <td>V11A13-390</td>\n",
       "      <td>11/28/21</td>\n",
       "      <td>11/29/21</td>\n",
       "      <td>12/7/21</td>\n",
       "      <td>15</td>\n",
       "      <td>G2</td>\n",
       "      <td>18.70</td>\n",
       "      <td>474.0</td>\n",
       "      <td>59.77496484</td>\n",
       "      <td>2.1</td>\n",
       "      <td>22.9</td>\n",
       "    </tr>\n",
       "    <tr>\n",
       "      <th>2</th>\n",
       "      <td>Human3</td>\n",
       "      <td>2015</td>\n",
       "      <td>37</td>\n",
       "      <td>AD</td>\n",
       "      <td>F</td>\n",
       "      <td>87</td>\n",
       "      <td>C1</td>\n",
       "      <td>V11A13-390</td>\n",
       "      <td>11/28/21</td>\n",
       "      <td>11/29/21</td>\n",
       "      <td>12/7/21</td>\n",
       "      <td>16</td>\n",
       "      <td>G3</td>\n",
       "      <td>6.42</td>\n",
       "      <td>478.0</td>\n",
       "      <td>20.34994294</td>\n",
       "      <td>6.1</td>\n",
       "      <td>18.9</td>\n",
       "    </tr>\n",
       "    <tr>\n",
       "      <th>3</th>\n",
       "      <td>Human4</td>\n",
       "      <td>2008</td>\n",
       "      <td>38</td>\n",
       "      <td>AD_DS</td>\n",
       "      <td>F</td>\n",
       "      <td>63</td>\n",
       "      <td>D1</td>\n",
       "      <td>V11A13-390</td>\n",
       "      <td>11/28/21</td>\n",
       "      <td>11/29/21</td>\n",
       "      <td>12/7/21</td>\n",
       "      <td>16</td>\n",
       "      <td>G4</td>\n",
       "      <td>15.20</td>\n",
       "      <td>487.0</td>\n",
       "      <td>47.29014996</td>\n",
       "      <td>2.6</td>\n",
       "      <td>22.4</td>\n",
       "    </tr>\n",
       "    <tr>\n",
       "      <th>4</th>\n",
       "      <td>Human5</td>\n",
       "      <td>1993</td>\n",
       "      <td>51</td>\n",
       "      <td>Control</td>\n",
       "      <td>M</td>\n",
       "      <td>73</td>\n",
       "      <td>A1</td>\n",
       "      <td>V11A06-319</td>\n",
       "      <td>11/28/21</td>\n",
       "      <td>11/30/21</td>\n",
       "      <td>12/7/21</td>\n",
       "      <td>16</td>\n",
       "      <td>G5</td>\n",
       "      <td>42.80</td>\n",
       "      <td>450.0</td>\n",
       "      <td>144.1077441</td>\n",
       "      <td>0.9</td>\n",
       "      <td>24.1</td>\n",
       "    </tr>\n",
       "  </tbody>\n",
       "</table>\n",
       "</div>"
      ],
      "text/plain": [
       "  LibraryName  Case.Year  Case.Num Diagnosis Sex  Age CaptureArea       Slide  \\\n",
       "0      Human1       1999        37   Control   F   74          A1  V11A13-390   \n",
       "1      Human2       2011        24   earlyAD   M   86          B1  V11A13-390   \n",
       "2      Human3       2015        37        AD   F   87          C1  V11A13-390   \n",
       "3      Human4       2008        38     AD_DS   F   63          D1  V11A13-390   \n",
       "4      Human5       1993        51   Control   M   73          A1  V11A06-319   \n",
       "\n",
       "  Sectioning LibraryDay1 LibraryDay2  Amp.Cycles INDEX  Qubit.Concentration  \\\n",
       "0   11/28/21    11/29/21     12/7/21          15    G1                25.00   \n",
       "1   11/28/21    11/29/21     12/7/21          15    G2                18.70   \n",
       "2   11/28/21    11/29/21     12/7/21          16    G3                 6.42   \n",
       "3   11/28/21    11/29/21     12/7/21          16    G4                15.20   \n",
       "4   11/28/21    11/30/21     12/7/21          16    G5                42.80   \n",
       "\n",
       "   Av.Library.bp   Initial nM Sample (ul) H2O (ul)  \n",
       "0          481.0  78.75007875         1.6     23.4  \n",
       "1          474.0  59.77496484         2.1     22.9  \n",
       "2          478.0  20.34994294         6.1     18.9  \n",
       "3          487.0  47.29014996         2.6     22.4  \n",
       "4          450.0  144.1077441         0.9     24.1  "
      ]
     },
     "execution_count": 25,
     "metadata": {},
     "output_type": "execute_result"
    }
   ],
   "source": [
    "# load metadata\n",
    "meta_file = \"/dfs7/swaruplab/smorabit/data/ADDS_2021/visium/Dec_20_2021/visium_human_12-20-21_sample_meta.csv\"\n",
    "meta_df = pd.read_csv(meta_file, sep=',', index_col=None)\n",
    "#meta_df = meta_df[['SAMPLE', 'ID', 'Condition', 'Sex', 'Age', 'CaptureArea', 'Slide', 'Sectioning', 'LibraryDay1', 'LibraryDay2', 'INDEX', 'LibraryName']]\n",
    "\n",
    "#meta_df.columns = ['SAMPLE', 'Condition', 'Age']\n",
    "#meta_df.SAMPLE = meta_df.SAMPLE.astype('str')\n",
    "meta_df.head()"
   ]
  },
  {
   "cell_type": "code",
   "execution_count": 26,
   "id": "f3de0c39-f34e-4efe-b40a-a379fb2a5228",
   "metadata": {},
   "outputs": [],
   "source": [
    "# add the meta\n",
    "temp = adata.obs.merge(\n",
    "    meta_df,\n",
    "    how = 'left',\n",
    "    left_on = 'Sample',\n",
    "    right_on = 'LibraryName'\n",
    ")\n",
    "temp.index = adata.obs.index\n",
    "#temp = temp.drop(labels='LibraryName', axis=1)\n",
    "temp.head() \n",
    "\n",
    "adata.obs['Diagnosis'] = temp['Diagnosis']\n",
    "adata.obs['Age'] = temp['Age']\n",
    "adata.obs['Sex'] = temp['Sex']\n"
   ]
  },
  {
   "cell_type": "code",
   "execution_count": 27,
   "id": "d5814047-ecb1-4a18-b32a-2634ec006dc3",
   "metadata": {},
   "outputs": [],
   "source": [
    "adata_dec_20 = adata"
   ]
  },
  {
   "cell_type": "markdown",
   "id": "2280a700-0523-405b-b067-27907525cea9",
   "metadata": {},
   "source": [
    "## Combine adatas"
   ]
  },
  {
   "cell_type": "code",
   "execution_count": 42,
   "id": "5bb336d1-ba20-4918-a69c-0703633b993c",
   "metadata": {},
   "outputs": [
    {
     "name": "stderr",
     "output_type": "stream",
     "text": [
      "/pub/smorabit/miniconda3/envs/scanpy/lib/python3.11/site-packages/anndata/_core/anndata.py:1763: FutureWarning: The AnnData.concatenate method is deprecated in favour of the anndata.concat function. Please use anndata.concat instead.\n",
      "\n",
      "See the tutorial for concat at: https://anndata.readthedocs.io/en/latest/concatenation.html\n",
      "  warnings.warn(\n",
      "/pub/smorabit/miniconda3/envs/scanpy/lib/python3.11/site-packages/anndata/_core/merge.py:1015: FutureWarning: The default value of 'ignore' for the `na_action` parameter in pandas.Categorical.map is deprecated and will be changed to 'None' in a future version. Please set na_action to the desired value to avoid seeing this warning\n",
      "  concat_indices = concat_indices.str.cat(label_col.map(str), sep=index_unique)\n",
      "/pub/smorabit/miniconda3/envs/scanpy/lib/python3.11/site-packages/anndata/_core/merge.py:1015: FutureWarning: The default value of 'ignore' for the `na_action` parameter in pandas.Categorical.map is deprecated and will be changed to 'None' in a future version. Please set na_action to the desired value to avoid seeing this warning\n",
      "  concat_indices = concat_indices.str.cat(label_col.map(str), sep=index_unique)\n"
     ]
    }
   ],
   "source": [
    "adata_full = adata_oct.concatenate(\n",
    "    [adata_nov, adata_dec_13, adata_dec_20]\n",
    ")"
   ]
  },
  {
   "cell_type": "code",
   "execution_count": 43,
   "id": "0bd18b8b-e55a-4961-8b90-7c72fecc8f51",
   "metadata": {},
   "outputs": [
    {
     "data": {
      "text/plain": [
       "dict_keys(['0-Oct_2021', '1-Oct_2021', '2-Oct_2021', '3-Oct_2021', '4-Oct_2021', '5-Oct_2021', '6-Oct_2021', '7-Oct_2021', '0-Nov_24_2021', '1-Nov_24_2021', '2-Nov_24_2021', '3-Nov_24_2021', '4-Nov_24_2021', '5-Nov_24_2021', '6-Nov_24_2021', '7-Nov_24_2021', '8-Nov_24_2021', '9-Nov_24_2021', '10-Nov_24_2021', '11-Nov_24_2021', '12-Nov_24_2021', '13-Nov_24_2021', '14-Nov_24_2021', '15-Nov_24_2021', '0-Dec_13_2021', '1-Dec_13_2021', '2-Dec_13_2021', '3-Dec_13_2021', '4-Dec_13_2021', '5-Dec_13_2021', '6-Dec_13_2021', '7-Dec_13_2021', '0-Dec_20_2021', '1-Dec_20_2021', '2-Dec_20_2021', '3-Dec_20_2021', '4-Dec_20_2021', '5-Dec_20_2021', '6-Dec_20_2021'])"
      ]
     },
     "execution_count": 43,
     "metadata": {},
     "output_type": "execute_result"
    }
   ],
   "source": [
    "uns_dict.keys()"
   ]
  },
  {
   "cell_type": "code",
   "execution_count": 44,
   "id": "f10bfa07-e08b-4ac1-8781-5807871c69f0",
   "metadata": {},
   "outputs": [
    {
     "data": {
      "text/html": [
       "<div>\n",
       "<style scoped>\n",
       "    .dataframe tbody tr th:only-of-type {\n",
       "        vertical-align: middle;\n",
       "    }\n",
       "\n",
       "    .dataframe tbody tr th {\n",
       "        vertical-align: top;\n",
       "    }\n",
       "\n",
       "    .dataframe thead th {\n",
       "        text-align: right;\n",
       "    }\n",
       "</style>\n",
       "<table border=\"1\" class=\"dataframe\">\n",
       "  <thead>\n",
       "    <tr style=\"text-align: right;\">\n",
       "      <th></th>\n",
       "      <th>in_tissue</th>\n",
       "      <th>array_row</th>\n",
       "      <th>array_col</th>\n",
       "      <th>seqbatch</th>\n",
       "      <th>Sample</th>\n",
       "      <th>bc</th>\n",
       "      <th>Sample_i</th>\n",
       "      <th>batch</th>\n",
       "      <th>Diagnosis</th>\n",
       "      <th>Age</th>\n",
       "      <th>Sex</th>\n",
       "    </tr>\n",
       "  </thead>\n",
       "  <tbody>\n",
       "    <tr>\n",
       "      <th>AAACAACGAATAGTTC-1-0-0</th>\n",
       "      <td>0</td>\n",
       "      <td>0</td>\n",
       "      <td>16</td>\n",
       "      <td>Oct_2021</td>\n",
       "      <td>1</td>\n",
       "      <td>AAACAACGAATAGTTC</td>\n",
       "      <td>0</td>\n",
       "      <td>0</td>\n",
       "      <td>Control</td>\n",
       "      <td>74</td>\n",
       "      <td>F</td>\n",
       "    </tr>\n",
       "    <tr>\n",
       "      <th>AAACAAGTATCTCCCA-1-0-0</th>\n",
       "      <td>1</td>\n",
       "      <td>50</td>\n",
       "      <td>102</td>\n",
       "      <td>Oct_2021</td>\n",
       "      <td>1</td>\n",
       "      <td>AAACAAGTATCTCCCA</td>\n",
       "      <td>0</td>\n",
       "      <td>0</td>\n",
       "      <td>Control</td>\n",
       "      <td>74</td>\n",
       "      <td>F</td>\n",
       "    </tr>\n",
       "    <tr>\n",
       "      <th>AAACAATCTACTAGCA-1-0-0</th>\n",
       "      <td>1</td>\n",
       "      <td>3</td>\n",
       "      <td>43</td>\n",
       "      <td>Oct_2021</td>\n",
       "      <td>1</td>\n",
       "      <td>AAACAATCTACTAGCA</td>\n",
       "      <td>0</td>\n",
       "      <td>0</td>\n",
       "      <td>Control</td>\n",
       "      <td>74</td>\n",
       "      <td>F</td>\n",
       "    </tr>\n",
       "    <tr>\n",
       "      <th>AAACACCAATAACTGC-1-0-0</th>\n",
       "      <td>0</td>\n",
       "      <td>59</td>\n",
       "      <td>19</td>\n",
       "      <td>Oct_2021</td>\n",
       "      <td>1</td>\n",
       "      <td>AAACACCAATAACTGC</td>\n",
       "      <td>0</td>\n",
       "      <td>0</td>\n",
       "      <td>Control</td>\n",
       "      <td>74</td>\n",
       "      <td>F</td>\n",
       "    </tr>\n",
       "    <tr>\n",
       "      <th>AAACAGAGCGACTCCT-1-0-0</th>\n",
       "      <td>1</td>\n",
       "      <td>14</td>\n",
       "      <td>94</td>\n",
       "      <td>Oct_2021</td>\n",
       "      <td>1</td>\n",
       "      <td>AAACAGAGCGACTCCT</td>\n",
       "      <td>0</td>\n",
       "      <td>0</td>\n",
       "      <td>Control</td>\n",
       "      <td>74</td>\n",
       "      <td>F</td>\n",
       "    </tr>\n",
       "  </tbody>\n",
       "</table>\n",
       "</div>"
      ],
      "text/plain": [
       "                        in_tissue  array_row  array_col  seqbatch Sample  \\\n",
       "AAACAACGAATAGTTC-1-0-0          0          0         16  Oct_2021      1   \n",
       "AAACAAGTATCTCCCA-1-0-0          1         50        102  Oct_2021      1   \n",
       "AAACAATCTACTAGCA-1-0-0          1          3         43  Oct_2021      1   \n",
       "AAACACCAATAACTGC-1-0-0          0         59         19  Oct_2021      1   \n",
       "AAACAGAGCGACTCCT-1-0-0          1         14         94  Oct_2021      1   \n",
       "\n",
       "                                      bc Sample_i batch Diagnosis  Age Sex  \n",
       "AAACAACGAATAGTTC-1-0-0  AAACAACGAATAGTTC        0     0   Control   74   F  \n",
       "AAACAAGTATCTCCCA-1-0-0  AAACAAGTATCTCCCA        0     0   Control   74   F  \n",
       "AAACAATCTACTAGCA-1-0-0  AAACAATCTACTAGCA        0     0   Control   74   F  \n",
       "AAACACCAATAACTGC-1-0-0  AAACACCAATAACTGC        0     0   Control   74   F  \n",
       "AAACAGAGCGACTCCT-1-0-0  AAACAGAGCGACTCCT        0     0   Control   74   F  "
      ]
     },
     "execution_count": 44,
     "metadata": {},
     "output_type": "execute_result"
    }
   ],
   "source": [
    "adata_full.obs.head()"
   ]
  },
  {
   "cell_type": "markdown",
   "id": "4b47dedb-1c64-426c-9f36-f93590ad03b1",
   "metadata": {},
   "source": [
    "Next we make a new barcode with bc + Sample + batch in order to match the two datasets"
   ]
  },
  {
   "cell_type": "code",
   "execution_count": 45,
   "id": "9d10e937-9375-46fe-ac72-dc1488f01b97",
   "metadata": {},
   "outputs": [],
   "source": [
    "# combine the bc + SAMPLE + seqbatch\n",
    "#adata_full.obs.Sample = adata_full.obs.Sample.astype(float).astype(int).astype(str)\n",
    "\n",
    "adata_full.obs.Sample = adata_full.obs.seqbatch + '_' + adata_full.obs.Sample\n",
    "\n",
    "adata_full.obs['bc_sample_batch'] = adata_full.obs[['bc', 'Sample']].agg('-'.join, axis=1)\n",
    "\n",
    "# make it the index\n",
    "adata_full.obs.index = adata_full.obs.bc_sample_batch.to_list()\n"
   ]
  },
  {
   "cell_type": "code",
   "execution_count": 46,
   "id": "59d35360-7c36-4fd1-b290-6c159cacb330",
   "metadata": {},
   "outputs": [
    {
     "data": {
      "text/html": [
       "<div>\n",
       "<style scoped>\n",
       "    .dataframe tbody tr th:only-of-type {\n",
       "        vertical-align: middle;\n",
       "    }\n",
       "\n",
       "    .dataframe tbody tr th {\n",
       "        vertical-align: top;\n",
       "    }\n",
       "\n",
       "    .dataframe thead th {\n",
       "        text-align: right;\n",
       "    }\n",
       "</style>\n",
       "<table border=\"1\" class=\"dataframe\">\n",
       "  <thead>\n",
       "    <tr style=\"text-align: right;\">\n",
       "      <th></th>\n",
       "      <th>in_tissue</th>\n",
       "      <th>array_row</th>\n",
       "      <th>array_col</th>\n",
       "      <th>seqbatch</th>\n",
       "      <th>Sample</th>\n",
       "      <th>bc</th>\n",
       "      <th>Sample_i</th>\n",
       "      <th>batch</th>\n",
       "      <th>Diagnosis</th>\n",
       "      <th>Age</th>\n",
       "      <th>Sex</th>\n",
       "      <th>bc_sample_batch</th>\n",
       "    </tr>\n",
       "  </thead>\n",
       "  <tbody>\n",
       "    <tr>\n",
       "      <th>AAACAACGAATAGTTC-Oct_2021_1</th>\n",
       "      <td>0</td>\n",
       "      <td>0</td>\n",
       "      <td>16</td>\n",
       "      <td>Oct_2021</td>\n",
       "      <td>Oct_2021_1</td>\n",
       "      <td>AAACAACGAATAGTTC</td>\n",
       "      <td>0</td>\n",
       "      <td>0</td>\n",
       "      <td>Control</td>\n",
       "      <td>74</td>\n",
       "      <td>F</td>\n",
       "      <td>AAACAACGAATAGTTC-Oct_2021_1</td>\n",
       "    </tr>\n",
       "    <tr>\n",
       "      <th>AAACAAGTATCTCCCA-Oct_2021_1</th>\n",
       "      <td>1</td>\n",
       "      <td>50</td>\n",
       "      <td>102</td>\n",
       "      <td>Oct_2021</td>\n",
       "      <td>Oct_2021_1</td>\n",
       "      <td>AAACAAGTATCTCCCA</td>\n",
       "      <td>0</td>\n",
       "      <td>0</td>\n",
       "      <td>Control</td>\n",
       "      <td>74</td>\n",
       "      <td>F</td>\n",
       "      <td>AAACAAGTATCTCCCA-Oct_2021_1</td>\n",
       "    </tr>\n",
       "    <tr>\n",
       "      <th>AAACAATCTACTAGCA-Oct_2021_1</th>\n",
       "      <td>1</td>\n",
       "      <td>3</td>\n",
       "      <td>43</td>\n",
       "      <td>Oct_2021</td>\n",
       "      <td>Oct_2021_1</td>\n",
       "      <td>AAACAATCTACTAGCA</td>\n",
       "      <td>0</td>\n",
       "      <td>0</td>\n",
       "      <td>Control</td>\n",
       "      <td>74</td>\n",
       "      <td>F</td>\n",
       "      <td>AAACAATCTACTAGCA-Oct_2021_1</td>\n",
       "    </tr>\n",
       "    <tr>\n",
       "      <th>AAACACCAATAACTGC-Oct_2021_1</th>\n",
       "      <td>0</td>\n",
       "      <td>59</td>\n",
       "      <td>19</td>\n",
       "      <td>Oct_2021</td>\n",
       "      <td>Oct_2021_1</td>\n",
       "      <td>AAACACCAATAACTGC</td>\n",
       "      <td>0</td>\n",
       "      <td>0</td>\n",
       "      <td>Control</td>\n",
       "      <td>74</td>\n",
       "      <td>F</td>\n",
       "      <td>AAACACCAATAACTGC-Oct_2021_1</td>\n",
       "    </tr>\n",
       "    <tr>\n",
       "      <th>AAACAGAGCGACTCCT-Oct_2021_1</th>\n",
       "      <td>1</td>\n",
       "      <td>14</td>\n",
       "      <td>94</td>\n",
       "      <td>Oct_2021</td>\n",
       "      <td>Oct_2021_1</td>\n",
       "      <td>AAACAGAGCGACTCCT</td>\n",
       "      <td>0</td>\n",
       "      <td>0</td>\n",
       "      <td>Control</td>\n",
       "      <td>74</td>\n",
       "      <td>F</td>\n",
       "      <td>AAACAGAGCGACTCCT-Oct_2021_1</td>\n",
       "    </tr>\n",
       "  </tbody>\n",
       "</table>\n",
       "</div>"
      ],
      "text/plain": [
       "                             in_tissue  array_row  array_col  seqbatch  \\\n",
       "AAACAACGAATAGTTC-Oct_2021_1          0          0         16  Oct_2021   \n",
       "AAACAAGTATCTCCCA-Oct_2021_1          1         50        102  Oct_2021   \n",
       "AAACAATCTACTAGCA-Oct_2021_1          1          3         43  Oct_2021   \n",
       "AAACACCAATAACTGC-Oct_2021_1          0         59         19  Oct_2021   \n",
       "AAACAGAGCGACTCCT-Oct_2021_1          1         14         94  Oct_2021   \n",
       "\n",
       "                                 Sample                bc Sample_i batch  \\\n",
       "AAACAACGAATAGTTC-Oct_2021_1  Oct_2021_1  AAACAACGAATAGTTC        0     0   \n",
       "AAACAAGTATCTCCCA-Oct_2021_1  Oct_2021_1  AAACAAGTATCTCCCA        0     0   \n",
       "AAACAATCTACTAGCA-Oct_2021_1  Oct_2021_1  AAACAATCTACTAGCA        0     0   \n",
       "AAACACCAATAACTGC-Oct_2021_1  Oct_2021_1  AAACACCAATAACTGC        0     0   \n",
       "AAACAGAGCGACTCCT-Oct_2021_1  Oct_2021_1  AAACAGAGCGACTCCT        0     0   \n",
       "\n",
       "                            Diagnosis  Age Sex              bc_sample_batch  \n",
       "AAACAACGAATAGTTC-Oct_2021_1   Control   74   F  AAACAACGAATAGTTC-Oct_2021_1  \n",
       "AAACAAGTATCTCCCA-Oct_2021_1   Control   74   F  AAACAAGTATCTCCCA-Oct_2021_1  \n",
       "AAACAATCTACTAGCA-Oct_2021_1   Control   74   F  AAACAATCTACTAGCA-Oct_2021_1  \n",
       "AAACACCAATAACTGC-Oct_2021_1   Control   74   F  AAACACCAATAACTGC-Oct_2021_1  \n",
       "AAACAGAGCGACTCCT-Oct_2021_1   Control   74   F  AAACAGAGCGACTCCT-Oct_2021_1  "
      ]
     },
     "execution_count": 46,
     "metadata": {},
     "output_type": "execute_result"
    }
   ],
   "source": [
    "adata_full.obs.head()"
   ]
  },
  {
   "cell_type": "markdown",
   "id": "6969693d-567c-4acf-adb8-6ac06bfb81ae",
   "metadata": {},
   "source": [
    "## Load the previous dataset"
   ]
  },
  {
   "cell_type": "code",
   "execution_count": 35,
   "id": "5b41ca02-a612-418d-b72b-d9b2663204b4",
   "metadata": {},
   "outputs": [
    {
     "data": {
      "text/html": [
       "<div>\n",
       "<style scoped>\n",
       "    .dataframe tbody tr th:only-of-type {\n",
       "        vertical-align: middle;\n",
       "    }\n",
       "\n",
       "    .dataframe tbody tr th {\n",
       "        vertical-align: top;\n",
       "    }\n",
       "\n",
       "    .dataframe thead th {\n",
       "        text-align: right;\n",
       "    }\n",
       "</style>\n",
       "<table border=\"1\" class=\"dataframe\">\n",
       "  <thead>\n",
       "    <tr style=\"text-align: right;\">\n",
       "      <th></th>\n",
       "      <th>nCount_Spatial</th>\n",
       "      <th>Sample</th>\n",
       "      <th>Diagnosis</th>\n",
       "      <th>Sex</th>\n",
       "      <th>Age</th>\n",
       "      <th>seqbatch</th>\n",
       "      <th>annotation</th>\n",
       "    </tr>\n",
       "  </thead>\n",
       "  <tbody>\n",
       "    <tr>\n",
       "      <th>AAACAAGTATCTCCCA-1_1_1</th>\n",
       "      <td>547</td>\n",
       "      <td>Oct_2021_1</td>\n",
       "      <td>Control</td>\n",
       "      <td>F</td>\n",
       "      <td>74</td>\n",
       "      <td>Oct_2021</td>\n",
       "      <td>WM3</td>\n",
       "    </tr>\n",
       "    <tr>\n",
       "      <th>AAACAATCTACTAGCA-1_1_1</th>\n",
       "      <td>242</td>\n",
       "      <td>Oct_2021_1</td>\n",
       "      <td>Control</td>\n",
       "      <td>F</td>\n",
       "      <td>74</td>\n",
       "      <td>Oct_2021</td>\n",
       "      <td>L1</td>\n",
       "    </tr>\n",
       "    <tr>\n",
       "      <th>AAACAGAGCGACTCCT-1_1_1</th>\n",
       "      <td>1602</td>\n",
       "      <td>Oct_2021_1</td>\n",
       "      <td>Control</td>\n",
       "      <td>F</td>\n",
       "      <td>74</td>\n",
       "      <td>Oct_2021</td>\n",
       "      <td>WM3</td>\n",
       "    </tr>\n",
       "    <tr>\n",
       "      <th>AAACATTTCCCGGATT-1_1_1</th>\n",
       "      <td>1025</td>\n",
       "      <td>Oct_2021_1</td>\n",
       "      <td>Control</td>\n",
       "      <td>F</td>\n",
       "      <td>74</td>\n",
       "      <td>Oct_2021</td>\n",
       "      <td>L5/6</td>\n",
       "    </tr>\n",
       "    <tr>\n",
       "      <th>AAACCACTACACAGAT-1_1_1</th>\n",
       "      <td>283</td>\n",
       "      <td>Oct_2021_1</td>\n",
       "      <td>Control</td>\n",
       "      <td>F</td>\n",
       "      <td>74</td>\n",
       "      <td>Oct_2021</td>\n",
       "      <td>L1</td>\n",
       "    </tr>\n",
       "  </tbody>\n",
       "</table>\n",
       "</div>"
      ],
      "text/plain": [
       "                        nCount_Spatial      Sample Diagnosis Sex  Age  \\\n",
       "AAACAAGTATCTCCCA-1_1_1             547  Oct_2021_1   Control   F   74   \n",
       "AAACAATCTACTAGCA-1_1_1             242  Oct_2021_1   Control   F   74   \n",
       "AAACAGAGCGACTCCT-1_1_1            1602  Oct_2021_1   Control   F   74   \n",
       "AAACATTTCCCGGATT-1_1_1            1025  Oct_2021_1   Control   F   74   \n",
       "AAACCACTACACAGAT-1_1_1             283  Oct_2021_1   Control   F   74   \n",
       "\n",
       "                        seqbatch annotation  \n",
       "AAACAAGTATCTCCCA-1_1_1  Oct_2021        WM3  \n",
       "AAACAATCTACTAGCA-1_1_1  Oct_2021         L1  \n",
       "AAACAGAGCGACTCCT-1_1_1  Oct_2021        WM3  \n",
       "AAACATTTCCCGGATT-1_1_1  Oct_2021       L5/6  \n",
       "AAACCACTACACAGAT-1_1_1  Oct_2021         L1  "
      ]
     },
     "execution_count": 35,
     "metadata": {},
     "output_type": "execute_result"
    }
   ],
   "source": [
    "# load dataset\n",
    "h5ad_file=\"/dfs7/swaruplab/smorabit/analysis/ADDS_2021/visium/human/data/ADDS_visium_scDRS.h5ad\"\n",
    "adata_seurat = sc.read(h5ad_file)\n",
    "adata_seurat.obs.head()"
   ]
  },
  {
   "cell_type": "code",
   "execution_count": 36,
   "id": "bedd67be-4d9f-43e2-9dba-737b0430eea0",
   "metadata": {},
   "outputs": [],
   "source": [
    "# add a barcode column\n",
    "adata_seurat.obs['bc'] = [x.split('-')[0] for x in adata_seurat.obs.index.to_list()]"
   ]
  },
  {
   "cell_type": "code",
   "execution_count": 37,
   "id": "96a63c8c-df9b-4e7a-aeb3-9891e1db9146",
   "metadata": {},
   "outputs": [],
   "source": [
    "# combine the bc + SAMPLE + seqbatch\n",
    "#adata_seurat.obs.SAMPLE = adata_seurat.obs.SAMPLE.astype(str)\n",
    "adata_seurat.obs['bc_sample_batch'] = adata_seurat.obs[['bc', 'Sample']].agg('-'.join, axis=1)\n",
    "\n",
    "# make it the index\n",
    "adata_seurat.obs.index = adata_seurat.obs.bc_sample_batch.to_list()\n"
   ]
  },
  {
   "cell_type": "code",
   "execution_count": 38,
   "id": "244d3632-a39c-40f4-a958-dace0bacfef2",
   "metadata": {},
   "outputs": [
    {
     "data": {
      "text/html": [
       "<div>\n",
       "<style scoped>\n",
       "    .dataframe tbody tr th:only-of-type {\n",
       "        vertical-align: middle;\n",
       "    }\n",
       "\n",
       "    .dataframe tbody tr th {\n",
       "        vertical-align: top;\n",
       "    }\n",
       "\n",
       "    .dataframe thead th {\n",
       "        text-align: right;\n",
       "    }\n",
       "</style>\n",
       "<table border=\"1\" class=\"dataframe\">\n",
       "  <thead>\n",
       "    <tr style=\"text-align: right;\">\n",
       "      <th></th>\n",
       "      <th>nCount_Spatial</th>\n",
       "      <th>Sample</th>\n",
       "      <th>Diagnosis</th>\n",
       "      <th>Sex</th>\n",
       "      <th>Age</th>\n",
       "      <th>seqbatch</th>\n",
       "      <th>annotation</th>\n",
       "      <th>bc</th>\n",
       "      <th>bc_sample_batch</th>\n",
       "    </tr>\n",
       "  </thead>\n",
       "  <tbody>\n",
       "    <tr>\n",
       "      <th>AAACAAGTATCTCCCA-Oct_2021_1</th>\n",
       "      <td>547</td>\n",
       "      <td>Oct_2021_1</td>\n",
       "      <td>Control</td>\n",
       "      <td>F</td>\n",
       "      <td>74</td>\n",
       "      <td>Oct_2021</td>\n",
       "      <td>WM3</td>\n",
       "      <td>AAACAAGTATCTCCCA</td>\n",
       "      <td>AAACAAGTATCTCCCA-Oct_2021_1</td>\n",
       "    </tr>\n",
       "    <tr>\n",
       "      <th>AAACAATCTACTAGCA-Oct_2021_1</th>\n",
       "      <td>242</td>\n",
       "      <td>Oct_2021_1</td>\n",
       "      <td>Control</td>\n",
       "      <td>F</td>\n",
       "      <td>74</td>\n",
       "      <td>Oct_2021</td>\n",
       "      <td>L1</td>\n",
       "      <td>AAACAATCTACTAGCA</td>\n",
       "      <td>AAACAATCTACTAGCA-Oct_2021_1</td>\n",
       "    </tr>\n",
       "    <tr>\n",
       "      <th>AAACAGAGCGACTCCT-Oct_2021_1</th>\n",
       "      <td>1602</td>\n",
       "      <td>Oct_2021_1</td>\n",
       "      <td>Control</td>\n",
       "      <td>F</td>\n",
       "      <td>74</td>\n",
       "      <td>Oct_2021</td>\n",
       "      <td>WM3</td>\n",
       "      <td>AAACAGAGCGACTCCT</td>\n",
       "      <td>AAACAGAGCGACTCCT-Oct_2021_1</td>\n",
       "    </tr>\n",
       "    <tr>\n",
       "      <th>AAACATTTCCCGGATT-Oct_2021_1</th>\n",
       "      <td>1025</td>\n",
       "      <td>Oct_2021_1</td>\n",
       "      <td>Control</td>\n",
       "      <td>F</td>\n",
       "      <td>74</td>\n",
       "      <td>Oct_2021</td>\n",
       "      <td>L5/6</td>\n",
       "      <td>AAACATTTCCCGGATT</td>\n",
       "      <td>AAACATTTCCCGGATT-Oct_2021_1</td>\n",
       "    </tr>\n",
       "    <tr>\n",
       "      <th>AAACCACTACACAGAT-Oct_2021_1</th>\n",
       "      <td>283</td>\n",
       "      <td>Oct_2021_1</td>\n",
       "      <td>Control</td>\n",
       "      <td>F</td>\n",
       "      <td>74</td>\n",
       "      <td>Oct_2021</td>\n",
       "      <td>L1</td>\n",
       "      <td>AAACCACTACACAGAT</td>\n",
       "      <td>AAACCACTACACAGAT-Oct_2021_1</td>\n",
       "    </tr>\n",
       "  </tbody>\n",
       "</table>\n",
       "</div>"
      ],
      "text/plain": [
       "                             nCount_Spatial      Sample Diagnosis Sex  Age  \\\n",
       "AAACAAGTATCTCCCA-Oct_2021_1             547  Oct_2021_1   Control   F   74   \n",
       "AAACAATCTACTAGCA-Oct_2021_1             242  Oct_2021_1   Control   F   74   \n",
       "AAACAGAGCGACTCCT-Oct_2021_1            1602  Oct_2021_1   Control   F   74   \n",
       "AAACATTTCCCGGATT-Oct_2021_1            1025  Oct_2021_1   Control   F   74   \n",
       "AAACCACTACACAGAT-Oct_2021_1             283  Oct_2021_1   Control   F   74   \n",
       "\n",
       "                             seqbatch annotation                bc  \\\n",
       "AAACAAGTATCTCCCA-Oct_2021_1  Oct_2021        WM3  AAACAAGTATCTCCCA   \n",
       "AAACAATCTACTAGCA-Oct_2021_1  Oct_2021         L1  AAACAATCTACTAGCA   \n",
       "AAACAGAGCGACTCCT-Oct_2021_1  Oct_2021        WM3  AAACAGAGCGACTCCT   \n",
       "AAACATTTCCCGGATT-Oct_2021_1  Oct_2021       L5/6  AAACATTTCCCGGATT   \n",
       "AAACCACTACACAGAT-Oct_2021_1  Oct_2021         L1  AAACCACTACACAGAT   \n",
       "\n",
       "                                         bc_sample_batch  \n",
       "AAACAAGTATCTCCCA-Oct_2021_1  AAACAAGTATCTCCCA-Oct_2021_1  \n",
       "AAACAATCTACTAGCA-Oct_2021_1  AAACAATCTACTAGCA-Oct_2021_1  \n",
       "AAACAGAGCGACTCCT-Oct_2021_1  AAACAGAGCGACTCCT-Oct_2021_1  \n",
       "AAACATTTCCCGGATT-Oct_2021_1  AAACATTTCCCGGATT-Oct_2021_1  \n",
       "AAACCACTACACAGAT-Oct_2021_1  AAACCACTACACAGAT-Oct_2021_1  "
      ]
     },
     "execution_count": 38,
     "metadata": {},
     "output_type": "execute_result"
    }
   ],
   "source": [
    "adata_seurat.obs.head()"
   ]
  },
  {
   "cell_type": "markdown",
   "id": "669840a3-2d2e-41a1-b409-faa20668198d",
   "metadata": {},
   "source": [
    "## Transfer info (clusters etc) from the processed to the new one\n"
   ]
  },
  {
   "cell_type": "code",
   "execution_count": 49,
   "id": "cd054451-1cf7-44ad-b769-770577a1bf28",
   "metadata": {},
   "outputs": [],
   "source": [
    "temp = adata_full.obs.merge(\n",
    "    adata_seurat.obs,\n",
    "    how = 'left',\n",
    "    on = 'bc_sample_batch',\n",
    ")\n",
    "temp.head()\n",
    "\n",
    "# transfer selected columns:\n",
    "adata_full.obs['annotation'] = temp.annotation.to_list()\n",
    "\n",
    "#temp.Age_x.isna()\n",
    "\n",
    "# temp.index = adata.obs.index\n",
    "# temp = temp.drop(labels='LibraryName', axis=1)\n",
    "# temp.head() \n",
    "\n",
    "# adata.obs = temp\n"
   ]
  },
  {
   "cell_type": "code",
   "execution_count": 50,
   "id": "0500c223-2309-45fe-acbd-a09d93a3509c",
   "metadata": {
    "scrolled": true
   },
   "outputs": [],
   "source": [
    "# # # subset with the other anndata index:\n",
    "# adata_full = adata_full[adata_full.obs.index.isin(adata_seurat.obs.index)].copy()\n",
    "# adata_full = adata_full[adata_seurat.obs.index].copy()\n"
   ]
  },
  {
   "cell_type": "code",
   "execution_count": 51,
   "id": "5c0d21c2-8614-4b66-a644-41c2914672c5",
   "metadata": {},
   "outputs": [
    {
     "data": {
      "text/plain": [
       "Index(['nCount_Spatial', 'Sample', 'Diagnosis', 'Sex', 'Age', 'seqbatch',\n",
       "       'annotation', 'bc', 'bc_sample_batch'],\n",
       "      dtype='object')"
      ]
     },
     "execution_count": 51,
     "metadata": {},
     "output_type": "execute_result"
    }
   ],
   "source": [
    "adata_seurat.obs.columns"
   ]
  },
  {
   "cell_type": "code",
   "execution_count": 52,
   "id": "33c208cd-fdc9-4276-b6b2-6de45b3805a3",
   "metadata": {},
   "outputs": [
    {
     "name": "stdout",
     "output_type": "stream",
     "text": [
      "normalizing counts per cell\n",
      "    finished (0:00:01)\n"
     ]
    }
   ],
   "source": [
    "# make the counts the raw\n",
    "#adata_full.raw = adata_full\n",
    "adata_full.layers['counts'] = adata_full.X.copy()\n",
    "\n",
    "# normalize expression \n",
    "sc.pp.normalize_total(adata_full, target_sum=1e4)\n",
    "sc.pp.log1p(adata_full)"
   ]
  },
  {
   "cell_type": "markdown",
   "id": "50ccd455-5b49-4433-bf4d-59dbca1fe9fb",
   "metadata": {},
   "source": [
    "Now adding columns required by CxG\n",
    "\n",
    "* organism_ontology_term_id\n",
    "* tissue_ontology_term_id\n",
    "* assay_ontology_term_id\n",
    "* disease_ontology_term_id\n",
    "* cell_type_ontology_term_id\n",
    "* self_reported_ethnicity_ontology_term_id\n",
    "* development_stage_ontology_term_id\n",
    "* sex_ontology_term_id\n",
    "* donor_id\n",
    "* suspension_type\n"
   ]
  },
  {
   "cell_type": "code",
   "execution_count": 53,
   "id": "f7f03148-1f3a-4f9a-968d-0bf42eca039f",
   "metadata": {},
   "outputs": [],
   "source": [
    "# species info (Human)\n",
    "adata_full.obs['organism_ontology_term_id'] = 'NCBITaxon:9606'"
   ]
  },
  {
   "cell_type": "code",
   "execution_count": 54,
   "id": "0bae04ff-fbee-4e7b-b8f0-fac3d7491a9f",
   "metadata": {},
   "outputs": [],
   "source": [
    "# tissue info\n",
    "adata_full.obs['tissue_ontology_term_id'] = 'UBERON:0000451'\n",
    "adata_full.obs['tissue_type'] = 'tissue'"
   ]
  },
  {
   "cell_type": "code",
   "execution_count": 55,
   "id": "7e168c62-b4ff-4ddc-8b66-1a9b7c11374c",
   "metadata": {},
   "outputs": [],
   "source": [
    "# assay info \n",
    "adata_full.obs['assay_ontology_term_id'] = 'EFO:0010961' \n",
    "adata_full.obs['suspension_type'] = 'na' # because visium"
   ]
  },
  {
   "cell_type": "code",
   "execution_count": 56,
   "id": "2259da19-f707-4851-8629-1674f6485b7c",
   "metadata": {},
   "outputs": [],
   "source": [
    "# disease ontology info \n",
    "dx = adata_full.obs['Diagnosis'].replace('Control', 'PATO:0000461')\n",
    "dx = dx.replace('earlyAD', 'MONDO:0004975')\n",
    "dx = dx.replace('AD', 'MONDO:0004975')\n",
    "dx = dx.replace('AD_DS', 'MONDO:0008608')\n",
    "\n",
    "adata_full.obs['disease_ontology_term_id'] = dx"
   ]
  },
  {
   "cell_type": "code",
   "execution_count": 57,
   "id": "534864bd-ff3a-48f7-a44d-8853d2d8788d",
   "metadata": {},
   "outputs": [],
   "source": [
    "# cell type info (not available because this is visium \n",
    "adata_full.obs['cell_type_ontology_term_id'] = 'CL:0002319'"
   ]
  },
  {
   "cell_type": "code",
   "execution_count": 58,
   "id": "065a1769-d5a5-455c-9753-e0610d04c916",
   "metadata": {},
   "outputs": [],
   "source": [
    "# ethnicity\n",
    "adata_full.obs['self_reported_ethnicity_ontology_term_id'] = 'HANCESTRO:0005'"
   ]
  },
  {
   "cell_type": "code",
   "execution_count": 59,
   "id": "f63a8d03-c26b-446f-9246-ca714ff15216",
   "metadata": {},
   "outputs": [],
   "source": [
    "# development stage\n",
    "adata_full.obs['development_stage_ontology_term_id'] = 'HsapDv:0000258'"
   ]
  },
  {
   "cell_type": "code",
   "execution_count": 60,
   "id": "cbfb9bf9-bd40-44c1-a636-2b095097764e",
   "metadata": {},
   "outputs": [],
   "source": [
    "# sex info\n",
    "\n",
    "# female:  PATO:0000383\n",
    "# male:  PATO:0000384\n",
    "sex = adata_full.obs['Sex'].replace('F', 'PATO:0000383')\n",
    "sex = sex.replace('M', 'PATO:0000384')\n",
    "adata_full.obs['sex_ontology_term_id'] = sex\n"
   ]
  },
  {
   "cell_type": "code",
   "execution_count": 61,
   "id": "04368c6e-2a71-4bef-b7e4-b0547a8ba6d3",
   "metadata": {},
   "outputs": [],
   "source": [
    "adata_full.obs['donor_id'] = 'Miyoshi_Morabito_2024_Human_Visium_' + adata_full.obs['Sample']\n",
    "\n"
   ]
  },
  {
   "cell_type": "markdown",
   "id": "ea359d98-4b3a-476e-8cbf-0d833e85a378",
   "metadata": {},
   "source": [
    "### Only keep the columns that they ask for !!!"
   ]
  },
  {
   "cell_type": "code",
   "execution_count": 62,
   "id": "acc133f0-ecf4-479b-91e9-4b292f75ec3d",
   "metadata": {},
   "outputs": [],
   "source": [
    "columns_keep = [\n",
    "    'in_tissue',\n",
    "    'array_row',\n",
    "    'array_col',\n",
    "    'organism_ontology_term_id',\n",
    "    'tissue_ontology_term_id',\n",
    "    'tissue_type',\n",
    "    'assay_ontology_term_id',\n",
    "    'disease_ontology_term_id',\n",
    "    'cell_type_ontology_term_id',\n",
    "    'self_reported_ethnicity_ontology_term_id',\n",
    "    'development_stage_ontology_term_id',\n",
    "    'sex_ontology_term_id',\n",
    "    'donor_id',\n",
    "    'suspension_type',\n",
    "    'Sample_i',\n",
    "    'Diagnosis',\n",
    "    'Sex',\n",
    "    'Age',\n",
    "    'annotation'\n",
    "]"
   ]
  },
  {
   "cell_type": "code",
   "execution_count": 63,
   "id": "4b57e5c1-ba32-45c2-8422-6917ab288fc5",
   "metadata": {},
   "outputs": [],
   "source": [
    "adata_full.obs = adata_full.obs[columns_keep]"
   ]
  },
  {
   "cell_type": "markdown",
   "id": "9afa4e14-5b78-45e6-a65a-1a296bcab7e2",
   "metadata": {},
   "source": [
    "Set the var to the gene ids:"
   ]
  },
  {
   "cell_type": "code",
   "execution_count": 64,
   "id": "c72c102b-14b1-4efb-bc91-1ec3e8f12982",
   "metadata": {},
   "outputs": [],
   "source": [
    "adata_full.var.index = adata_full.var['gene_ids'].to_list()"
   ]
  },
  {
   "cell_type": "code",
   "execution_count": 65,
   "id": "fa642b19-0e4d-478c-8064-01de2d3fd62c",
   "metadata": {},
   "outputs": [
    {
     "data": {
      "text/html": [
       "<div>\n",
       "<style scoped>\n",
       "    .dataframe tbody tr th:only-of-type {\n",
       "        vertical-align: middle;\n",
       "    }\n",
       "\n",
       "    .dataframe tbody tr th {\n",
       "        vertical-align: top;\n",
       "    }\n",
       "\n",
       "    .dataframe thead th {\n",
       "        text-align: right;\n",
       "    }\n",
       "</style>\n",
       "<table border=\"1\" class=\"dataframe\">\n",
       "  <thead>\n",
       "    <tr style=\"text-align: right;\">\n",
       "      <th></th>\n",
       "      <th>in_tissue</th>\n",
       "      <th>array_row</th>\n",
       "      <th>array_col</th>\n",
       "      <th>organism_ontology_term_id</th>\n",
       "      <th>tissue_ontology_term_id</th>\n",
       "      <th>tissue_type</th>\n",
       "      <th>assay_ontology_term_id</th>\n",
       "      <th>disease_ontology_term_id</th>\n",
       "      <th>cell_type_ontology_term_id</th>\n",
       "      <th>self_reported_ethnicity_ontology_term_id</th>\n",
       "      <th>development_stage_ontology_term_id</th>\n",
       "      <th>sex_ontology_term_id</th>\n",
       "      <th>donor_id</th>\n",
       "      <th>suspension_type</th>\n",
       "      <th>Sample_i</th>\n",
       "      <th>Diagnosis</th>\n",
       "      <th>Sex</th>\n",
       "      <th>Age</th>\n",
       "      <th>annotation</th>\n",
       "    </tr>\n",
       "  </thead>\n",
       "  <tbody>\n",
       "    <tr>\n",
       "      <th>AAACAACGAATAGTTC-Oct_2021_1</th>\n",
       "      <td>0</td>\n",
       "      <td>0</td>\n",
       "      <td>16</td>\n",
       "      <td>NCBITaxon:9606</td>\n",
       "      <td>UBERON:0000451</td>\n",
       "      <td>tissue</td>\n",
       "      <td>EFO:0010961</td>\n",
       "      <td>PATO:0000461</td>\n",
       "      <td>CL:0002319</td>\n",
       "      <td>HANCESTRO:0005</td>\n",
       "      <td>HsapDv:0000258</td>\n",
       "      <td>PATO:0000383</td>\n",
       "      <td>Miyoshi_Morabito_2024_Human_Visium_Oct_2021_1</td>\n",
       "      <td>na</td>\n",
       "      <td>0</td>\n",
       "      <td>Control</td>\n",
       "      <td>F</td>\n",
       "      <td>74</td>\n",
       "      <td>NaN</td>\n",
       "    </tr>\n",
       "    <tr>\n",
       "      <th>AAACAAGTATCTCCCA-Oct_2021_1</th>\n",
       "      <td>1</td>\n",
       "      <td>50</td>\n",
       "      <td>102</td>\n",
       "      <td>NCBITaxon:9606</td>\n",
       "      <td>UBERON:0000451</td>\n",
       "      <td>tissue</td>\n",
       "      <td>EFO:0010961</td>\n",
       "      <td>PATO:0000461</td>\n",
       "      <td>CL:0002319</td>\n",
       "      <td>HANCESTRO:0005</td>\n",
       "      <td>HsapDv:0000258</td>\n",
       "      <td>PATO:0000383</td>\n",
       "      <td>Miyoshi_Morabito_2024_Human_Visium_Oct_2021_1</td>\n",
       "      <td>na</td>\n",
       "      <td>0</td>\n",
       "      <td>Control</td>\n",
       "      <td>F</td>\n",
       "      <td>74</td>\n",
       "      <td>WM3</td>\n",
       "    </tr>\n",
       "    <tr>\n",
       "      <th>AAACAATCTACTAGCA-Oct_2021_1</th>\n",
       "      <td>1</td>\n",
       "      <td>3</td>\n",
       "      <td>43</td>\n",
       "      <td>NCBITaxon:9606</td>\n",
       "      <td>UBERON:0000451</td>\n",
       "      <td>tissue</td>\n",
       "      <td>EFO:0010961</td>\n",
       "      <td>PATO:0000461</td>\n",
       "      <td>CL:0002319</td>\n",
       "      <td>HANCESTRO:0005</td>\n",
       "      <td>HsapDv:0000258</td>\n",
       "      <td>PATO:0000383</td>\n",
       "      <td>Miyoshi_Morabito_2024_Human_Visium_Oct_2021_1</td>\n",
       "      <td>na</td>\n",
       "      <td>0</td>\n",
       "      <td>Control</td>\n",
       "      <td>F</td>\n",
       "      <td>74</td>\n",
       "      <td>L1</td>\n",
       "    </tr>\n",
       "    <tr>\n",
       "      <th>AAACACCAATAACTGC-Oct_2021_1</th>\n",
       "      <td>0</td>\n",
       "      <td>59</td>\n",
       "      <td>19</td>\n",
       "      <td>NCBITaxon:9606</td>\n",
       "      <td>UBERON:0000451</td>\n",
       "      <td>tissue</td>\n",
       "      <td>EFO:0010961</td>\n",
       "      <td>PATO:0000461</td>\n",
       "      <td>CL:0002319</td>\n",
       "      <td>HANCESTRO:0005</td>\n",
       "      <td>HsapDv:0000258</td>\n",
       "      <td>PATO:0000383</td>\n",
       "      <td>Miyoshi_Morabito_2024_Human_Visium_Oct_2021_1</td>\n",
       "      <td>na</td>\n",
       "      <td>0</td>\n",
       "      <td>Control</td>\n",
       "      <td>F</td>\n",
       "      <td>74</td>\n",
       "      <td>NaN</td>\n",
       "    </tr>\n",
       "    <tr>\n",
       "      <th>AAACAGAGCGACTCCT-Oct_2021_1</th>\n",
       "      <td>1</td>\n",
       "      <td>14</td>\n",
       "      <td>94</td>\n",
       "      <td>NCBITaxon:9606</td>\n",
       "      <td>UBERON:0000451</td>\n",
       "      <td>tissue</td>\n",
       "      <td>EFO:0010961</td>\n",
       "      <td>PATO:0000461</td>\n",
       "      <td>CL:0002319</td>\n",
       "      <td>HANCESTRO:0005</td>\n",
       "      <td>HsapDv:0000258</td>\n",
       "      <td>PATO:0000383</td>\n",
       "      <td>Miyoshi_Morabito_2024_Human_Visium_Oct_2021_1</td>\n",
       "      <td>na</td>\n",
       "      <td>0</td>\n",
       "      <td>Control</td>\n",
       "      <td>F</td>\n",
       "      <td>74</td>\n",
       "      <td>WM3</td>\n",
       "    </tr>\n",
       "  </tbody>\n",
       "</table>\n",
       "</div>"
      ],
      "text/plain": [
       "                             in_tissue  array_row  array_col  \\\n",
       "AAACAACGAATAGTTC-Oct_2021_1          0          0         16   \n",
       "AAACAAGTATCTCCCA-Oct_2021_1          1         50        102   \n",
       "AAACAATCTACTAGCA-Oct_2021_1          1          3         43   \n",
       "AAACACCAATAACTGC-Oct_2021_1          0         59         19   \n",
       "AAACAGAGCGACTCCT-Oct_2021_1          1         14         94   \n",
       "\n",
       "                            organism_ontology_term_id tissue_ontology_term_id  \\\n",
       "AAACAACGAATAGTTC-Oct_2021_1            NCBITaxon:9606          UBERON:0000451   \n",
       "AAACAAGTATCTCCCA-Oct_2021_1            NCBITaxon:9606          UBERON:0000451   \n",
       "AAACAATCTACTAGCA-Oct_2021_1            NCBITaxon:9606          UBERON:0000451   \n",
       "AAACACCAATAACTGC-Oct_2021_1            NCBITaxon:9606          UBERON:0000451   \n",
       "AAACAGAGCGACTCCT-Oct_2021_1            NCBITaxon:9606          UBERON:0000451   \n",
       "\n",
       "                            tissue_type assay_ontology_term_id  \\\n",
       "AAACAACGAATAGTTC-Oct_2021_1      tissue            EFO:0010961   \n",
       "AAACAAGTATCTCCCA-Oct_2021_1      tissue            EFO:0010961   \n",
       "AAACAATCTACTAGCA-Oct_2021_1      tissue            EFO:0010961   \n",
       "AAACACCAATAACTGC-Oct_2021_1      tissue            EFO:0010961   \n",
       "AAACAGAGCGACTCCT-Oct_2021_1      tissue            EFO:0010961   \n",
       "\n",
       "                            disease_ontology_term_id  \\\n",
       "AAACAACGAATAGTTC-Oct_2021_1             PATO:0000461   \n",
       "AAACAAGTATCTCCCA-Oct_2021_1             PATO:0000461   \n",
       "AAACAATCTACTAGCA-Oct_2021_1             PATO:0000461   \n",
       "AAACACCAATAACTGC-Oct_2021_1             PATO:0000461   \n",
       "AAACAGAGCGACTCCT-Oct_2021_1             PATO:0000461   \n",
       "\n",
       "                            cell_type_ontology_term_id  \\\n",
       "AAACAACGAATAGTTC-Oct_2021_1                 CL:0002319   \n",
       "AAACAAGTATCTCCCA-Oct_2021_1                 CL:0002319   \n",
       "AAACAATCTACTAGCA-Oct_2021_1                 CL:0002319   \n",
       "AAACACCAATAACTGC-Oct_2021_1                 CL:0002319   \n",
       "AAACAGAGCGACTCCT-Oct_2021_1                 CL:0002319   \n",
       "\n",
       "                            self_reported_ethnicity_ontology_term_id  \\\n",
       "AAACAACGAATAGTTC-Oct_2021_1                           HANCESTRO:0005   \n",
       "AAACAAGTATCTCCCA-Oct_2021_1                           HANCESTRO:0005   \n",
       "AAACAATCTACTAGCA-Oct_2021_1                           HANCESTRO:0005   \n",
       "AAACACCAATAACTGC-Oct_2021_1                           HANCESTRO:0005   \n",
       "AAACAGAGCGACTCCT-Oct_2021_1                           HANCESTRO:0005   \n",
       "\n",
       "                            development_stage_ontology_term_id  \\\n",
       "AAACAACGAATAGTTC-Oct_2021_1                     HsapDv:0000258   \n",
       "AAACAAGTATCTCCCA-Oct_2021_1                     HsapDv:0000258   \n",
       "AAACAATCTACTAGCA-Oct_2021_1                     HsapDv:0000258   \n",
       "AAACACCAATAACTGC-Oct_2021_1                     HsapDv:0000258   \n",
       "AAACAGAGCGACTCCT-Oct_2021_1                     HsapDv:0000258   \n",
       "\n",
       "                            sex_ontology_term_id  \\\n",
       "AAACAACGAATAGTTC-Oct_2021_1         PATO:0000383   \n",
       "AAACAAGTATCTCCCA-Oct_2021_1         PATO:0000383   \n",
       "AAACAATCTACTAGCA-Oct_2021_1         PATO:0000383   \n",
       "AAACACCAATAACTGC-Oct_2021_1         PATO:0000383   \n",
       "AAACAGAGCGACTCCT-Oct_2021_1         PATO:0000383   \n",
       "\n",
       "                                                                  donor_id  \\\n",
       "AAACAACGAATAGTTC-Oct_2021_1  Miyoshi_Morabito_2024_Human_Visium_Oct_2021_1   \n",
       "AAACAAGTATCTCCCA-Oct_2021_1  Miyoshi_Morabito_2024_Human_Visium_Oct_2021_1   \n",
       "AAACAATCTACTAGCA-Oct_2021_1  Miyoshi_Morabito_2024_Human_Visium_Oct_2021_1   \n",
       "AAACACCAATAACTGC-Oct_2021_1  Miyoshi_Morabito_2024_Human_Visium_Oct_2021_1   \n",
       "AAACAGAGCGACTCCT-Oct_2021_1  Miyoshi_Morabito_2024_Human_Visium_Oct_2021_1   \n",
       "\n",
       "                            suspension_type Sample_i Diagnosis Sex  Age  \\\n",
       "AAACAACGAATAGTTC-Oct_2021_1              na        0   Control   F   74   \n",
       "AAACAAGTATCTCCCA-Oct_2021_1              na        0   Control   F   74   \n",
       "AAACAATCTACTAGCA-Oct_2021_1              na        0   Control   F   74   \n",
       "AAACACCAATAACTGC-Oct_2021_1              na        0   Control   F   74   \n",
       "AAACAGAGCGACTCCT-Oct_2021_1              na        0   Control   F   74   \n",
       "\n",
       "                            annotation  \n",
       "AAACAACGAATAGTTC-Oct_2021_1        NaN  \n",
       "AAACAAGTATCTCCCA-Oct_2021_1        WM3  \n",
       "AAACAATCTACTAGCA-Oct_2021_1         L1  \n",
       "AAACACCAATAACTGC-Oct_2021_1        NaN  \n",
       "AAACAGAGCGACTCCT-Oct_2021_1        WM3  "
      ]
     },
     "execution_count": 65,
     "metadata": {},
     "output_type": "execute_result"
    }
   ],
   "source": [
    "adata_full.obs.head()"
   ]
  },
  {
   "cell_type": "markdown",
   "id": "d5896adf-df90-4b9e-ad79-ecf0c69bce1a",
   "metadata": {},
   "source": [
    "## Save h5ad file for each sample:"
   ]
  },
  {
   "cell_type": "code",
   "execution_count": 66,
   "id": "e9590275-467e-40d5-bd74-67d630d4c3a2",
   "metadata": {},
   "outputs": [],
   "source": [
    "out_dir = '/dfs7/swaruplab/smorabit/analysis/ADDS_2021/data/cellxgene/visium_human/'"
   ]
  },
  {
   "cell_type": "code",
   "execution_count": 67,
   "id": "d72fac87-4072-4208-8975-127f011e0029",
   "metadata": {},
   "outputs": [
    {
     "data": {
      "text/plain": [
       "dict_keys(['0-Oct_2021', '1-Oct_2021', '2-Oct_2021', '3-Oct_2021', '4-Oct_2021', '5-Oct_2021', '6-Oct_2021', '7-Oct_2021', '0-Nov_24_2021', '1-Nov_24_2021', '2-Nov_24_2021', '3-Nov_24_2021', '4-Nov_24_2021', '5-Nov_24_2021', '6-Nov_24_2021', '7-Nov_24_2021', '8-Nov_24_2021', '9-Nov_24_2021', '10-Nov_24_2021', '11-Nov_24_2021', '12-Nov_24_2021', '13-Nov_24_2021', '14-Nov_24_2021', '15-Nov_24_2021', '0-Dec_13_2021', '1-Dec_13_2021', '2-Dec_13_2021', '3-Dec_13_2021', '4-Dec_13_2021', '5-Dec_13_2021', '6-Dec_13_2021', '7-Dec_13_2021', '0-Dec_20_2021', '1-Dec_20_2021', '2-Dec_20_2021', '3-Dec_20_2021', '4-Dec_20_2021', '5-Dec_20_2021', '6-Dec_20_2021'])"
      ]
     },
     "execution_count": 67,
     "metadata": {},
     "output_type": "execute_result"
    }
   ],
   "source": [
    "uns_dict.keys()"
   ]
  },
  {
   "cell_type": "code",
   "execution_count": 73,
   "id": "3fe53adf-0e0a-4a42-9add-dcb3f8c52ea5",
   "metadata": {},
   "outputs": [
    {
     "name": "stdout",
     "output_type": "stream",
     "text": [
      "/dfs7/swaruplab/smorabit/analysis/ADDS_2021/data/cellxgene/visium_human/visium_human_0-Oct_2021.h5ad\n",
      "/dfs7/swaruplab/smorabit/analysis/ADDS_2021/data/cellxgene/visium_human/visium_human_1-Oct_2021.h5ad\n",
      "/dfs7/swaruplab/smorabit/analysis/ADDS_2021/data/cellxgene/visium_human/visium_human_2-Oct_2021.h5ad\n",
      "/dfs7/swaruplab/smorabit/analysis/ADDS_2021/data/cellxgene/visium_human/visium_human_3-Oct_2021.h5ad\n",
      "/dfs7/swaruplab/smorabit/analysis/ADDS_2021/data/cellxgene/visium_human/visium_human_4-Oct_2021.h5ad\n",
      "/dfs7/swaruplab/smorabit/analysis/ADDS_2021/data/cellxgene/visium_human/visium_human_5-Oct_2021.h5ad\n",
      "/dfs7/swaruplab/smorabit/analysis/ADDS_2021/data/cellxgene/visium_human/visium_human_6-Oct_2021.h5ad\n",
      "/dfs7/swaruplab/smorabit/analysis/ADDS_2021/data/cellxgene/visium_human/visium_human_7-Oct_2021.h5ad\n",
      "/dfs7/swaruplab/smorabit/analysis/ADDS_2021/data/cellxgene/visium_human/visium_human_0-Nov_24_2021.h5ad\n",
      "/dfs7/swaruplab/smorabit/analysis/ADDS_2021/data/cellxgene/visium_human/visium_human_1-Nov_24_2021.h5ad\n",
      "/dfs7/swaruplab/smorabit/analysis/ADDS_2021/data/cellxgene/visium_human/visium_human_2-Nov_24_2021.h5ad\n",
      "/dfs7/swaruplab/smorabit/analysis/ADDS_2021/data/cellxgene/visium_human/visium_human_3-Nov_24_2021.h5ad\n",
      "/dfs7/swaruplab/smorabit/analysis/ADDS_2021/data/cellxgene/visium_human/visium_human_4-Nov_24_2021.h5ad\n",
      "/dfs7/swaruplab/smorabit/analysis/ADDS_2021/data/cellxgene/visium_human/visium_human_5-Nov_24_2021.h5ad\n",
      "/dfs7/swaruplab/smorabit/analysis/ADDS_2021/data/cellxgene/visium_human/visium_human_6-Nov_24_2021.h5ad\n",
      "/dfs7/swaruplab/smorabit/analysis/ADDS_2021/data/cellxgene/visium_human/visium_human_7-Nov_24_2021.h5ad\n",
      "/dfs7/swaruplab/smorabit/analysis/ADDS_2021/data/cellxgene/visium_human/visium_human_8-Nov_24_2021.h5ad\n",
      "/dfs7/swaruplab/smorabit/analysis/ADDS_2021/data/cellxgene/visium_human/visium_human_9-Nov_24_2021.h5ad\n",
      "/dfs7/swaruplab/smorabit/analysis/ADDS_2021/data/cellxgene/visium_human/visium_human_10-Nov_24_2021.h5ad\n",
      "/dfs7/swaruplab/smorabit/analysis/ADDS_2021/data/cellxgene/visium_human/visium_human_11-Nov_24_2021.h5ad\n",
      "/dfs7/swaruplab/smorabit/analysis/ADDS_2021/data/cellxgene/visium_human/visium_human_12-Nov_24_2021.h5ad\n",
      "/dfs7/swaruplab/smorabit/analysis/ADDS_2021/data/cellxgene/visium_human/visium_human_13-Nov_24_2021.h5ad\n",
      "/dfs7/swaruplab/smorabit/analysis/ADDS_2021/data/cellxgene/visium_human/visium_human_14-Nov_24_2021.h5ad\n",
      "/dfs7/swaruplab/smorabit/analysis/ADDS_2021/data/cellxgene/visium_human/visium_human_15-Nov_24_2021.h5ad\n",
      "/dfs7/swaruplab/smorabit/analysis/ADDS_2021/data/cellxgene/visium_human/visium_human_0-Dec_13_2021.h5ad\n",
      "/dfs7/swaruplab/smorabit/analysis/ADDS_2021/data/cellxgene/visium_human/visium_human_1-Dec_13_2021.h5ad\n",
      "/dfs7/swaruplab/smorabit/analysis/ADDS_2021/data/cellxgene/visium_human/visium_human_2-Dec_13_2021.h5ad\n",
      "/dfs7/swaruplab/smorabit/analysis/ADDS_2021/data/cellxgene/visium_human/visium_human_3-Dec_13_2021.h5ad\n",
      "/dfs7/swaruplab/smorabit/analysis/ADDS_2021/data/cellxgene/visium_human/visium_human_4-Dec_13_2021.h5ad\n",
      "/dfs7/swaruplab/smorabit/analysis/ADDS_2021/data/cellxgene/visium_human/visium_human_5-Dec_13_2021.h5ad\n",
      "/dfs7/swaruplab/smorabit/analysis/ADDS_2021/data/cellxgene/visium_human/visium_human_6-Dec_13_2021.h5ad\n",
      "/dfs7/swaruplab/smorabit/analysis/ADDS_2021/data/cellxgene/visium_human/visium_human_7-Dec_13_2021.h5ad\n",
      "/dfs7/swaruplab/smorabit/analysis/ADDS_2021/data/cellxgene/visium_human/visium_human_0-Dec_20_2021.h5ad\n",
      "/dfs7/swaruplab/smorabit/analysis/ADDS_2021/data/cellxgene/visium_human/visium_human_1-Dec_20_2021.h5ad\n",
      "/dfs7/swaruplab/smorabit/analysis/ADDS_2021/data/cellxgene/visium_human/visium_human_2-Dec_20_2021.h5ad\n",
      "/dfs7/swaruplab/smorabit/analysis/ADDS_2021/data/cellxgene/visium_human/visium_human_3-Dec_20_2021.h5ad\n",
      "/dfs7/swaruplab/smorabit/analysis/ADDS_2021/data/cellxgene/visium_human/visium_human_4-Dec_20_2021.h5ad\n",
      "/dfs7/swaruplab/smorabit/analysis/ADDS_2021/data/cellxgene/visium_human/visium_human_5-Dec_20_2021.h5ad\n",
      "/dfs7/swaruplab/smorabit/analysis/ADDS_2021/data/cellxgene/visium_human/visium_human_6-Dec_20_2021.h5ad\n"
     ]
    }
   ],
   "source": [
    "donor_ids = adata_full.obs['donor_id'].unique()\n",
    "#cur_donor = donor_ids[1]\n",
    "\n",
    "for cur_donor in donor_ids:\n",
    "    \n",
    "    cur_adata = adata_full[adata_full.obs.donor_id == cur_donor].copy()\n",
    "    \n",
    "    # add the correct uns \n",
    "    tmp = cur_adata.obs.index.to_list()[0].split('-')\n",
    "    tmp = tmp[1].split('_')\n",
    "    \n",
    "    if 'Oct' in tmp:\n",
    "        tmp = tmp[0] + '_' + tmp[1]\n",
    "    else:\n",
    "        tmp = tmp[0] + '_' + tmp[1] + '_' + tmp[2]\n",
    "    \n",
    "    \n",
    "    cur_num = str(cur_adata.obs.Sample_i.unique()[0])\n",
    "    \n",
    "    cur_id = cur_num + '-' + tmp\n",
    "    \n",
    "    cur_uns = uns_dict[cur_id]\n",
    "    cur_uns['title'] = cur_id\n",
    "    cur_adata.uns = cur_uns\n",
    "\n",
    "    # drop the Sample_i column \n",
    "    cur_adata.obs  = cur_adata.obs.drop(labels='Sample_i', axis=1)\n",
    "    \n",
    "    # save the output file:\n",
    "    out_file = out_dir + 'visium_human_' + cur_id + '.h5ad'\n",
    "    print(out_file)\n",
    "    cur_adata.write_h5ad(out_file, compression='gzip')\n"
   ]
  },
  {
   "cell_type": "code",
   "execution_count": 74,
   "id": "5b7525ae-6e97-4b7e-aeb2-968e374934a5",
   "metadata": {},
   "outputs": [
    {
     "data": {
      "text/plain": [
       "Age\n",
       "90    49920\n",
       "87    14976\n",
       "89    14976\n",
       "79    14976\n",
       "80     9984\n",
       "56     9984\n",
       "74     9984\n",
       "86     9984\n",
       "47     4992\n",
       "66     4992\n",
       "43     4992\n",
       "55     4992\n",
       "83     4992\n",
       "64     4992\n",
       "57     4992\n",
       "70     4992\n",
       "62     4992\n",
       "63     4992\n",
       "73     4992\n",
       "58     4992\n",
       "Name: count, dtype: int64"
      ]
     },
     "execution_count": 74,
     "metadata": {},
     "output_type": "execute_result"
    }
   ],
   "source": [
    "adata_full.obs.Age.value_counts()"
   ]
  },
  {
   "cell_type": "code",
   "execution_count": 71,
   "id": "d43f2913-8e25-4689-81aa-da1a8c8af216",
   "metadata": {},
   "outputs": [
    {
     "name": "stdout",
     "output_type": "stream",
     "text": [
      "  (3, 44)\t1.0\n",
      "  (5, 24)\t2.0\n",
      "  (5, 32)\t1.0\n",
      "  (7, 24)\t1.0\n",
      "  (7, 32)\t1.0\n",
      "  (12, 16)\t1.0\n",
      "  (13, 44)\t1.0\n",
      "  (14, 36)\t1.0\n",
      "  (15, 44)\t2.0\n",
      "  (16, 24)\t1.0\n",
      "  (16, 25)\t1.0\n",
      "  (16, 32)\t1.0\n",
      "  (19, 30)\t2.0\n",
      "  (19, 45)\t1.0\n",
      "  (25, 44)\t1.0\n",
      "  (26, 28)\t1.0\n",
      "  (26, 29)\t1.0\n",
      "  (27, 24)\t1.0\n",
      "  (27, 32)\t1.0\n",
      "  (28, 24)\t1.0\n",
      "  (29, 30)\t1.0\n",
      "  (29, 44)\t1.0\n",
      "  (31, 45)\t1.0\n",
      "  (33, 44)\t1.0\n",
      "  (34, 30)\t1.0\n",
      "  (35, 45)\t1.0\n",
      "  (37, 44)\t1.0\n",
      "  (39, 29)\t1.0\n",
      "  (41, 24)\t1.0\n",
      "  (43, 24)\t1.0\n",
      "  (46, 44)\t1.0\n",
      "  (47, 24)\t1.0\n",
      "  (48, 45)\t1.0\n",
      "  (49, 30)\t2.0\n"
     ]
    }
   ],
   "source": [
    "print(cur_adata.layers['counts'][:50, :50])"
   ]
  },
  {
   "cell_type": "markdown",
   "id": "c5f9b00b-4f16-425e-b2ae-2e5a0a8949e3",
   "metadata": {},
   "source": [
    "## Human snRNA-seq"
   ]
  },
  {
   "cell_type": "code",
   "execution_count": 323,
   "id": "dddd1844-7c4c-48c5-bc18-13b30e9d9519",
   "metadata": {},
   "outputs": [
    {
     "data": {
      "text/html": [
       "<div>\n",
       "<style scoped>\n",
       "    .dataframe tbody tr th:only-of-type {\n",
       "        vertical-align: middle;\n",
       "    }\n",
       "\n",
       "    .dataframe tbody tr th {\n",
       "        vertical-align: top;\n",
       "    }\n",
       "\n",
       "    .dataframe thead th {\n",
       "        text-align: right;\n",
       "    }\n",
       "</style>\n",
       "<table border=\"1\" class=\"dataframe\">\n",
       "  <thead>\n",
       "    <tr style=\"text-align: right;\">\n",
       "      <th></th>\n",
       "      <th>cell_barcode</th>\n",
       "      <th>species</th>\n",
       "      <th>rnd1_well</th>\n",
       "      <th>rnd2_well</th>\n",
       "      <th>rnd3_well</th>\n",
       "      <th>umi_count</th>\n",
       "      <th>umi_count_50dup</th>\n",
       "      <th>gene_count</th>\n",
       "      <th>Sublibrary</th>\n",
       "      <th>Batch</th>\n",
       "      <th>...</th>\n",
       "      <th>UMAP_1</th>\n",
       "      <th>UMAP_2</th>\n",
       "      <th>leiden</th>\n",
       "      <th>log_counts</th>\n",
       "      <th>leiden_full</th>\n",
       "      <th>UMAP_full_1</th>\n",
       "      <th>UMAP_full_2</th>\n",
       "      <th>cell_type</th>\n",
       "      <th>annotation</th>\n",
       "      <th>subtype</th>\n",
       "    </tr>\n",
       "  </thead>\n",
       "  <tbody>\n",
       "    <tr>\n",
       "      <th>AGTGGTCATGGAACAA_9-0-0</th>\n",
       "      <td>AGTGGTCATGGAACAA_9</td>\n",
       "      <td>hg38</td>\n",
       "      <td>9</td>\n",
       "      <td>64</td>\n",
       "      <td>3</td>\n",
       "      <td>50168</td>\n",
       "      <td>48576.830705</td>\n",
       "      <td>8902</td>\n",
       "      <td>Sublibrary1_S1</td>\n",
       "      <td>Batch1</td>\n",
       "      <td>...</td>\n",
       "      <td>1.885365</td>\n",
       "      <td>10.731432</td>\n",
       "      <td>0</td>\n",
       "      <td>15.606463</td>\n",
       "      <td>16</td>\n",
       "      <td>9.865245</td>\n",
       "      <td>13.277141</td>\n",
       "      <td>EX</td>\n",
       "      <td>EX1</td>\n",
       "      <td>EX L2-3</td>\n",
       "    </tr>\n",
       "    <tr>\n",
       "      <th>ACATTGGCACGCTCGA_20-0-0</th>\n",
       "      <td>ACATTGGCACGCTCGA_20</td>\n",
       "      <td>hg38</td>\n",
       "      <td>20</td>\n",
       "      <td>20</td>\n",
       "      <td>5</td>\n",
       "      <td>50080</td>\n",
       "      <td>48491.621784</td>\n",
       "      <td>8391</td>\n",
       "      <td>Sublibrary1_S1</td>\n",
       "      <td>Batch1</td>\n",
       "      <td>...</td>\n",
       "      <td>1.302990</td>\n",
       "      <td>10.347502</td>\n",
       "      <td>0</td>\n",
       "      <td>15.603684</td>\n",
       "      <td>16</td>\n",
       "      <td>9.240021</td>\n",
       "      <td>13.650092</td>\n",
       "      <td>EX</td>\n",
       "      <td>EX1</td>\n",
       "      <td>EX L2-3</td>\n",
       "    </tr>\n",
       "    <tr>\n",
       "      <th>GATGAATCTCTTCACA_21-0-0</th>\n",
       "      <td>GATGAATCTCTTCACA_21</td>\n",
       "      <td>hg38</td>\n",
       "      <td>21</td>\n",
       "      <td>62</td>\n",
       "      <td>94</td>\n",
       "      <td>49718</td>\n",
       "      <td>48141.103272</td>\n",
       "      <td>8019</td>\n",
       "      <td>Sublibrary1_S1</td>\n",
       "      <td>Batch1</td>\n",
       "      <td>...</td>\n",
       "      <td>-2.406851</td>\n",
       "      <td>6.873954</td>\n",
       "      <td>23</td>\n",
       "      <td>15.593741</td>\n",
       "      <td>31</td>\n",
       "      <td>12.402791</td>\n",
       "      <td>9.055484</td>\n",
       "      <td>EX</td>\n",
       "      <td>EX12</td>\n",
       "      <td>EX L3-5</td>\n",
       "    </tr>\n",
       "    <tr>\n",
       "      <th>AAGAGATCAGCAGGAA_2-0-0</th>\n",
       "      <td>AAGAGATCAGCAGGAA_2</td>\n",
       "      <td>hg38</td>\n",
       "      <td>2</td>\n",
       "      <td>25</td>\n",
       "      <td>69</td>\n",
       "      <td>49713</td>\n",
       "      <td>48136.261856</td>\n",
       "      <td>8629</td>\n",
       "      <td>Sublibrary1_S1</td>\n",
       "      <td>Batch1</td>\n",
       "      <td>...</td>\n",
       "      <td>14.689492</td>\n",
       "      <td>10.692253</td>\n",
       "      <td>10</td>\n",
       "      <td>15.594033</td>\n",
       "      <td>20</td>\n",
       "      <td>9.625359</td>\n",
       "      <td>5.255204</td>\n",
       "      <td>INH</td>\n",
       "      <td>INH3</td>\n",
       "      <td>INH SST+</td>\n",
       "    </tr>\n",
       "    <tr>\n",
       "      <th>GACTAGTAGTACGCAA_14-0-0</th>\n",
       "      <td>GACTAGTAGTACGCAA_14</td>\n",
       "      <td>hg38</td>\n",
       "      <td>14</td>\n",
       "      <td>55</td>\n",
       "      <td>30</td>\n",
       "      <td>49494</td>\n",
       "      <td>47924.207839</td>\n",
       "      <td>8447</td>\n",
       "      <td>Sublibrary1_S1</td>\n",
       "      <td>Batch1</td>\n",
       "      <td>...</td>\n",
       "      <td>5.888000</td>\n",
       "      <td>12.249705</td>\n",
       "      <td>2</td>\n",
       "      <td>15.587132</td>\n",
       "      <td>4</td>\n",
       "      <td>13.846423</td>\n",
       "      <td>16.047785</td>\n",
       "      <td>EX</td>\n",
       "      <td>EX2</td>\n",
       "      <td>EX L2</td>\n",
       "    </tr>\n",
       "  </tbody>\n",
       "</table>\n",
       "<p>5 rows × 47 columns</p>\n",
       "</div>"
      ],
      "text/plain": [
       "                                cell_barcode species  rnd1_well  rnd2_well  \\\n",
       "AGTGGTCATGGAACAA_9-0-0    AGTGGTCATGGAACAA_9    hg38          9         64   \n",
       "ACATTGGCACGCTCGA_20-0-0  ACATTGGCACGCTCGA_20    hg38         20         20   \n",
       "GATGAATCTCTTCACA_21-0-0  GATGAATCTCTTCACA_21    hg38         21         62   \n",
       "AAGAGATCAGCAGGAA_2-0-0    AAGAGATCAGCAGGAA_2    hg38          2         25   \n",
       "GACTAGTAGTACGCAA_14-0-0  GACTAGTAGTACGCAA_14    hg38         14         55   \n",
       "\n",
       "                         rnd3_well  umi_count  umi_count_50dup  gene_count  \\\n",
       "AGTGGTCATGGAACAA_9-0-0           3      50168     48576.830705        8902   \n",
       "ACATTGGCACGCTCGA_20-0-0          5      50080     48491.621784        8391   \n",
       "GATGAATCTCTTCACA_21-0-0         94      49718     48141.103272        8019   \n",
       "AAGAGATCAGCAGGAA_2-0-0          69      49713     48136.261856        8629   \n",
       "GACTAGTAGTACGCAA_14-0-0         30      49494     47924.207839        8447   \n",
       "\n",
       "                             Sublibrary   Batch  ...     UMAP_1     UMAP_2  \\\n",
       "AGTGGTCATGGAACAA_9-0-0   Sublibrary1_S1  Batch1  ...   1.885365  10.731432   \n",
       "ACATTGGCACGCTCGA_20-0-0  Sublibrary1_S1  Batch1  ...   1.302990  10.347502   \n",
       "GATGAATCTCTTCACA_21-0-0  Sublibrary1_S1  Batch1  ...  -2.406851   6.873954   \n",
       "AAGAGATCAGCAGGAA_2-0-0   Sublibrary1_S1  Batch1  ...  14.689492  10.692253   \n",
       "GACTAGTAGTACGCAA_14-0-0  Sublibrary1_S1  Batch1  ...   5.888000  12.249705   \n",
       "\n",
       "                         leiden log_counts leiden_full UMAP_full_1  \\\n",
       "AGTGGTCATGGAACAA_9-0-0        0  15.606463          16    9.865245   \n",
       "ACATTGGCACGCTCGA_20-0-0       0  15.603684          16    9.240021   \n",
       "GATGAATCTCTTCACA_21-0-0      23  15.593741          31   12.402791   \n",
       "AAGAGATCAGCAGGAA_2-0-0       10  15.594033          20    9.625359   \n",
       "GACTAGTAGTACGCAA_14-0-0       2  15.587132           4   13.846423   \n",
       "\n",
       "                         UMAP_full_2  cell_type  annotation   subtype  \n",
       "AGTGGTCATGGAACAA_9-0-0     13.277141         EX         EX1   EX L2-3  \n",
       "ACATTGGCACGCTCGA_20-0-0    13.650092         EX         EX1   EX L2-3  \n",
       "GATGAATCTCTTCACA_21-0-0     9.055484         EX        EX12   EX L3-5  \n",
       "AAGAGATCAGCAGGAA_2-0-0      5.255204        INH        INH3  INH SST+  \n",
       "GACTAGTAGTACGCAA_14-0-0    16.047785         EX         EX2     EX L2  \n",
       "\n",
       "[5 rows x 47 columns]"
      ]
     },
     "execution_count": 323,
     "metadata": {},
     "output_type": "execute_result"
    }
   ],
   "source": [
    "adata_snRNA = sc.read('/dfs7/swaruplab/smorabit/analysis/ADDS_2021/splitseq/integration/scDRS/data/ADDS_scDRS.h5ad')\n",
    "adata_snRNA.obs.head()\n"
   ]
  },
  {
   "cell_type": "code",
   "execution_count": 324,
   "id": "dc46bb26-6bf4-4b1b-a403-5673670c2ce5",
   "metadata": {},
   "outputs": [
    {
     "name": "stdout",
     "output_type": "stream",
     "text": [
      "normalizing counts per cell\n",
      "    finished (0:00:03)\n"
     ]
    }
   ],
   "source": [
    "# normalize the gene expression\n",
    "adata_snRNA.raw = adata_snRNA\n",
    "\n",
    "# normalize expression \n",
    "sc.pp.normalize_total(adata_snRNA, target_sum=1e4)\n",
    "sc.pp.log1p(adata_snRNA)"
   ]
  },
  {
   "cell_type": "code",
   "execution_count": 325,
   "id": "60039766-e75d-48b0-ae12-e494a7833407",
   "metadata": {},
   "outputs": [],
   "source": [
    "adata_snRNA.uns['title'] = 'ADDS & Control snRNA-seq'"
   ]
  },
  {
   "cell_type": "code",
   "execution_count": 326,
   "id": "9be45e36-d347-4399-b1be-b4b8c9647a83",
   "metadata": {},
   "outputs": [],
   "source": [
    "# species info (Human)\n",
    "adata_snRNA.obs['organism_ontology_term_id'] = 'NCBITaxon:9606'\n"
   ]
  },
  {
   "cell_type": "code",
   "execution_count": 327,
   "id": "386323a1-2912-4fc2-9607-486f5bb92fcf",
   "metadata": {},
   "outputs": [
    {
     "name": "stderr",
     "output_type": "stream",
     "text": [
      "/tmp/smorabit/30802954/ipykernel_2732136/1197739976.py:2: FutureWarning: The behavior of Series.replace (and DataFrame.replace) with CategoricalDtype is deprecated. In a future version, replace will only be used for cases that preserve the categories. To change the categories, use ser.cat.rename_categories instead.\n",
      "  tissue = adata_snRNA.obs['Region'].replace('PCC', 'UBERON:0022353')\n",
      "/tmp/smorabit/30802954/ipykernel_2732136/1197739976.py:3: FutureWarning: The behavior of Series.replace (and DataFrame.replace) with CategoricalDtype is deprecated. In a future version, replace will only be used for cases that preserve the categories. To change the categories, use ser.cat.rename_categories instead.\n",
      "  tissue = tissue.replace('FCX', 'UBERON:0000451')\n"
     ]
    }
   ],
   "source": [
    "\n",
    "# tissue \n",
    "tissue = adata_snRNA.obs['Region'].replace('PCC', 'UBERON:0022353')\n",
    "tissue = tissue.replace('FCX', 'UBERON:0000451')\n",
    "adata_snRNA.obs['tissue_ontology_term_id'] = tissue\n",
    "adata_snRNA.obs['tissue_type'] = 'tissue'\n"
   ]
  },
  {
   "cell_type": "code",
   "execution_count": 328,
   "id": "6239d5e4-9feb-47c6-a1c8-0b587ded3ea1",
   "metadata": {},
   "outputs": [],
   "source": [
    "\n",
    "# assay info \n",
    "adata_snRNA.obs['assay_ontology_term_id'] = 'EFO:0008913' \n",
    "adata_snRNA.obs['suspension_type'] = 'nucelus' \n"
   ]
  },
  {
   "cell_type": "code",
   "execution_count": 329,
   "id": "2eab8cad-15a6-4ae4-8618-f97bf3daa939",
   "metadata": {},
   "outputs": [
    {
     "name": "stderr",
     "output_type": "stream",
     "text": [
      "/tmp/smorabit/30802954/ipykernel_2732136/84904168.py:2: FutureWarning: The behavior of Series.replace (and DataFrame.replace) with CategoricalDtype is deprecated. In a future version, replace will only be used for cases that preserve the categories. To change the categories, use ser.cat.rename_categories instead.\n",
      "  dx = adata_snRNA.obs['DX'].replace('Control', 'PATO:0000461')\n",
      "/tmp/smorabit/30802954/ipykernel_2732136/84904168.py:3: FutureWarning: The behavior of Series.replace (and DataFrame.replace) with CategoricalDtype is deprecated. In a future version, replace will only be used for cases that preserve the categories. To change the categories, use ser.cat.rename_categories instead.\n",
      "  dx = dx.replace('DSAD', 'MONDO:0008608')\n"
     ]
    }
   ],
   "source": [
    "\n",
    "# disease ontology info \n",
    "dx = adata_snRNA.obs['DX'].replace('Control', 'PATO:0000461')\n",
    "dx = dx.replace('DSAD', 'MONDO:0008608')\n",
    "adata_snRNA.obs['disease_ontology_term_id'] = dx\n"
   ]
  },
  {
   "cell_type": "code",
   "execution_count": 330,
   "id": "1ccae9f3-cbc9-44e7-8f90-cc0b4004c435",
   "metadata": {},
   "outputs": [],
   "source": [
    "# ethnicity\n",
    "adata_snRNA.obs['self_reported_ethnicity_ontology_term_id'] = 'HANCESTRO:0005'\n",
    "\n",
    "# development stage\n",
    "adata_snRNA.obs['development_stage_ontology_term_id'] = 'HsapDv:0000258'\n"
   ]
  },
  {
   "cell_type": "code",
   "execution_count": 331,
   "id": "4eae38d5-a3a7-4a2c-acf7-c2e853f13b3f",
   "metadata": {},
   "outputs": [
    {
     "name": "stderr",
     "output_type": "stream",
     "text": [
      "/tmp/smorabit/30802954/ipykernel_2732136/4097831059.py:3: FutureWarning: The behavior of Series.replace (and DataFrame.replace) with CategoricalDtype is deprecated. In a future version, replace will only be used for cases that preserve the categories. To change the categories, use ser.cat.rename_categories instead.\n",
      "  sex = adata_snRNA.obs['Sex'].replace('F', 'PATO:0000383')\n",
      "/tmp/smorabit/30802954/ipykernel_2732136/4097831059.py:4: FutureWarning: The behavior of Series.replace (and DataFrame.replace) with CategoricalDtype is deprecated. In a future version, replace will only be used for cases that preserve the categories. To change the categories, use ser.cat.rename_categories instead.\n",
      "  sex = sex.replace('M', 'PATO:0000384')\n"
     ]
    }
   ],
   "source": [
    "# female:  PATO:0000383\n",
    "# male:  PATO:0000384\n",
    "sex = adata_snRNA.obs['Sex'].replace('F', 'PATO:0000383')\n",
    "sex = sex.replace('M', 'PATO:0000384')\n",
    "adata_snRNA.obs['sex_ontology_term_id'] = sex\n"
   ]
  },
  {
   "cell_type": "code",
   "execution_count": 332,
   "id": "c7639da2-1e9a-4e7a-aa6f-e560a64f7779",
   "metadata": {},
   "outputs": [],
   "source": [
    "adata_snRNA.obs['donor_id'] = 'Miyoshi_Morabito_2024_Human_snRNA_' + adata_snRNA.obs['SampleID'].astype(str)\n"
   ]
  },
  {
   "cell_type": "code",
   "execution_count": 333,
   "id": "582ee042-ad37-4619-a0f7-2b4f651ce266",
   "metadata": {},
   "outputs": [
    {
     "data": {
      "text/plain": [
       "['EX', 'INH', 'OPC', 'PER', 'ASC', 'ODC', 'FBR', 'MG', 'END', 'SMC']\n",
       "Categories (10, object): ['ASC', 'END', 'EX', 'FBR', ..., 'ODC', 'OPC', 'PER', 'SMC']"
      ]
     },
     "execution_count": 333,
     "metadata": {},
     "output_type": "execute_result"
    }
   ],
   "source": [
    "adata_snRNA.obs.cell_type.unique()"
   ]
  },
  {
   "cell_type": "code",
   "execution_count": 334,
   "id": "2d197347-4f9d-47dd-a84c-c927c5c3b472",
   "metadata": {},
   "outputs": [
    {
     "name": "stderr",
     "output_type": "stream",
     "text": [
      "/tmp/smorabit/30802954/ipykernel_2732136/473035050.py:1: FutureWarning: The behavior of Series.replace (and DataFrame.replace) with CategoricalDtype is deprecated. In a future version, replace will only be used for cases that preserve the categories. To change the categories, use ser.cat.rename_categories instead.\n",
      "  ct = adata_snRNA.obs['cell_type'].replace('ODC', 'CL:0000128')\n",
      "/tmp/smorabit/30802954/ipykernel_2732136/473035050.py:2: FutureWarning: The behavior of Series.replace (and DataFrame.replace) with CategoricalDtype is deprecated. In a future version, replace will only be used for cases that preserve the categories. To change the categories, use ser.cat.rename_categories instead.\n",
      "  ct = ct.replace('OPC', 'CL:0002453')\n",
      "/tmp/smorabit/30802954/ipykernel_2732136/473035050.py:3: FutureWarning: The behavior of Series.replace (and DataFrame.replace) with CategoricalDtype is deprecated. In a future version, replace will only be used for cases that preserve the categories. To change the categories, use ser.cat.rename_categories instead.\n",
      "  ct = ct.replace('EX', 'CL:0000679')\n",
      "/tmp/smorabit/30802954/ipykernel_2732136/473035050.py:4: FutureWarning: The behavior of Series.replace (and DataFrame.replace) with CategoricalDtype is deprecated. In a future version, replace will only be used for cases that preserve the categories. To change the categories, use ser.cat.rename_categories instead.\n",
      "  ct = ct.replace('INH', 'CL:0000617')\n",
      "/tmp/smorabit/30802954/ipykernel_2732136/473035050.py:5: FutureWarning: The behavior of Series.replace (and DataFrame.replace) with CategoricalDtype is deprecated. In a future version, replace will only be used for cases that preserve the categories. To change the categories, use ser.cat.rename_categories instead.\n",
      "  ct = ct.replace('MG', 'CL:0000129')\n",
      "/tmp/smorabit/30802954/ipykernel_2732136/473035050.py:6: FutureWarning: The behavior of Series.replace (and DataFrame.replace) with CategoricalDtype is deprecated. In a future version, replace will only be used for cases that preserve the categories. To change the categories, use ser.cat.rename_categories instead.\n",
      "  ct = ct.replace('ASC', 'CL:0000127')\n",
      "/tmp/smorabit/30802954/ipykernel_2732136/473035050.py:7: FutureWarning: The behavior of Series.replace (and DataFrame.replace) with CategoricalDtype is deprecated. In a future version, replace will only be used for cases that preserve the categories. To change the categories, use ser.cat.rename_categories instead.\n",
      "  ct = ct.replace('PER', 'CL:0000669')\n",
      "/tmp/smorabit/30802954/ipykernel_2732136/473035050.py:8: FutureWarning: The behavior of Series.replace (and DataFrame.replace) with CategoricalDtype is deprecated. In a future version, replace will only be used for cases that preserve the categories. To change the categories, use ser.cat.rename_categories instead.\n",
      "  ct = ct.replace('FBR', 'CL:0000057')\n",
      "/tmp/smorabit/30802954/ipykernel_2732136/473035050.py:9: FutureWarning: The behavior of Series.replace (and DataFrame.replace) with CategoricalDtype is deprecated. In a future version, replace will only be used for cases that preserve the categories. To change the categories, use ser.cat.rename_categories instead.\n",
      "  ct = ct.replace('SMC', 'CL:0000192')\n",
      "/tmp/smorabit/30802954/ipykernel_2732136/473035050.py:10: FutureWarning: The behavior of Series.replace (and DataFrame.replace) with CategoricalDtype is deprecated. In a future version, replace will only be used for cases that preserve the categories. To change the categories, use ser.cat.rename_categories instead.\n",
      "  ct = ct.replace('END', 'CL:0000115')\n"
     ]
    }
   ],
   "source": [
    "ct = adata_snRNA.obs['cell_type'].replace('ODC', 'CL:0000128')\n",
    "ct = ct.replace('OPC', 'CL:0002453')\n",
    "ct = ct.replace('EX', 'CL:0000679')\n",
    "ct = ct.replace('INH', 'CL:0000617')\n",
    "ct = ct.replace('MG', 'CL:0000129')\n",
    "ct = ct.replace('ASC', 'CL:0000127')\n",
    "ct = ct.replace('PER', 'CL:0000669')\n",
    "ct = ct.replace('FBR', 'CL:0000057')\n",
    "ct = ct.replace('SMC', 'CL:0000192')\n",
    "ct = ct.replace('END', 'CL:0000115')\n",
    "\n",
    "adata_snRNA.obs['cell_type_ontology_term_id'] = ct\n"
   ]
  },
  {
   "cell_type": "code",
   "execution_count": 338,
   "id": "6a78d013-7767-4232-9d1c-9a08c31846c0",
   "metadata": {},
   "outputs": [],
   "source": [
    "columns_keep = [\n",
    "    'organism_ontology_term_id',\n",
    "    'tissue_ontology_term_id',\n",
    "    'tissue_type',\n",
    "    'assay_ontology_term_id',\n",
    "    'disease_ontology_term_id',\n",
    "    'cell_type_ontology_term_id',\n",
    "    'self_reported_ethnicity_ontology_term_id',\n",
    "    'development_stage_ontology_term_id',\n",
    "    'sex_ontology_term_id',\n",
    "    'donor_id',\n",
    "    'suspension_type',\n",
    "    'annotation',\n",
    "    'DX',\n",
    "    'Sex',\n",
    "    'Age'\n",
    "]"
   ]
  },
  {
   "cell_type": "code",
   "execution_count": 339,
   "id": "4de79a86-b3b2-4fe9-9a68-9522318ecdf5",
   "metadata": {},
   "outputs": [],
   "source": [
    "adata_snRNA.obs = adata_snRNA.obs[columns_keep]"
   ]
  },
  {
   "cell_type": "code",
   "execution_count": 340,
   "id": "22b4d5ee-6c5e-4ad5-b310-a088f2a20e1e",
   "metadata": {},
   "outputs": [],
   "source": [
    "adata_snRNA.var.index = adata_snRNA.var['ensembl_id-0-0'].to_list()"
   ]
  },
  {
   "cell_type": "code",
   "execution_count": 341,
   "id": "825515ef-61ce-48ad-ab19-9806e9081755",
   "metadata": {},
   "outputs": [
    {
     "name": "stderr",
     "output_type": "stream",
     "text": [
      "/pub/smorabit/miniconda3/envs/scanpy/lib/python3.11/site-packages/anndata/_core/anndata.py:1230: SettingWithCopyWarning: \n",
      "A value is trying to be set on a copy of a slice from a DataFrame.\n",
      "Try using .loc[row_indexer,col_indexer] = value instead\n",
      "\n",
      "See the caveats in the documentation: https://pandas.pydata.org/pandas-docs/stable/user_guide/indexing.html#returning-a-view-versus-a-copy\n",
      "  df[key] = c\n",
      "/pub/smorabit/miniconda3/envs/scanpy/lib/python3.11/site-packages/anndata/_core/anndata.py:1230: SettingWithCopyWarning: \n",
      "A value is trying to be set on a copy of a slice from a DataFrame.\n",
      "Try using .loc[row_indexer,col_indexer] = value instead\n",
      "\n",
      "See the caveats in the documentation: https://pandas.pydata.org/pandas-docs/stable/user_guide/indexing.html#returning-a-view-versus-a-copy\n",
      "  df[key] = c\n",
      "/pub/smorabit/miniconda3/envs/scanpy/lib/python3.11/site-packages/anndata/_core/anndata.py:1230: SettingWithCopyWarning: \n",
      "A value is trying to be set on a copy of a slice from a DataFrame.\n",
      "Try using .loc[row_indexer,col_indexer] = value instead\n",
      "\n",
      "See the caveats in the documentation: https://pandas.pydata.org/pandas-docs/stable/user_guide/indexing.html#returning-a-view-versus-a-copy\n",
      "  df[key] = c\n",
      "/pub/smorabit/miniconda3/envs/scanpy/lib/python3.11/site-packages/anndata/_core/anndata.py:1230: SettingWithCopyWarning: \n",
      "A value is trying to be set on a copy of a slice from a DataFrame.\n",
      "Try using .loc[row_indexer,col_indexer] = value instead\n",
      "\n",
      "See the caveats in the documentation: https://pandas.pydata.org/pandas-docs/stable/user_guide/indexing.html#returning-a-view-versus-a-copy\n",
      "  df[key] = c\n",
      "/pub/smorabit/miniconda3/envs/scanpy/lib/python3.11/site-packages/anndata/_core/anndata.py:1230: SettingWithCopyWarning: \n",
      "A value is trying to be set on a copy of a slice from a DataFrame.\n",
      "Try using .loc[row_indexer,col_indexer] = value instead\n",
      "\n",
      "See the caveats in the documentation: https://pandas.pydata.org/pandas-docs/stable/user_guide/indexing.html#returning-a-view-versus-a-copy\n",
      "  df[key] = c\n",
      "/pub/smorabit/miniconda3/envs/scanpy/lib/python3.11/site-packages/anndata/_core/anndata.py:1230: SettingWithCopyWarning: \n",
      "A value is trying to be set on a copy of a slice from a DataFrame.\n",
      "Try using .loc[row_indexer,col_indexer] = value instead\n",
      "\n",
      "See the caveats in the documentation: https://pandas.pydata.org/pandas-docs/stable/user_guide/indexing.html#returning-a-view-versus-a-copy\n",
      "  df[key] = c\n",
      "/pub/smorabit/miniconda3/envs/scanpy/lib/python3.11/site-packages/anndata/_core/anndata.py:1230: SettingWithCopyWarning: \n",
      "A value is trying to be set on a copy of a slice from a DataFrame.\n",
      "Try using .loc[row_indexer,col_indexer] = value instead\n",
      "\n",
      "See the caveats in the documentation: https://pandas.pydata.org/pandas-docs/stable/user_guide/indexing.html#returning-a-view-versus-a-copy\n",
      "  df[key] = c\n"
     ]
    }
   ],
   "source": [
    "out_file = '/dfs7/swaruplab/smorabit/analysis/ADDS_2021/data/cellxgene/snRNA_human.h5ad'\n",
    "adata_snRNA.write_h5ad(out_file)\n"
   ]
  },
  {
   "cell_type": "code",
   "execution_count": null,
   "id": "d59803e3-1b12-4a02-abce-3dde3c0b5c06",
   "metadata": {},
   "outputs": [],
   "source": []
  }
 ],
 "metadata": {
  "kernelspec": {
   "display_name": "Python 3 (ipykernel)",
   "language": "python",
   "name": "python3"
  },
  "language_info": {
   "codemirror_mode": {
    "name": "ipython",
    "version": 3
   },
   "file_extension": ".py",
   "mimetype": "text/x-python",
   "name": "python",
   "nbconvert_exporter": "python",
   "pygments_lexer": "ipython3",
   "version": "3.11.5"
  }
 },
 "nbformat": 4,
 "nbformat_minor": 5
}
