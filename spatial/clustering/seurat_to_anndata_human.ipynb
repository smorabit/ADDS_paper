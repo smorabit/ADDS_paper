{
 "cells": [
  {
   "cell_type": "code",
   "execution_count": 1,
   "id": "9d11941a",
   "metadata": {},
   "outputs": [],
   "source": [
    "import scanpy as sc\n",
    "import anndata\n",
    "from scipy import io\n",
    "from scipy.sparse import coo_matrix, csr_matrix, csc_matrix\n",
    "import numpy as np\n",
    "import seaborn as sns\n",
    "from matplotlib import pyplot as plt\n",
    "import os\n",
    "import pandas as pd\n"
   ]
  },
  {
   "cell_type": "code",
   "execution_count": null,
   "id": "e071289a",
   "metadata": {},
   "outputs": [],
   "source": []
  },
  {
   "cell_type": "code",
   "execution_count": 5,
   "id": "3005e367",
   "metadata": {},
   "outputs": [],
   "source": [
    "os.chdir('/dfs7/swaruplab/smorabit/analysis/ADDS_2021/visium/human/')\n",
    "data_dir = 'data/'\n",
    "fig_dir = 'figures/'\n",
    "\n",
    "# load the sub-clustersd\n",
    "#adata_sc = sc.read_h5ad('/dfs7/swaruplab/smorabit/analysis/ADDS_2021/splitseq/integration/data/ADDS_subclusters_final.h5ad')\n"
   ]
  },
  {
   "cell_type": "code",
   "execution_count": 6,
   "id": "442d7fa8",
   "metadata": {},
   "outputs": [],
   "source": [
    "#type(adata_sc.X)"
   ]
  },
  {
   "cell_type": "code",
   "execution_count": 7,
   "id": "3887e41b",
   "metadata": {},
   "outputs": [],
   "source": [
    "# load counts matrix\n",
    "X = io.mmread('data/ADDS_seurat_processed_counts.mtx')\n"
   ]
  },
  {
   "cell_type": "code",
   "execution_count": 8,
   "id": "b045f83a",
   "metadata": {},
   "outputs": [],
   "source": [
    "X = coo_matrix.tocsc(X)"
   ]
  },
  {
   "cell_type": "code",
   "execution_count": 9,
   "id": "002d37af",
   "metadata": {},
   "outputs": [],
   "source": [
    "X = csc_matrix.transpose(X)"
   ]
  },
  {
   "cell_type": "code",
   "execution_count": 10,
   "id": "22e4cb20",
   "metadata": {},
   "outputs": [
    {
     "name": "stderr",
     "output_type": "stream",
     "text": [
      "/tmp/smorabit/25517278/ipykernel_839596/3901523838.py:2: DtypeWarning: Columns (4) have mixed types. Specify dtype option on import or set low_memory=False.\n",
      "  obs = pd.read_csv('data/ADDS_seurat_processed_meta.tsv', sep='\\t')\n"
     ]
    },
    {
     "data": {
      "text/html": [
       "<div>\n",
       "<style scoped>\n",
       "    .dataframe tbody tr th:only-of-type {\n",
       "        vertical-align: middle;\n",
       "    }\n",
       "\n",
       "    .dataframe tbody tr th {\n",
       "        vertical-align: top;\n",
       "    }\n",
       "\n",
       "    .dataframe thead th {\n",
       "        text-align: right;\n",
       "    }\n",
       "</style>\n",
       "<table border=\"1\" class=\"dataframe\">\n",
       "  <thead>\n",
       "    <tr style=\"text-align: right;\">\n",
       "      <th></th>\n",
       "      <th>orig.ident</th>\n",
       "      <th>nCount_Spatial</th>\n",
       "      <th>nFeature_Spatial</th>\n",
       "      <th>SampleID</th>\n",
       "      <th>Case.Year</th>\n",
       "      <th>Case.Num</th>\n",
       "      <th>Diagnosis</th>\n",
       "      <th>Sex</th>\n",
       "      <th>Age</th>\n",
       "      <th>CaptureArea</th>\n",
       "      <th>...</th>\n",
       "      <th>bs.q10</th>\n",
       "      <th>annotation</th>\n",
       "      <th>combined_id</th>\n",
       "      <th>ASC_deconv</th>\n",
       "      <th>EX_deconv</th>\n",
       "      <th>INH_deconv</th>\n",
       "      <th>MG_deconv</th>\n",
       "      <th>ODC_deconv</th>\n",
       "      <th>OPC_deconv</th>\n",
       "      <th>VASC_deconv</th>\n",
       "    </tr>\n",
       "  </thead>\n",
       "  <tbody>\n",
       "    <tr>\n",
       "      <th>AAACAAGTATCTCCCA-1_1_1</th>\n",
       "      <td>SeuratProject</td>\n",
       "      <td>547</td>\n",
       "      <td>291</td>\n",
       "      <td>1</td>\n",
       "      <td>1999</td>\n",
       "      <td>2</td>\n",
       "      <td>Control</td>\n",
       "      <td>F</td>\n",
       "      <td>74</td>\n",
       "      <td>A1</td>\n",
       "      <td>...</td>\n",
       "      <td>1</td>\n",
       "      <td>WM3</td>\n",
       "      <td>Oct_2021_1-Control-F-74</td>\n",
       "      <td>0.083822</td>\n",
       "      <td>0.000000</td>\n",
       "      <td>0.000000</td>\n",
       "      <td>0.000000</td>\n",
       "      <td>0.587188</td>\n",
       "      <td>0.083801</td>\n",
       "      <td>0.124197</td>\n",
       "    </tr>\n",
       "    <tr>\n",
       "      <th>AAACAATCTACTAGCA-1_1_1</th>\n",
       "      <td>SeuratProject</td>\n",
       "      <td>242</td>\n",
       "      <td>155</td>\n",
       "      <td>1</td>\n",
       "      <td>1999</td>\n",
       "      <td>2</td>\n",
       "      <td>Control</td>\n",
       "      <td>F</td>\n",
       "      <td>74</td>\n",
       "      <td>A1</td>\n",
       "      <td>...</td>\n",
       "      <td>9</td>\n",
       "      <td>L1</td>\n",
       "      <td>Oct_2021_1-Control-F-74</td>\n",
       "      <td>0.168162</td>\n",
       "      <td>0.121411</td>\n",
       "      <td>0.000000</td>\n",
       "      <td>0.000000</td>\n",
       "      <td>0.000000</td>\n",
       "      <td>0.304117</td>\n",
       "      <td>0.332177</td>\n",
       "    </tr>\n",
       "    <tr>\n",
       "      <th>AAACAGAGCGACTCCT-1_1_1</th>\n",
       "      <td>SeuratProject</td>\n",
       "      <td>1602</td>\n",
       "      <td>816</td>\n",
       "      <td>1</td>\n",
       "      <td>1999</td>\n",
       "      <td>2</td>\n",
       "      <td>Control</td>\n",
       "      <td>F</td>\n",
       "      <td>74</td>\n",
       "      <td>A1</td>\n",
       "      <td>...</td>\n",
       "      <td>1</td>\n",
       "      <td>WM3</td>\n",
       "      <td>Oct_2021_1-Control-F-74</td>\n",
       "      <td>0.240503</td>\n",
       "      <td>0.000000</td>\n",
       "      <td>0.089614</td>\n",
       "      <td>0.109211</td>\n",
       "      <td>0.388216</td>\n",
       "      <td>0.000000</td>\n",
       "      <td>0.157659</td>\n",
       "    </tr>\n",
       "    <tr>\n",
       "      <th>AAACATTTCCCGGATT-1_1_1</th>\n",
       "      <td>SeuratProject</td>\n",
       "      <td>1025</td>\n",
       "      <td>599</td>\n",
       "      <td>1</td>\n",
       "      <td>1999</td>\n",
       "      <td>2</td>\n",
       "      <td>Control</td>\n",
       "      <td>F</td>\n",
       "      <td>74</td>\n",
       "      <td>A1</td>\n",
       "      <td>...</td>\n",
       "      <td>2</td>\n",
       "      <td>L5/6</td>\n",
       "      <td>Oct_2021_1-Control-F-74</td>\n",
       "      <td>0.207492</td>\n",
       "      <td>0.235994</td>\n",
       "      <td>0.142451</td>\n",
       "      <td>0.000000</td>\n",
       "      <td>0.111100</td>\n",
       "      <td>0.136842</td>\n",
       "      <td>0.114173</td>\n",
       "    </tr>\n",
       "    <tr>\n",
       "      <th>AAACCACTACACAGAT-1_1_1</th>\n",
       "      <td>SeuratProject</td>\n",
       "      <td>283</td>\n",
       "      <td>158</td>\n",
       "      <td>1</td>\n",
       "      <td>1999</td>\n",
       "      <td>2</td>\n",
       "      <td>Control</td>\n",
       "      <td>F</td>\n",
       "      <td>74</td>\n",
       "      <td>A1</td>\n",
       "      <td>...</td>\n",
       "      <td>9</td>\n",
       "      <td>L1</td>\n",
       "      <td>Oct_2021_1-Control-F-74</td>\n",
       "      <td>0.134279</td>\n",
       "      <td>0.171159</td>\n",
       "      <td>0.000000</td>\n",
       "      <td>0.090744</td>\n",
       "      <td>0.393148</td>\n",
       "      <td>0.095459</td>\n",
       "      <td>0.099503</td>\n",
       "    </tr>\n",
       "  </tbody>\n",
       "</table>\n",
       "<p>5 rows × 40 columns</p>\n",
       "</div>"
      ],
      "text/plain": [
       "                           orig.ident  nCount_Spatial  nFeature_Spatial  \\\n",
       "AAACAAGTATCTCCCA-1_1_1  SeuratProject             547               291   \n",
       "AAACAATCTACTAGCA-1_1_1  SeuratProject             242               155   \n",
       "AAACAGAGCGACTCCT-1_1_1  SeuratProject            1602               816   \n",
       "AAACATTTCCCGGATT-1_1_1  SeuratProject            1025               599   \n",
       "AAACCACTACACAGAT-1_1_1  SeuratProject             283               158   \n",
       "\n",
       "                       SampleID  Case.Year  Case.Num Diagnosis Sex  Age  \\\n",
       "AAACAAGTATCTCCCA-1_1_1        1       1999         2   Control   F   74   \n",
       "AAACAATCTACTAGCA-1_1_1        1       1999         2   Control   F   74   \n",
       "AAACAGAGCGACTCCT-1_1_1        1       1999         2   Control   F   74   \n",
       "AAACATTTCCCGGATT-1_1_1        1       1999         2   Control   F   74   \n",
       "AAACCACTACACAGAT-1_1_1        1       1999         2   Control   F   74   \n",
       "\n",
       "                       CaptureArea  ... bs.q10 annotation  \\\n",
       "AAACAAGTATCTCCCA-1_1_1          A1  ...      1        WM3   \n",
       "AAACAATCTACTAGCA-1_1_1          A1  ...      9         L1   \n",
       "AAACAGAGCGACTCCT-1_1_1          A1  ...      1        WM3   \n",
       "AAACATTTCCCGGATT-1_1_1          A1  ...      2       L5/6   \n",
       "AAACCACTACACAGAT-1_1_1          A1  ...      9         L1   \n",
       "\n",
       "                                    combined_id ASC_deconv EX_deconv  \\\n",
       "AAACAAGTATCTCCCA-1_1_1  Oct_2021_1-Control-F-74   0.083822  0.000000   \n",
       "AAACAATCTACTAGCA-1_1_1  Oct_2021_1-Control-F-74   0.168162  0.121411   \n",
       "AAACAGAGCGACTCCT-1_1_1  Oct_2021_1-Control-F-74   0.240503  0.000000   \n",
       "AAACATTTCCCGGATT-1_1_1  Oct_2021_1-Control-F-74   0.207492  0.235994   \n",
       "AAACCACTACACAGAT-1_1_1  Oct_2021_1-Control-F-74   0.134279  0.171159   \n",
       "\n",
       "                       INH_deconv MG_deconv  ODC_deconv  OPC_deconv  \\\n",
       "AAACAAGTATCTCCCA-1_1_1   0.000000  0.000000    0.587188    0.083801   \n",
       "AAACAATCTACTAGCA-1_1_1   0.000000  0.000000    0.000000    0.304117   \n",
       "AAACAGAGCGACTCCT-1_1_1   0.089614  0.109211    0.388216    0.000000   \n",
       "AAACATTTCCCGGATT-1_1_1   0.142451  0.000000    0.111100    0.136842   \n",
       "AAACCACTACACAGAT-1_1_1   0.000000  0.090744    0.393148    0.095459   \n",
       "\n",
       "                        VASC_deconv  \n",
       "AAACAAGTATCTCCCA-1_1_1     0.124197  \n",
       "AAACAATCTACTAGCA-1_1_1     0.332177  \n",
       "AAACAGAGCGACTCCT-1_1_1     0.157659  \n",
       "AAACATTTCCCGGATT-1_1_1     0.114173  \n",
       "AAACCACTACACAGAT-1_1_1     0.099503  \n",
       "\n",
       "[5 rows x 40 columns]"
      ]
     },
     "execution_count": 10,
     "metadata": {},
     "output_type": "execute_result"
    }
   ],
   "source": [
    "# load the metadata\n",
    "obs = pd.read_csv('data/ADDS_seurat_processed_meta.tsv', sep='\\t')\n",
    "obs.head()"
   ]
  },
  {
   "cell_type": "code",
   "execution_count": 9,
   "id": "8e273144",
   "metadata": {},
   "outputs": [
    {
     "data": {
      "text/plain": [
       "Index(['orig.ident', 'nCount_Spatial', 'nFeature_Spatial', 'SampleID',\n",
       "       'Case.Year', 'Case.Num', 'Diagnosis', 'Sex', 'Age', 'CaptureArea',\n",
       "       'Slide', 'Sectioning', 'LibraryDay1', 'LibraryDay2', 'INDEX',\n",
       "       'seqbatch', 'Sample', 'Spatial_snn_res.1', 'seurat_clusters',\n",
       "       'log_nCount_Spatial', 'bs.q15', 'row', 'col', 'imagerow', 'imagecol',\n",
       "       'bs.q7', 'bs.q5', 'bs.q6', 'bs.q8', 'bs.q9', 'bs.q10', 'annotation',\n",
       "       'combined_id', 'ASC_deconv', 'EX_deconv', 'INH_deconv', 'MG_deconv',\n",
       "       'ODC_deconv', 'OPC_deconv', 'VASC_deconv'],\n",
       "      dtype='object')"
      ]
     },
     "execution_count": 9,
     "metadata": {},
     "output_type": "execute_result"
    }
   ],
   "source": [
    "obs.columns"
   ]
  },
  {
   "cell_type": "code",
   "execution_count": 11,
   "id": "bdf9c747",
   "metadata": {},
   "outputs": [],
   "source": [
    "columns = ['nCount_Spatial', 'Sample', 'Diagnosis', 'Sex', 'Age', 'seqbatch', 'annotation']"
   ]
  },
  {
   "cell_type": "code",
   "execution_count": 12,
   "id": "5aeb3d64",
   "metadata": {},
   "outputs": [
    {
     "data": {
      "text/html": [
       "<div>\n",
       "<style scoped>\n",
       "    .dataframe tbody tr th:only-of-type {\n",
       "        vertical-align: middle;\n",
       "    }\n",
       "\n",
       "    .dataframe tbody tr th {\n",
       "        vertical-align: top;\n",
       "    }\n",
       "\n",
       "    .dataframe thead th {\n",
       "        text-align: right;\n",
       "    }\n",
       "</style>\n",
       "<table border=\"1\" class=\"dataframe\">\n",
       "  <thead>\n",
       "    <tr style=\"text-align: right;\">\n",
       "      <th></th>\n",
       "      <th>nCount_Spatial</th>\n",
       "      <th>Sample</th>\n",
       "      <th>Diagnosis</th>\n",
       "      <th>Sex</th>\n",
       "      <th>Age</th>\n",
       "      <th>seqbatch</th>\n",
       "      <th>annotation</th>\n",
       "    </tr>\n",
       "  </thead>\n",
       "  <tbody>\n",
       "    <tr>\n",
       "      <th>AAACAAGTATCTCCCA-1_1_1</th>\n",
       "      <td>547</td>\n",
       "      <td>Oct_2021_1</td>\n",
       "      <td>Control</td>\n",
       "      <td>F</td>\n",
       "      <td>74</td>\n",
       "      <td>Oct_2021</td>\n",
       "      <td>WM3</td>\n",
       "    </tr>\n",
       "    <tr>\n",
       "      <th>AAACAATCTACTAGCA-1_1_1</th>\n",
       "      <td>242</td>\n",
       "      <td>Oct_2021_1</td>\n",
       "      <td>Control</td>\n",
       "      <td>F</td>\n",
       "      <td>74</td>\n",
       "      <td>Oct_2021</td>\n",
       "      <td>L1</td>\n",
       "    </tr>\n",
       "    <tr>\n",
       "      <th>AAACAGAGCGACTCCT-1_1_1</th>\n",
       "      <td>1602</td>\n",
       "      <td>Oct_2021_1</td>\n",
       "      <td>Control</td>\n",
       "      <td>F</td>\n",
       "      <td>74</td>\n",
       "      <td>Oct_2021</td>\n",
       "      <td>WM3</td>\n",
       "    </tr>\n",
       "    <tr>\n",
       "      <th>AAACATTTCCCGGATT-1_1_1</th>\n",
       "      <td>1025</td>\n",
       "      <td>Oct_2021_1</td>\n",
       "      <td>Control</td>\n",
       "      <td>F</td>\n",
       "      <td>74</td>\n",
       "      <td>Oct_2021</td>\n",
       "      <td>L5/6</td>\n",
       "    </tr>\n",
       "    <tr>\n",
       "      <th>AAACCACTACACAGAT-1_1_1</th>\n",
       "      <td>283</td>\n",
       "      <td>Oct_2021_1</td>\n",
       "      <td>Control</td>\n",
       "      <td>F</td>\n",
       "      <td>74</td>\n",
       "      <td>Oct_2021</td>\n",
       "      <td>L1</td>\n",
       "    </tr>\n",
       "    <tr>\n",
       "      <th>...</th>\n",
       "      <td>...</td>\n",
       "      <td>...</td>\n",
       "      <td>...</td>\n",
       "      <td>...</td>\n",
       "      <td>...</td>\n",
       "      <td>...</td>\n",
       "      <td>...</td>\n",
       "    </tr>\n",
       "    <tr>\n",
       "      <th>TTGTTTCACATCCAGG-1_7_4</th>\n",
       "      <td>2122</td>\n",
       "      <td>Dec_20_2021_Human8</td>\n",
       "      <td>Control</td>\n",
       "      <td>F</td>\n",
       "      <td>64</td>\n",
       "      <td>Dec_20_2021</td>\n",
       "      <td>L1</td>\n",
       "    </tr>\n",
       "    <tr>\n",
       "      <th>TTGTTTCATTAGTCTA-1_7_4</th>\n",
       "      <td>2346</td>\n",
       "      <td>Dec_20_2021_Human8</td>\n",
       "      <td>Control</td>\n",
       "      <td>F</td>\n",
       "      <td>64</td>\n",
       "      <td>Dec_20_2021</td>\n",
       "      <td>L1</td>\n",
       "    </tr>\n",
       "    <tr>\n",
       "      <th>TTGTTTCCATACAACT-1_7_4</th>\n",
       "      <td>2064</td>\n",
       "      <td>Dec_20_2021_Human8</td>\n",
       "      <td>Control</td>\n",
       "      <td>F</td>\n",
       "      <td>64</td>\n",
       "      <td>Dec_20_2021</td>\n",
       "      <td>L3/4</td>\n",
       "    </tr>\n",
       "    <tr>\n",
       "      <th>TTGTTTGTATTACACG-1_7_4</th>\n",
       "      <td>3602</td>\n",
       "      <td>Dec_20_2021_Human8</td>\n",
       "      <td>Control</td>\n",
       "      <td>F</td>\n",
       "      <td>64</td>\n",
       "      <td>Dec_20_2021</td>\n",
       "      <td>L3/4</td>\n",
       "    </tr>\n",
       "    <tr>\n",
       "      <th>TTGTTTGTGTAAATTC-1_7_4</th>\n",
       "      <td>2424</td>\n",
       "      <td>Dec_20_2021_Human8</td>\n",
       "      <td>Control</td>\n",
       "      <td>F</td>\n",
       "      <td>64</td>\n",
       "      <td>Dec_20_2021</td>\n",
       "      <td>WM1</td>\n",
       "    </tr>\n",
       "  </tbody>\n",
       "</table>\n",
       "<p>115451 rows × 7 columns</p>\n",
       "</div>"
      ],
      "text/plain": [
       "                        nCount_Spatial              Sample Diagnosis Sex  Age  \\\n",
       "AAACAAGTATCTCCCA-1_1_1             547          Oct_2021_1   Control   F   74   \n",
       "AAACAATCTACTAGCA-1_1_1             242          Oct_2021_1   Control   F   74   \n",
       "AAACAGAGCGACTCCT-1_1_1            1602          Oct_2021_1   Control   F   74   \n",
       "AAACATTTCCCGGATT-1_1_1            1025          Oct_2021_1   Control   F   74   \n",
       "AAACCACTACACAGAT-1_1_1             283          Oct_2021_1   Control   F   74   \n",
       "...                                ...                 ...       ...  ..  ...   \n",
       "TTGTTTCACATCCAGG-1_7_4            2122  Dec_20_2021_Human8   Control   F   64   \n",
       "TTGTTTCATTAGTCTA-1_7_4            2346  Dec_20_2021_Human8   Control   F   64   \n",
       "TTGTTTCCATACAACT-1_7_4            2064  Dec_20_2021_Human8   Control   F   64   \n",
       "TTGTTTGTATTACACG-1_7_4            3602  Dec_20_2021_Human8   Control   F   64   \n",
       "TTGTTTGTGTAAATTC-1_7_4            2424  Dec_20_2021_Human8   Control   F   64   \n",
       "\n",
       "                           seqbatch annotation  \n",
       "AAACAAGTATCTCCCA-1_1_1     Oct_2021        WM3  \n",
       "AAACAATCTACTAGCA-1_1_1     Oct_2021         L1  \n",
       "AAACAGAGCGACTCCT-1_1_1     Oct_2021        WM3  \n",
       "AAACATTTCCCGGATT-1_1_1     Oct_2021       L5/6  \n",
       "AAACCACTACACAGAT-1_1_1     Oct_2021         L1  \n",
       "...                             ...        ...  \n",
       "TTGTTTCACATCCAGG-1_7_4  Dec_20_2021         L1  \n",
       "TTGTTTCATTAGTCTA-1_7_4  Dec_20_2021         L1  \n",
       "TTGTTTCCATACAACT-1_7_4  Dec_20_2021       L3/4  \n",
       "TTGTTTGTATTACACG-1_7_4  Dec_20_2021       L3/4  \n",
       "TTGTTTGTGTAAATTC-1_7_4  Dec_20_2021        WM1  \n",
       "\n",
       "[115451 rows x 7 columns]"
      ]
     },
     "execution_count": 12,
     "metadata": {},
     "output_type": "execute_result"
    }
   ],
   "source": [
    "obs[columns]"
   ]
  },
  {
   "cell_type": "code",
   "execution_count": 13,
   "id": "eab55f93",
   "metadata": {},
   "outputs": [
    {
     "data": {
      "text/html": [
       "<div>\n",
       "<style scoped>\n",
       "    .dataframe tbody tr th:only-of-type {\n",
       "        vertical-align: middle;\n",
       "    }\n",
       "\n",
       "    .dataframe tbody tr th {\n",
       "        vertical-align: top;\n",
       "    }\n",
       "\n",
       "    .dataframe thead th {\n",
       "        text-align: right;\n",
       "    }\n",
       "</style>\n",
       "<table border=\"1\" class=\"dataframe\">\n",
       "  <thead>\n",
       "    <tr style=\"text-align: right;\">\n",
       "      <th></th>\n",
       "      <th>ensembl</th>\n",
       "      <th>gene_symbol</th>\n",
       "      <th>type</th>\n",
       "    </tr>\n",
       "  </thead>\n",
       "  <tbody>\n",
       "    <tr>\n",
       "      <th>MIR1302-2HG</th>\n",
       "      <td>ENSG00000243485</td>\n",
       "      <td>MIR1302-2HG</td>\n",
       "      <td>Gene Expression</td>\n",
       "    </tr>\n",
       "    <tr>\n",
       "      <th>FAM138A</th>\n",
       "      <td>ENSG00000237613</td>\n",
       "      <td>FAM138A</td>\n",
       "      <td>Gene Expression</td>\n",
       "    </tr>\n",
       "    <tr>\n",
       "      <th>OR4F5</th>\n",
       "      <td>ENSG00000186092</td>\n",
       "      <td>OR4F5</td>\n",
       "      <td>Gene Expression</td>\n",
       "    </tr>\n",
       "    <tr>\n",
       "      <th>AL627309.1</th>\n",
       "      <td>ENSG00000238009</td>\n",
       "      <td>AL627309.1</td>\n",
       "      <td>Gene Expression</td>\n",
       "    </tr>\n",
       "    <tr>\n",
       "      <th>AL627309.3</th>\n",
       "      <td>ENSG00000239945</td>\n",
       "      <td>AL627309.3</td>\n",
       "      <td>Gene Expression</td>\n",
       "    </tr>\n",
       "  </tbody>\n",
       "</table>\n",
       "</div>"
      ],
      "text/plain": [
       "                     ensembl  gene_symbol             type\n",
       "MIR1302-2HG  ENSG00000243485  MIR1302-2HG  Gene Expression\n",
       "FAM138A      ENSG00000237613      FAM138A  Gene Expression\n",
       "OR4F5        ENSG00000186092        OR4F5  Gene Expression\n",
       "AL627309.1   ENSG00000238009   AL627309.1  Gene Expression\n",
       "AL627309.3   ENSG00000239945   AL627309.3  Gene Expression"
      ]
     },
     "execution_count": 13,
     "metadata": {},
     "output_type": "execute_result"
    }
   ],
   "source": [
    "var = pd.read_csv('/dfs7/swaruplab/smorabit/data/ADDS_2021/visium/Dec_13_2021/spaceranger_count/Human1/outs/filtered_feature_bc_matrix/features.tsv.gz', sep='\\t', header=None)\n",
    "var.columns = ['ensembl', 'gene_symbol', 'type']\n",
    "var.index = var.gene_symbol.to_list()\n",
    "var.head()\n"
   ]
  },
  {
   "cell_type": "code",
   "execution_count": 21,
   "id": "a2bd2ff2",
   "metadata": {},
   "outputs": [
    {
     "name": "stderr",
     "output_type": "stream",
     "text": [
      "/pub/smorabit/miniconda3/envs/scanpy/lib/python3.11/site-packages/anndata/_core/anndata.py:1840: UserWarning: Variable names are not unique. To make them unique, call `.var_names_make_unique`.\n",
      "  utils.warn_names_duplicates(\"var\")\n"
     ]
    }
   ],
   "source": [
    "# make adata object\n",
    "adata = anndata.AnnData(X=X, obs=obs[columns], var=var)\n",
    "adata.var_names_make_unique()"
   ]
  },
  {
   "cell_type": "code",
   "execution_count": 22,
   "id": "37d84564",
   "metadata": {},
   "outputs": [
    {
     "data": {
      "text/plain": [
       "(115451, 36601)"
      ]
     },
     "execution_count": 22,
     "metadata": {},
     "output_type": "execute_result"
    }
   ],
   "source": [
    "adata.shape"
   ]
  },
  {
   "cell_type": "code",
   "execution_count": 23,
   "id": "a9e30428",
   "metadata": {},
   "outputs": [],
   "source": [
    "# pre-processing\n",
    "adata.layers[\"counts\"] = adata.X.copy() # preserve counts\n"
   ]
  },
  {
   "cell_type": "code",
   "execution_count": 24,
   "id": "2f998ae5-a443-44da-a7e1-b27f20511164",
   "metadata": {},
   "outputs": [],
   "source": [
    "sc.pp.normalize_total(adata, target_sum=1e4)\n",
    "sc.pp.log1p(adata)\n",
    "adata.raw = adata "
   ]
  },
  {
   "cell_type": "code",
   "execution_count": 25,
   "id": "9e64b5db-3b32-446a-a6dd-9b9fa553266c",
   "metadata": {},
   "outputs": [],
   "source": [
    "# save the dataset for scDRS:\n",
    "adata.write_h5ad('{}ADDS_visium_scDRS.h5ad'.format(data_dir))"
   ]
  },
  {
   "cell_type": "code",
   "execution_count": 26,
   "id": "8048db65-6ae3-4c86-b2fc-973fe07f55cd",
   "metadata": {},
   "outputs": [],
   "source": [
    "# write the covariate table:\n",
    "df_cov = adata.obs[['nCount_Spatial']]\n",
    "df_cov.index = df_cov.index.rename('cell_id')\n",
    "df_cov.to_csv('{}ADDS_visium_scDRS_cov.tsv'.format(data_dir), sep='\\t')"
   ]
  },
  {
   "cell_type": "code",
   "execution_count": 19,
   "id": "b633edc3-abaf-4c03-84ba-cbe277c81e21",
   "metadata": {},
   "outputs": [],
   "source": []
  },
  {
   "cell_type": "code",
   "execution_count": 20,
   "id": "3a67fda8",
   "metadata": {},
   "outputs": [
    {
     "data": {
      "image/png": "[encoded data removed]",
      "text/plain": [
       "<Figure size 1614.38x288 with 3 Axes>"
      ]
     },
     "metadata": {
      "needs_background": "light"
     },
     "output_type": "display_data"
    }
   ],
   "source": [
    "sc.pl.violin(adata, keys=['MOBP', 'APP', 'SLC17A7'], groupby='annotation')"
   ]
  },
  {
   "cell_type": "code",
   "execution_count": 86,
   "id": "fdc96b44",
   "metadata": {},
   "outputs": [],
   "source": [
    "adata.write('data/ADDS_seurat_processed.h5ad')"
   ]
  },
  {
   "cell_type": "markdown",
   "id": "101bb316",
   "metadata": {},
   "source": [
    "# Split between the different samples"
   ]
  },
  {
   "cell_type": "code",
   "execution_count": 23,
   "id": "2cf258f8",
   "metadata": {},
   "outputs": [
    {
     "name": "stdout",
     "output_type": "stream",
     "text": [
      "Oct_2021_1\n",
      "Oct_2021_2\n",
      "Oct_2021_3\n",
      "Oct_2021_4\n",
      "Oct_2021_5\n",
      "Oct_2021_6\n",
      "Oct_2021_7\n",
      "Oct_2021_8\n",
      "Nov_24_2021_VisiumHuman_1\n",
      "Nov_24_2021_VisiumHuman_10\n",
      "Nov_24_2021_VisiumHuman_11\n",
      "Nov_24_2021_VisiumHuman_12\n",
      "Nov_24_2021_VisiumHuman_13\n",
      "Nov_24_2021_VisiumHuman_14\n",
      "Nov_24_2021_VisiumHuman_15\n",
      "Nov_24_2021_VisiumHuman_16\n",
      "Nov_24_2021_VisiumHuman_2\n",
      "Nov_24_2021_VisiumHuman_3\n",
      "Nov_24_2021_VisiumHuman_4\n",
      "Nov_24_2021_VisiumHuman_5\n",
      "Nov_24_2021_VisiumHuman_6\n",
      "Nov_24_2021_VisiumHuman_7\n",
      "Nov_24_2021_VisiumHuman_8\n",
      "Nov_24_2021_VisiumHuman_9\n",
      "Dec_13_2021_Human1\n",
      "Dec_13_2021_Human2\n",
      "Dec_13_2021_Human3\n",
      "Dec_13_2021_Human4\n",
      "Dec_13_2021_Human5\n",
      "Dec_13_2021_Human6\n",
      "Dec_13_2021_Human7\n",
      "Dec_13_2021_Human8\n",
      "Dec_20_2021_Human1\n",
      "Dec_20_2021_Human2\n",
      "Dec_20_2021_Human3\n",
      "Dec_20_2021_Human4\n",
      "Dec_20_2021_Human5\n",
      "Dec_20_2021_Human7\n",
      "Dec_20_2021_Human8\n"
     ]
    }
   ],
   "source": [
    "samples = adata.obs.Sample.unique().to_list()\n",
    "\n",
    "for cur_sample in samples:\n",
    "    print(cur_sample)\n",
    "    cur_adata = adata[adata.obs.Sample == cur_sample].copy() \n",
    "    cur_adata.write('data/sample_h5ad/{}.h5ad'.format(cur_sample))\n"
   ]
  },
  {
   "cell_type": "code",
   "execution_count": null,
   "id": "28c87ab0",
   "metadata": {},
   "outputs": [],
   "source": []
  }
 ],
 "metadata": {
  "kernelspec": {
   "display_name": "Python 3 (ipykernel)",
   "language": "python",
   "name": "python3"
  },
  "language_info": {
   "codemirror_mode": {
    "name": "ipython",
    "version": 3
   },
   "file_extension": ".py",
   "mimetype": "text/x-python",
   "name": "python",
   "nbconvert_exporter": "python",
   "pygments_lexer": "ipython3",
   "version": "3.9.18"
  }
 },
 "nbformat": 4,
 "nbformat_minor": 5
}
